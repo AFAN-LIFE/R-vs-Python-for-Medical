{
 "cells": [
  {
   "cell_type": "markdown",
   "id": "d5f252c9-46e3-4004-9b21-3701cd4430ff",
   "metadata": {},
   "source": [
    "# 环境说明"
   ]
  },
  {
   "cell_type": "code",
   "execution_count": 10,
   "id": "26d3a1df-243f-456f-a583-819dba03e458",
   "metadata": {
    "tags": []
   },
   "outputs": [
    {
     "name": "stdout",
     "output_type": "stream",
     "text": [
      "Python 3.11.5\n"
     ]
    }
   ],
   "source": [
    "!python -V"
   ]
  },
  {
   "cell_type": "raw",
   "id": "6af2ed9c-fe06-43e2-8778-11e5c6cd8104",
   "metadata": {},
   "source": [
    "pip install sklearn"
   ]
  },
  {
   "cell_type": "code",
   "execution_count": 6,
   "id": "0001b2a3-e71b-43f8-9c96-ecc95d82b967",
   "metadata": {
    "tags": []
   },
   "outputs": [],
   "source": [
    "import sklearn\n",
    "import pandas\n",
    "import numpy\n",
    "import matplotlib"
   ]
  },
  {
   "cell_type": "code",
   "execution_count": 3,
   "id": "32b0ad8c-a3cf-4f60-a035-db32ce15af9a",
   "metadata": {
    "tags": []
   },
   "outputs": [
    {
     "data": {
      "text/plain": [
       "'1.5.2'"
      ]
     },
     "execution_count": 3,
     "metadata": {},
     "output_type": "execute_result"
    }
   ],
   "source": [
    "sklearn.__version__"
   ]
  },
  {
   "cell_type": "code",
   "execution_count": 4,
   "id": "e91faff8-33f5-4b57-ae04-fb66b908368f",
   "metadata": {
    "tags": []
   },
   "outputs": [
    {
     "data": {
      "text/plain": [
       "'2.1.1'"
      ]
     },
     "execution_count": 4,
     "metadata": {},
     "output_type": "execute_result"
    }
   ],
   "source": [
    "pandas.__version__"
   ]
  },
  {
   "cell_type": "code",
   "execution_count": 7,
   "id": "302e29c1-b4b9-464f-9ee3-16628e6a9a75",
   "metadata": {
    "tags": []
   },
   "outputs": [
    {
     "data": {
      "text/plain": [
       "'1.26.4'"
      ]
     },
     "execution_count": 7,
     "metadata": {},
     "output_type": "execute_result"
    }
   ],
   "source": [
    "numpy.__version__"
   ]
  },
  {
   "cell_type": "code",
   "execution_count": 14,
   "id": "9d48aa24-3779-4532-816b-04123e30f26b",
   "metadata": {
    "tags": []
   },
   "outputs": [
    {
     "data": {
      "text/plain": [
       "'3.8.0'"
      ]
     },
     "execution_count": 14,
     "metadata": {},
     "output_type": "execute_result"
    }
   ],
   "source": [
    "matplotlib.__version__"
   ]
  },
  {
   "cell_type": "markdown",
   "id": "4bbe04c4-91cf-48ae-9236-44bb9959359e",
   "metadata": {},
   "source": [
    "# 代码实现"
   ]
  },
  {
   "cell_type": "code",
   "execution_count": 3,
   "id": "da6ceb52-5683-4fa6-bc54-0b042f19206b",
   "metadata": {
    "tags": []
   },
   "outputs": [],
   "source": [
    "import numpy as np\n",
    "import pandas as pd\n",
    "import matplotlib.pyplot as plt\n",
    "from sklearn.metrics import confusion_matrix"
   ]
  },
  {
   "cell_type": "code",
   "execution_count": 4,
   "id": "ae6eba79-b1e6-4f01-83bb-ab29e19f6499",
   "metadata": {
    "tags": []
   },
   "outputs": [],
   "source": [
    "df = pd.read_csv(\"data/predict.csv\")"
   ]
  },
  {
   "cell_type": "code",
   "execution_count": 5,
   "id": "8e5f926b-3ee3-490a-ae93-9f92735d70b5",
   "metadata": {
    "tags": []
   },
   "outputs": [
    {
     "data": {
      "text/html": [
       "<div>\n",
       "<style scoped>\n",
       "    .dataframe tbody tr th:only-of-type {\n",
       "        vertical-align: middle;\n",
       "    }\n",
       "\n",
       "    .dataframe tbody tr th {\n",
       "        vertical-align: top;\n",
       "    }\n",
       "\n",
       "    .dataframe thead th {\n",
       "        text-align: right;\n",
       "    }\n",
       "</style>\n",
       "<table border=\"1\" class=\"dataframe\">\n",
       "  <thead>\n",
       "    <tr style=\"text-align: right;\">\n",
       "      <th></th>\n",
       "      <th>origin_encoder</th>\n",
       "      <th>predict_encoder</th>\n",
       "      <th>predict_probability</th>\n",
       "    </tr>\n",
       "  </thead>\n",
       "  <tbody>\n",
       "    <tr>\n",
       "      <th>0</th>\n",
       "      <td>0</td>\n",
       "      <td>1</td>\n",
       "      <td>0.506371</td>\n",
       "    </tr>\n",
       "    <tr>\n",
       "      <th>1</th>\n",
       "      <td>0</td>\n",
       "      <td>0</td>\n",
       "      <td>0.020811</td>\n",
       "    </tr>\n",
       "    <tr>\n",
       "      <th>2</th>\n",
       "      <td>0</td>\n",
       "      <td>0</td>\n",
       "      <td>0.028086</td>\n",
       "    </tr>\n",
       "    <tr>\n",
       "      <th>3</th>\n",
       "      <td>0</td>\n",
       "      <td>0</td>\n",
       "      <td>0.107581</td>\n",
       "    </tr>\n",
       "    <tr>\n",
       "      <th>4</th>\n",
       "      <td>0</td>\n",
       "      <td>0</td>\n",
       "      <td>0.045805</td>\n",
       "    </tr>\n",
       "  </tbody>\n",
       "</table>\n",
       "</div>"
      ],
      "text/plain": [
       "   origin_encoder  predict_encoder  predict_probability\n",
       "0               0                1             0.506371\n",
       "1               0                0             0.020811\n",
       "2               0                0             0.028086\n",
       "3               0                0             0.107581\n",
       "4               0                0             0.045805"
      ]
     },
     "execution_count": 5,
     "metadata": {},
     "output_type": "execute_result"
    }
   ],
   "source": [
    "df.head()"
   ]
  },
  {
   "cell_type": "code",
   "execution_count": 6,
   "id": "35d80bc5-08c0-4748-8bcd-83a16891cca1",
   "metadata": {
    "tags": []
   },
   "outputs": [],
   "source": [
    "y_true = df['origin_encoder']  # 原始数据的真实数值，二分类\n",
    "y_prob = df['predict_probability']  # 模型预测的概率，0到1之间"
   ]
  },
  {
   "cell_type": "code",
   "execution_count": 7,
   "id": "13581fd3-f0c8-4503-9cc4-391410d9a3e6",
   "metadata": {
    "tags": []
   },
   "outputs": [],
   "source": [
    "bool_y_true = np.array([True if i == 1 else False for i in y_true])\n",
    "length = len(bool_y_true)\n",
    "threshold_list = np.arange(0, 1, 0.01)\n",
    "\n",
    "# 根据模型\n",
    "model_pos_benefit_list = []\n",
    "for threshold in threshold_list:\n",
    "    threshold_y_pred = y_prob > threshold\n",
    "    cm = confusion_matrix(bool_y_true, threshold_y_pred)\n",
    "    tn, fp, fn, tp = cm.ravel()\n",
    "    pos_benefit = (tp - fp * (threshold / (1 - threshold))) / length\n",
    "    model_pos_benefit_list.append(pos_benefit)\n",
    "\n",
    "# 全部治疗\n",
    "treat_all_benefit_list = []\n",
    "cm = confusion_matrix(bool_y_true, bool_y_true)\n",
    "tn, fp, fn, tp = cm.ravel()\n",
    "for threshold in threshold_list:\n",
    "    treat_all_benefit = (tp - tn * (threshold / (1 - threshold))) / length\n",
    "    treat_all_benefit_list.append(treat_all_benefit)\n",
    "\n",
    "# 不治疗\n",
    "treat_none_benefit_list = [0 for i in threshold_list]"
   ]
  },
  {
   "cell_type": "code",
   "execution_count": 9,
   "id": "3868f8f4-1b88-4bcb-bcaa-fccc82d18099",
   "metadata": {
    "tags": []
   },
   "outputs": [
    {
     "data": {
      "text/plain": [
       "<matplotlib.legend.Legend at 0x2ad52423aa0>"
      ]
     },
     "execution_count": 9,
     "metadata": {},
     "output_type": "execute_result"
    },
    {
     "data": {
      "image/png": "[encoded data removed]",
      "text/plain": [
       "<Figure size 640x480 with 1 Axes>"
      ]
     },
     "metadata": {},
     "output_type": "display_data"
    }
   ],
   "source": [
    "# 开始画图\n",
    "plt.figure()\n",
    "plt.plot(threshold_list, model_pos_benefit_list, label='Model')\n",
    "plt.plot(threshold_list, treat_all_benefit_list, label='Treat all')\n",
    "plt.plot(threshold_list, treat_none_benefit_list, label='Treat None')\n",
    "y_max = (tp / length) * 1.5\n",
    "plt.xlim([-0.05, 1.0])\n",
    "plt.ylim([-0.05, y_max])\n",
    "plt.grid('major')\n",
    "plt.legend()"
   ]
  },
  {
   "cell_type": "code",
   "execution_count": 12,
   "id": "acf3b77d-450e-44ca-9871-701a578a23da",
   "metadata": {
    "tags": []
   },
   "outputs": [
    {
     "name": "stdout",
     "output_type": "stream",
     "text": [
      "0.0 0.09390939093909391\n",
      "0.01 0.08486505216178183\n",
      "0.02 0.07667093239936239\n",
      "0.03 0.0713638374146693\n",
      "0.04 0.06628162816281628\n",
      "0.05 0.06184302640790395\n",
      "0.06 0.05743765865948297\n",
      "0.07 0.055237781842700395\n",
      "0.08 0.05129643399122521\n",
      "0.09 0.04644420486004645\n",
      "0.1 0.04411552266337745\n",
      "0.11 0.04119850187265918\n",
      "0.12 0.03840384038403841\n",
      "0.13 0.03508166908644887\n",
      "0.14 0.031200794498054456\n",
      "0.15 0.029085261467323202\n",
      "0.16 0.02791231504102791\n",
      "0.17 0.025784506161459518\n",
      "0.18 0.023768230481584746\n",
      "0.19 0.02163796626576238\n",
      "0.2 0.019751975197519752\n",
      "0.21 0.018592998540360367\n",
      "0.22 0.017591502740017594\n",
      "0.23 0.015537917428106448\n",
      "0.24 0.014206683826277365\n",
      "0.25 0.01326799346601327\n",
      "0.26 0.012490438233012489\n",
      "0.27 0.011887490118874898\n",
      "0.28 0.011062217332844394\n",
      "0.29 0.01071797320577128\n",
      "0.3 0.009500950095009501\n",
      "0.31 0.009057427481878622\n",
      "0.32 0.008589094203538001\n",
      "0.33 0.007800780078007798\n",
      "0.34 0.006767343401006764\n",
      "0.35000000000000003 0.005862124674005859\n",
      "0.36 0.005419291929192919\n",
      "0.37 0.0052322692586718985\n",
      "0.38 0.004919846823392016\n",
      "0.39 0.004936559229693461\n",
      "0.4 0.004500450045004499\n",
      "0.41000000000000003 0.0034732286788000835\n",
      "0.42 0.0028761496839339123\n",
      "0.43 0.002459895112318251\n",
      "0.44 0.0019001900190019003\n",
      "0.45 0.0018092718362745367\n",
      "0.46 0.0013779155693347106\n",
      "0.47000000000000003 0.000956699443529258\n",
      "0.48 0.0007077630840007081\n",
      "0.49 0.0004882841225299008\n",
      "0.5 0.00020002000200020003\n",
      "0.51 -0.0004714757190004723\n",
      "0.52 -0.0008250825082508265\n",
      "0.53 -0.001221398735618244\n",
      "0.54 -0.001556677406871123\n",
      "0.55 -0.0022891178006689585\n",
      "0.56 -0.0026639027539117565\n",
      "0.5700000000000001 -0.002981693518189031\n",
      "0.58 -0.002962200982002961\n",
      "0.59 -0.0028027192963198735\n",
      "0.6 -0.003150315031503149\n",
      "0.61 -0.0023951113060023945\n",
      "0.62 -0.002879235291950247\n",
      "0.63 -0.003151666518003152\n",
      "0.64 -0.0029336266960029345\n",
      "0.65 -0.0033717657480033724\n",
      "0.66 -0.0035944770947683013\n",
      "0.67 -0.003194258819821377\n",
      "0.68 -0.002737773777377739\n",
      "0.6900000000000001 -0.002564772606292889\n",
      "0.7000000000000001 -0.0027002700270027016\n",
      "0.71 -0.003131347617520372\n",
      "0.72 -0.0030003000300029997\n",
      "0.73 -0.002666933360002666\n",
      "0.74 -0.002938755414002938\n",
      "0.75 -0.0026002600260026003\n",
      "0.76 -0.002533586692002534\n",
      "0.77 -0.0020828169773499093\n",
      "0.78 -0.0019456491103655826\n",
      "0.79 -0.0020859228780020864\n",
      "0.8 -0.001800180018001801\n",
      "0.81 -0.001984408967212512\n",
      "0.8200000000000001 -0.0017335066840017345\n",
      "0.8300000000000001 -0.0020296147261785013\n",
      "0.84 -0.001925192519251925\n",
      "0.85 -0.0015668233490015665\n",
      "0.86 -0.0007286442930007286\n",
      "0.87 -0.0008385453930008384\n",
      "0.88 -0.0003333666700003334\n",
      "0.89 -0.0005091418232732365\n",
      "0.9 -0.0006000600060006002\n",
      "0.91 0.00020002000200020003\n",
      "0.92 0.00020002000200020003\n",
      "0.93 0.00010001000100010001\n",
      "0.9400000000000001 0.00010001000100010001\n",
      "0.9500000000000001 0.0\n",
      "0.96 0.0\n",
      "0.97 0.0\n",
      "0.98 0.0\n",
      "0.99 0.0\n"
     ]
    }
   ],
   "source": [
    "for i,j in zip(threshold_list, model_pos_benefit_list):\n",
    "    print(i, j)"
   ]
  }
 ],
 "metadata": {
  "kernelspec": {
   "display_name": "medical",
   "language": "python",
   "name": "medical"
  },
  "language_info": {
   "codemirror_mode": {
    "name": "ipython",
    "version": 3
   },
   "file_extension": ".py",
   "mimetype": "text/x-python",
   "name": "python",
   "nbconvert_exporter": "python",
   "pygments_lexer": "ipython3",
   "version": "3.12.8"
  }
 },
 "nbformat": 4,
 "nbformat_minor": 5
}
