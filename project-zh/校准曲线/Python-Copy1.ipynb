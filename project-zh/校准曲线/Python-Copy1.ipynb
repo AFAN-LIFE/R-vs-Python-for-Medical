{
 "cells": [
  {
   "cell_type": "markdown",
   "id": "d5f252c9-46e3-4004-9b21-3701cd4430ff",
   "metadata": {},
   "source": [
    "# 环境说明"
   ]
  },
  {
   "cell_type": "code",
   "execution_count": 10,
   "id": "26d3a1df-243f-456f-a583-819dba03e458",
   "metadata": {
    "tags": []
   },
   "outputs": [
    {
     "name": "stdout",
     "output_type": "stream",
     "text": [
      "Python 3.11.5\n"
     ]
    }
   ],
   "source": [
    "!python -V"
   ]
  },
  {
   "cell_type": "raw",
   "id": "6af2ed9c-fe06-43e2-8778-11e5c6cd8104",
   "metadata": {},
   "source": [
    "pip install sklearn"
   ]
  },
  {
   "cell_type": "code",
   "execution_count": 6,
   "id": "0001b2a3-e71b-43f8-9c96-ecc95d82b967",
   "metadata": {
    "tags": []
   },
   "outputs": [],
   "source": [
    "import sklearn\n",
    "import pandas\n",
    "import numpy\n",
    "import matplotlib"
   ]
  },
  {
   "cell_type": "code",
   "execution_count": 3,
   "id": "32b0ad8c-a3cf-4f60-a035-db32ce15af9a",
   "metadata": {
    "tags": []
   },
   "outputs": [
    {
     "data": {
      "text/plain": [
       "'1.5.2'"
      ]
     },
     "execution_count": 3,
     "metadata": {},
     "output_type": "execute_result"
    }
   ],
   "source": [
    "sklearn.__version__"
   ]
  },
  {
   "cell_type": "code",
   "execution_count": 4,
   "id": "e91faff8-33f5-4b57-ae04-fb66b908368f",
   "metadata": {
    "tags": []
   },
   "outputs": [
    {
     "data": {
      "text/plain": [
       "'2.1.1'"
      ]
     },
     "execution_count": 4,
     "metadata": {},
     "output_type": "execute_result"
    }
   ],
   "source": [
    "pandas.__version__"
   ]
  },
  {
   "cell_type": "code",
   "execution_count": 7,
   "id": "302e29c1-b4b9-464f-9ee3-16628e6a9a75",
   "metadata": {
    "tags": []
   },
   "outputs": [
    {
     "data": {
      "text/plain": [
       "'1.26.4'"
      ]
     },
     "execution_count": 7,
     "metadata": {},
     "output_type": "execute_result"
    }
   ],
   "source": [
    "numpy.__version__"
   ]
  },
  {
   "cell_type": "code",
   "execution_count": 14,
   "id": "9d48aa24-3779-4532-816b-04123e30f26b",
   "metadata": {
    "tags": []
   },
   "outputs": [
    {
     "data": {
      "text/plain": [
       "'3.8.0'"
      ]
     },
     "execution_count": 14,
     "metadata": {},
     "output_type": "execute_result"
    }
   ],
   "source": [
    "matplotlib.__version__"
   ]
  },
  {
   "cell_type": "markdown",
   "id": "4bbe04c4-91cf-48ae-9236-44bb9959359e",
   "metadata": {},
   "source": [
    "# 代码实现"
   ]
  },
  {
   "cell_type": "code",
   "execution_count": 2,
   "id": "da6ceb52-5683-4fa6-bc54-0b042f19206b",
   "metadata": {
    "tags": []
   },
   "outputs": [],
   "source": [
    "import numpy as np\n",
    "import pandas as pd\n",
    "import statsmodels.api as sm\n",
    "import matplotlib.pyplot as plt\n",
    "from sklearn.calibration import calibration_curve\n",
    "from sklearn.linear_model import LogisticRegression\n",
    "from sklearn.metrics import accuracy_score, roc_auc_score\n",
    "from statsmodels.nonparametric.smoothers_lowess import lowess"
   ]
  },
  {
   "cell_type": "code",
   "execution_count": 3,
   "id": "ae6eba79-b1e6-4f01-83bb-ab29e19f6499",
   "metadata": {
    "tags": []
   },
   "outputs": [],
   "source": [
    "df = pd.read_csv(\"data/train.csv\")"
   ]
  },
  {
   "cell_type": "code",
   "execution_count": 4,
   "id": "0b72b302-2e13-4802-96ea-094ee9b1f5cc",
   "metadata": {},
   "outputs": [
    {
     "data": {
      "text/html": [
       "<div>\n",
       "<style scoped>\n",
       "    .dataframe tbody tr th:only-of-type {\n",
       "        vertical-align: middle;\n",
       "    }\n",
       "\n",
       "    .dataframe tbody tr th {\n",
       "        vertical-align: top;\n",
       "    }\n",
       "\n",
       "    .dataframe thead th {\n",
       "        text-align: right;\n",
       "    }\n",
       "</style>\n",
       "<table border=\"1\" class=\"dataframe\">\n",
       "  <thead>\n",
       "    <tr style=\"text-align: right;\">\n",
       "      <th></th>\n",
       "      <th>Age</th>\n",
       "      <th>Blood_Sugar</th>\n",
       "      <th>Blood_Pressure</th>\n",
       "      <th>Weight</th>\n",
       "      <th>Heart_Disease</th>\n",
       "    </tr>\n",
       "  </thead>\n",
       "  <tbody>\n",
       "    <tr>\n",
       "      <th>0</th>\n",
       "      <td>58</td>\n",
       "      <td>99.975461</td>\n",
       "      <td>106.328124</td>\n",
       "      <td>62.448684</td>\n",
       "      <td>0</td>\n",
       "    </tr>\n",
       "    <tr>\n",
       "      <th>1</th>\n",
       "      <td>71</td>\n",
       "      <td>93.609515</td>\n",
       "      <td>134.190672</td>\n",
       "      <td>67.875853</td>\n",
       "      <td>0</td>\n",
       "    </tr>\n",
       "    <tr>\n",
       "      <th>2</th>\n",
       "      <td>48</td>\n",
       "      <td>119.131949</td>\n",
       "      <td>115.773278</td>\n",
       "      <td>49.263101</td>\n",
       "      <td>0</td>\n",
       "    </tr>\n",
       "    <tr>\n",
       "      <th>3</th>\n",
       "      <td>34</td>\n",
       "      <td>98.626509</td>\n",
       "      <td>117.651983</td>\n",
       "      <td>93.111787</td>\n",
       "      <td>0</td>\n",
       "    </tr>\n",
       "    <tr>\n",
       "      <th>4</th>\n",
       "      <td>62</td>\n",
       "      <td>114.056088</td>\n",
       "      <td>119.456831</td>\n",
       "      <td>71.043221</td>\n",
       "      <td>0</td>\n",
       "    </tr>\n",
       "  </tbody>\n",
       "</table>\n",
       "</div>"
      ],
      "text/plain": [
       "   Age  Blood_Sugar  Blood_Pressure     Weight  Heart_Disease\n",
       "0   58    99.975461      106.328124  62.448684              0\n",
       "1   71    93.609515      134.190672  67.875853              0\n",
       "2   48   119.131949      115.773278  49.263101              0\n",
       "3   34    98.626509      117.651983  93.111787              0\n",
       "4   62   114.056088      119.456831  71.043221              0"
      ]
     },
     "execution_count": 4,
     "metadata": {},
     "output_type": "execute_result"
    }
   ],
   "source": [
    "df.head()"
   ]
  },
  {
   "cell_type": "code",
   "execution_count": 5,
   "id": "f6a5aa3e-f9ef-4228-8691-ceec12da2288",
   "metadata": {},
   "outputs": [],
   "source": [
    "label_name = 'Heart_Disease'"
   ]
  },
  {
   "cell_type": "code",
   "execution_count": 6,
   "id": "8ad645da-84b6-4aee-9f7c-33faa74d880b",
   "metadata": {},
   "outputs": [],
   "source": [
    "X = df.drop(label_name, axis=1)\n",
    "y = df[label_name]"
   ]
  },
  {
   "cell_type": "code",
   "execution_count": 7,
   "id": "d0ecad4d-2950-47c8-9bec-a80c3d4de63e",
   "metadata": {},
   "outputs": [
    {
     "name": "stderr",
     "output_type": "stream",
     "text": [
      "D:\\software\\anaconda3\\lib\\site-packages\\statsmodels\\tsa\\tsatools.py:142: FutureWarning: In a future version of pandas all arguments of concat except for the argument 'objs' will be keyword-only\n",
      "  x = pd.concat(x[::order], 1)\n"
     ]
    },
    {
     "name": "stdout",
     "output_type": "stream",
     "text": [
      "Optimization terminated successfully.\n",
      "         Current function value: 0.022594\n",
      "         Iterations 14\n",
      "                           Logit Regression Results                           \n",
      "==============================================================================\n",
      "Dep. Variable:          Heart_Disease   No. Observations:                 1000\n",
      "Model:                          Logit   Df Residuals:                      995\n",
      "Method:                           MLE   Df Model:                            4\n",
      "Date:                Wed, 19 Feb 2025   Pseudo R-squ.:                  0.8405\n",
      "Time:                        14:20:44   Log-Likelihood:                -22.594\n",
      "converged:                       True   LL-Null:                       -141.63\n",
      "Covariance Type:            nonrobust   LLR p-value:                 2.421e-50\n",
      "==================================================================================\n",
      "                     coef    std err          z      P>|z|      [0.025      0.975]\n",
      "----------------------------------------------------------------------------------\n",
      "const           -109.6707     24.800     -4.422      0.000    -158.278     -61.064\n",
      "Age                0.4953      0.112      4.437      0.000       0.277       0.714\n",
      "Blood_Sugar        0.5558      0.123      4.524      0.000       0.315       0.797\n",
      "Blood_Pressure     0.0135      0.021      0.633      0.527      -0.028       0.055\n",
      "Weight             0.0647      0.031      2.106      0.035       0.004       0.125\n",
      "==================================================================================\n",
      "\n",
      "Possibly complete quasi-separation: A fraction 0.87 of observations can be\n",
      "perfectly predicted. This might indicate that there is complete\n",
      "quasi-separation. In this case some parameters will not be identified.\n",
      "准确率: 0.9910\n",
      "AUC: 0.9971\n"
     ]
    }
   ],
   "source": [
    "# 添加常数列（截距项）到特征中\n",
    "X_ = sm.add_constant(X)\n",
    "\n",
    "# 拟合逻辑回归模型\n",
    "model = sm.Logit(y, X_)\n",
    "result = model.fit()\n",
    "\n",
    "# 输出模型摘要\n",
    "print(result.summary())\n",
    "\n",
    "# 进行预测（概率值）\n",
    "y_pred_prob = result.predict(X_)\n",
    "# 将概率值转化为0/1预测类别，使用阈值0.5\n",
    "y_pred_class = (y_pred_prob > 0.5).astype(int)\n",
    "# 计算准确率\n",
    "accuracy = accuracy_score(y, y_pred_class)\n",
    "print(f\"准确率: {accuracy:.4f}\")\n",
    "\n",
    "# 计算AUC（曲线下面积）\n",
    "auc = roc_auc_score(y, y_pred_prob)\n",
    "print(f\"AUC: {auc:.4f}\")"
   ]
  },
  {
   "cell_type": "markdown",
   "id": "ae4e666b-9cd2-42f8-b20d-f00620f55fa2",
   "metadata": {},
   "source": [
    "# 校准曲线"
   ]
  },
  {
   "cell_type": "code",
   "execution_count": 10,
   "id": "5a475835-9f99-4e15-bb9d-0a467403b17f",
   "metadata": {},
   "outputs": [],
   "source": [
    "import numpy as np\n",
    "\n",
    "# 假设 predicted 是一个已定义的列表或数组\n",
    "predy = None  # predy 初始为空\n",
    "\n",
    "if predy is None:\n",
    "    n = len(y_pred_prob)  # 获取 predicted 的长度\n",
    "    if n < 11:\n",
    "        raise ValueError(\"must have n > 10 if do not specify predy\")\n",
    "    \n",
    "    p = np.sort(y_pred_prob)  # 对 predicted 进行排序\n",
    "    predy = np.linspace(p[4], p[n-5], num=50)  # 创建一个从 p[5] 到 p[n-4] 的等间隔序列，长度为 50\n",
    "    p = None  # 清空 p"
   ]
  },
  {
   "cell_type": "code",
   "execution_count": 11,
   "id": "5b4d2816-9df1-4747-aa35-f6c404057dec",
   "metadata": {},
   "outputs": [
    {
     "data": {
      "text/plain": [
       "array([6.48726475e-24, 2.04054528e-02, 4.08109056e-02, 6.12163585e-02,\n",
       "       8.16218113e-02, 1.02027264e-01, 1.22432717e-01, 1.42838170e-01,\n",
       "       1.63243623e-01, 1.83649075e-01, 2.04054528e-01, 2.24459981e-01,\n",
       "       2.44865434e-01, 2.65270887e-01, 2.85676339e-01, 3.06081792e-01,\n",
       "       3.26487245e-01, 3.46892698e-01, 3.67298151e-01, 3.87703604e-01,\n",
       "       4.08109056e-01, 4.28514509e-01, 4.48919962e-01, 4.69325415e-01,\n",
       "       4.89730868e-01, 5.10136321e-01, 5.30541773e-01, 5.50947226e-01,\n",
       "       5.71352679e-01, 5.91758132e-01, 6.12163585e-01, 6.32569037e-01,\n",
       "       6.52974490e-01, 6.73379943e-01, 6.93785396e-01, 7.14190849e-01,\n",
       "       7.34596302e-01, 7.55001754e-01, 7.75407207e-01, 7.95812660e-01,\n",
       "       8.16218113e-01, 8.36623566e-01, 8.57029018e-01, 8.77434471e-01,\n",
       "       8.97839924e-01, 9.18245377e-01, 9.38650830e-01, 9.59056283e-01,\n",
       "       9.79461735e-01, 9.99867188e-01])"
      ]
     },
     "execution_count": 11,
     "metadata": {},
     "output_type": "execute_result"
    }
   ],
   "source": [
    "predy"
   ]
  },
  {
   "cell_type": "markdown",
   "id": "1d55c174-cf43-4804-8b40-0c387a5e169c",
   "metadata": {},
   "source": [
    "## lowess平滑"
   ]
  },
  {
   "cell_type": "markdown",
   "id": "9cc49c16-32e9-41df-a46c-85c910147052",
   "metadata": {},
   "source": [
    "lowess（局部加权回归）是 R 语言中用于平滑数据的一个函数。它通过对数据点使用局部加权回归（Locally Weighted Scatterplot Smoothing, LOWESS）方法来创建平滑的曲线，从而使得原始数据的噪声得到平滑处理，并揭示出数据的趋势或模式。"
   ]
  },
  {
   "cell_type": "code",
   "execution_count": 12,
   "id": "27f4796c-6dd2-4c4f-9d09-1e750f085c93",
   "metadata": {
    "tags": []
   },
   "outputs": [],
   "source": [
    "y_true, y_prob = y, y_pred_prob"
   ]
  },
  {
   "cell_type": "code",
   "execution_count": 16,
   "id": "8f722dd7-f471-42b9-8efb-1b5fc24890b1",
   "metadata": {},
   "outputs": [
    {
     "data": {
      "text/plain": [
       "0.009999982225169384"
      ]
     },
     "execution_count": 16,
     "metadata": {},
     "output_type": "execute_result"
    }
   ],
   "source": [
    "(max(y_prob) - min(y_prob)) * 0.01"
   ]
  },
  {
   "cell_type": "code",
   "execution_count": 28,
   "id": "685e7faf-90f1-40af-aece-18450b076572",
   "metadata": {},
   "outputs": [],
   "source": [
    "smoothed = lowess(y_true, y_prob\n",
    "                  ,frac=2/3 # frac 参数类似于 R 中的 f，控制窗口大小\n",
    "                  ,it=0\n",
    "                  ,delta=(max(y_prob) - min(y_prob)) * 0.01\n",
    "                 )  "
   ]
  },
  {
   "cell_type": "code",
   "execution_count": 29,
   "id": "d90e748e-dfc2-4273-a6ca-d70c6b11130c",
   "metadata": {},
   "outputs": [
    {
     "data": {
      "text/html": [
       "<div>\n",
       "<style scoped>\n",
       "    .dataframe tbody tr th:only-of-type {\n",
       "        vertical-align: middle;\n",
       "    }\n",
       "\n",
       "    .dataframe tbody tr th {\n",
       "        vertical-align: top;\n",
       "    }\n",
       "\n",
       "    .dataframe thead th {\n",
       "        text-align: right;\n",
       "    }\n",
       "</style>\n",
       "<table border=\"1\" class=\"dataframe\">\n",
       "  <thead>\n",
       "    <tr style=\"text-align: right;\">\n",
       "      <th></th>\n",
       "      <th>0</th>\n",
       "      <th>1</th>\n",
       "    </tr>\n",
       "  </thead>\n",
       "  <tbody>\n",
       "    <tr>\n",
       "      <th>0</th>\n",
       "      <td>1.987025e-25</td>\n",
       "      <td>0.000000</td>\n",
       "    </tr>\n",
       "    <tr>\n",
       "      <th>1</th>\n",
       "      <td>7.686511e-25</td>\n",
       "      <td>0.000000</td>\n",
       "    </tr>\n",
       "    <tr>\n",
       "      <th>2</th>\n",
       "      <td>4.362426e-24</td>\n",
       "      <td>0.000000</td>\n",
       "    </tr>\n",
       "    <tr>\n",
       "      <th>3</th>\n",
       "      <td>5.679777e-24</td>\n",
       "      <td>0.000000</td>\n",
       "    </tr>\n",
       "    <tr>\n",
       "      <th>4</th>\n",
       "      <td>6.487265e-24</td>\n",
       "      <td>0.000000</td>\n",
       "    </tr>\n",
       "    <tr>\n",
       "      <th>...</th>\n",
       "      <td>...</td>\n",
       "      <td>...</td>\n",
       "    </tr>\n",
       "    <tr>\n",
       "      <th>995</th>\n",
       "      <td>9.998672e-01</td>\n",
       "      <td>1.033531</td>\n",
       "    </tr>\n",
       "    <tr>\n",
       "      <th>996</th>\n",
       "      <td>9.999153e-01</td>\n",
       "      <td>1.033593</td>\n",
       "    </tr>\n",
       "    <tr>\n",
       "      <th>997</th>\n",
       "      <td>9.999736e-01</td>\n",
       "      <td>1.033669</td>\n",
       "    </tr>\n",
       "    <tr>\n",
       "      <th>998</th>\n",
       "      <td>9.999972e-01</td>\n",
       "      <td>1.033700</td>\n",
       "    </tr>\n",
       "    <tr>\n",
       "      <th>999</th>\n",
       "      <td>9.999982e-01</td>\n",
       "      <td>1.033701</td>\n",
       "    </tr>\n",
       "  </tbody>\n",
       "</table>\n",
       "<p>1000 rows × 2 columns</p>\n",
       "</div>"
      ],
      "text/plain": [
       "                0         1\n",
       "0    1.987025e-25  0.000000\n",
       "1    7.686511e-25  0.000000\n",
       "2    4.362426e-24  0.000000\n",
       "3    5.679777e-24  0.000000\n",
       "4    6.487265e-24  0.000000\n",
       "..            ...       ...\n",
       "995  9.998672e-01  1.033531\n",
       "996  9.999153e-01  1.033593\n",
       "997  9.999736e-01  1.033669\n",
       "998  9.999972e-01  1.033700\n",
       "999  9.999982e-01  1.033701\n",
       "\n",
       "[1000 rows x 2 columns]"
      ]
     },
     "execution_count": 29,
     "metadata": {},
     "output_type": "execute_result"
    }
   ],
   "source": [
    "pd.DataFrame(smoothed)"
   ]
  },
  {
   "cell_type": "code",
   "execution_count": null,
   "id": "dab7e622-5f35-4890-8c5d-f6ccf69ffdf6",
   "metadata": {},
   "outputs": [],
   "source": []
  },
  {
   "cell_type": "code",
   "execution_count": null,
   "id": "0d023bb0-7cc0-44cb-b162-e89d6329c705",
   "metadata": {},
   "outputs": [],
   "source": []
  },
  {
   "cell_type": "markdown",
   "id": "f44c7df8-1120-4986-afcf-9db309e25a83",
   "metadata": {},
   "source": [
    "## 传统方法"
   ]
  },
  {
   "cell_type": "code",
   "execution_count": 8,
   "id": "2ead359e-4555-4826-bb9b-834c3c0a6861",
   "metadata": {
    "tags": []
   },
   "outputs": [],
   "source": [
    "is_boot = True"
   ]
  },
  {
   "cell_type": "code",
   "execution_count": 9,
   "id": "e2c9d5a4-91d5-4a80-ac69-ec6f69b15c1a",
   "metadata": {
    "tags": []
   },
   "outputs": [],
   "source": [
    "y_true, y_prob = y, y_pred_prob"
   ]
  },
  {
   "cell_type": "code",
   "execution_count": 28,
   "id": "905a6b09-4f31-4b00-8307-8bff558fc166",
   "metadata": {},
   "outputs": [
    {
     "data": {
      "text/plain": [
       "(array([0.        , 0.        , 0.        , 0.5       , 0.        ,\n",
       "        0.5       , 0.33333333, 1.        , 0.        , 0.        ,\n",
       "        0.33333333, 0.        , 0.        , 0.        , 0.        ,\n",
       "        0.        , 0.5       , 1.        , 0.        , 0.        ,\n",
       "        1.        , 1.        , 0.66666667, 1.        , 1.        ,\n",
       "        1.        , 1.        , 1.        , 1.        ]),\n",
       " array([1.86707822e-04, 2.70279889e-02, 5.02487970e-02, 7.40332178e-02,\n",
       "        9.04376774e-02, 1.16200891e-01, 1.25660136e-01, 1.66568734e-01,\n",
       "        1.93363122e-01, 2.02501641e-01, 2.23019447e-01, 2.87162350e-01,\n",
       "        3.33455867e-01, 3.86384898e-01, 4.18482476e-01, 4.35094871e-01,\n",
       "        4.50239775e-01, 5.77491930e-01, 5.85845670e-01, 6.24078936e-01,\n",
       "        7.45296936e-01, 7.67041249e-01, 8.06029164e-01, 8.34832384e-01,\n",
       "        8.56486434e-01, 9.26272793e-01, 9.49579154e-01, 9.75274737e-01,\n",
       "        9.98321916e-01]))"
      ]
     },
     "execution_count": 28,
     "metadata": {},
     "output_type": "execute_result"
    }
   ],
   "source": [
    "prob_true, prob_pred"
   ]
  },
  {
   "cell_type": "code",
   "execution_count": 29,
   "id": "fd2a3e9e-92ef-4c6d-9a17-81b4040fe26b",
   "metadata": {},
   "outputs": [
    {
     "data": {
      "text/plain": [
       "((29,), (29,))"
      ]
     },
     "execution_count": 29,
     "metadata": {},
     "output_type": "execute_result"
    }
   ],
   "source": [
    "prob_true.shape, prob_pred.shape"
   ]
  },
  {
   "cell_type": "code",
   "execution_count": 27,
   "id": "e5270b84-5010-469d-a950-c3f3a0556baf",
   "metadata": {
    "tags": []
   },
   "outputs": [
    {
     "data": {
      "text/plain": [
       "<matplotlib.legend.Legend at 0x25a29992700>"
      ]
     },
     "execution_count": 27,
     "metadata": {},
     "output_type": "execute_result"
    },
    {
     "data": {
      "image/png": "[encoded data removed]",
      "text/plain": [
       "<Figure size 432x288 with 1 Axes>"
      ]
     },
     "metadata": {
      "needs_background": "light"
     },
     "output_type": "display_data"
    }
   ],
   "source": [
    "# 计算普通的校准曲线\n",
    "prob_true, prob_pred = calibration_curve(y_true, y_prob, n_bins=50)\n",
    "# \"Ideal\" 理想校准曲线 (y=x)\n",
    "ideal_line = [0, 1]\n",
    "plt.figure()\n",
    "# 开始画图\n",
    "# Ideal (理想曲线)\n",
    "plt.plot(ideal_line, ideal_line, label='Ideal')\n",
    "# Apparent (表观曲线)\n",
    "plt.plot(prob_pred, prob_true, label='Apparent')\n",
    "# # 是否进行Boostrap有放回的采样\n",
    "# if is_boot:\n",
    "#     length = len(y_true)\n",
    "#     boot_num = int(90 * length / 100)\n",
    "#     np.random.seed(1024)  # 设置随机种子\n",
    "#     bootstrap_curves = []\n",
    "#     for i in range(100):\n",
    "#         indices = np.random.choice(length, boot_num, replace=True)\n",
    "#         y_resample_probs = y_prob[indices]\n",
    "#         y_resample_true = y_true[indices]\n",
    "#         # 计算重采样后的校准曲线\n",
    "#         boot_prob_true, boot_prob_pred = calibration_curve(y_resample_true, y_resample_probs, n_bins=10, strategy='quantile')\n",
    "#         # https://chatgpt.com/share/670f779b-c910-8010-92ab-7587668e7f48\n",
    "#         # 使用插值来保证所有曲线的长度一致\n",
    "#         # 对 true 和 pred 都进行插值，确保曲线长度一致\n",
    "#         boot_prob_true_interp = np.interp(prob_pred, boot_prob_pred, boot_prob_true)\n",
    "#         boot_prob_pred_interp = np.interp(prob_pred, boot_prob_pred, boot_prob_pred)\n",
    "#         # 将插值后的校准曲线保存\n",
    "#         bootstrap_curves.append((boot_prob_true_interp, boot_prob_pred_interp))\n",
    "#     # 计算偏差校正后的平均校准曲线\n",
    "#     mean_prob_true = np.mean([curve[0] for curve in bootstrap_curves], axis=0)\n",
    "#     mean_prob_pred = np.mean([curve[1] for curve in bootstrap_curves], axis=0)\n",
    "#     plt.plot(mean_prob_pred, mean_prob_true,label='Boostrap')\n",
    "# 设置标签和图例\n",
    "plt.xlabel('Predicted Probability')\n",
    "plt.ylabel('Observed Probability')\n",
    "plt.legend()"
   ]
  },
  {
   "cell_type": "code",
   "execution_count": null,
   "id": "4cf04b2f-2f03-436d-acb3-97ff14c5ec3c",
   "metadata": {},
   "outputs": [],
   "source": []
  }
 ],
 "metadata": {
  "kernelspec": {
   "display_name": "Python 3 (ipykernel)",
   "language": "python",
   "name": "python3"
  },
  "language_info": {
   "codemirror_mode": {
    "name": "ipython",
    "version": 3
   },
   "file_extension": ".py",
   "mimetype": "text/x-python",
   "name": "python",
   "nbconvert_exporter": "python",
   "pygments_lexer": "ipython3",
   "version": "3.9.7"
  }
 },
 "nbformat": 4,
 "nbformat_minor": 5
}
