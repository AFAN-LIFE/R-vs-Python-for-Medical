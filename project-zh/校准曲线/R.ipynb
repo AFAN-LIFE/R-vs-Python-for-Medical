{
 "cells": [
  {
   "cell_type": "markdown",
   "id": "c11bd4f9-87a2-43a4-aa0a-cfca64b6b6bb",
   "metadata": {},
   "source": [
    "# 环境说明"
   ]
  },
  {
   "cell_type": "code",
   "execution_count": 1,
   "id": "8fc21562-8486-46c0-acbb-2c92384804cd",
   "metadata": {
    "tags": []
   },
   "outputs": [
    {
     "name": "stdout",
     "output_type": "stream",
     "text": [
      "package 'rms' successfully unpacked and MD5 sums checked\n"
     ]
    },
    {
     "name": "stderr",
     "output_type": "stream",
     "text": [
      "Warning message:\n",
      "\"cannot remove prior installation of package 'rms'\"\n",
      "Warning message in file.copy(savedcopy, lib, recursive = TRUE):\n",
      "\"problem copying D:\\software\\R-4.4.1\\library\\00LOCK\\rms\\libs\\x64\\rms.dll to D:\\software\\R-4.4.1\\library\\rms\\libs\\x64\\rms.dll: Permission denied\"\n",
      "Warning message:\n",
      "\"restored 'rms'\"\n"
     ]
    },
    {
     "name": "stdout",
     "output_type": "stream",
     "text": [
      "\n",
      "The downloaded binary packages are in\n",
      "\tC:\\Users\\AFAN\\AppData\\Local\\Temp\\Rtmp4mNA8o\\downloaded_packages\n"
     ]
    }
   ],
   "source": [
    "# 安装所需的包\n",
    "install.packages(\"rms\")"
   ]
  },
  {
   "cell_type": "code",
   "execution_count": 5,
   "id": "ad961cac-c367-4e05-931b-b1dbac44cfb7",
   "metadata": {
    "tags": []
   },
   "outputs": [
    {
     "data": {
      "text/plain": [
       "Package: rms\n",
       "Version: 7.0-0\n",
       "Date: 2025-01-15\n",
       "Title: Regression Modeling Strategies\n",
       "Authors@R: person(given = c(\"Frank\", \"E\"), family = \"Harrell Jr\", role\n",
       "        = c(\"aut\", \"cre\"), email = \"fh@fharrell.com\")\n",
       "Maintainer: Frank E Harrell Jr <fh@fharrell.com>\n",
       "Depends: R (>= 4.4.0), Hmisc (>= 5.2-2)\n",
       "Imports: methods, survival, quantreg, ggplot2, Matrix, SparseM, rpart,\n",
       "        nlme (>= 3.1-123), polspline, multcomp, htmlTable (>= 1.11.0),\n",
       "        htmltools, MASS, cluster, digest, colorspace, knitr, grDevices\n",
       "Suggests: boot, tcltk, plotly (>= 4.5.6), mice, rmsb, nnet, VGAM,\n",
       "        lattice, kableExtra\n",
       "Description: Regression modeling, testing, estimation, validation,\n",
       "        graphics, prediction, and typesetting by storing enhanced model\n",
       "        design attributes in the fit.  'rms' is a collection of\n",
       "        functions that assist with and streamline modeling.  It also\n",
       "        contains functions for binary and ordinal logistic regression\n",
       "        models, ordinal models for continuous Y with a variety of\n",
       "        distribution families, and the Buckley-James multiple\n",
       "        regression model for right-censored responses, and implements\n",
       "        penalized maximum likelihood estimation for logistic and\n",
       "        ordinary linear models.  'rms' works with almost any regression\n",
       "        model, but it was especially written to work with binary or\n",
       "        ordinal regression models, Cox regression, accelerated failure\n",
       "        time models, ordinary linear models, the Buckley-James model,\n",
       "        generalized least squares for serially or spatially correlated\n",
       "        observations, generalized linear models, and quantile\n",
       "        regression.\n",
       "License: GPL (>= 2)\n",
       "URL: https://hbiostat.org/R/rms/, https://github.com/harrelfe/rms\n",
       "LazyLoad: yes\n",
       "RoxygenNote: 7.3.2\n",
       "NeedsCompilation: yes\n",
       "Packaged: 2025-01-16 22:53:40 UTC; harrelfe\n",
       "Author: Frank E Harrell Jr [aut, cre]\n",
       "Repository: CRAN\n",
       "Date/Publication: 2025-01-17 09:10:05 UTC\n",
       "Built: R 4.4.2; x86_64-w64-mingw32; 2025-02-09 04:12:21 UTC; windows\n",
       "Archs: x64\n",
       "\n",
       "-- File: D:/software/R-4.4.1/library/rms/Meta/package.rds "
      ]
     },
     "metadata": {},
     "output_type": "display_data"
    }
   ],
   "source": [
    "sessionInfo()$otherPkgs$rms"
   ]
  },
  {
   "cell_type": "markdown",
   "id": "c745a1a0-d852-4e06-ad46-5c72233e5208",
   "metadata": {},
   "source": [
    "# 代码实现"
   ]
  },
  {
   "cell_type": "code",
   "execution_count": 2,
   "id": "62c252e7-e022-45aa-b588-6882dbad0a48",
   "metadata": {
    "tags": []
   },
   "outputs": [
    {
     "name": "stderr",
     "output_type": "stream",
     "text": [
      "Warning message:\n",
      "\"package 'rms' was built under R version 4.4.2\"\n",
      "Loading required package: Hmisc\n",
      "\n",
      "Warning message:\n",
      "\"package 'Hmisc' was built under R version 4.4.2\"\n",
      "\n",
      "Attaching package: 'Hmisc'\n",
      "\n",
      "\n",
      "The following objects are masked from 'package:base':\n",
      "\n",
      "    format.pval, units\n",
      "\n",
      "\n"
     ]
    }
   ],
   "source": [
    "# 加载所需的包\n",
    "library(rms)"
   ]
  },
  {
   "cell_type": "code",
   "execution_count": 12,
   "id": "6236e736-e693-49fa-a390-b9c6c4bd5dab",
   "metadata": {
    "tags": []
   },
   "outputs": [
    {
     "ename": "ERROR",
     "evalue": "Error in lrm(actual_outcome ~ 1): object 'sformula' not found\n",
     "output_type": "error",
     "traceback": [
      "Error in lrm(actual_outcome ~ 1): object 'sformula' not found\nTraceback:\n",
      "1. .handleSimpleError(function (cnd) \n . {\n .     watcher$capture_plot_and_output()\n .     cnd <- sanitize_call(cnd)\n .     watcher$push(cnd)\n .     switch(on_error, continue = invokeRestart(\"eval_continue\"), \n .         stop = invokeRestart(\"eval_stop\"), error = invokeRestart(\"eval_error\", \n .             cnd))\n . }, \"object 'sformula' not found\", base::quote(lrm(actual_outcome ~ \n .     1)))"
     ]
    }
   ],
   "source": [
    "# 读取数据\n",
    "data <- read.csv(\"data/predict.csv\")\n",
    "actual_outcome <- data$origin_encoder\n",
    "pred_prob <- data$predict_probability\n",
    "\n",
    "# 使用 rms 包来拟合模型\n",
    "model <- lrm(actual_outcome ~ 1, x = TRUE, y = TRUE)"
   ]
  },
  {
   "cell_type": "code",
   "execution_count": 4,
   "id": "eb8d3e66-76ba-4c2c-b80f-285a13a574b0",
   "metadata": {
    "tags": []
   },
   "outputs": [],
   "source": [
    "# 绘制校准曲线\n",
    "calibration_result <- calibrate(model, method = \"boot\", B = 100)  # B 是 bootstrap 次数"
   ]
  },
  {
   "cell_type": "code",
   "execution_count": 5,
   "id": "aaea559b-e345-4bf1-98ce-cda7dc481e31",
   "metadata": {
    "tags": []
   },
   "outputs": [
    {
     "name": "stdout",
     "output_type": "stream",
     "text": [
      "\n",
      "n=9999   Mean absolute error=0.039   Mean squared error=0.00289\n",
      "0.9 Quantile of absolute error=0.088\n",
      "\n"
     ]
    },
    {
     "data": {
      "image/png": "[encoded data removed]",
      "text/plain": [
       "Plot with title \"Calibration Curve\""
      ]
     },
     "metadata": {
      "image/png": {
       "height": 420,
       "width": 420
      }
     },
     "output_type": "display_data"
    }
   ],
   "source": [
    "# 绘制校准曲线\n",
    "plot(calibration_result, main = \"Calibration Curve\", xlab = \"Predicted Probability\", ylab = \"Observed Proportion\")"
   ]
  },
  {
   "cell_type": "code",
   "execution_count": null,
   "id": "b9035ad1-3b63-4733-bf85-6b891dc3670d",
   "metadata": {},
   "outputs": [],
   "source": []
  }
 ],
 "metadata": {
  "kernelspec": {
   "display_name": "R",
   "language": "R",
   "name": "ir"
  },
  "language_info": {
   "codemirror_mode": "r",
   "file_extension": ".r",
   "mimetype": "text/x-r-source",
   "name": "R",
   "pygments_lexer": "r",
   "version": "4.4.1"
  }
 },
 "nbformat": 4,
 "nbformat_minor": 5
}
