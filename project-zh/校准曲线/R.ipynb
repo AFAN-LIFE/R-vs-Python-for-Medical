{
 "cells": [
  {
   "cell_type": "markdown",
   "id": "c11bd4f9-87a2-43a4-aa0a-cfca64b6b6bb",
   "metadata": {},
   "source": [
    "# 环境说明"
   ]
  },
  {
   "cell_type": "code",
   "execution_count": 1,
   "id": "8fc21562-8486-46c0-acbb-2c92384804cd",
   "metadata": {
    "tags": []
   },
   "outputs": [
    {
     "name": "stderr",
     "output_type": "stream",
     "text": [
      "Warning message:\n",
      "\"unable to access index for repository https://cran.r-project.org/src/contrib:\n",
      "  cannot open URL 'https://cran.r-project.org/src/contrib/PACKAGES'\"\n",
      "Warning message:\n",
      "\"package 'rms' is not available for this version of R\n",
      "\n",
      "A version of this package for your version of R might be available elsewhere,\n",
      "see the ideas at\n",
      "https://cran.r-project.org/doc/manuals/r-patched/R-admin.html#Installing-packages\"\n",
      "Warning message:\n",
      "\"unable to access index for repository https://cran.r-project.org/bin/windows/contrib/4.4:\n",
      "  cannot open URL 'https://cran.r-project.org/bin/windows/contrib/4.4/PACKAGES'\"\n"
     ]
    }
   ],
   "source": [
    "# 安装所需的包\n",
    "install.packages(\"rms\")"
   ]
  },
  {
   "cell_type": "code",
   "execution_count": 15,
   "id": "ad961cac-c367-4e05-931b-b1dbac44cfb7",
   "metadata": {
    "tags": []
   },
   "outputs": [
    {
     "data": {
      "text/plain": [
       "Package: rms\n",
       "Version: 7.0-0\n",
       "Date: 2025-01-15\n",
       "Title: Regression Modeling Strategies\n",
       "Authors@R: person(given = c(\"Frank\", \"E\"), family = \"Harrell Jr\", role\n",
       "        = c(\"aut\", \"cre\"), email = \"fh@fharrell.com\")\n",
       "Maintainer: Frank E Harrell Jr <fh@fharrell.com>\n",
       "Depends: R (>= 4.4.0), Hmisc (>= 5.2-2)\n",
       "Imports: methods, survival, quantreg, ggplot2, Matrix, SparseM, rpart,\n",
       "        nlme (>= 3.1-123), polspline, multcomp, htmlTable (>= 1.11.0),\n",
       "        htmltools, MASS, cluster, digest, colorspace, knitr, grDevices\n",
       "Suggests: boot, tcltk, plotly (>= 4.5.6), mice, rmsb, nnet, VGAM,\n",
       "        lattice, kableExtra\n",
       "Description: Regression modeling, testing, estimation, validation,\n",
       "        graphics, prediction, and typesetting by storing enhanced model\n",
       "        design attributes in the fit.  'rms' is a collection of\n",
       "        functions that assist with and streamline modeling.  It also\n",
       "        contains functions for binary and ordinal logistic regression\n",
       "        models, ordinal models for continuous Y with a variety of\n",
       "        distribution families, and the Buckley-James multiple\n",
       "        regression model for right-censored responses, and implements\n",
       "        penalized maximum likelihood estimation for logistic and\n",
       "        ordinary linear models.  'rms' works with almost any regression\n",
       "        model, but it was especially written to work with binary or\n",
       "        ordinal regression models, Cox regression, accelerated failure\n",
       "        time models, ordinary linear models, the Buckley-James model,\n",
       "        generalized least squares for serially or spatially correlated\n",
       "        observations, generalized linear models, and quantile\n",
       "        regression.\n",
       "License: GPL (>= 2)\n",
       "URL: https://hbiostat.org/R/rms/, https://github.com/harrelfe/rms\n",
       "LazyLoad: yes\n",
       "RoxygenNote: 7.3.2\n",
       "NeedsCompilation: yes\n",
       "Packaged: 2025-01-16 22:53:40 UTC; harrelfe\n",
       "Author: Frank E Harrell Jr [aut, cre]\n",
       "Repository: CRAN\n",
       "Date/Publication: 2025-01-17 09:10:05 UTC\n",
       "Built: R 4.4.2; x86_64-w64-mingw32; 2025-02-09 04:12:21 UTC; windows\n",
       "Archs: x64\n",
       "\n",
       "-- File: D:/software/R-4.4.1/library/rms/Meta/package.rds "
      ]
     },
     "metadata": {},
     "output_type": "display_data"
    }
   ],
   "source": [
    "sessionInfo()$otherPkgs$rms"
   ]
  },
  {
   "cell_type": "markdown",
   "id": "c745a1a0-d852-4e06-ad46-5c72233e5208",
   "metadata": {},
   "source": [
    "# 代码实现"
   ]
  },
  {
   "cell_type": "code",
   "execution_count": 3,
   "id": "9f8e166d-82ec-4351-80f6-6d2520e673a2",
   "metadata": {
    "tags": []
   },
   "outputs": [],
   "source": [
    "# 读取数据\n",
    "data <- read.csv(\"data/train.csv\")"
   ]
  },
  {
   "cell_type": "code",
   "execution_count": 4,
   "id": "6ec64169-d75a-45b5-97e6-78ac670e1e66",
   "metadata": {
    "tags": []
   },
   "outputs": [
    {
     "data": {
      "text/html": [
       "<table class=\"dataframe\">\n",
       "<caption>A data.frame: 6 × 5</caption>\n",
       "<thead>\n",
       "\t<tr><th></th><th scope=col>Age</th><th scope=col>Blood_Sugar</th><th scope=col>Blood_Pressure</th><th scope=col>Weight</th><th scope=col>Heart_Disease</th></tr>\n",
       "\t<tr><th></th><th scope=col>&lt;int&gt;</th><th scope=col>&lt;dbl&gt;</th><th scope=col>&lt;dbl&gt;</th><th scope=col>&lt;dbl&gt;</th><th scope=col>&lt;int&gt;</th></tr>\n",
       "</thead>\n",
       "<tbody>\n",
       "\t<tr><th scope=row>1</th><td>58</td><td> 99.97546</td><td>106.3281</td><td>62.44868</td><td>0</td></tr>\n",
       "\t<tr><th scope=row>2</th><td>71</td><td> 93.60951</td><td>134.1907</td><td>67.87585</td><td>0</td></tr>\n",
       "\t<tr><th scope=row>3</th><td>48</td><td>119.13195</td><td>115.7733</td><td>49.26310</td><td>0</td></tr>\n",
       "\t<tr><th scope=row>4</th><td>34</td><td> 98.62651</td><td>117.6520</td><td>93.11179</td><td>0</td></tr>\n",
       "\t<tr><th scope=row>5</th><td>62</td><td>114.05609</td><td>119.4568</td><td>71.04322</td><td>0</td></tr>\n",
       "\t<tr><th scope=row>6</th><td>27</td><td> 91.46011</td><td>131.4862</td><td>80.83883</td><td>0</td></tr>\n",
       "</tbody>\n",
       "</table>\n"
      ],
      "text/latex": [
       "A data.frame: 6 × 5\n",
       "\\begin{tabular}{r|lllll}\n",
       "  & Age & Blood\\_Sugar & Blood\\_Pressure & Weight & Heart\\_Disease\\\\\n",
       "  & <int> & <dbl> & <dbl> & <dbl> & <int>\\\\\n",
       "\\hline\n",
       "\t1 & 58 &  99.97546 & 106.3281 & 62.44868 & 0\\\\\n",
       "\t2 & 71 &  93.60951 & 134.1907 & 67.87585 & 0\\\\\n",
       "\t3 & 48 & 119.13195 & 115.7733 & 49.26310 & 0\\\\\n",
       "\t4 & 34 &  98.62651 & 117.6520 & 93.11179 & 0\\\\\n",
       "\t5 & 62 & 114.05609 & 119.4568 & 71.04322 & 0\\\\\n",
       "\t6 & 27 &  91.46011 & 131.4862 & 80.83883 & 0\\\\\n",
       "\\end{tabular}\n"
      ],
      "text/markdown": [
       "\n",
       "A data.frame: 6 × 5\n",
       "\n",
       "| <!--/--> | Age &lt;int&gt; | Blood_Sugar &lt;dbl&gt; | Blood_Pressure &lt;dbl&gt; | Weight &lt;dbl&gt; | Heart_Disease &lt;int&gt; |\n",
       "|---|---|---|---|---|---|\n",
       "| 1 | 58 |  99.97546 | 106.3281 | 62.44868 | 0 |\n",
       "| 2 | 71 |  93.60951 | 134.1907 | 67.87585 | 0 |\n",
       "| 3 | 48 | 119.13195 | 115.7733 | 49.26310 | 0 |\n",
       "| 4 | 34 |  98.62651 | 117.6520 | 93.11179 | 0 |\n",
       "| 5 | 62 | 114.05609 | 119.4568 | 71.04322 | 0 |\n",
       "| 6 | 27 |  91.46011 | 131.4862 | 80.83883 | 0 |\n",
       "\n"
      ],
      "text/plain": [
       "  Age Blood_Sugar Blood_Pressure Weight   Heart_Disease\n",
       "1 58   99.97546   106.3281       62.44868 0            \n",
       "2 71   93.60951   134.1907       67.87585 0            \n",
       "3 48  119.13195   115.7733       49.26310 0            \n",
       "4 34   98.62651   117.6520       93.11179 0            \n",
       "5 62  114.05609   119.4568       71.04322 0            \n",
       "6 27   91.46011   131.4862       80.83883 0            "
      ]
     },
     "metadata": {},
     "output_type": "display_data"
    }
   ],
   "source": [
    "head(data)"
   ]
  },
  {
   "cell_type": "code",
   "execution_count": 14,
   "id": "62c252e7-e022-45aa-b588-6882dbad0a48",
   "metadata": {
    "tags": []
   },
   "outputs": [],
   "source": [
    "# 加载所需的包\n",
    "library(rms)"
   ]
  },
  {
   "cell_type": "code",
   "execution_count": 6,
   "id": "775a24b5-c830-4b80-802d-9e6b7ab1e6f7",
   "metadata": {
    "tags": []
   },
   "outputs": [
    {
     "name": "stdout",
     "output_type": "stream",
     "text": [
      "Logistic Regression Model\n",
      "\n",
      "lrm(formula = Heart_Disease ~ ., data = data, x = TRUE, y = TRUE)\n",
      "\n",
      "                       Model Likelihood     Discrimination    Rank Discrim.    \n",
      "                             Ratio Test            Indexes          Indexes    \n",
      "Obs          1000    LR chi2     238.07     R2       0.859    C       0.997    \n",
      " 0            968    d.f.             4    R2(4,1000)0.209    Dxy     0.994    \n",
      " 1             32    Pr(> chi2) <0.0001    R2(4,92.9)0.919    gamma   0.994    \n",
      "max |deriv| 2e-05                           Brier    0.007    tau-a   0.062    \n",
      "\n",
      "               Coef      S.E.    Wald Z Pr(>|Z|)\n",
      "Intercept      -109.6707 24.8000 -4.42  <0.0001 \n",
      "Age               0.4953  0.1116  4.44  <0.0001 \n",
      "Blood_Sugar       0.5558  0.1228  4.52  <0.0001 \n",
      "Blood_Pressure    0.0135  0.0213  0.63  0.5270  \n",
      "Weight            0.0647  0.0307  2.11  0.0352  \n",
      "\n"
     ]
    }
   ],
   "source": [
    "# 开始建模\n",
    "model <- lrm(Heart_Disease ~ ., data = data, x=TRUE,y=TRUE)\n",
    "print(model)"
   ]
  },
  {
   "cell_type": "code",
   "execution_count": 7,
   "id": "10a79724-ce09-482c-994a-384f5144e55c",
   "metadata": {
    "tags": []
   },
   "outputs": [
    {
     "name": "stdout",
     "output_type": "stream",
     "text": [
      "[1] \"模型准确率: 0.991\"\n"
     ]
    }
   ],
   "source": [
    "# 计算概率预测值\n",
    "probabilities <- predict(model)\n",
    "# 设定阈值 0.5，将概率值转换为 0/1 分类\n",
    "predicted_class <- ifelse(probabilities > 0.5, 1, 0)\n",
    "# 计算准确率\n",
    "accuracy <- mean(predicted_class == data$Heart_Disease)\n",
    "print(paste(\"模型准确率:\", round(accuracy, 4)))"
   ]
  },
  {
   "cell_type": "code",
   "execution_count": 9,
   "id": "b116fd07-f9da-4de1-a01c-a70e1fda1b2b",
   "metadata": {
    "tags": []
   },
   "outputs": [
    {
     "data": {
      "text/html": [
       "<table class=\"dataframe\">\n",
       "<caption>A matrix: 6 × 4 of type dbl</caption>\n",
       "<thead>\n",
       "\t<tr><th></th><th scope=col>Age</th><th scope=col>Blood_Sugar</th><th scope=col>Blood_Pressure</th><th scope=col>Weight</th></tr>\n",
       "</thead>\n",
       "<tbody>\n",
       "\t<tr><th scope=row>1</th><td>58</td><td> 99.97546</td><td>106.3281</td><td>62.44868</td></tr>\n",
       "\t<tr><th scope=row>2</th><td>71</td><td> 93.60951</td><td>134.1907</td><td>67.87585</td></tr>\n",
       "\t<tr><th scope=row>3</th><td>48</td><td>119.13195</td><td>115.7733</td><td>49.26310</td></tr>\n",
       "\t<tr><th scope=row>4</th><td>34</td><td> 98.62651</td><td>117.6520</td><td>93.11179</td></tr>\n",
       "\t<tr><th scope=row>5</th><td>62</td><td>114.05609</td><td>119.4568</td><td>71.04322</td></tr>\n",
       "\t<tr><th scope=row>6</th><td>27</td><td> 91.46011</td><td>131.4862</td><td>80.83883</td></tr>\n",
       "</tbody>\n",
       "</table>\n"
      ],
      "text/latex": [
       "A matrix: 6 × 4 of type dbl\n",
       "\\begin{tabular}{r|llll}\n",
       "  & Age & Blood\\_Sugar & Blood\\_Pressure & Weight\\\\\n",
       "\\hline\n",
       "\t1 & 58 &  99.97546 & 106.3281 & 62.44868\\\\\n",
       "\t2 & 71 &  93.60951 & 134.1907 & 67.87585\\\\\n",
       "\t3 & 48 & 119.13195 & 115.7733 & 49.26310\\\\\n",
       "\t4 & 34 &  98.62651 & 117.6520 & 93.11179\\\\\n",
       "\t5 & 62 & 114.05609 & 119.4568 & 71.04322\\\\\n",
       "\t6 & 27 &  91.46011 & 131.4862 & 80.83883\\\\\n",
       "\\end{tabular}\n"
      ],
      "text/markdown": [
       "\n",
       "A matrix: 6 × 4 of type dbl\n",
       "\n",
       "| <!--/--> | Age | Blood_Sugar | Blood_Pressure | Weight |\n",
       "|---|---|---|---|---|\n",
       "| 1 | 58 |  99.97546 | 106.3281 | 62.44868 |\n",
       "| 2 | 71 |  93.60951 | 134.1907 | 67.87585 |\n",
       "| 3 | 48 | 119.13195 | 115.7733 | 49.26310 |\n",
       "| 4 | 34 |  98.62651 | 117.6520 | 93.11179 |\n",
       "| 5 | 62 | 114.05609 | 119.4568 | 71.04322 |\n",
       "| 6 | 27 |  91.46011 | 131.4862 | 80.83883 |\n",
       "\n"
      ],
      "text/plain": [
       "  Age Blood_Sugar Blood_Pressure Weight  \n",
       "1 58   99.97546   106.3281       62.44868\n",
       "2 71   93.60951   134.1907       67.87585\n",
       "3 48  119.13195   115.7733       49.26310\n",
       "4 34   98.62651   117.6520       93.11179\n",
       "5 62  114.05609   119.4568       71.04322\n",
       "6 27   91.46011   131.4862       80.83883"
      ]
     },
     "metadata": {},
     "output_type": "display_data"
    }
   ],
   "source": [
    "x <- model[['x']]\n",
    "head(x)"
   ]
  },
  {
   "cell_type": "code",
   "execution_count": 10,
   "id": "eb8d3e66-76ba-4c2c-b80f-285a13a574b0",
   "metadata": {
    "tags": []
   },
   "outputs": [],
   "source": [
    "# 绘制校准曲线\n",
    "calibration_result <- calibrate(model, \n",
    "                                method = \"boot\", B = 100\n",
    "                               )  # B 是 bootstrap 次数"
   ]
  },
  {
   "cell_type": "code",
   "execution_count": 12,
   "id": "aaea559b-e345-4bf1-98ce-cda7dc481e31",
   "metadata": {
    "tags": []
   },
   "outputs": [
    {
     "name": "stdout",
     "output_type": "stream",
     "text": [
      "\n",
      "n=1000   Mean absolute error=0.005   Mean squared error=0.00051\n",
      "0.9 Quantile of absolute error=0.001\n",
      "\n"
     ]
    },
    {
     "data": {
      "image/png": "[encoded data removed]",
      "text/plain": [
       "Plot with title \"Calibration Curve\""
      ]
     },
     "metadata": {
      "image/png": {
       "height": 420,
       "width": 420
      }
     },
     "output_type": "display_data"
    }
   ],
   "source": [
    "# 绘制校准曲线\n",
    "plot(calibration_result, main = \"Calibration Curve\", xlab = \"Predicted Probability\", ylab = \"Observed Proportion\")"
   ]
  },
  {
   "cell_type": "code",
   "execution_count": 13,
   "id": "a71d9278-fb4b-4d60-aff9-48448b49d314",
   "metadata": {
    "tags": []
   },
   "outputs": [
    {
     "data": {
      "text/html": [
       "<table class=\"dataframe\">\n",
       "<caption>A matrix: 6 × 9 of type dbl</caption>\n",
       "<thead>\n",
       "\t<tr><th scope=col>predy</th><th scope=col>calibrated.orig</th><th scope=col>calibrated.corrected</th><th scope=col>index.orig</th><th scope=col>training</th><th scope=col>test</th><th scope=col>optimism</th><th scope=col>index.corrected</th><th scope=col>n</th></tr>\n",
       "</thead>\n",
       "<tbody>\n",
       "\t<tr><td>6.487265e-24</td><td>0.00000000</td><td>4.591916e-21</td><td>-6.487265e-24</td><td>1.720739e-24</td><td>4.593637e-21</td><td>-4.591916e-21</td><td>4.585429e-21</td><td> 85</td></tr>\n",
       "\t<tr><td>2.040545e-02</td><td>0.00000000</td><td>5.416610e-02</td><td>-2.040545e-02</td><td>6.712344e-03</td><td>6.087844e-02</td><td>-5.416610e-02</td><td>3.376064e-02</td><td>100</td></tr>\n",
       "\t<tr><td>4.081091e-02</td><td>0.03531016</td><td>9.425798e-02</td><td>-5.500743e-03</td><td>2.004277e-02</td><td>7.899058e-02</td><td>-5.894781e-02</td><td>5.344707e-02</td><td>100</td></tr>\n",
       "\t<tr><td>6.121636e-02</td><td>0.09656184</td><td>1.381372e-01</td><td> 3.534549e-02</td><td>2.392126e-02</td><td>6.549665e-02</td><td>-4.157540e-02</td><td>7.692088e-02</td><td>100</td></tr>\n",
       "\t<tr><td>8.162181e-02</td><td>0.18143783</td><td>2.101490e-01</td><td> 9.981602e-02</td><td>3.105309e-02</td><td>5.976428e-02</td><td>-2.871119e-02</td><td>1.285272e-01</td><td>100</td></tr>\n",
       "\t<tr><td>1.020273e-01</td><td>0.25748856</td><td>2.754657e-01</td><td> 1.554613e-01</td><td>3.775476e-02</td><td>5.573194e-02</td><td>-1.797718e-02</td><td>1.734385e-01</td><td>100</td></tr>\n",
       "</tbody>\n",
       "</table>\n"
      ],
      "text/latex": [
       "A matrix: 6 × 9 of type dbl\n",
       "\\begin{tabular}{lllllllll}\n",
       " predy & calibrated.orig & calibrated.corrected & index.orig & training & test & optimism & index.corrected & n\\\\\n",
       "\\hline\n",
       "\t 6.487265e-24 & 0.00000000 & 4.591916e-21 & -6.487265e-24 & 1.720739e-24 & 4.593637e-21 & -4.591916e-21 & 4.585429e-21 &  85\\\\\n",
       "\t 2.040545e-02 & 0.00000000 & 5.416610e-02 & -2.040545e-02 & 6.712344e-03 & 6.087844e-02 & -5.416610e-02 & 3.376064e-02 & 100\\\\\n",
       "\t 4.081091e-02 & 0.03531016 & 9.425798e-02 & -5.500743e-03 & 2.004277e-02 & 7.899058e-02 & -5.894781e-02 & 5.344707e-02 & 100\\\\\n",
       "\t 6.121636e-02 & 0.09656184 & 1.381372e-01 &  3.534549e-02 & 2.392126e-02 & 6.549665e-02 & -4.157540e-02 & 7.692088e-02 & 100\\\\\n",
       "\t 8.162181e-02 & 0.18143783 & 2.101490e-01 &  9.981602e-02 & 3.105309e-02 & 5.976428e-02 & -2.871119e-02 & 1.285272e-01 & 100\\\\\n",
       "\t 1.020273e-01 & 0.25748856 & 2.754657e-01 &  1.554613e-01 & 3.775476e-02 & 5.573194e-02 & -1.797718e-02 & 1.734385e-01 & 100\\\\\n",
       "\\end{tabular}\n"
      ],
      "text/markdown": [
       "\n",
       "A matrix: 6 × 9 of type dbl\n",
       "\n",
       "| predy | calibrated.orig | calibrated.corrected | index.orig | training | test | optimism | index.corrected | n |\n",
       "|---|---|---|---|---|---|---|---|---|\n",
       "| 6.487265e-24 | 0.00000000 | 4.591916e-21 | -6.487265e-24 | 1.720739e-24 | 4.593637e-21 | -4.591916e-21 | 4.585429e-21 |  85 |\n",
       "| 2.040545e-02 | 0.00000000 | 5.416610e-02 | -2.040545e-02 | 6.712344e-03 | 6.087844e-02 | -5.416610e-02 | 3.376064e-02 | 100 |\n",
       "| 4.081091e-02 | 0.03531016 | 9.425798e-02 | -5.500743e-03 | 2.004277e-02 | 7.899058e-02 | -5.894781e-02 | 5.344707e-02 | 100 |\n",
       "| 6.121636e-02 | 0.09656184 | 1.381372e-01 |  3.534549e-02 | 2.392126e-02 | 6.549665e-02 | -4.157540e-02 | 7.692088e-02 | 100 |\n",
       "| 8.162181e-02 | 0.18143783 | 2.101490e-01 |  9.981602e-02 | 3.105309e-02 | 5.976428e-02 | -2.871119e-02 | 1.285272e-01 | 100 |\n",
       "| 1.020273e-01 | 0.25748856 | 2.754657e-01 |  1.554613e-01 | 3.775476e-02 | 5.573194e-02 | -1.797718e-02 | 1.734385e-01 | 100 |\n",
       "\n"
      ],
      "text/plain": [
       "     predy        calibrated.orig calibrated.corrected index.orig   \n",
       "[1,] 6.487265e-24 0.00000000      4.591916e-21         -6.487265e-24\n",
       "[2,] 2.040545e-02 0.00000000      5.416610e-02         -2.040545e-02\n",
       "[3,] 4.081091e-02 0.03531016      9.425798e-02         -5.500743e-03\n",
       "[4,] 6.121636e-02 0.09656184      1.381372e-01          3.534549e-02\n",
       "[5,] 8.162181e-02 0.18143783      2.101490e-01          9.981602e-02\n",
       "[6,] 1.020273e-01 0.25748856      2.754657e-01          1.554613e-01\n",
       "     training     test         optimism      index.corrected n  \n",
       "[1,] 1.720739e-24 4.593637e-21 -4.591916e-21 4.585429e-21     85\n",
       "[2,] 6.712344e-03 6.087844e-02 -5.416610e-02 3.376064e-02    100\n",
       "[3,] 2.004277e-02 7.899058e-02 -5.894781e-02 5.344707e-02    100\n",
       "[4,] 2.392126e-02 6.549665e-02 -4.157540e-02 7.692088e-02    100\n",
       "[5,] 3.105309e-02 5.976428e-02 -2.871119e-02 1.285272e-01    100\n",
       "[6,] 3.775476e-02 5.573194e-02 -1.797718e-02 1.734385e-01    100"
      ]
     },
     "metadata": {},
     "output_type": "display_data"
    }
   ],
   "source": [
    "head(calibration_result)"
   ]
  }
 ],
 "metadata": {
  "kernelspec": {
   "display_name": "R",
   "language": "R",
   "name": "ir"
  },
  "language_info": {
   "codemirror_mode": "r",
   "file_extension": ".r",
   "mimetype": "text/x-r-source",
   "name": "R",
   "pygments_lexer": "r",
   "version": "4.4.1"
  }
 },
 "nbformat": 4,
 "nbformat_minor": 5
}
