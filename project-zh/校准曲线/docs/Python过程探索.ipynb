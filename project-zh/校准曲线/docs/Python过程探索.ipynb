{
 "cells": [
  {
   "cell_type": "markdown",
   "id": "d5f252c9-46e3-4004-9b21-3701cd4430ff",
   "metadata": {},
   "source": [
    "# 环境说明"
   ]
  },
  {
   "cell_type": "code",
   "execution_count": 10,
   "id": "26d3a1df-243f-456f-a583-819dba03e458",
   "metadata": {
    "tags": []
   },
   "outputs": [
    {
     "name": "stdout",
     "output_type": "stream",
     "text": [
      "Python 3.11.5\n"
     ]
    }
   ],
   "source": [
    "!python -V"
   ]
  },
  {
   "cell_type": "raw",
   "id": "6af2ed9c-fe06-43e2-8778-11e5c6cd8104",
   "metadata": {},
   "source": [
    "pip install sklearn"
   ]
  },
  {
   "cell_type": "code",
   "execution_count": 6,
   "id": "0001b2a3-e71b-43f8-9c96-ecc95d82b967",
   "metadata": {
    "tags": []
   },
   "outputs": [],
   "source": [
    "import sklearn\n",
    "import pandas\n",
    "import numpy\n",
    "import matplotlib"
   ]
  },
  {
   "cell_type": "code",
   "execution_count": 3,
   "id": "32b0ad8c-a3cf-4f60-a035-db32ce15af9a",
   "metadata": {
    "tags": []
   },
   "outputs": [
    {
     "data": {
      "text/plain": [
       "'1.5.2'"
      ]
     },
     "execution_count": 3,
     "metadata": {},
     "output_type": "execute_result"
    }
   ],
   "source": [
    "sklearn.__version__"
   ]
  },
  {
   "cell_type": "code",
   "execution_count": 4,
   "id": "e91faff8-33f5-4b57-ae04-fb66b908368f",
   "metadata": {
    "tags": []
   },
   "outputs": [
    {
     "data": {
      "text/plain": [
       "'2.1.1'"
      ]
     },
     "execution_count": 4,
     "metadata": {},
     "output_type": "execute_result"
    }
   ],
   "source": [
    "pandas.__version__"
   ]
  },
  {
   "cell_type": "code",
   "execution_count": 7,
   "id": "302e29c1-b4b9-464f-9ee3-16628e6a9a75",
   "metadata": {
    "tags": []
   },
   "outputs": [
    {
     "data": {
      "text/plain": [
       "'1.26.4'"
      ]
     },
     "execution_count": 7,
     "metadata": {},
     "output_type": "execute_result"
    }
   ],
   "source": [
    "numpy.__version__"
   ]
  },
  {
   "cell_type": "code",
   "execution_count": 14,
   "id": "9d48aa24-3779-4532-816b-04123e30f26b",
   "metadata": {
    "tags": []
   },
   "outputs": [
    {
     "data": {
      "text/plain": [
       "'3.8.0'"
      ]
     },
     "execution_count": 14,
     "metadata": {},
     "output_type": "execute_result"
    }
   ],
   "source": [
    "matplotlib.__version__"
   ]
  },
  {
   "cell_type": "markdown",
   "id": "4bbe04c4-91cf-48ae-9236-44bb9959359e",
   "metadata": {},
   "source": [
    "# 代码实现"
   ]
  },
  {
   "cell_type": "code",
   "execution_count": 2,
   "id": "da6ceb52-5683-4fa6-bc54-0b042f19206b",
   "metadata": {
    "tags": []
   },
   "outputs": [],
   "source": [
    "import numpy as np\n",
    "import pandas as pd\n",
    "import statsmodels.api as sm\n",
    "import matplotlib.pyplot as plt\n",
    "from sklearn.calibration import calibration_curve\n",
    "from sklearn.linear_model import LogisticRegression\n",
    "from sklearn.metrics import accuracy_score, roc_auc_score\n",
    "from statsmodels.nonparametric.smoothers_lowess import lowess"
   ]
  },
  {
   "cell_type": "code",
   "execution_count": 3,
   "id": "ae6eba79-b1e6-4f01-83bb-ab29e19f6499",
   "metadata": {
    "tags": []
   },
   "outputs": [],
   "source": [
    "df = pd.read_csv(\"data/train.csv\")"
   ]
  },
  {
   "cell_type": "code",
   "execution_count": 4,
   "id": "0b72b302-2e13-4802-96ea-094ee9b1f5cc",
   "metadata": {},
   "outputs": [
    {
     "data": {
      "text/html": [
       "<div>\n",
       "<style scoped>\n",
       "    .dataframe tbody tr th:only-of-type {\n",
       "        vertical-align: middle;\n",
       "    }\n",
       "\n",
       "    .dataframe tbody tr th {\n",
       "        vertical-align: top;\n",
       "    }\n",
       "\n",
       "    .dataframe thead th {\n",
       "        text-align: right;\n",
       "    }\n",
       "</style>\n",
       "<table border=\"1\" class=\"dataframe\">\n",
       "  <thead>\n",
       "    <tr style=\"text-align: right;\">\n",
       "      <th></th>\n",
       "      <th>Age</th>\n",
       "      <th>Blood_Sugar</th>\n",
       "      <th>Blood_Pressure</th>\n",
       "      <th>Weight</th>\n",
       "      <th>Heart_Disease</th>\n",
       "    </tr>\n",
       "  </thead>\n",
       "  <tbody>\n",
       "    <tr>\n",
       "      <th>0</th>\n",
       "      <td>58</td>\n",
       "      <td>99.975461</td>\n",
       "      <td>106.328124</td>\n",
       "      <td>62.448684</td>\n",
       "      <td>0</td>\n",
       "    </tr>\n",
       "    <tr>\n",
       "      <th>1</th>\n",
       "      <td>71</td>\n",
       "      <td>93.609515</td>\n",
       "      <td>134.190672</td>\n",
       "      <td>67.875853</td>\n",
       "      <td>0</td>\n",
       "    </tr>\n",
       "    <tr>\n",
       "      <th>2</th>\n",
       "      <td>48</td>\n",
       "      <td>119.131949</td>\n",
       "      <td>115.773278</td>\n",
       "      <td>49.263101</td>\n",
       "      <td>0</td>\n",
       "    </tr>\n",
       "    <tr>\n",
       "      <th>3</th>\n",
       "      <td>34</td>\n",
       "      <td>98.626509</td>\n",
       "      <td>117.651983</td>\n",
       "      <td>93.111787</td>\n",
       "      <td>0</td>\n",
       "    </tr>\n",
       "    <tr>\n",
       "      <th>4</th>\n",
       "      <td>62</td>\n",
       "      <td>114.056088</td>\n",
       "      <td>119.456831</td>\n",
       "      <td>71.043221</td>\n",
       "      <td>0</td>\n",
       "    </tr>\n",
       "  </tbody>\n",
       "</table>\n",
       "</div>"
      ],
      "text/plain": [
       "   Age  Blood_Sugar  Blood_Pressure     Weight  Heart_Disease\n",
       "0   58    99.975461      106.328124  62.448684              0\n",
       "1   71    93.609515      134.190672  67.875853              0\n",
       "2   48   119.131949      115.773278  49.263101              0\n",
       "3   34    98.626509      117.651983  93.111787              0\n",
       "4   62   114.056088      119.456831  71.043221              0"
      ]
     },
     "execution_count": 4,
     "metadata": {},
     "output_type": "execute_result"
    }
   ],
   "source": [
    "df.head()"
   ]
  },
  {
   "cell_type": "code",
   "execution_count": 5,
   "id": "f6a5aa3e-f9ef-4228-8691-ceec12da2288",
   "metadata": {},
   "outputs": [],
   "source": [
    "label_name = 'Heart_Disease'"
   ]
  },
  {
   "cell_type": "code",
   "execution_count": 52,
   "id": "8ad645da-84b6-4aee-9f7c-33faa74d880b",
   "metadata": {},
   "outputs": [],
   "source": [
    "X = df.drop(label_name, axis=1)\n",
    "y = df[label_name]"
   ]
  },
  {
   "cell_type": "code",
   "execution_count": 53,
   "id": "f8ee3365-76f9-40d1-af3d-b75df95429f7",
   "metadata": {},
   "outputs": [],
   "source": [
    "# 添加常数列（截距项）到特征中\n",
    "X_ = sm.add_constant(X)\n",
    "\n",
    "# 拟合逻辑回归模型\n",
    "model = sm.Logit(y, X_)\n",
    "result = model.fit()"
   ]
  },
  {
   "cell_type": "code",
   "execution_count": 53,
   "id": "44be6bcd-f69f-4396-90bc-727ee9e04d83",
   "metadata": {},
   "outputs": [
    {
     "name": "stdout",
     "output_type": "stream",
     "text": [
      "Optimization terminated successfully.\n",
      "         Current function value: 0.022594\n",
      "         Iterations 14\n",
      "                           Logit Regression Results                           \n",
      "==============================================================================\n",
      "Dep. Variable:          Heart_Disease   No. Observations:                 1000\n",
      "Model:                          Logit   Df Residuals:                      995\n",
      "Method:                           MLE   Df Model:                            4\n",
      "Date:                Wed, 19 Feb 2025   Pseudo R-squ.:                  0.8405\n",
      "Time:                        14:52:46   Log-Likelihood:                -22.594\n",
      "converged:                       True   LL-Null:                       -141.63\n",
      "Covariance Type:            nonrobust   LLR p-value:                 2.421e-50\n",
      "==================================================================================\n",
      "                     coef    std err          z      P>|z|      [0.025      0.975]\n",
      "----------------------------------------------------------------------------------\n",
      "const           -109.6707     24.800     -4.422      0.000    -158.278     -61.064\n",
      "Age                0.4953      0.112      4.437      0.000       0.277       0.714\n",
      "Blood_Sugar        0.5558      0.123      4.524      0.000       0.315       0.797\n",
      "Blood_Pressure     0.0135      0.021      0.633      0.527      -0.028       0.055\n",
      "Weight             0.0647      0.031      2.106      0.035       0.004       0.125\n",
      "==================================================================================\n",
      "\n",
      "Possibly complete quasi-separation: A fraction 0.87 of observations can be\n",
      "perfectly predicted. This might indicate that there is complete\n",
      "quasi-separation. In this case some parameters will not be identified.\n",
      "准确率: 0.9910\n",
      "AUC: 0.9971\n"
     ]
    },
    {
     "name": "stderr",
     "output_type": "stream",
     "text": [
      "D:\\software\\anaconda3\\lib\\site-packages\\statsmodels\\tsa\\tsatools.py:142: FutureWarning: In a future version of pandas all arguments of concat except for the argument 'objs' will be keyword-only\n",
      "  x = pd.concat(x[::order], 1)\n"
     ]
    }
   ],
   "source": [
    "# 输出模型摘要\n",
    "print(result.summary())\n",
    "\n",
    "# 进行预测（概率值）\n",
    "y_pred_prob = result.predict(X_)\n",
    "# 将概率值转化为0/1预测类别，使用阈值0.5\n",
    "y_pred_class = (y_pred_prob > 0.5).astype(int)\n",
    "# 计算准确率\n",
    "accuracy = accuracy_score(y, y_pred_class)\n",
    "print(f\"准确率: {accuracy:.4f}\")\n",
    "\n",
    "# 计算AUC（曲线下面积）\n",
    "auc = roc_auc_score(y, y_pred_prob)\n",
    "print(f\"AUC: {auc:.4f}\")"
   ]
  },
  {
   "cell_type": "markdown",
   "id": "ae4e666b-9cd2-42f8-b20d-f00620f55fa2",
   "metadata": {},
   "source": [
    "# Apparent计算"
   ]
  },
  {
   "cell_type": "code",
   "execution_count": 54,
   "id": "27f4796c-6dd2-4c4f-9d09-1e750f085c93",
   "metadata": {
    "tags": []
   },
   "outputs": [],
   "source": [
    "y_true, y_prob = y, y_pred_prob"
   ]
  },
  {
   "cell_type": "markdown",
   "id": "352006b8-52fe-43a0-86eb-a71665145c29",
   "metadata": {},
   "source": [
    "## 预测概率采样"
   ]
  },
  {
   "cell_type": "code",
   "execution_count": 55,
   "id": "5a475835-9f99-4e15-bb9d-0a467403b17f",
   "metadata": {},
   "outputs": [],
   "source": [
    "import numpy as np\n",
    "\n",
    "# 假设 predicted 是一个已定义的列表或数组\n",
    "n = len(y_prob)  # 获取 predicted 的长度\n",
    "p = np.sort(y_prob)  # 对 predicted 进行排序\n",
    "predy = np.linspace(p[4], p[n-5], num=50)  # 创建一个从 p[5] 到 p[n-4] 的等间隔序列，长度为 50"
   ]
  },
  {
   "cell_type": "code",
   "execution_count": 56,
   "id": "5b4d2816-9df1-4747-aa35-f6c404057dec",
   "metadata": {},
   "outputs": [
    {
     "data": {
      "text/plain": [
       "array([6.48726475e-24, 2.04054528e-02, 4.08109056e-02, 6.12163585e-02,\n",
       "       8.16218113e-02])"
      ]
     },
     "execution_count": 56,
     "metadata": {},
     "output_type": "execute_result"
    }
   ],
   "source": [
    "predy[:5]"
   ]
  },
  {
   "cell_type": "markdown",
   "id": "1d55c174-cf43-4804-8b40-0c387a5e169c",
   "metadata": {},
   "source": [
    "## lowess平滑"
   ]
  },
  {
   "cell_type": "markdown",
   "id": "553d8ca7-657c-4d23-83cf-76a2ea53100b",
   "metadata": {},
   "source": [
    "https://blog.csdn.net/zdx1996/article/details/120301814   \n",
    "LOESS局部加权回归 - 是刘同学呀的文章 - 知乎\n",
    "https://zhuanlan.zhihu.com/p/594727818"
   ]
  },
  {
   "cell_type": "markdown",
   "id": "9cc49c16-32e9-41df-a46c-85c910147052",
   "metadata": {},
   "source": [
    "lowess（局部加权回归）是 R 语言中用于平滑数据的一个函数。它通过对数据点使用局部加权回归（Locally Weighted Scatterplot Smoothing, LOWESS）方法来创建平滑的曲线，从而使得原始数据的噪声得到平滑处理，并揭示出数据的趋势或模式。"
   ]
  },
  {
   "cell_type": "code",
   "execution_count": 57,
   "id": "8f722dd7-f471-42b9-8efb-1b5fc24890b1",
   "metadata": {},
   "outputs": [
    {
     "data": {
      "text/plain": [
       "0.009999982225169384"
      ]
     },
     "execution_count": 57,
     "metadata": {},
     "output_type": "execute_result"
    }
   ],
   "source": [
    "(max(y_prob) - min(y_prob)) * 0.01"
   ]
  },
  {
   "cell_type": "code",
   "execution_count": 307,
   "id": "685e7faf-90f1-40af-aece-18450b076572",
   "metadata": {},
   "outputs": [],
   "source": [
    "smo = lowess(endog=y_true, exog=y_prob\n",
    "                  ,frac=2/3 # frac 参数类似于 R 中的 f，控制窗口大小\n",
    "                  ,it=0\n",
    "                  ,delta=(max(y_prob) - min(y_prob)) * 0.01\n",
    "                 )  "
   ]
  },
  {
   "cell_type": "code",
   "execution_count": 308,
   "id": "d90e748e-dfc2-4273-a6ca-d70c6b11130c",
   "metadata": {},
   "outputs": [
    {
     "data": {
      "text/html": [
       "<div>\n",
       "<style scoped>\n",
       "    .dataframe tbody tr th:only-of-type {\n",
       "        vertical-align: middle;\n",
       "    }\n",
       "\n",
       "    .dataframe tbody tr th {\n",
       "        vertical-align: top;\n",
       "    }\n",
       "\n",
       "    .dataframe thead th {\n",
       "        text-align: right;\n",
       "    }\n",
       "</style>\n",
       "<table border=\"1\" class=\"dataframe\">\n",
       "  <thead>\n",
       "    <tr style=\"text-align: right;\">\n",
       "      <th></th>\n",
       "      <th>0</th>\n",
       "      <th>1</th>\n",
       "    </tr>\n",
       "  </thead>\n",
       "  <tbody>\n",
       "    <tr>\n",
       "      <th>0</th>\n",
       "      <td>1.987025e-25</td>\n",
       "      <td>0.0</td>\n",
       "    </tr>\n",
       "    <tr>\n",
       "      <th>1</th>\n",
       "      <td>7.686511e-25</td>\n",
       "      <td>0.0</td>\n",
       "    </tr>\n",
       "    <tr>\n",
       "      <th>2</th>\n",
       "      <td>4.362426e-24</td>\n",
       "      <td>0.0</td>\n",
       "    </tr>\n",
       "    <tr>\n",
       "      <th>3</th>\n",
       "      <td>5.679777e-24</td>\n",
       "      <td>0.0</td>\n",
       "    </tr>\n",
       "    <tr>\n",
       "      <th>4</th>\n",
       "      <td>6.487265e-24</td>\n",
       "      <td>0.0</td>\n",
       "    </tr>\n",
       "  </tbody>\n",
       "</table>\n",
       "</div>"
      ],
      "text/plain": [
       "              0    1\n",
       "0  1.987025e-25  0.0\n",
       "1  7.686511e-25  0.0\n",
       "2  4.362426e-24  0.0\n",
       "3  5.679777e-24  0.0\n",
       "4  6.487265e-24  0.0"
      ]
     },
     "execution_count": 308,
     "metadata": {},
     "output_type": "execute_result"
    }
   ],
   "source": [
    "#  第一列是原始数据, 第二列是平滑后的\n",
    "pd.DataFrame(smo).head()"
   ]
  },
  {
   "cell_type": "markdown",
   "id": "a728f771-549a-43f8-a9a3-7933ac855fbf",
   "metadata": {},
   "source": [
    "## 插值填补"
   ]
  },
  {
   "cell_type": "markdown",
   "id": "1eef4df2-79e8-4a09-bcdd-2af4a8ab39bf",
   "metadata": {},
   "source": [
    "当你调用 interp_function(predy) 时，interp_function 会基于已有的 smo[:, 0] 和 smo[:, 1] 进行插值，计算出 predy 中每个点对应的纵坐标值。换句话说，interp_function 会根据 predy 中的点查找在 smo 中的最接近的点，然后用插值方法（线性插值、立方插值等）计算 predy 的目标值。"
   ]
  },
  {
   "cell_type": "code",
   "execution_count": 60,
   "id": "dab7e622-5f35-4890-8c5d-f6ccf69ffdf6",
   "metadata": {},
   "outputs": [],
   "source": [
    "from scipy.interpolate import interp1d\n",
    "interp_function = interp1d(smo[:, 0], smo[:, 1], kind='linear', fill_value='extrapolate', assume_sorted=False)\n",
    "# 进行插值\n",
    "cal = interp_function(predy)"
   ]
  },
  {
   "cell_type": "code",
   "execution_count": 64,
   "id": "0ac08324-cd4d-4d44-99c6-d110c5f930b8",
   "metadata": {},
   "outputs": [
    {
     "data": {
      "text/plain": [
       "array([0.        , 0.        , 0.03531016, 0.09656184, 0.18143783])"
      ]
     },
     "execution_count": 64,
     "metadata": {},
     "output_type": "execute_result"
    }
   ],
   "source": [
    "cal[:5]"
   ]
  },
  {
   "cell_type": "code",
   "execution_count": 78,
   "id": "54172d36-d321-43ae-889b-dc720d1b1b6c",
   "metadata": {},
   "outputs": [
    {
     "data": {
      "text/plain": [
       "50"
      ]
     },
     "execution_count": 78,
     "metadata": {},
     "output_type": "execute_result"
    }
   ],
   "source": [
    "len(cal)"
   ]
  },
  {
   "cell_type": "markdown",
   "id": "c388393d-a2c0-424b-bb59-714f96bd10f2",
   "metadata": {
    "tags": []
   },
   "source": [
    "## Apparent作图"
   ]
  },
  {
   "cell_type": "code",
   "execution_count": 65,
   "id": "cedfcf59-7bf2-49ef-965f-aa702f745b38",
   "metadata": {
    "tags": []
   },
   "outputs": [
    {
     "data": {
      "text/plain": [
       "<matplotlib.legend.Legend at 0x232e3191880>"
      ]
     },
     "execution_count": 65,
     "metadata": {},
     "output_type": "execute_result"
    },
    {
     "data": {
      "image/png": "[encoded data removed]",
      "text/plain": [
       "<Figure size 432x288 with 1 Axes>"
      ]
     },
     "metadata": {
      "needs_background": "light"
     },
     "output_type": "display_data"
    }
   ],
   "source": [
    "# \"Ideal\" 理想校准曲线 (y=x)\n",
    "ideal_line = [0, 1]\n",
    "plt.figure()\n",
    "# 开始画图\n",
    "# Ideal (理想曲线)\n",
    "plt.plot(ideal_line, ideal_line, label='Ideal')\n",
    "# Apparent (表观曲线)\n",
    "plt.plot(predy, cal, label='Apparent')\n",
    "plt.xlabel('Predicted Probability')\n",
    "plt.ylabel('Observed Probability')\n",
    "plt.legend()"
   ]
  },
  {
   "cell_type": "markdown",
   "id": "84769ba8-1b95-426b-9226-043a7c5aace2",
   "metadata": {},
   "source": [
    "# Corrected计算"
   ]
  },
  {
   "cell_type": "markdown",
   "id": "d82b5d35-d386-4471-8b2c-c82ee681c834",
   "metadata": {},
   "source": [
    "## 单次循环"
   ]
  },
  {
   "cell_type": "code",
   "execution_count": 68,
   "id": "ed8bb5cb-ad2b-4222-a719-f58c964dfe1c",
   "metadata": {},
   "outputs": [
    {
     "data": {
      "text/plain": [
       "1000"
      ]
     },
     "execution_count": 68,
     "metadata": {},
     "output_type": "execute_result"
    }
   ],
   "source": [
    "nrow = len(X)\n",
    "nrow"
   ]
  },
  {
   "cell_type": "code",
   "execution_count": 69,
   "id": "261f07bb-e4f5-48bf-ba65-0dad4950e22e",
   "metadata": {},
   "outputs": [],
   "source": [
    "sample_train_id_list = np.random.choice(nrow, size=nrow, replace=True)"
   ]
  },
  {
   "cell_type": "code",
   "execution_count": 71,
   "id": "0d1398e8-aa2c-40bf-8335-6fc4589aa86d",
   "metadata": {},
   "outputs": [
    {
     "data": {
      "text/plain": [
       "1000"
      ]
     },
     "execution_count": 71,
     "metadata": {},
     "output_type": "execute_result"
    }
   ],
   "source": [
    "len(sample_train_id_list)"
   ]
  },
  {
   "cell_type": "code",
   "execution_count": 74,
   "id": "d5cfc718-85fc-4a5e-83d3-f08f98496c22",
   "metadata": {},
   "outputs": [
    {
     "data": {
      "text/plain": [
       "639"
      ]
     },
     "execution_count": 74,
     "metadata": {},
     "output_type": "execute_result"
    }
   ],
   "source": [
    "# 因为有放回，所以有重复\n",
    "len(set(sample_train_id_list))"
   ]
  },
  {
   "cell_type": "code",
   "execution_count": 84,
   "id": "808f95a2-430b-4982-affb-c6c57e4ab183",
   "metadata": {},
   "outputs": [],
   "source": [
    "sample_test_id_list = range(0, nrow)"
   ]
  },
  {
   "cell_type": "code",
   "execution_count": 325,
   "id": "a11831e2-6dee-40ba-8258-851953d2c5a7",
   "metadata": {},
   "outputs": [],
   "source": [
    "def measure(true, prob, predy):\n",
    "    smo = lowess(true, prob\n",
    "                  ,frac=2/3 # frac 参数类似于 R 中的 f，控制窗口大小\n",
    "                  ,it=0\n",
    "                  ,delta=(max(prob) - min(prob)) * 0.01\n",
    "                 ) \n",
    "    interp_function = interp1d(smo[:, 0], smo[:, 1], kind='linear', fill_value='extrapolate', assume_sorted=False)\n",
    "    # 进行插值\n",
    "    cal = interp_function(predy)\n",
    "    return cal - predy"
   ]
  },
  {
   "cell_type": "code",
   "execution_count": 343,
   "id": "cb5d7307-38fe-4fac-bc72-6481e3e9d1af",
   "metadata": {},
   "outputs": [],
   "source": [
    "def new_measure(true, prob):\n",
    "    n = len(prob)  # 获取 predicted 的长度\n",
    "    p = np.sort(prob)  # 对 predicted 进行排序\n",
    "    predy = np.linspace(p[4], p[n-5], num=50)  # 创建一个从 p[5] 到 p[n-4] 的等间隔序列，长度为 50\n",
    "    smo = lowess(true, prob\n",
    "                  ,frac=2/3 # frac 参数类似于 R 中的 f，控制窗口大小\n",
    "                  ,it=0\n",
    "                  ,delta=(max(prob) - min(prob)) * 0.01\n",
    "                 ) \n",
    "    interp_function = interp1d(smo[:, 0], smo[:, 1], kind='linear', fill_value='extrapolate', assume_sorted=False)\n",
    "    # 进行插值\n",
    "    cal = interp_function(predy)\n",
    "    return cal - predy"
   ]
  },
  {
   "cell_type": "code",
   "execution_count": 326,
   "id": "f298d881-636c-420e-9b2e-6bceecf95bc6",
   "metadata": {},
   "outputs": [],
   "source": [
    "sample_train_stat = measure(y_true[sample_train_id_list]\n",
    "                            ,y_prob[sample_train_id_list]\n",
    "                            ,predy)"
   ]
  },
  {
   "cell_type": "code",
   "execution_count": 327,
   "id": "476e42f3-0f57-4374-a2b8-f876e4442018",
   "metadata": {},
   "outputs": [],
   "source": [
    "sample_test_stat = measure(y_true[sample_test_id_list]\n",
    "                            ,y_prob[sample_test_id_list]\n",
    "                            ,predy)"
   ]
  },
  {
   "cell_type": "markdown",
   "id": "fee571f1-3a70-411e-8a6c-61add772c179",
   "metadata": {},
   "source": [
    "## 开始循环"
   ]
  },
  {
   "cell_type": "code",
   "execution_count": 328,
   "id": "a7a61991-6025-4b85-a999-ca7bc21723d4",
   "metadata": {},
   "outputs": [],
   "source": [
    "B = 100"
   ]
  },
  {
   "cell_type": "code",
   "execution_count": 344,
   "id": "714bc75c-8fea-429d-be4b-801f342c0414",
   "metadata": {
    "collapsed": true,
    "jupyter": {
     "outputs_hidden": true
    },
    "tags": []
   },
   "outputs": [
    {
     "name": "stderr",
     "output_type": "stream",
     "text": [
      "D:\\software\\anaconda3\\lib\\site-packages\\statsmodels\\tsa\\tsatools.py:142: FutureWarning: In a future version of pandas all arguments of concat except for the argument 'objs' will be keyword-only\n",
      "  x = pd.concat(x[::order], 1)\n"
     ]
    },
    {
     "name": "stdout",
     "output_type": "stream",
     "text": [
      "Optimization terminated successfully.\n",
      "         Current function value: 0.022594\n",
      "         Iterations 14\n",
      "Optimization terminated successfully.\n",
      "         Current function value: 0.022594\n",
      "         Iterations 14\n",
      "Optimization terminated successfully.\n",
      "         Current function value: 0.022594\n",
      "         Iterations 14\n",
      "Optimization terminated successfully.\n",
      "         Current function value: 0.022594\n",
      "         Iterations 14\n",
      "Optimization terminated successfully.\n",
      "         Current function value: 0.022594\n",
      "         Iterations 14\n",
      "Optimization terminated successfully.\n",
      "         Current function value: 0.022594\n",
      "         Iterations 14\n",
      "Optimization terminated successfully.\n",
      "         Current function value: 0.022594\n",
      "         Iterations 14\n",
      "Optimization terminated successfully.\n",
      "         Current function value: 0.022594\n",
      "         Iterations 14\n",
      "Optimization terminated successfully.\n",
      "         Current function value: 0.022594\n",
      "         Iterations 14\n",
      "Optimization terminated successfully.\n",
      "         Current function value: 0.022594\n",
      "         Iterations 14\n",
      "Optimization terminated successfully.\n",
      "         Current function value: 0.022594\n",
      "         Iterations 14\n",
      "Optimization terminated successfully.\n",
      "         Current function value: 0.022594\n",
      "         Iterations 14\n",
      "Optimization terminated successfully.\n",
      "         Current function value: 0.022594\n",
      "         Iterations 14\n",
      "Optimization terminated successfully.\n",
      "         Current function value: 0.022594\n",
      "         Iterations 14\n",
      "Optimization terminated successfully.\n",
      "         Current function value: 0.022594\n",
      "         Iterations 14\n",
      "Optimization terminated successfully.\n",
      "         Current function value: 0.022594\n",
      "         Iterations 14\n",
      "Optimization terminated successfully.\n",
      "         Current function value: 0.022594\n",
      "         Iterations 14\n",
      "Optimization terminated successfully.\n",
      "         Current function value: 0.022594\n",
      "         Iterations 14\n",
      "Optimization terminated successfully.\n",
      "         Current function value: 0.022594\n",
      "         Iterations 14\n",
      "Optimization terminated successfully.\n",
      "         Current function value: 0.022594\n",
      "         Iterations 14\n",
      "Optimization terminated successfully.\n",
      "         Current function value: 0.022594\n",
      "         Iterations 14\n",
      "Optimization terminated successfully.\n",
      "         Current function value: 0.022594\n",
      "         Iterations 14\n",
      "Optimization terminated successfully.\n",
      "         Current function value: 0.022594\n",
      "         Iterations 14\n",
      "Optimization terminated successfully.\n",
      "         Current function value: 0.022594\n",
      "         Iterations 14\n",
      "Optimization terminated successfully.\n",
      "         Current function value: 0.022594\n",
      "         Iterations 14\n",
      "Optimization terminated successfully.\n",
      "         Current function value: 0.022594\n",
      "         Iterations 14\n",
      "Optimization terminated successfully.\n",
      "         Current function value: 0.022594\n",
      "         Iterations 14\n",
      "Optimization terminated successfully.\n",
      "         Current function value: 0.022594\n",
      "         Iterations 14\n",
      "Optimization terminated successfully.\n",
      "         Current function value: 0.022594\n",
      "         Iterations 14\n",
      "Optimization terminated successfully.\n",
      "         Current function value: 0.022594\n",
      "         Iterations 14\n",
      "Optimization terminated successfully.\n",
      "         Current function value: 0.022594\n",
      "         Iterations 14\n",
      "Optimization terminated successfully.\n",
      "         Current function value: 0.022594\n",
      "         Iterations 14\n",
      "Optimization terminated successfully.\n",
      "         Current function value: 0.022594\n",
      "         Iterations 14\n",
      "Optimization terminated successfully.\n",
      "         Current function value: 0.022594\n",
      "         Iterations 14\n",
      "Optimization terminated successfully.\n",
      "         Current function value: 0.022594\n",
      "         Iterations 14\n",
      "Optimization terminated successfully.\n",
      "         Current function value: 0.022594\n",
      "         Iterations 14\n",
      "Optimization terminated successfully.\n",
      "         Current function value: 0.022594\n",
      "         Iterations 14\n",
      "Optimization terminated successfully.\n",
      "         Current function value: 0.022594\n",
      "         Iterations 14\n",
      "Optimization terminated successfully.\n",
      "         Current function value: 0.022594\n",
      "         Iterations 14\n",
      "Optimization terminated successfully.\n",
      "         Current function value: 0.022594\n",
      "         Iterations 14\n",
      "Optimization terminated successfully.\n",
      "         Current function value: 0.022594\n",
      "         Iterations 14\n",
      "Optimization terminated successfully.\n",
      "         Current function value: 0.022594\n",
      "         Iterations 14\n",
      "Optimization terminated successfully.\n",
      "         Current function value: 0.022594\n",
      "         Iterations 14\n",
      "Optimization terminated successfully.\n",
      "         Current function value: 0.022594\n",
      "         Iterations 14\n",
      "Optimization terminated successfully.\n",
      "         Current function value: 0.022594\n",
      "         Iterations 14\n",
      "Optimization terminated successfully.\n",
      "         Current function value: 0.022594\n",
      "         Iterations 14\n",
      "Optimization terminated successfully.\n",
      "         Current function value: 0.022594\n",
      "         Iterations 14\n",
      "Optimization terminated successfully.\n",
      "         Current function value: 0.022594\n",
      "         Iterations 14\n",
      "Optimization terminated successfully.\n",
      "         Current function value: 0.022594\n",
      "         Iterations 14\n",
      "Optimization terminated successfully.\n",
      "         Current function value: 0.022594\n",
      "         Iterations 14\n",
      "Optimization terminated successfully.\n",
      "         Current function value: 0.022594\n",
      "         Iterations 14\n",
      "Optimization terminated successfully.\n",
      "         Current function value: 0.022594\n",
      "         Iterations 14\n",
      "Optimization terminated successfully.\n",
      "         Current function value: 0.022594\n",
      "         Iterations 14\n",
      "Optimization terminated successfully.\n",
      "         Current function value: 0.022594\n",
      "         Iterations 14\n",
      "Optimization terminated successfully.\n",
      "         Current function value: 0.022594\n",
      "         Iterations 14\n",
      "Optimization terminated successfully.\n",
      "         Current function value: 0.022594\n",
      "         Iterations 14\n",
      "Optimization terminated successfully.\n",
      "         Current function value: 0.022594\n",
      "         Iterations 14\n",
      "Optimization terminated successfully.\n",
      "         Current function value: 0.022594\n",
      "         Iterations 14\n",
      "Optimization terminated successfully.\n",
      "         Current function value: 0.022594\n",
      "         Iterations 14\n",
      "Optimization terminated successfully.\n",
      "         Current function value: 0.022594\n",
      "         Iterations 14\n",
      "Optimization terminated successfully.\n",
      "         Current function value: 0.022594\n",
      "         Iterations 14\n",
      "Optimization terminated successfully.\n",
      "         Current function value: 0.022594\n",
      "         Iterations 14\n",
      "Optimization terminated successfully.\n",
      "         Current function value: 0.022594\n",
      "         Iterations 14\n",
      "Optimization terminated successfully.\n",
      "         Current function value: 0.022594\n",
      "         Iterations 14\n",
      "Optimization terminated successfully.\n",
      "         Current function value: 0.022594\n",
      "         Iterations 14\n",
      "Optimization terminated successfully.\n",
      "         Current function value: 0.022594\n",
      "         Iterations 14\n",
      "Optimization terminated successfully.\n",
      "         Current function value: 0.022594\n",
      "         Iterations 14\n",
      "Optimization terminated successfully.\n",
      "         Current function value: 0.022594\n",
      "         Iterations 14\n",
      "Optimization terminated successfully.\n",
      "         Current function value: 0.022594\n",
      "         Iterations 14\n",
      "Optimization terminated successfully.\n",
      "         Current function value: 0.022594\n",
      "         Iterations 14\n",
      "Optimization terminated successfully.\n",
      "         Current function value: 0.022594\n",
      "         Iterations 14\n",
      "Optimization terminated successfully.\n",
      "         Current function value: 0.022594\n",
      "         Iterations 14\n",
      "Optimization terminated successfully.\n",
      "         Current function value: 0.022594\n",
      "         Iterations 14\n",
      "Optimization terminated successfully.\n",
      "         Current function value: 0.022594\n",
      "         Iterations 14\n",
      "Optimization terminated successfully.\n",
      "         Current function value: 0.022594\n",
      "         Iterations 14\n",
      "Optimization terminated successfully.\n",
      "         Current function value: 0.022594\n",
      "         Iterations 14\n",
      "Optimization terminated successfully.\n",
      "         Current function value: 0.022594\n",
      "         Iterations 14\n",
      "Optimization terminated successfully.\n",
      "         Current function value: 0.022594\n",
      "         Iterations 14\n",
      "Optimization terminated successfully.\n",
      "         Current function value: 0.022594\n",
      "         Iterations 14\n",
      "Optimization terminated successfully.\n",
      "         Current function value: 0.022594\n",
      "         Iterations 14\n",
      "Optimization terminated successfully.\n",
      "         Current function value: 0.022594\n",
      "         Iterations 14\n",
      "Optimization terminated successfully.\n",
      "         Current function value: 0.022594\n",
      "         Iterations 14\n",
      "Optimization terminated successfully.\n",
      "         Current function value: 0.022594\n",
      "         Iterations 14\n",
      "Optimization terminated successfully.\n",
      "         Current function value: 0.022594\n",
      "         Iterations 14\n",
      "Optimization terminated successfully.\n",
      "         Current function value: 0.022594\n",
      "         Iterations 14\n",
      "Optimization terminated successfully.\n",
      "         Current function value: 0.022594\n",
      "         Iterations 14\n",
      "Optimization terminated successfully.\n",
      "         Current function value: 0.022594\n",
      "         Iterations 14\n",
      "Optimization terminated successfully.\n",
      "         Current function value: 0.022594\n",
      "         Iterations 14\n",
      "Optimization terminated successfully.\n",
      "         Current function value: 0.022594\n",
      "         Iterations 14\n",
      "Optimization terminated successfully.\n",
      "         Current function value: 0.022594\n",
      "         Iterations 14\n",
      "Optimization terminated successfully.\n",
      "         Current function value: 0.022594\n",
      "         Iterations 14\n",
      "Optimization terminated successfully.\n",
      "         Current function value: 0.022594\n",
      "         Iterations 14\n",
      "Optimization terminated successfully.\n",
      "         Current function value: 0.022594\n",
      "         Iterations 14\n",
      "Optimization terminated successfully.\n",
      "         Current function value: 0.022594\n",
      "         Iterations 14\n",
      "Optimization terminated successfully.\n",
      "         Current function value: 0.022594\n",
      "         Iterations 14\n",
      "Optimization terminated successfully.\n",
      "         Current function value: 0.022594\n",
      "         Iterations 14\n",
      "Optimization terminated successfully.\n",
      "         Current function value: 0.022594\n",
      "         Iterations 14\n",
      "Optimization terminated successfully.\n",
      "         Current function value: 0.022594\n",
      "         Iterations 14\n",
      "Optimization terminated successfully.\n",
      "         Current function value: 0.022594\n",
      "         Iterations 14\n",
      "Optimization terminated successfully.\n",
      "         Current function value: 0.022594\n",
      "         Iterations 14\n"
     ]
    }
   ],
   "source": [
    "train_stat, test_stat, num = np.zeros(len(predy)), np.zeros(len(predy)), np.zeros(len(predy))\n",
    "\n",
    "for i in range(B):\n",
    "    sample_train_id_list = np.random.choice(nrow, size=nrow, replace=True)\n",
    "    sample_test_id_list = range(0, nrow)\n",
    "    sample_X = X.iloc[sample_train_id_list, :]\n",
    "    sample_y = y.iloc[sample_train_id_list]\n",
    "    # 添加常数列（截距项）到特征中\n",
    "    sample_X_ = sm.add_constant(sample_X)\n",
    "    # 拟合采样数据的逻辑回归模型\n",
    "    sample_model = sm.Logit(sample_y, sample_X_)\n",
    "    sample_result = model.fit()\n",
    "    # 采样模型的结果去预测原本全部数据集x，然后再根据此次的采样结果取出预测值\n",
    "    new_total_y_prob = sample_result.predict(X_)\n",
    "    sample_y_prob = new_total_y_prob.iloc[sample_train_id_list]\n",
    "    sample_y_true = sample_y\n",
    "    sample_train_stat = new_measure(sample_y_true\n",
    "                            ,sample_y_prob)\n",
    "    # 同样用新拟合的模型结果来看一下全量结果（测试集）\n",
    "    sample_test_stat = new_measure(y, new_total_y_prob)\n",
    "    if any(np.isnan(sample_train_stat)) or any(np.isnan(sample_test_stat)):\n",
    "        error = {'sample_X': sample_X, 'sample_y': sample_y, 'sample_model': sample_result}\n",
    "    num += ~np.isnan(sample_train_stat + sample_test_stat)\n",
    "    sample_train_stat = np.nan_to_num(sample_train_stat, nan=0)\n",
    "    sample_test_stat = np.nan_to_num(sample_test_stat, nan=0)\n",
    "    train_stat += sample_train_stat\n",
    "    test_stat += sample_test_stat"
   ]
  },
  {
   "cell_type": "code",
   "execution_count": 345,
   "id": "16f5853d-05ee-4820-b2ed-0aa52c14f0d9",
   "metadata": {},
   "outputs": [],
   "source": [
    "optimism = (train_stat - test_stat) / num"
   ]
  },
  {
   "cell_type": "code",
   "execution_count": 346,
   "id": "b1854e59-055d-4c4e-a834-966f82e59218",
   "metadata": {},
   "outputs": [
    {
     "data": {
      "text/plain": [
       "(array([-1.33490770e-23, -2.03404866e-02, -3.72655068e-03,  3.79216787e-02,\n",
       "         9.99418281e-02,  1.48083639e-01,  1.38561809e-01,  1.07272659e-01,\n",
       "         8.18011164e-02,  5.11809395e-02,  1.53619504e-02, -2.74820044e-02,\n",
       "        -5.08266141e-02, -7.39160880e-02, -9.70055618e-02, -1.14425173e-01,\n",
       "        -1.31077314e-01, -1.46473032e-01, -1.61210461e-01, -1.75616557e-01,\n",
       "        -1.82062293e-01, -1.80938648e-01, -1.69305795e-01, -1.55105947e-01,\n",
       "        -1.42419812e-01, -1.29749664e-01, -1.17079515e-01, -1.04409366e-01,\n",
       "        -9.17392179e-02, -8.17363617e-02, -7.56314824e-02, -7.03066415e-02,\n",
       "        -6.57867105e-02, -6.12821343e-02, -5.67775580e-02, -5.22729818e-02,\n",
       "        -4.77684055e-02, -4.31143120e-02, -3.81026682e-02, -3.28473380e-02,\n",
       "        -2.73709697e-02, -2.16425674e-02, -1.57122841e-02, -9.51076781e-03,\n",
       "        -3.27964729e-03,  2.95928033e-03,  9.32098612e-03,  1.59085138e-02,\n",
       "         2.26462484e-02,  2.94682491e-02]),\n",
       " array([-6.48726475e-24, -2.04054528e-02, -5.50074311e-03,  3.53454855e-02,\n",
       "         9.98160219e-02,  1.55461299e-01,  1.36192142e-01,  1.05612325e-01,\n",
       "         8.32811724e-02,  5.09284400e-02,  1.18880661e-02, -3.41745098e-02,\n",
       "        -5.55949052e-02, -7.70153005e-02, -9.84356959e-02, -1.10415898e-01,\n",
       "        -1.21654629e-01, -1.33767811e-01, -1.46334502e-01, -1.58277645e-01,\n",
       "        -1.61195655e-01, -1.56434157e-01, -1.40481591e-01, -1.27223054e-01,\n",
       "        -1.15798178e-01, -1.04373303e-01, -9.29484282e-02, -8.15235531e-02,\n",
       "        -7.00986780e-02, -6.36919788e-02, -5.98272380e-02, -5.59447004e-02,\n",
       "        -5.20371864e-02, -4.81296723e-02, -4.42221582e-02, -4.03146441e-02,\n",
       "        -3.64071300e-02, -3.21880931e-02, -2.75128888e-02, -2.26755270e-02,\n",
       "        -1.76719298e-02, -1.24903205e-02, -7.13796911e-03, -1.49001334e-03,\n",
       "         4.15794243e-03,  9.80589819e-03,  1.55987494e-02,  2.15442278e-02,\n",
       "         2.75696248e-02,  3.36637249e-02]))"
      ]
     },
     "execution_count": 346,
     "metadata": {},
     "output_type": "execute_result"
    }
   ],
   "source": [
    "train_stat / num, test_stat / num"
   ]
  },
  {
   "cell_type": "code",
   "execution_count": 347,
   "id": "671eaa86-be5f-4ca5-bdc1-cd2cf01bf587",
   "metadata": {},
   "outputs": [
    {
     "data": {
      "text/plain": [
       "array([-6.86181222e-24,  6.49661905e-05,  1.77419243e-03,  2.57619321e-03,\n",
       "        1.25806121e-04, -7.37765990e-03,  2.36966709e-03,  1.66033379e-03,\n",
       "       -1.48005597e-03,  2.52499491e-04,  3.47388430e-03,  6.69250548e-03,\n",
       "        4.76829109e-03,  3.09921259e-03,  1.43013409e-03, -4.00927474e-03,\n",
       "       -9.42268468e-03, -1.27052205e-02, -1.48759589e-02, -1.73389113e-02,\n",
       "       -2.08666377e-02, -2.45044910e-02, -2.88242032e-02, -2.78828930e-02,\n",
       "       -2.66216336e-02, -2.53763602e-02, -2.41310868e-02, -2.28858133e-02,\n",
       "       -2.16405399e-02, -1.80443828e-02, -1.58042444e-02, -1.43619411e-02,\n",
       "       -1.37495241e-02, -1.31524620e-02, -1.25553998e-02, -1.19583377e-02,\n",
       "       -1.13612755e-02, -1.09262189e-02, -1.05897795e-02, -1.01718110e-02,\n",
       "       -9.69903997e-03, -9.15224684e-03, -8.57431499e-03, -8.02075447e-03,\n",
       "       -7.43758972e-03, -6.84661786e-03, -6.27776327e-03, -5.63571399e-03,\n",
       "       -4.92337634e-03, -4.19547572e-03])"
      ]
     },
     "execution_count": 347,
     "metadata": {},
     "output_type": "execute_result"
    }
   ],
   "source": [
    "optimism"
   ]
  },
  {
   "cell_type": "code",
   "execution_count": 348,
   "id": "ec7fa2bc-4d2f-4a64-93c6-e181b1842c49",
   "metadata": {},
   "outputs": [],
   "source": [
    "corrected = cal - optimism"
   ]
  },
  {
   "cell_type": "code",
   "execution_count": 349,
   "id": "65a3a283-ebb0-4379-9365-52ddfb5f1125",
   "metadata": {},
   "outputs": [],
   "source": [
    "ex, ey, emodel = error['sample_X'], error['sample_y'], error['sample_model']"
   ]
  },
  {
   "cell_type": "code",
   "execution_count": 350,
   "id": "79b69279-fe8e-4356-87bc-9b4824b2fe96",
   "metadata": {},
   "outputs": [
    {
     "data": {
      "text/plain": [
       "557    1.884406e-09\n",
       "413    4.036556e-11\n",
       "975    1.573429e-18\n",
       "351    7.742349e-09\n",
       "539    5.195001e-15\n",
       "           ...     \n",
       "388    1.529035e-14\n",
       "716    2.514173e-16\n",
       "749    1.995456e-23\n",
       "754    2.526203e-10\n",
       "327    1.621275e-15\n",
       "Length: 1000, dtype: float64"
      ]
     },
     "execution_count": 350,
     "metadata": {},
     "output_type": "execute_result"
    }
   ],
   "source": [
    "emodel.predict(sm.add_constant(ex))"
   ]
  },
  {
   "cell_type": "code",
   "execution_count": 351,
   "id": "994b3d84-130d-48c0-9f5d-b4bbc28acbeb",
   "metadata": {},
   "outputs": [
    {
     "data": {
      "text/plain": [
       "0"
      ]
     },
     "execution_count": 351,
     "metadata": {},
     "output_type": "execute_result"
    }
   ],
   "source": [
    "np.isnan(emodel.predict(sm.add_constant(ex))).sum()"
   ]
  },
  {
   "cell_type": "code",
   "execution_count": 352,
   "id": "2f8494b5-300a-45ef-8208-98fdc4e0eae4",
   "metadata": {},
   "outputs": [
    {
     "data": {
      "text/plain": [
       "array([100., 100., 100., 100., 100., 100., 100., 100., 100., 100., 100.,\n",
       "       100., 100., 100., 100., 100., 100., 100., 100., 100., 100., 100.,\n",
       "       100., 100., 100., 100., 100., 100., 100., 100., 100., 100., 100.,\n",
       "       100., 100., 100., 100., 100., 100., 100., 100., 100., 100., 100.,\n",
       "       100., 100., 100., 100., 100., 100.])"
      ]
     },
     "execution_count": 352,
     "metadata": {},
     "output_type": "execute_result"
    }
   ],
   "source": [
    "num"
   ]
  },
  {
   "cell_type": "code",
   "execution_count": 353,
   "id": "426d444c-ab21-422a-b316-05b5a630685c",
   "metadata": {},
   "outputs": [
    {
     "data": {
      "text/plain": [
       "array([ 6.86181222e-24, -6.49661905e-05,  3.35359701e-02,  9.39856508e-02,\n",
       "        1.81312027e-01,  2.64866223e-01,  2.56255192e-01,  2.46790161e-01,\n",
       "        2.48004851e-01,  2.34325016e-01,  2.12468710e-01,  1.83592966e-01,\n",
       "        1.84502238e-01,  1.85156374e-01,  1.85810510e-01,  1.99675169e-01,\n",
       "        2.14255300e-01,  2.25830107e-01,  2.35839608e-01,  2.46764869e-01,\n",
       "        2.67780039e-01,  2.96584843e-01,  3.37262574e-01,  3.69985254e-01,\n",
       "        4.00554323e-01,  4.31139377e-01,  4.61724432e-01,  4.92309486e-01,\n",
       "        5.22894541e-01,  5.46110536e-01,  5.68140591e-01,  5.90986278e-01,\n",
       "        6.14686828e-01,  6.38402733e-01,  6.62118638e-01,  6.85834542e-01,\n",
       "        7.09550447e-01,  7.33739880e-01,  7.58484098e-01,  7.83308944e-01,\n",
       "        8.08245223e-01,  8.33285492e-01,  8.58465364e-01,  8.83965212e-01,\n",
       "        9.09435456e-01,  9.34897893e-01,  9.60527342e-01,  9.86236224e-01,\n",
       "        1.01195474e+00,  1.03772639e+00])"
      ]
     },
     "execution_count": 353,
     "metadata": {},
     "output_type": "execute_result"
    }
   ],
   "source": [
    "corrected"
   ]
  },
  {
   "cell_type": "markdown",
   "id": "f9258056-7239-4587-b56b-29440592b7be",
   "metadata": {
    "tags": []
   },
   "source": [
    "## Corrected作图"
   ]
  },
  {
   "cell_type": "raw",
   "id": "fff23920-20a7-4dbc-967d-8c7259053057",
   "metadata": {},
   "source": [
    "index.orig  是 全部数据集的measure函数"
   ]
  },
  {
   "cell_type": "code",
   "execution_count": 354,
   "id": "f47db337-2a08-4d07-8614-28cd6c66151a",
   "metadata": {
    "tags": []
   },
   "outputs": [
    {
     "data": {
      "text/plain": [
       "<matplotlib.legend.Legend at 0x232e5cfbac0>"
      ]
     },
     "execution_count": 354,
     "metadata": {},
     "output_type": "execute_result"
    },
    {
     "data": {
      "image/png": "[encoded data removed]",
      "text/plain": [
       "<Figure size 1152x864 with 1 Axes>"
      ]
     },
     "metadata": {
      "needs_background": "light"
     },
     "output_type": "display_data"
    }
   ],
   "source": [
    "# \"Ideal\" 理想校准曲线 (y=x)\n",
    "ideal_line = [0, 1]\n",
    "plt.figure(\n",
    "    figsize=(16, 12)\n",
    ")\n",
    "# 开始画图\n",
    "# Ideal (理想曲线)\n",
    "plt.plot(ideal_line, ideal_line, label='Ideal')\n",
    "# Apparent (表观曲线)\n",
    "plt.plot(predy, cal, label='Apparent')\n",
    "# Corrected (修正曲线)\n",
    "plt.plot(predy, corrected, label='Corrected')\n",
    "plt.xlabel('Predicted Probability')\n",
    "plt.ylabel('Observed Probability')\n",
    "plt.legend()"
   ]
  },
  {
   "cell_type": "code",
   "execution_count": null,
   "id": "aba5de43-9e17-4de6-af20-10294ef15796",
   "metadata": {},
   "outputs": [],
   "source": []
  },
  {
   "cell_type": "code",
   "execution_count": null,
   "id": "b673c557-d8e7-4081-baf3-ae07c298c6b3",
   "metadata": {},
   "outputs": [],
   "source": []
  },
  {
   "cell_type": "markdown",
   "id": "f44c7df8-1120-4986-afcf-9db309e25a83",
   "metadata": {},
   "source": [
    "# 传统方法"
   ]
  },
  {
   "cell_type": "code",
   "execution_count": 8,
   "id": "2ead359e-4555-4826-bb9b-834c3c0a6861",
   "metadata": {
    "tags": []
   },
   "outputs": [],
   "source": [
    "is_boot = True"
   ]
  },
  {
   "cell_type": "code",
   "execution_count": 9,
   "id": "e2c9d5a4-91d5-4a80-ac69-ec6f69b15c1a",
   "metadata": {
    "tags": []
   },
   "outputs": [],
   "source": [
    "y_true, y_prob = y, y_pred_prob"
   ]
  },
  {
   "cell_type": "code",
   "execution_count": 28,
   "id": "905a6b09-4f31-4b00-8307-8bff558fc166",
   "metadata": {},
   "outputs": [
    {
     "data": {
      "text/plain": [
       "(array([0.        , 0.        , 0.        , 0.5       , 0.        ,\n",
       "        0.5       , 0.33333333, 1.        , 0.        , 0.        ,\n",
       "        0.33333333, 0.        , 0.        , 0.        , 0.        ,\n",
       "        0.        , 0.5       , 1.        , 0.        , 0.        ,\n",
       "        1.        , 1.        , 0.66666667, 1.        , 1.        ,\n",
       "        1.        , 1.        , 1.        , 1.        ]),\n",
       " array([1.86707822e-04, 2.70279889e-02, 5.02487970e-02, 7.40332178e-02,\n",
       "        9.04376774e-02, 1.16200891e-01, 1.25660136e-01, 1.66568734e-01,\n",
       "        1.93363122e-01, 2.02501641e-01, 2.23019447e-01, 2.87162350e-01,\n",
       "        3.33455867e-01, 3.86384898e-01, 4.18482476e-01, 4.35094871e-01,\n",
       "        4.50239775e-01, 5.77491930e-01, 5.85845670e-01, 6.24078936e-01,\n",
       "        7.45296936e-01, 7.67041249e-01, 8.06029164e-01, 8.34832384e-01,\n",
       "        8.56486434e-01, 9.26272793e-01, 9.49579154e-01, 9.75274737e-01,\n",
       "        9.98321916e-01]))"
      ]
     },
     "execution_count": 28,
     "metadata": {},
     "output_type": "execute_result"
    }
   ],
   "source": [
    "prob_true, prob_pred"
   ]
  },
  {
   "cell_type": "code",
   "execution_count": 29,
   "id": "fd2a3e9e-92ef-4c6d-9a17-81b4040fe26b",
   "metadata": {},
   "outputs": [
    {
     "data": {
      "text/plain": [
       "((29,), (29,))"
      ]
     },
     "execution_count": 29,
     "metadata": {},
     "output_type": "execute_result"
    }
   ],
   "source": [
    "prob_true.shape, prob_pred.shape"
   ]
  },
  {
   "cell_type": "code",
   "execution_count": 235,
   "id": "e5270b84-5010-469d-a950-c3f3a0556baf",
   "metadata": {
    "tags": []
   },
   "outputs": [
    {
     "data": {
      "text/plain": [
       "<matplotlib.legend.Legend at 0x232e63b78e0>"
      ]
     },
     "execution_count": 235,
     "metadata": {},
     "output_type": "execute_result"
    },
    {
     "data": {
      "image/png": "[encoded data removed]",
      "text/plain": [
       "<Figure size 432x288 with 1 Axes>"
      ]
     },
     "metadata": {
      "needs_background": "light"
     },
     "output_type": "display_data"
    }
   ],
   "source": [
    "# 计算普通的校准曲线\n",
    "prob_true, prob_pred = calibration_curve(y_true, y_prob, n_bins=10)\n",
    "# \"Ideal\" 理想校准曲线 (y=x)\n",
    "ideal_line = [0, 1]\n",
    "plt.figure()\n",
    "# 开始画图\n",
    "# Ideal (理想曲线)\n",
    "plt.plot(ideal_line, ideal_line, label='Ideal')\n",
    "# Apparent (表观曲线)\n",
    "plt.plot(prob_pred, prob_true, label='Apparent')\n",
    "# # 是否进行Boostrap有放回的采样\n",
    "# if is_boot:\n",
    "#     length = len(y_true)\n",
    "#     boot_num = int(90 * length / 100)\n",
    "#     np.random.seed(1024)  # 设置随机种子\n",
    "#     bootstrap_curves = []\n",
    "#     for i in range(100):\n",
    "#         indices = np.random.choice(length, boot_num, replace=True)\n",
    "#         y_resample_probs = y_prob[indices]\n",
    "#         y_resample_true = y_true[indices]\n",
    "#         # 计算重采样后的校准曲线\n",
    "#         boot_prob_true, boot_prob_pred = calibration_curve(y_resample_true, y_resample_probs, n_bins=10, strategy='quantile')\n",
    "#         # https://chatgpt.com/share/670f779b-c910-8010-92ab-7587668e7f48\n",
    "#         # 使用插值来保证所有曲线的长度一致\n",
    "#         # 对 true 和 pred 都进行插值，确保曲线长度一致\n",
    "#         boot_prob_true_interp = np.interp(prob_pred, boot_prob_pred, boot_prob_true)\n",
    "#         boot_prob_pred_interp = np.interp(prob_pred, boot_prob_pred, boot_prob_pred)\n",
    "#         # 将插值后的校准曲线保存\n",
    "#         bootstrap_curves.append((boot_prob_true_interp, boot_prob_pred_interp))\n",
    "#     # 计算偏差校正后的平均校准曲线\n",
    "#     mean_prob_true = np.mean([curve[0] for curve in bootstrap_curves], axis=0)\n",
    "#     mean_prob_pred = np.mean([curve[1] for curve in bootstrap_curves], axis=0)\n",
    "#     plt.plot(mean_prob_pred, mean_prob_true,label='Boostrap')\n",
    "# 设置标签和图例\n",
    "plt.xlabel('Predicted Probability')\n",
    "plt.ylabel('Observed Probability')\n",
    "plt.legend()"
   ]
  },
  {
   "cell_type": "code",
   "execution_count": null,
   "id": "4cf04b2f-2f03-436d-acb3-97ff14c5ec3c",
   "metadata": {},
   "outputs": [],
   "source": []
  }
 ],
 "metadata": {
  "kernelspec": {
   "display_name": "Python 3 (ipykernel)",
   "language": "python",
   "name": "python3"
  },
  "language_info": {
   "codemirror_mode": {
    "name": "ipython",
    "version": 3
   },
   "file_extension": ".py",
   "mimetype": "text/x-python",
   "name": "python",
   "nbconvert_exporter": "python",
   "pygments_lexer": "ipython3",
   "version": "3.11.5"
  }
 },
 "nbformat": 4,
 "nbformat_minor": 5
}
