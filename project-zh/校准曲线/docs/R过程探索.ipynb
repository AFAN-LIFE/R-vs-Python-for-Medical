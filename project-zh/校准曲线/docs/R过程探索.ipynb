{
 "cells": [
  {
   "cell_type": "markdown",
   "id": "c11bd4f9-87a2-43a4-aa0a-cfca64b6b6bb",
   "metadata": {},
   "source": [
    "# 环境说明"
   ]
  },
  {
   "cell_type": "code",
   "execution_count": 1,
   "id": "8fc21562-8486-46c0-acbb-2c92384804cd",
   "metadata": {
    "tags": []
   },
   "outputs": [
    {
     "name": "stdout",
     "output_type": "stream",
     "text": [
      "package 'rms' successfully unpacked and MD5 sums checked\n",
      "\n",
      "The downloaded binary packages are in\n",
      "\tC:\\Users\\AFAN\\AppData\\Local\\Temp\\Rtmpw5WgI9\\downloaded_packages\n"
     ]
    }
   ],
   "source": [
    "# 安装所需的包\n",
    "install.packages(\"rms\")"
   ]
  },
  {
   "cell_type": "code",
   "execution_count": 2,
   "id": "ad961cac-c367-4e05-931b-b1dbac44cfb7",
   "metadata": {
    "tags": []
   },
   "outputs": [
    {
     "data": {
      "text/plain": [
       "NULL"
      ]
     },
     "metadata": {},
     "output_type": "display_data"
    }
   ],
   "source": [
    "sessionInfo()$otherPkgs$rms"
   ]
  },
  {
   "cell_type": "markdown",
   "id": "c745a1a0-d852-4e06-ad46-5c72233e5208",
   "metadata": {},
   "source": [
    "# 代码实现"
   ]
  },
  {
   "cell_type": "code",
   "execution_count": 3,
   "id": "9f8e166d-82ec-4351-80f6-6d2520e673a2",
   "metadata": {},
   "outputs": [],
   "source": [
    "# 读取数据\n",
    "data <- read.csv(\"data/train.csv\")"
   ]
  },
  {
   "cell_type": "code",
   "execution_count": 108,
   "id": "6ec64169-d75a-45b5-97e6-78ac670e1e66",
   "metadata": {},
   "outputs": [
    {
     "data": {
      "text/html": [
       "<table class=\"dataframe\">\n",
       "<caption>A data.frame: 6 × 5</caption>\n",
       "<thead>\n",
       "\t<tr><th></th><th scope=col>Age</th><th scope=col>Blood_Sugar</th><th scope=col>Blood_Pressure</th><th scope=col>Weight</th><th scope=col>Heart_Disease</th></tr>\n",
       "\t<tr><th></th><th scope=col>&lt;int&gt;</th><th scope=col>&lt;dbl&gt;</th><th scope=col>&lt;dbl&gt;</th><th scope=col>&lt;dbl&gt;</th><th scope=col>&lt;int&gt;</th></tr>\n",
       "</thead>\n",
       "<tbody>\n",
       "\t<tr><th scope=row>1</th><td>58</td><td> 99.97546</td><td>106.3281</td><td>62.44868</td><td>0</td></tr>\n",
       "\t<tr><th scope=row>2</th><td>71</td><td> 93.60951</td><td>134.1907</td><td>67.87585</td><td>0</td></tr>\n",
       "\t<tr><th scope=row>3</th><td>48</td><td>119.13195</td><td>115.7733</td><td>49.26310</td><td>0</td></tr>\n",
       "\t<tr><th scope=row>4</th><td>34</td><td> 98.62651</td><td>117.6520</td><td>93.11179</td><td>0</td></tr>\n",
       "\t<tr><th scope=row>5</th><td>62</td><td>114.05609</td><td>119.4568</td><td>71.04322</td><td>0</td></tr>\n",
       "\t<tr><th scope=row>6</th><td>27</td><td> 91.46011</td><td>131.4862</td><td>80.83883</td><td>0</td></tr>\n",
       "</tbody>\n",
       "</table>\n"
      ],
      "text/latex": [
       "A data.frame: 6 × 5\n",
       "\\begin{tabular}{r|lllll}\n",
       "  & Age & Blood\\_Sugar & Blood\\_Pressure & Weight & Heart\\_Disease\\\\\n",
       "  & <int> & <dbl> & <dbl> & <dbl> & <int>\\\\\n",
       "\\hline\n",
       "\t1 & 58 &  99.97546 & 106.3281 & 62.44868 & 0\\\\\n",
       "\t2 & 71 &  93.60951 & 134.1907 & 67.87585 & 0\\\\\n",
       "\t3 & 48 & 119.13195 & 115.7733 & 49.26310 & 0\\\\\n",
       "\t4 & 34 &  98.62651 & 117.6520 & 93.11179 & 0\\\\\n",
       "\t5 & 62 & 114.05609 & 119.4568 & 71.04322 & 0\\\\\n",
       "\t6 & 27 &  91.46011 & 131.4862 & 80.83883 & 0\\\\\n",
       "\\end{tabular}\n"
      ],
      "text/markdown": [
       "\n",
       "A data.frame: 6 × 5\n",
       "\n",
       "| <!--/--> | Age &lt;int&gt; | Blood_Sugar &lt;dbl&gt; | Blood_Pressure &lt;dbl&gt; | Weight &lt;dbl&gt; | Heart_Disease &lt;int&gt; |\n",
       "|---|---|---|---|---|---|\n",
       "| 1 | 58 |  99.97546 | 106.3281 | 62.44868 | 0 |\n",
       "| 2 | 71 |  93.60951 | 134.1907 | 67.87585 | 0 |\n",
       "| 3 | 48 | 119.13195 | 115.7733 | 49.26310 | 0 |\n",
       "| 4 | 34 |  98.62651 | 117.6520 | 93.11179 | 0 |\n",
       "| 5 | 62 | 114.05609 | 119.4568 | 71.04322 | 0 |\n",
       "| 6 | 27 |  91.46011 | 131.4862 | 80.83883 | 0 |\n",
       "\n"
      ],
      "text/plain": [
       "  Age Blood_Sugar Blood_Pressure Weight   Heart_Disease\n",
       "1 58   99.97546   106.3281       62.44868 0            \n",
       "2 71   93.60951   134.1907       67.87585 0            \n",
       "3 48  119.13195   115.7733       49.26310 0            \n",
       "4 34   98.62651   117.6520       93.11179 0            \n",
       "5 62  114.05609   119.4568       71.04322 0            \n",
       "6 27   91.46011   131.4862       80.83883 0            "
      ]
     },
     "metadata": {},
     "output_type": "display_data"
    }
   ],
   "source": [
    "head(data)"
   ]
  },
  {
   "cell_type": "code",
   "execution_count": 109,
   "id": "62c252e7-e022-45aa-b588-6882dbad0a48",
   "metadata": {
    "tags": []
   },
   "outputs": [],
   "source": [
    "# 加载所需的包\n",
    "library(rms)"
   ]
  },
  {
   "cell_type": "code",
   "execution_count": 110,
   "id": "775a24b5-c830-4b80-802d-9e6b7ab1e6f7",
   "metadata": {},
   "outputs": [
    {
     "name": "stdout",
     "output_type": "stream",
     "text": [
      "Logistic Regression Model\n",
      "\n",
      "lrm(formula = Heart_Disease ~ ., data = data, x = TRUE, y = TRUE)\n",
      "\n",
      "                       Model Likelihood     Discrimination    Rank Discrim.    \n",
      "                             Ratio Test            Indexes          Indexes    \n",
      "Obs          1000    LR chi2     238.07     R2       0.859    C       0.997    \n",
      " 0            968    d.f.             4    R2(4,1000)0.209    Dxy     0.994    \n",
      " 1             32    Pr(> chi2) <0.0001    R2(4,92.9)0.919    gamma   0.994    \n",
      "max |deriv| 2e-05                           Brier    0.007    tau-a   0.062    \n",
      "\n",
      "               Coef      S.E.    Wald Z Pr(>|Z|)\n",
      "Intercept      -109.6707 24.8000 -4.42  <0.0001 \n",
      "Age               0.4953  0.1116  4.44  <0.0001 \n",
      "Blood_Sugar       0.5558  0.1228  4.52  <0.0001 \n",
      "Blood_Pressure    0.0135  0.0213  0.63  0.5270  \n",
      "Weight            0.0647  0.0307  2.11  0.0352  \n",
      "\n"
     ]
    }
   ],
   "source": [
    "# 开始建模\n",
    "model <- lrm(Heart_Disease ~ ., data = data, x=TRUE,y=TRUE)\n",
    "print(model)"
   ]
  },
  {
   "cell_type": "code",
   "execution_count": 111,
   "id": "10a79724-ce09-482c-994a-384f5144e55c",
   "metadata": {},
   "outputs": [
    {
     "name": "stdout",
     "output_type": "stream",
     "text": [
      "[1] \"模型准确率: 0.991\"\n"
     ]
    }
   ],
   "source": [
    "# 计算概率预测值\n",
    "probabilities <- predict(model)\n",
    "# 设定阈值 0.5，将概率值转换为 0/1 分类\n",
    "predicted_class <- ifelse(probabilities > 0.5, 1, 0)\n",
    "# 计算准确率\n",
    "accuracy <- mean(predicted_class == data$Heart_Disease)\n",
    "print(paste(\"模型准确率:\", round(accuracy, 4)))"
   ]
  },
  {
   "cell_type": "code",
   "execution_count": 112,
   "id": "eb8d3e66-76ba-4c2c-b80f-285a13a574b0",
   "metadata": {
    "tags": []
   },
   "outputs": [],
   "source": [
    "# 绘制校准曲线\n",
    "calibration_result <- calibrate(model, \n",
    "                                method = \"boot\", B = 100\n",
    "                               )  # B 是 bootstrap 次数"
   ]
  },
  {
   "cell_type": "code",
   "execution_count": 113,
   "id": "0cb5aa8b-8465-4ef9-ada5-bd65c113d7be",
   "metadata": {
    "tags": []
   },
   "outputs": [
    {
     "data": {
      "text/html": [
       "<table class=\"dataframe\">\n",
       "<caption>A matrix: 6 × 9 of type dbl</caption>\n",
       "<thead>\n",
       "\t<tr><th scope=col>predy</th><th scope=col>calibrated.orig</th><th scope=col>calibrated.corrected</th><th scope=col>index.orig</th><th scope=col>training</th><th scope=col>test</th><th scope=col>optimism</th><th scope=col>index.corrected</th><th scope=col>n</th></tr>\n",
       "</thead>\n",
       "<tbody>\n",
       "\t<tr><td>6.487265e-24</td><td>0.00000000</td><td>3.480362e-23</td><td>-6.487265e-24</td><td>-3.651864e-24</td><td>3.115176e-23</td><td>-3.480362e-23</td><td>2.831636e-23</td><td> 86</td></tr>\n",
       "\t<tr><td>2.040545e-02</td><td>0.00000000</td><td>4.139133e-02</td><td>-2.040545e-02</td><td>-1.666564e-03</td><td>3.972476e-02</td><td>-4.139133e-02</td><td>2.098587e-02</td><td>100</td></tr>\n",
       "\t<tr><td>4.081091e-02</td><td>0.03531016</td><td>7.041050e-02</td><td>-5.500743e-03</td><td> 2.091548e-02</td><td>5.601582e-02</td><td>-3.510034e-02</td><td>2.959959e-02</td><td>100</td></tr>\n",
       "\t<tr><td>6.121636e-02</td><td>0.09656184</td><td>1.270260e-01</td><td> 3.534549e-02</td><td> 4.214917e-02</td><td>7.261336e-02</td><td>-3.046419e-02</td><td>6.580968e-02</td><td>100</td></tr>\n",
       "\t<tr><td>8.162181e-02</td><td>0.18143783</td><td>2.125110e-01</td><td> 9.981602e-02</td><td> 5.628458e-02</td><td>8.735778e-02</td><td>-3.107320e-02</td><td>1.308892e-01</td><td>100</td></tr>\n",
       "\t<tr><td>1.020273e-01</td><td>0.25748856</td><td>2.850339e-01</td><td> 1.554613e-01</td><td> 5.662252e-02</td><td>8.416785e-02</td><td>-2.754533e-02</td><td>1.830066e-01</td><td>100</td></tr>\n",
       "</tbody>\n",
       "</table>\n"
      ],
      "text/latex": [
       "A matrix: 6 × 9 of type dbl\n",
       "\\begin{tabular}{lllllllll}\n",
       " predy & calibrated.orig & calibrated.corrected & index.orig & training & test & optimism & index.corrected & n\\\\\n",
       "\\hline\n",
       "\t 6.487265e-24 & 0.00000000 & 3.480362e-23 & -6.487265e-24 & -3.651864e-24 & 3.115176e-23 & -3.480362e-23 & 2.831636e-23 &  86\\\\\n",
       "\t 2.040545e-02 & 0.00000000 & 4.139133e-02 & -2.040545e-02 & -1.666564e-03 & 3.972476e-02 & -4.139133e-02 & 2.098587e-02 & 100\\\\\n",
       "\t 4.081091e-02 & 0.03531016 & 7.041050e-02 & -5.500743e-03 &  2.091548e-02 & 5.601582e-02 & -3.510034e-02 & 2.959959e-02 & 100\\\\\n",
       "\t 6.121636e-02 & 0.09656184 & 1.270260e-01 &  3.534549e-02 &  4.214917e-02 & 7.261336e-02 & -3.046419e-02 & 6.580968e-02 & 100\\\\\n",
       "\t 8.162181e-02 & 0.18143783 & 2.125110e-01 &  9.981602e-02 &  5.628458e-02 & 8.735778e-02 & -3.107320e-02 & 1.308892e-01 & 100\\\\\n",
       "\t 1.020273e-01 & 0.25748856 & 2.850339e-01 &  1.554613e-01 &  5.662252e-02 & 8.416785e-02 & -2.754533e-02 & 1.830066e-01 & 100\\\\\n",
       "\\end{tabular}\n"
      ],
      "text/markdown": [
       "\n",
       "A matrix: 6 × 9 of type dbl\n",
       "\n",
       "| predy | calibrated.orig | calibrated.corrected | index.orig | training | test | optimism | index.corrected | n |\n",
       "|---|---|---|---|---|---|---|---|---|\n",
       "| 6.487265e-24 | 0.00000000 | 3.480362e-23 | -6.487265e-24 | -3.651864e-24 | 3.115176e-23 | -3.480362e-23 | 2.831636e-23 |  86 |\n",
       "| 2.040545e-02 | 0.00000000 | 4.139133e-02 | -2.040545e-02 | -1.666564e-03 | 3.972476e-02 | -4.139133e-02 | 2.098587e-02 | 100 |\n",
       "| 4.081091e-02 | 0.03531016 | 7.041050e-02 | -5.500743e-03 |  2.091548e-02 | 5.601582e-02 | -3.510034e-02 | 2.959959e-02 | 100 |\n",
       "| 6.121636e-02 | 0.09656184 | 1.270260e-01 |  3.534549e-02 |  4.214917e-02 | 7.261336e-02 | -3.046419e-02 | 6.580968e-02 | 100 |\n",
       "| 8.162181e-02 | 0.18143783 | 2.125110e-01 |  9.981602e-02 |  5.628458e-02 | 8.735778e-02 | -3.107320e-02 | 1.308892e-01 | 100 |\n",
       "| 1.020273e-01 | 0.25748856 | 2.850339e-01 |  1.554613e-01 |  5.662252e-02 | 8.416785e-02 | -2.754533e-02 | 1.830066e-01 | 100 |\n",
       "\n"
      ],
      "text/plain": [
       "     predy        calibrated.orig calibrated.corrected index.orig   \n",
       "[1,] 6.487265e-24 0.00000000      3.480362e-23         -6.487265e-24\n",
       "[2,] 2.040545e-02 0.00000000      4.139133e-02         -2.040545e-02\n",
       "[3,] 4.081091e-02 0.03531016      7.041050e-02         -5.500743e-03\n",
       "[4,] 6.121636e-02 0.09656184      1.270260e-01          3.534549e-02\n",
       "[5,] 8.162181e-02 0.18143783      2.125110e-01          9.981602e-02\n",
       "[6,] 1.020273e-01 0.25748856      2.850339e-01          1.554613e-01\n",
       "     training      test         optimism      index.corrected n  \n",
       "[1,] -3.651864e-24 3.115176e-23 -3.480362e-23 2.831636e-23     86\n",
       "[2,] -1.666564e-03 3.972476e-02 -4.139133e-02 2.098587e-02    100\n",
       "[3,]  2.091548e-02 5.601582e-02 -3.510034e-02 2.959959e-02    100\n",
       "[4,]  4.214917e-02 7.261336e-02 -3.046419e-02 6.580968e-02    100\n",
       "[5,]  5.628458e-02 8.735778e-02 -3.107320e-02 1.308892e-01    100\n",
       "[6,]  5.662252e-02 8.416785e-02 -2.754533e-02 1.830066e-01    100"
      ]
     },
     "metadata": {},
     "output_type": "display_data"
    }
   ],
   "source": [
    "head(calibration_result)"
   ]
  },
  {
   "cell_type": "code",
   "execution_count": null,
   "id": "982db692-c13e-4768-8f07-a91f19069b3e",
   "metadata": {
    "tags": []
   },
   "outputs": [
    {
     "data": {
      "text/html": [
       "<table class=\"dataframe\">\n",
       "<caption>A matrix: 6 × 9 of type dbl</caption>\n",
       "<thead>\n",
       "\t<tr><th scope=col>predy</th><th scope=col>calibrated.orig</th><th scope=col>calibrated.corrected</th><th scope=col>index.orig</th><th scope=col>training</th><th scope=col>test</th><th scope=col>optimism</th><th scope=col>index.corrected</th><th scope=col>n</th></tr>\n",
       "</thead>\n",
       "<tbody>\n",
       "\t<tr><td>0.8978399</td><td>0.9019979</td><td>0.8734141</td><td>0.004157943</td><td>0.002036404</td><td>-0.026547410</td><td>0.02858381</td><td>-0.024425871</td><td>100</td></tr>\n",
       "\t<tr><td>0.9182454</td><td>0.9280513</td><td>0.9000339</td><td>0.009805899</td><td>0.005416511</td><td>-0.022600845</td><td>0.02801736</td><td>-0.018211458</td><td>100</td></tr>\n",
       "\t<tr><td>0.9386508</td><td>0.9542496</td><td>0.9267842</td><td>0.015598750</td><td>0.008955549</td><td>-0.018509805</td><td>0.02746535</td><td>-0.011866604</td><td>100</td></tr>\n",
       "\t<tr><td>0.9590563</td><td>0.9806005</td><td>0.9536789</td><td>0.021544228</td><td>0.012630190</td><td>-0.014291434</td><td>0.02692162</td><td>-0.005377396</td><td>100</td></tr>\n",
       "\t<tr><td>0.9794617</td><td>1.0070314</td><td>0.9807067</td><td>0.027569626</td><td>0.016369964</td><td>-0.009954690</td><td>0.02632465</td><td> 0.001244972</td><td>100</td></tr>\n",
       "\t<tr><td>0.9998672</td><td>1.0335309</td><td>1.0066243</td><td>0.033663726</td><td>0.020370528</td><td>-0.006536083</td><td>0.02690661</td><td> 0.006757115</td><td> 98</td></tr>\n",
       "</tbody>\n",
       "</table>\n"
      ],
      "text/latex": [
       "A matrix: 6 × 9 of type dbl\n",
       "\\begin{tabular}{lllllllll}\n",
       " predy & calibrated.orig & calibrated.corrected & index.orig & training & test & optimism & index.corrected & n\\\\\n",
       "\\hline\n",
       "\t 0.8978399 & 0.9019979 & 0.8734141 & 0.004157943 & 0.002036404 & -0.026547410 & 0.02858381 & -0.024425871 & 100\\\\\n",
       "\t 0.9182454 & 0.9280513 & 0.9000339 & 0.009805899 & 0.005416511 & -0.022600845 & 0.02801736 & -0.018211458 & 100\\\\\n",
       "\t 0.9386508 & 0.9542496 & 0.9267842 & 0.015598750 & 0.008955549 & -0.018509805 & 0.02746535 & -0.011866604 & 100\\\\\n",
       "\t 0.9590563 & 0.9806005 & 0.9536789 & 0.021544228 & 0.012630190 & -0.014291434 & 0.02692162 & -0.005377396 & 100\\\\\n",
       "\t 0.9794617 & 1.0070314 & 0.9807067 & 0.027569626 & 0.016369964 & -0.009954690 & 0.02632465 &  0.001244972 & 100\\\\\n",
       "\t 0.9998672 & 1.0335309 & 1.0066243 & 0.033663726 & 0.020370528 & -0.006536083 & 0.02690661 &  0.006757115 &  98\\\\\n",
       "\\end{tabular}\n"
      ],
      "text/markdown": [
       "\n",
       "A matrix: 6 × 9 of type dbl\n",
       "\n",
       "| predy | calibrated.orig | calibrated.corrected | index.orig | training | test | optimism | index.corrected | n |\n",
       "|---|---|---|---|---|---|---|---|---|\n",
       "| 0.8978399 | 0.9019979 | 0.8734141 | 0.004157943 | 0.002036404 | -0.026547410 | 0.02858381 | -0.024425871 | 100 |\n",
       "| 0.9182454 | 0.9280513 | 0.9000339 | 0.009805899 | 0.005416511 | -0.022600845 | 0.02801736 | -0.018211458 | 100 |\n",
       "| 0.9386508 | 0.9542496 | 0.9267842 | 0.015598750 | 0.008955549 | -0.018509805 | 0.02746535 | -0.011866604 | 100 |\n",
       "| 0.9590563 | 0.9806005 | 0.9536789 | 0.021544228 | 0.012630190 | -0.014291434 | 0.02692162 | -0.005377396 | 100 |\n",
       "| 0.9794617 | 1.0070314 | 0.9807067 | 0.027569626 | 0.016369964 | -0.009954690 | 0.02632465 |  0.001244972 | 100 |\n",
       "| 0.9998672 | 1.0335309 | 1.0066243 | 0.033663726 | 0.020370528 | -0.006536083 | 0.02690661 |  0.006757115 |  98 |\n",
       "\n"
      ],
      "text/plain": [
       "     predy     calibrated.orig calibrated.corrected index.orig  training   \n",
       "[1,] 0.8978399 0.9019979       0.8734141            0.004157943 0.002036404\n",
       "[2,] 0.9182454 0.9280513       0.9000339            0.009805899 0.005416511\n",
       "[3,] 0.9386508 0.9542496       0.9267842            0.015598750 0.008955549\n",
       "[4,] 0.9590563 0.9806005       0.9536789            0.021544228 0.012630190\n",
       "[5,] 0.9794617 1.0070314       0.9807067            0.027569626 0.016369964\n",
       "[6,] 0.9998672 1.0335309       1.0066243            0.033663726 0.020370528\n",
       "     test         optimism   index.corrected n  \n",
       "[1,] -0.026547410 0.02858381 -0.024425871    100\n",
       "[2,] -0.022600845 0.02801736 -0.018211458    100\n",
       "[3,] -0.018509805 0.02746535 -0.011866604    100\n",
       "[4,] -0.014291434 0.02692162 -0.005377396    100\n",
       "[5,] -0.009954690 0.02632465  0.001244972    100\n",
       "[6,] -0.006536083 0.02690661  0.006757115     98"
      ]
     },
     "metadata": {},
     "output_type": "display_data"
    }
   ],
   "source": [
    "tail(calibration_result)"
   ]
  },
  {
   "cell_type": "raw",
   "id": "4f227a19-324a-48fe-992c-511fa6b778d4",
   "metadata": {},
   "source": [
    "- predy 原始插值 *\n",
    "- calibrated.orig = cal 全部结果 *\n",
    "- calibrated.corrected cal - optimism 采样矫正 *\n",
    "- index.orig  cal - predy 全部-原始\n",
    "- training 训练集采样\n",
    "- test 测试集采样\n",
    "- optimism 训练采样-测试采样\n",
    "- index.corrected cal - predy - optimism\n",
    "- num 某个位置非缺失值的个数"
   ]
  },
  {
   "cell_type": "code",
   "execution_count": 114,
   "id": "fa6767f8-1194-496f-afcc-3c194b4d3cd2",
   "metadata": {},
   "outputs": [
    {
     "data": {
      "text/html": [
       "<style>\n",
       ".list-inline {list-style: none; margin:0; padding: 0}\n",
       ".list-inline>li {display: inline-block}\n",
       ".list-inline>li:not(:last-child)::after {content: \"\\00b7\"; padding: 0 .5ex}\n",
       "</style>\n",
       "<ol class=list-inline><li>86</li><li>100</li><li>100</li><li>100</li><li>100</li><li>100</li><li>100</li><li>100</li><li>100</li><li>100</li><li>100</li><li>100</li><li>100</li><li>100</li><li>100</li><li>100</li><li>100</li><li>100</li><li>100</li><li>100</li><li>100</li><li>100</li><li>100</li><li>100</li><li>100</li><li>100</li><li>100</li><li>100</li><li>100</li><li>100</li><li>100</li><li>100</li><li>100</li><li>100</li><li>100</li><li>100</li><li>100</li><li>100</li><li>100</li><li>100</li><li>100</li><li>100</li><li>100</li><li>100</li><li>100</li><li>100</li><li>100</li><li>100</li><li>100</li><li>98</li></ol>\n"
      ],
      "text/latex": [
       "\\begin{enumerate*}\n",
       "\\item 86\n",
       "\\item 100\n",
       "\\item 100\n",
       "\\item 100\n",
       "\\item 100\n",
       "\\item 100\n",
       "\\item 100\n",
       "\\item 100\n",
       "\\item 100\n",
       "\\item 100\n",
       "\\item 100\n",
       "\\item 100\n",
       "\\item 100\n",
       "\\item 100\n",
       "\\item 100\n",
       "\\item 100\n",
       "\\item 100\n",
       "\\item 100\n",
       "\\item 100\n",
       "\\item 100\n",
       "\\item 100\n",
       "\\item 100\n",
       "\\item 100\n",
       "\\item 100\n",
       "\\item 100\n",
       "\\item 100\n",
       "\\item 100\n",
       "\\item 100\n",
       "\\item 100\n",
       "\\item 100\n",
       "\\item 100\n",
       "\\item 100\n",
       "\\item 100\n",
       "\\item 100\n",
       "\\item 100\n",
       "\\item 100\n",
       "\\item 100\n",
       "\\item 100\n",
       "\\item 100\n",
       "\\item 100\n",
       "\\item 100\n",
       "\\item 100\n",
       "\\item 100\n",
       "\\item 100\n",
       "\\item 100\n",
       "\\item 100\n",
       "\\item 100\n",
       "\\item 100\n",
       "\\item 100\n",
       "\\item 98\n",
       "\\end{enumerate*}\n"
      ],
      "text/markdown": [
       "1. 86\n",
       "2. 100\n",
       "3. 100\n",
       "4. 100\n",
       "5. 100\n",
       "6. 100\n",
       "7. 100\n",
       "8. 100\n",
       "9. 100\n",
       "10. 100\n",
       "11. 100\n",
       "12. 100\n",
       "13. 100\n",
       "14. 100\n",
       "15. 100\n",
       "16. 100\n",
       "17. 100\n",
       "18. 100\n",
       "19. 100\n",
       "20. 100\n",
       "21. 100\n",
       "22. 100\n",
       "23. 100\n",
       "24. 100\n",
       "25. 100\n",
       "26. 100\n",
       "27. 100\n",
       "28. 100\n",
       "29. 100\n",
       "30. 100\n",
       "31. 100\n",
       "32. 100\n",
       "33. 100\n",
       "34. 100\n",
       "35. 100\n",
       "36. 100\n",
       "37. 100\n",
       "38. 100\n",
       "39. 100\n",
       "40. 100\n",
       "41. 100\n",
       "42. 100\n",
       "43. 100\n",
       "44. 100\n",
       "45. 100\n",
       "46. 100\n",
       "47. 100\n",
       "48. 100\n",
       "49. 100\n",
       "50. 98\n",
       "\n",
       "\n"
      ],
      "text/plain": [
       " [1]  86 100 100 100 100 100 100 100 100 100 100 100 100 100 100 100 100 100 100\n",
       "[20] 100 100 100 100 100 100 100 100 100 100 100 100 100 100 100 100 100 100 100\n",
       "[39] 100 100 100 100 100 100 100 100 100 100 100  98"
      ]
     },
     "metadata": {},
     "output_type": "display_data"
    }
   ],
   "source": [
    "calibration_result[, 9]"
   ]
  },
  {
   "cell_type": "code",
   "execution_count": 115,
   "id": "308c66c0-f1df-467f-82d7-2359dc3d1788",
   "metadata": {},
   "outputs": [
    {
     "data": {
      "text/html": [
       "50"
      ],
      "text/latex": [
       "50"
      ],
      "text/markdown": [
       "50"
      ],
      "text/plain": [
       "[1] 50"
      ]
     },
     "metadata": {},
     "output_type": "display_data"
    }
   ],
   "source": [
    "length(calibration_result[, 9])"
   ]
  },
  {
   "cell_type": "code",
   "execution_count": 107,
   "id": "aaea559b-e345-4bf1-98ce-cda7dc481e31",
   "metadata": {
    "tags": []
   },
   "outputs": [
    {
     "name": "stdout",
     "output_type": "stream",
     "text": [
      "\n",
      "n=1000   Mean absolute error=0.004   Mean squared error=0.00046\n",
      "0.9 Quantile of absolute error=0.001\n",
      "\n"
     ]
    },
    {
     "data": {
      "image/png": "[encoded data removed]",
      "text/plain": [
       "Plot with title \"Calibration Curve\""
      ]
     },
     "metadata": {
      "image/png": {
       "height": 420,
       "width": 420
      }
     },
     "output_type": "display_data"
    }
   ],
   "source": [
    "# 绘制校准曲线\n",
    "plot(calibration_result, main = \"Calibration Curve\", xlab = \"Predicted Probability\", ylab = \"Observed Proportion\")"
   ]
  },
  {
   "cell_type": "markdown",
   "id": "f8cbe22e-109b-4d33-8cad-6fe26722456a",
   "metadata": {},
   "source": [
    "# 校准曲线计算过程"
   ]
  },
  {
   "cell_type": "raw",
   "id": "e7d90059-a31e-411a-a198-b95b27a5aa2d",
   "metadata": {},
   "source": [
    "https://github.com/harrelfe/rms/blob/master/R/calibrate.default.s\n",
    "https://github.com/harrelfe/rms/blob/master/R/predab.resample.s"
   ]
  },
  {
   "cell_type": "markdown",
   "id": "a06de507-01ab-4100-b0cd-43b4dd087354",
   "metadata": {
    "jp-MarkdownHeadingCollapsed": true,
    "tags": []
   },
   "source": [
    "## 取出模型内容"
   ]
  },
  {
   "cell_type": "code",
   "execution_count": 11,
   "id": "025bec0f-3016-4de6-9ebd-45e26992f4f7",
   "metadata": {},
   "outputs": [
    {
     "data": {
      "text/html": [
       "1"
      ],
      "text/latex": [
       "1"
      ],
      "text/markdown": [
       "1"
      ],
      "text/plain": [
       "[1] 1"
      ]
     },
     "metadata": {},
     "output_type": "display_data"
    }
   ],
   "source": [
    "non.slopes <- num.intercepts(model, 'coef')\n",
    "non.slopes"
   ]
  },
  {
   "cell_type": "code",
   "execution_count": 12,
   "id": "b116fd07-f9da-4de1-a01c-a70e1fda1b2b",
   "metadata": {
    "tags": []
   },
   "outputs": [
    {
     "data": {
      "text/html": [
       "<table class=\"dataframe\">\n",
       "<caption>A matrix: 6 × 4 of type dbl</caption>\n",
       "<thead>\n",
       "\t<tr><th></th><th scope=col>Age</th><th scope=col>Blood_Sugar</th><th scope=col>Blood_Pressure</th><th scope=col>Weight</th></tr>\n",
       "</thead>\n",
       "<tbody>\n",
       "\t<tr><th scope=row>1</th><td>58</td><td> 99.97546</td><td>106.3281</td><td>62.44868</td></tr>\n",
       "\t<tr><th scope=row>2</th><td>71</td><td> 93.60951</td><td>134.1907</td><td>67.87585</td></tr>\n",
       "\t<tr><th scope=row>3</th><td>48</td><td>119.13195</td><td>115.7733</td><td>49.26310</td></tr>\n",
       "\t<tr><th scope=row>4</th><td>34</td><td> 98.62651</td><td>117.6520</td><td>93.11179</td></tr>\n",
       "\t<tr><th scope=row>5</th><td>62</td><td>114.05609</td><td>119.4568</td><td>71.04322</td></tr>\n",
       "\t<tr><th scope=row>6</th><td>27</td><td> 91.46011</td><td>131.4862</td><td>80.83883</td></tr>\n",
       "</tbody>\n",
       "</table>\n"
      ],
      "text/latex": [
       "A matrix: 6 × 4 of type dbl\n",
       "\\begin{tabular}{r|llll}\n",
       "  & Age & Blood\\_Sugar & Blood\\_Pressure & Weight\\\\\n",
       "\\hline\n",
       "\t1 & 58 &  99.97546 & 106.3281 & 62.44868\\\\\n",
       "\t2 & 71 &  93.60951 & 134.1907 & 67.87585\\\\\n",
       "\t3 & 48 & 119.13195 & 115.7733 & 49.26310\\\\\n",
       "\t4 & 34 &  98.62651 & 117.6520 & 93.11179\\\\\n",
       "\t5 & 62 & 114.05609 & 119.4568 & 71.04322\\\\\n",
       "\t6 & 27 &  91.46011 & 131.4862 & 80.83883\\\\\n",
       "\\end{tabular}\n"
      ],
      "text/markdown": [
       "\n",
       "A matrix: 6 × 4 of type dbl\n",
       "\n",
       "| <!--/--> | Age | Blood_Sugar | Blood_Pressure | Weight |\n",
       "|---|---|---|---|---|\n",
       "| 1 | 58 |  99.97546 | 106.3281 | 62.44868 |\n",
       "| 2 | 71 |  93.60951 | 134.1907 | 67.87585 |\n",
       "| 3 | 48 | 119.13195 | 115.7733 | 49.26310 |\n",
       "| 4 | 34 |  98.62651 | 117.6520 | 93.11179 |\n",
       "| 5 | 62 | 114.05609 | 119.4568 | 71.04322 |\n",
       "| 6 | 27 |  91.46011 | 131.4862 | 80.83883 |\n",
       "\n"
      ],
      "text/plain": [
       "  Age Blood_Sugar Blood_Pressure Weight  \n",
       "1 58   99.97546   106.3281       62.44868\n",
       "2 71   93.60951   134.1907       67.87585\n",
       "3 48  119.13195   115.7733       49.26310\n",
       "4 34   98.62651   117.6520       93.11179\n",
       "5 62  114.05609   119.4568       71.04322\n",
       "6 27   91.46011   131.4862       80.83883"
      ]
     },
     "metadata": {},
     "output_type": "display_data"
    }
   ],
   "source": [
    "x <- model[['x']]\n",
    "head(x)"
   ]
  },
  {
   "cell_type": "code",
   "execution_count": 13,
   "id": "47d535a1-ca25-4620-8f4e-85c74a20aa8b",
   "metadata": {},
   "outputs": [
    {
     "data": {
      "text/html": [
       "<style>\n",
       ".dl-inline {width: auto; margin:0; padding: 0}\n",
       ".dl-inline>dt, .dl-inline>dd {float: none; width: auto; display: inline-block}\n",
       ".dl-inline>dt::after {content: \":\\0020\"; padding-right: .5ex}\n",
       ".dl-inline>dt:not(:first-of-type) {padding-left: .5ex}\n",
       "</style><dl class=dl-inline><dt>Intercept</dt><dd>-109.6707201752</dd><dt>Age</dt><dd>0.495326807417277</dd><dt>Blood_Sugar</dt><dd>0.555763449151369</dd><dt>Blood_Pressure</dt><dd>0.0134730684372247</dd><dt>Weight</dt><dd>0.0646939048336378</dd></dl>\n"
      ],
      "text/latex": [
       "\\begin{description*}\n",
       "\\item[Intercept] -109.6707201752\n",
       "\\item[Age] 0.495326807417277\n",
       "\\item[Blood\\textbackslash{}\\_Sugar] 0.555763449151369\n",
       "\\item[Blood\\textbackslash{}\\_Pressure] 0.0134730684372247\n",
       "\\item[Weight] 0.0646939048336378\n",
       "\\end{description*}\n"
      ],
      "text/markdown": [
       "Intercept\n",
       ":   -109.6707201752Age\n",
       ":   0.495326807417277Blood_Sugar\n",
       ":   0.555763449151369Blood_Pressure\n",
       ":   0.0134730684372247Weight\n",
       ":   0.0646939048336378\n",
       "\n"
      ],
      "text/plain": [
       "     Intercept            Age    Blood_Sugar Blood_Pressure         Weight \n",
       " -109.67072018     0.49532681     0.55576345     0.01347307     0.06469390 "
      ]
     },
     "metadata": {},
     "output_type": "display_data"
    }
   ],
   "source": [
    "b <- model$coef\n",
    "b"
   ]
  },
  {
   "cell_type": "code",
   "execution_count": 14,
   "id": "9671dddd-da3e-44eb-aba7-d6c8ecd36bd8",
   "metadata": {},
   "outputs": [
    {
     "data": {
      "text/html": [
       "1000"
      ],
      "text/latex": [
       "1000"
      ],
      "text/markdown": [
       "1000"
      ],
      "text/plain": [
       "[1] 1000"
      ]
     },
     "metadata": {},
     "output_type": "display_data"
    }
   ],
   "source": [
    "n <- nrow(x)\n",
    "n"
   ]
  },
  {
   "cell_type": "code",
   "execution_count": 15,
   "id": "1b2b4a7e-8ddd-46f7-9c96-2757b50bc238",
   "metadata": {},
   "outputs": [
    {
     "data": {
      "text/html": [
       "<style>\n",
       ".list-inline {list-style: none; margin:0; padding: 0}\n",
       ".list-inline>li {display: inline-block}\n",
       ".list-inline>li:not(:last-child)::after {content: \"\\00b7\"; padding: 0 .5ex}\n",
       "</style>\n",
       "<ol class=list-inline><li>1</li><li>2</li><li>3</li><li>4</li><li>5</li></ol>\n"
      ],
      "text/latex": [
       "\\begin{enumerate*}\n",
       "\\item 1\n",
       "\\item 2\n",
       "\\item 3\n",
       "\\item 4\n",
       "\\item 5\n",
       "\\end{enumerate*}\n"
      ],
      "text/markdown": [
       "1. 1\n",
       "2. 2\n",
       "3. 3\n",
       "4. 4\n",
       "5. 5\n",
       "\n",
       "\n"
      ],
      "text/plain": [
       "[1] 1 2 3 4 5"
      ]
     },
     "metadata": {},
     "output_type": "display_data"
    }
   ],
   "source": [
    "orig.col.kept <- seq(along=model$coef)\n",
    "orig.col.kept"
   ]
  },
  {
   "cell_type": "code",
   "execution_count": 16,
   "id": "fef0528c-b33f-436d-8632-941256b09c24",
   "metadata": {},
   "outputs": [],
   "source": [
    "  x.index <- function(i, ns)\n",
    "    if(ns == 0) i else setdiff(i, 1 : ns) - ns"
   ]
  },
  {
   "cell_type": "code",
   "execution_count": 17,
   "id": "aa40c52f-3e36-45a0-bd72-6e4e0888c858",
   "metadata": {},
   "outputs": [
    {
     "data": {
      "text/html": [
       "<style>\n",
       ".list-inline {list-style: none; margin:0; padding: 0}\n",
       ".list-inline>li {display: inline-block}\n",
       ".list-inline>li:not(:last-child)::after {content: \"\\00b7\"; padding: 0 .5ex}\n",
       "</style>\n",
       "<ol class=list-inline><li>1</li><li>2</li><li>3</li><li>4</li></ol>\n"
      ],
      "text/latex": [
       "\\begin{enumerate*}\n",
       "\\item 1\n",
       "\\item 2\n",
       "\\item 3\n",
       "\\item 4\n",
       "\\end{enumerate*}\n"
      ],
      "text/markdown": [
       "1. 1\n",
       "2. 2\n",
       "3. 3\n",
       "4. 4\n",
       "\n",
       "\n"
      ],
      "text/plain": [
       "[1] 1 2 3 4"
      ]
     },
     "metadata": {},
     "output_type": "display_data"
    }
   ],
   "source": [
    "xcol <- x.index(orig.col.kept, non.slopes)\n",
    "xcol"
   ]
  },
  {
   "cell_type": "code",
   "execution_count": 18,
   "id": "39227ae4-fe35-403b-b441-c9645126d4b6",
   "metadata": {},
   "outputs": [
    {
     "data": {
      "text/html": [
       "4000"
      ],
      "text/latex": [
       "4000"
      ],
      "text/markdown": [
       "4000"
      ],
      "text/plain": [
       "[1] 4000"
      ]
     },
     "metadata": {},
     "output_type": "display_data"
    }
   ],
   "source": [
    "length(x)"
   ]
  },
  {
   "cell_type": "code",
   "execution_count": 19,
   "id": "41dead4c-1fd1-43a8-9028-048a46594a4e",
   "metadata": {},
   "outputs": [],
   "source": [
    "Xb <- function(x, b, non.slopes, n, kint=1) {\n",
    "if(length(x)) matxv(x, b, kint=kint)\n",
    "else if(non.slopes == 0 || ! length(kint)) rep(0, n)\n",
    "else rep(b[kint], n)\n",
    "}"
   ]
  },
  {
   "cell_type": "code",
   "execution_count": 20,
   "id": "d9bbdc67-5618-4811-b255-248ca935de95",
   "metadata": {},
   "outputs": [
    {
     "data": {
      "text/html": [
       "-19.9064441358968"
      ],
      "text/latex": [
       "-19.9064441358968"
      ],
      "text/markdown": [
       "-19.9064441358968"
      ],
      "text/plain": [
       "[1] -19.90644"
      ]
     },
     "metadata": {},
     "output_type": "display_data"
    }
   ],
   "source": [
    "0.495326807417277 * 58 + 0.555763449151369 * 99.97546 + 0.0134730684372247 * 106.3281 + 0.0646939048336378 * 62.44868 -109.6707201752"
   ]
  },
  {
   "cell_type": "code",
   "execution_count": 21,
   "id": "a676f18a-c644-4c88-a4b0-e6d03f531dab",
   "metadata": {},
   "outputs": [
    {
     "data": {
      "text/html": [
       "<style>\n",
       ".dl-inline {width: auto; margin:0; padding: 0}\n",
       ".dl-inline>dt, .dl-inline>dd {float: none; width: auto; display: inline-block}\n",
       ".dl-inline>dt::after {content: \":\\0020\"; padding-right: .5ex}\n",
       ".dl-inline>dt:not(:first-of-type) {padding-left: .5ex}\n",
       "</style><dl class=dl-inline><dt>1</dt><dd>-19.9064432627967</dd><dt>2</dt><dd>-16.2786558963877</dd><dt>3</dt><dd>-14.939007011338</dd><dt>4</dt><dd>-30.4077015382796</dd><dt>5</dt><dd>-9.36673989751706</dd><dt>6</dt><dd>-38.4654097041462</dd></dl>\n"
      ],
      "text/latex": [
       "\\begin{description*}\n",
       "\\item[1] -19.9064432627967\n",
       "\\item[2] -16.2786558963877\n",
       "\\item[3] -14.939007011338\n",
       "\\item[4] -30.4077015382796\n",
       "\\item[5] -9.36673989751706\n",
       "\\item[6] -38.4654097041462\n",
       "\\end{description*}\n"
      ],
      "text/markdown": [
       "1\n",
       ":   -19.90644326279672\n",
       ":   -16.27865589638773\n",
       ":   -14.9390070113384\n",
       ":   -30.40770153827965\n",
       ":   -9.366739897517066\n",
       ":   -38.4654097041462\n",
       "\n"
      ],
      "text/plain": [
       "        1         2         3         4         5         6 \n",
       "-19.90644 -16.27866 -14.93901 -30.40770  -9.36674 -38.46541 "
      ]
     },
     "metadata": {},
     "output_type": "display_data"
    }
   ],
   "source": [
    "head(matxv(x, b))"
   ]
  },
  {
   "cell_type": "code",
   "execution_count": 22,
   "id": "669207ea-16f1-4e7a-9ee8-f239e170859c",
   "metadata": {},
   "outputs": [
    {
     "data": {
      "text/html": [
       "1000"
      ],
      "text/latex": [
       "1000"
      ],
      "text/markdown": [
       "1000"
      ],
      "text/plain": [
       "[1] 1000"
      ]
     },
     "metadata": {},
     "output_type": "display_data"
    }
   ],
   "source": [
    "length(matxv(x, b))"
   ]
  },
  {
   "cell_type": "code",
   "execution_count": 23,
   "id": "ef3f6301-1908-4667-abbe-24253e0d7b60",
   "metadata": {},
   "outputs": [
    {
     "data": {
      "text/html": [
       "<style>\n",
       ".dl-inline {width: auto; margin:0; padding: 0}\n",
       ".dl-inline>dt, .dl-inline>dd {float: none; width: auto; display: inline-block}\n",
       ".dl-inline>dt::after {content: \":\\0020\"; padding-right: .5ex}\n",
       ".dl-inline>dt:not(:first-of-type) {padding-left: .5ex}\n",
       "</style><dl class=dl-inline><dt>1</dt><dd>-19.9064432627967</dd><dt>2</dt><dd>-16.2786558963877</dd><dt>3</dt><dd>-14.939007011338</dd><dt>4</dt><dd>-30.4077015382796</dd><dt>5</dt><dd>-9.36673989751706</dd><dt>6</dt><dd>-38.4654097041462</dd></dl>\n"
      ],
      "text/latex": [
       "\\begin{description*}\n",
       "\\item[1] -19.9064432627967\n",
       "\\item[2] -16.2786558963877\n",
       "\\item[3] -14.939007011338\n",
       "\\item[4] -30.4077015382796\n",
       "\\item[5] -9.36673989751706\n",
       "\\item[6] -38.4654097041462\n",
       "\\end{description*}\n"
      ],
      "text/markdown": [
       "1\n",
       ":   -19.90644326279672\n",
       ":   -16.27865589638773\n",
       ":   -14.9390070113384\n",
       ":   -30.40770153827965\n",
       ":   -9.366739897517066\n",
       ":   -38.4654097041462\n",
       "\n"
      ],
      "text/plain": [
       "        1         2         3         4         5         6 \n",
       "-19.90644 -16.27866 -14.93901 -30.40770  -9.36674 -38.46541 "
      ]
     },
     "metadata": {},
     "output_type": "display_data"
    }
   ],
   "source": [
    "xb <- Xb(x[, xcol, drop=FALSE], b, non.slopes, n,\n",
    "       kint=1)\n",
    "head(xb)"
   ]
  },
  {
   "cell_type": "code",
   "execution_count": 24,
   "id": "14e04745-98fc-449c-88cb-a1526c21f5b0",
   "metadata": {},
   "outputs": [
    {
     "data": {
      "text/html": [
       "<style>\n",
       ".list-inline {list-style: none; margin:0; padding: 0}\n",
       ".list-inline>li {display: inline-block}\n",
       ".list-inline>li:not(:last-child)::after {content: \"\\00b7\"; padding: 0 .5ex}\n",
       "</style>\n",
       "<ol class=list-inline><li>0</li><li>0</li><li>0</li><li>0</li><li>0</li><li>0</li></ol>\n"
      ],
      "text/latex": [
       "\\begin{enumerate*}\n",
       "\\item 0\n",
       "\\item 0\n",
       "\\item 0\n",
       "\\item 0\n",
       "\\item 0\n",
       "\\item 0\n",
       "\\end{enumerate*}\n"
      ],
      "text/markdown": [
       "1. 0\n",
       "2. 0\n",
       "3. 0\n",
       "4. 0\n",
       "5. 0\n",
       "6. 0\n",
       "\n",
       "\n"
      ],
      "text/plain": [
       "[1] 0 0 0 0 0 0"
      ]
     },
     "metadata": {},
     "output_type": "display_data"
    }
   ],
   "source": [
    "y <- model[['y']]\n",
    "head(y)"
   ]
  },
  {
   "cell_type": "code",
   "execution_count": 25,
   "id": "c3ee0f12-37d5-40aa-a29f-88bb772f971f",
   "metadata": {},
   "outputs": [
    {
     "data": {
      "text/plain": [
       "NULL"
      ]
     },
     "metadata": {},
     "output_type": "display_data"
    }
   ],
   "source": [
    "stra <- model$strata\n",
    "stra"
   ]
  },
  {
   "cell_type": "markdown",
   "id": "5b2534e9-cdb6-40d8-99d9-405abf3b5fea",
   "metadata": {},
   "source": [
    "## Apparent计算"
   ]
  },
  {
   "cell_type": "code",
   "execution_count": 26,
   "id": "4c948161-1e6c-4447-b135-a23f2c94d34f",
   "metadata": {},
   "outputs": [
    {
     "data": {
      "text/html": [
       "<style>\n",
       ".list-inline {list-style: none; margin:0; padding: 0}\n",
       ".list-inline>li {display: inline-block}\n",
       ".list-inline>li:not(:last-child)::after {content: \"\\00b7\"; padding: 0 .5ex}\n",
       "</style>\n",
       "<ol class=list-inline><li>2.26329693692632e-09</li><li>8.51666440477982e-08</li><li>3.25140858910936e-07</li><li>6.22447912180017e-14</li><li>8.55144307463475e-05</li><li>1.97099181757202e-17</li></ol>\n"
      ],
      "text/latex": [
       "\\begin{enumerate*}\n",
       "\\item 2.26329693692632e-09\n",
       "\\item 8.51666440477982e-08\n",
       "\\item 3.25140858910936e-07\n",
       "\\item 6.22447912180017e-14\n",
       "\\item 8.55144307463475e-05\n",
       "\\item 1.97099181757202e-17\n",
       "\\end{enumerate*}\n"
      ],
      "text/markdown": [
       "1. 2.26329693692632e-09\n",
       "2. 8.51666440477982e-08\n",
       "3. 3.25140858910936e-07\n",
       "4. 6.22447912180017e-14\n",
       "5. 8.55144307463475e-05\n",
       "6. 1.97099181757202e-17\n",
       "\n",
       "\n"
      ],
      "text/plain": [
       "[1] 2.263297e-09 8.516664e-08 3.251409e-07 6.224479e-14 8.551443e-05\n",
       "[6] 1.970992e-17"
      ]
     },
     "metadata": {},
     "output_type": "display_data"
    }
   ],
   "source": [
    "# 将线性方程的预测结果转化成predicted概率， 等价于sklearn的predict_prob\n",
    "predicted <- plogis(model$linear.predictors - model$coefficients[1] + model$coefficients[1]) \n",
    "head(predicted)"
   ]
  },
  {
   "cell_type": "code",
   "execution_count": 27,
   "id": "18f5a43e-3469-433c-a9d2-403d9f27f7e0",
   "metadata": {},
   "outputs": [
    {
     "data": {
      "text/html": [
       "<style>\n",
       ".list-inline {list-style: none; margin:0; padding: 0}\n",
       ".list-inline>li {display: inline-block}\n",
       ".list-inline>li:not(:last-child)::after {content: \"\\00b7\"; padding: 0 .5ex}\n",
       "</style>\n",
       "<ol class=list-inline><li>-19.9064432627967</li><li>-16.2786558963877</li><li>-14.939007011338</li><li>-30.4077015382796</li><li>-9.36673989751706</li><li>-38.4654097041462</li></ol>\n"
      ],
      "text/latex": [
       "\\begin{enumerate*}\n",
       "\\item -19.9064432627967\n",
       "\\item -16.2786558963877\n",
       "\\item -14.939007011338\n",
       "\\item -30.4077015382796\n",
       "\\item -9.36673989751706\n",
       "\\item -38.4654097041462\n",
       "\\end{enumerate*}\n"
      ],
      "text/markdown": [
       "1. -19.9064432627967\n",
       "2. -16.2786558963877\n",
       "3. -14.939007011338\n",
       "4. -30.4077015382796\n",
       "5. -9.36673989751706\n",
       "6. -38.4654097041462\n",
       "\n",
       "\n"
      ],
      "text/plain": [
       "[1] -19.90644 -16.27866 -14.93901 -30.40770  -9.36674 -38.46541"
      ]
     },
     "metadata": {},
     "output_type": "display_data"
    }
   ],
   "source": [
    "head(model$linear.predictors)"
   ]
  },
  {
   "cell_type": "code",
   "execution_count": 28,
   "id": "dd8f676f-53de-4502-91c1-46f86562628a",
   "metadata": {},
   "outputs": [
    {
     "data": {
      "text/html": [
       "<style>\n",
       ".list-inline {list-style: none; margin:0; padding: 0}\n",
       ".list-inline>li {display: inline-block}\n",
       ".list-inline>li:not(:last-child)::after {content: \"\\00b7\"; padding: 0 .5ex}\n",
       "</style>\n",
       "<ol class=list-inline><li>6.48726475354952e-24</li><li>0.0204054528210636</li><li>0.0408109056421272</li><li>0.0612163584631907</li><li>0.0816218112842543</li><li>0.102027264105318</li></ol>\n"
      ],
      "text/latex": [
       "\\begin{enumerate*}\n",
       "\\item 6.48726475354952e-24\n",
       "\\item 0.0204054528210636\n",
       "\\item 0.0408109056421272\n",
       "\\item 0.0612163584631907\n",
       "\\item 0.0816218112842543\n",
       "\\item 0.102027264105318\n",
       "\\end{enumerate*}\n"
      ],
      "text/markdown": [
       "1. 6.48726475354952e-24\n",
       "2. 0.0204054528210636\n",
       "3. 0.0408109056421272\n",
       "4. 0.0612163584631907\n",
       "5. 0.0816218112842543\n",
       "6. 0.102027264105318\n",
       "\n",
       "\n"
      ],
      "text/plain": [
       "[1] 6.487265e-24 2.040545e-02 4.081091e-02 6.121636e-02 8.162181e-02\n",
       "[6] 1.020273e-01"
      ]
     },
     "metadata": {},
     "output_type": "display_data"
    }
   ],
   "source": [
    "# 生成5个间隔的predy\n",
    "if(n < 11) stop(\"must have n > 10 if do not specify predy\")\n",
    "p <- sort(predicted)\n",
    "predy <- seq(p[5], p[n-4], length=50)\n",
    "p <- NULL\n",
    "head(predy)"
   ]
  },
  {
   "cell_type": "code",
   "execution_count": 31,
   "id": "97ec2a07-9935-4331-a430-ce81eae97985",
   "metadata": {},
   "outputs": [
    {
     "data": {
      "text/html": [
       "'lr'"
      ],
      "text/latex": [
       "'lr'"
      ],
      "text/markdown": [
       "'lr'"
      ],
      "text/plain": [
       "[1] \"lr\""
      ]
     },
     "metadata": {},
     "output_type": "display_data"
    }
   ],
   "source": [
    "# 计算模型名称，就是lr\n",
    "clas <- attr(model,\"class\")\n",
    "model_name <- if(any(clas==\"lrm\"))\"lr\" else if(any(clas==\"ols\")) \"ol\" else stop(\"fit must be from lrm or ols\")\n",
    "model_name"
   ]
  },
  {
   "cell_type": "code",
   "execution_count": 32,
   "id": "c7c2ceac-99d4-4bc3-a317-f64411d000da",
   "metadata": {},
   "outputs": [],
   "source": [
    "# 定义校准的误差结果\n",
    "cal.error <- function(x, y, iter, smoother, predy, kint, model,\n",
    "                        digits=NULL, ...)\n",
    "    {\n",
    "      if(model==\"lr\") {\n",
    "        x <- plogis(x)\n",
    "        y <- y >= kint\n",
    "      }\n",
    "      if(length(digits)) x <- round(x, digits)\n",
    "      smo <- if(is.function(smoother)) smoother(x, y) else\n",
    "       lowess(x, y, iter=0)\n",
    "      cal <- approx(smo, xout=predy, ties=function(x)x[1])$y\n",
    "      if(iter==0) structure(cal - predy, keepinfo=list(orig.cal=cal)) else\n",
    "      cal - predy\n",
    "    }"
   ]
  },
  {
   "cell_type": "code",
   "execution_count": 43,
   "id": "307ae283-2f46-4090-aa27-c9307cf2f913",
   "metadata": {},
   "outputs": [
    {
     "data": {
      "text/html": [
       "<style>\n",
       ".list-inline {list-style: none; margin:0; padding: 0}\n",
       ".list-inline>li {display: inline-block}\n",
       ".list-inline>li:not(:last-child)::after {content: \"\\00b7\"; padding: 0 .5ex}\n",
       "</style>\n",
       "<ol class=list-inline><li>0</li><li>0</li><li>0</li><li>0</li><li>0</li><li>0</li></ol>\n"
      ],
      "text/latex": [
       "\\begin{enumerate*}\n",
       "\\item 0\n",
       "\\item 0\n",
       "\\item 0\n",
       "\\item 0\n",
       "\\item 0\n",
       "\\item 0\n",
       "\\end{enumerate*}\n"
      ],
      "text/markdown": [
       "1. 0\n",
       "2. 0\n",
       "3. 0\n",
       "4. 0\n",
       "5. 0\n",
       "6. 0\n",
       "\n",
       "\n"
      ],
      "text/plain": [
       "[1] 0 0 0 0 0 0"
      ]
     },
     "metadata": {},
     "output_type": "display_data"
    }
   ],
   "source": [
    "head(y)"
   ]
  },
  {
   "cell_type": "code",
   "execution_count": 44,
   "id": "1898dd30-2506-4ea2-8da5-a28ebc69d6c2",
   "metadata": {},
   "outputs": [
    {
     "data": {
      "text/html": [
       "<style>\n",
       ".dl-inline {width: auto; margin:0; padding: 0}\n",
       ".dl-inline>dt, .dl-inline>dd {float: none; width: auto; display: inline-block}\n",
       ".dl-inline>dt::after {content: \":\\0020\"; padding-right: .5ex}\n",
       ".dl-inline>dt:not(:first-of-type) {padding-left: .5ex}\n",
       "</style><dl class=dl-inline><dt>1</dt><dd>2.26329693692632e-09</dd><dt>2</dt><dd>8.51666440477982e-08</dd><dt>3</dt><dd>3.25140858910936e-07</dd><dt>4</dt><dd>6.22447912180017e-14</dd><dt>5</dt><dd>8.55144307463475e-05</dd><dt>6</dt><dd>1.97099181757202e-17</dd></dl>\n"
      ],
      "text/latex": [
       "\\begin{description*}\n",
       "\\item[1] 2.26329693692632e-09\n",
       "\\item[2] 8.51666440477982e-08\n",
       "\\item[3] 3.25140858910936e-07\n",
       "\\item[4] 6.22447912180017e-14\n",
       "\\item[5] 8.55144307463475e-05\n",
       "\\item[6] 1.97099181757202e-17\n",
       "\\end{description*}\n"
      ],
      "text/markdown": [
       "1\n",
       ":   2.26329693692632e-092\n",
       ":   8.51666440477982e-083\n",
       ":   3.25140858910936e-074\n",
       ":   6.22447912180017e-145\n",
       ":   8.55144307463475e-056\n",
       ":   1.97099181757202e-17\n",
       "\n"
      ],
      "text/plain": [
       "           1            2            3            4            5            6 \n",
       "2.263297e-09 8.516664e-08 3.251409e-07 6.224479e-14 8.551443e-05 1.970992e-17 "
      ]
     },
     "metadata": {},
     "output_type": "display_data"
    }
   ],
   "source": [
    "head(plogis(xb))"
   ]
  },
  {
   "cell_type": "code",
   "execution_count": 52,
   "id": "67e0b679-1893-49f8-8496-9c72cb9a78cc",
   "metadata": {},
   "outputs": [
    {
     "data": {
      "text/html": [
       "0.00999998222516938"
      ],
      "text/latex": [
       "0.00999998222516938"
      ],
      "text/markdown": [
       "0.00999998222516938"
      ],
      "text/plain": [
       "[1] 0.009999982"
      ]
     },
     "metadata": {},
     "output_type": "display_data"
    }
   ],
   "source": [
    "delta = 0.01 * diff(range(plogis(xb)))\n",
    "delta"
   ]
  },
  {
   "cell_type": "code",
   "execution_count": 50,
   "id": "9131e1e4-d3d3-427b-b41c-0a6091bd3970",
   "metadata": {},
   "outputs": [
    {
     "data": {
      "text/html": [
       "<style>\n",
       ".list-inline {list-style: none; margin:0; padding: 0}\n",
       ".list-inline>li {display: inline-block}\n",
       ".list-inline>li:not(:last-child)::after {content: \"\\00b7\"; padding: 0 .5ex}\n",
       "</style>\n",
       "<ol class=list-inline><li>-56.8779887038927</li><li>13.2403104270812</li></ol>\n"
      ],
      "text/latex": [
       "\\begin{enumerate*}\n",
       "\\item -56.8779887038927\n",
       "\\item 13.2403104270812\n",
       "\\end{enumerate*}\n"
      ],
      "text/markdown": [
       "1. -56.8779887038927\n",
       "2. 13.2403104270812\n",
       "\n",
       "\n"
      ],
      "text/plain": [
       "[1] -56.87799  13.24031"
      ]
     },
     "metadata": {},
     "output_type": "display_data"
    }
   ],
   "source": [
    "range(xb)"
   ]
  },
  {
   "cell_type": "raw",
   "id": "3c9e2cb8-9fb1-485f-8f84-637a336e7c6f",
   "metadata": {
    "tags": []
   },
   "source": [
    "lowess(plogis(xb), y, iter=0)"
   ]
  },
  {
   "cell_type": "code",
   "execution_count": 33,
   "id": "b0ba11c6-7bd6-4c7e-b8d0-ef3e0d8dc06f",
   "metadata": {},
   "outputs": [],
   "source": [
    "# 生成结果\n",
    "index.orig <- cal.error(xb, y, strata=stra, fit=model, iter=0, evalfit=TRUE, smoother=\"lowess\",\n",
    "            predy=predy, model=model_name,\n",
    "            kint=1)"
   ]
  },
  {
   "cell_type": "code",
   "execution_count": 34,
   "id": "13725f68-ecdf-4580-89fa-d33903545cca",
   "metadata": {},
   "outputs": [
    {
     "data": {
      "text/html": [
       "<style>\n",
       ".list-inline {list-style: none; margin:0; padding: 0}\n",
       ".list-inline>li {display: inline-block}\n",
       ".list-inline>li:not(:last-child)::after {content: \"\\00b7\"; padding: 0 .5ex}\n",
       "</style>\n",
       "<ol class=list-inline><li>-6.48726475354952e-24</li><li>-0.0204054528210636</li><li>-0.00550074321298068</li><li>0.0353454853796435</li><li>0.0998160214804275</li><li>0.155461298664772</li></ol>\n"
      ],
      "text/latex": [
       "\\begin{enumerate*}\n",
       "\\item -6.48726475354952e-24\n",
       "\\item -0.0204054528210636\n",
       "\\item -0.00550074321298068\n",
       "\\item 0.0353454853796435\n",
       "\\item 0.0998160214804275\n",
       "\\item 0.155461298664772\n",
       "\\end{enumerate*}\n"
      ],
      "text/markdown": [
       "1. -6.48726475354952e-24\n",
       "2. -0.0204054528210636\n",
       "3. -0.00550074321298068\n",
       "4. 0.0353454853796435\n",
       "5. 0.0998160214804275\n",
       "6. 0.155461298664772\n",
       "\n",
       "\n"
      ],
      "text/plain": [
       "[1] -6.487265e-24 -2.040545e-02 -5.500743e-03  3.534549e-02  9.981602e-02\n",
       "[6]  1.554613e-01"
      ]
     },
     "metadata": {},
     "output_type": "display_data"
    }
   ],
   "source": [
    "# index.orig\n",
    "head(index.orig)"
   ]
  },
  {
   "cell_type": "code",
   "execution_count": 35,
   "id": "a380304e-43fe-4460-a0e6-edf720f478b5",
   "metadata": {},
   "outputs": [
    {
     "data": {
      "text/html": [
       "<style>\n",
       ".list-inline {list-style: none; margin:0; padding: 0}\n",
       ".list-inline>li {display: inline-block}\n",
       ".list-inline>li:not(:last-child)::after {content: \"\\00b7\"; padding: 0 .5ex}\n",
       "</style>\n",
       "<ol class=list-inline><li>0</li><li>0</li><li>0.0353101624291465</li><li>0.0965618438428343</li><li>0.181437832764682</li><li>0.25748856277009</li></ol>\n"
      ],
      "text/latex": [
       "\\begin{enumerate*}\n",
       "\\item 0\n",
       "\\item 0\n",
       "\\item 0.0353101624291465\n",
       "\\item 0.0965618438428343\n",
       "\\item 0.181437832764682\n",
       "\\item 0.25748856277009\n",
       "\\end{enumerate*}\n"
      ],
      "text/markdown": [
       "1. 0\n",
       "2. 0\n",
       "3. 0.0353101624291465\n",
       "4. 0.0965618438428343\n",
       "5. 0.181437832764682\n",
       "6. 0.25748856277009\n",
       "\n",
       "\n"
      ],
      "text/plain": [
       "[1] 0.00000000 0.00000000 0.03531016 0.09656184 0.18143783 0.25748856"
      ]
     },
     "metadata": {},
     "output_type": "display_data"
    }
   ],
   "source": [
    "# calibrated.orig\n",
    "head(index.orig + predy)"
   ]
  },
  {
   "cell_type": "code",
   "execution_count": 36,
   "id": "e7898117-8c5a-4c0e-843c-ce273e7dabed",
   "metadata": {
    "tags": []
   },
   "outputs": [
    {
     "data": {
      "text/html": [
       "<table class=\"dataframe\">\n",
       "<caption>A matrix: 6 × 9 of type dbl</caption>\n",
       "<thead>\n",
       "\t<tr><th scope=col>predy</th><th scope=col>calibrated.orig</th><th scope=col>calibrated.corrected</th><th scope=col>index.orig</th><th scope=col>training</th><th scope=col>test</th><th scope=col>optimism</th><th scope=col>index.corrected</th><th scope=col>n</th></tr>\n",
       "</thead>\n",
       "<tbody>\n",
       "\t<tr><td>6.487265e-24</td><td>0.00000000</td><td>2.747023e-23</td><td>-6.487265e-24</td><td>8.855879e-25</td><td>2.835582e-23</td><td>-2.747023e-23</td><td>2.098297e-23</td><td> 85</td></tr>\n",
       "\t<tr><td>2.040545e-02</td><td>0.00000000</td><td>3.461121e-02</td><td>-2.040545e-02</td><td>8.554842e-03</td><td>4.316605e-02</td><td>-3.461121e-02</td><td>1.420576e-02</td><td>100</td></tr>\n",
       "\t<tr><td>4.081091e-02</td><td>0.03531016</td><td>7.708789e-02</td><td>-5.500743e-03</td><td>5.284404e-03</td><td>4.706214e-02</td><td>-4.177773e-02</td><td>3.627699e-02</td><td>100</td></tr>\n",
       "\t<tr><td>6.121636e-02</td><td>0.09656184</td><td>1.349016e-01</td><td> 3.534549e-02</td><td>8.982587e-03</td><td>4.732234e-02</td><td>-3.833975e-02</td><td>7.368523e-02</td><td>100</td></tr>\n",
       "\t<tr><td>8.162181e-02</td><td>0.18143783</td><td>2.114770e-01</td><td> 9.981602e-02</td><td>2.697332e-02</td><td>5.701244e-02</td><td>-3.003912e-02</td><td>1.298551e-01</td><td>100</td></tr>\n",
       "\t<tr><td>1.020273e-01</td><td>0.25748856</td><td>2.720379e-01</td><td> 1.554613e-01</td><td>4.104217e-02</td><td>5.559153e-02</td><td>-1.454937e-02</td><td>1.700107e-01</td><td>100</td></tr>\n",
       "</tbody>\n",
       "</table>\n"
      ],
      "text/latex": [
       "A matrix: 6 × 9 of type dbl\n",
       "\\begin{tabular}{lllllllll}\n",
       " predy & calibrated.orig & calibrated.corrected & index.orig & training & test & optimism & index.corrected & n\\\\\n",
       "\\hline\n",
       "\t 6.487265e-24 & 0.00000000 & 2.747023e-23 & -6.487265e-24 & 8.855879e-25 & 2.835582e-23 & -2.747023e-23 & 2.098297e-23 &  85\\\\\n",
       "\t 2.040545e-02 & 0.00000000 & 3.461121e-02 & -2.040545e-02 & 8.554842e-03 & 4.316605e-02 & -3.461121e-02 & 1.420576e-02 & 100\\\\\n",
       "\t 4.081091e-02 & 0.03531016 & 7.708789e-02 & -5.500743e-03 & 5.284404e-03 & 4.706214e-02 & -4.177773e-02 & 3.627699e-02 & 100\\\\\n",
       "\t 6.121636e-02 & 0.09656184 & 1.349016e-01 &  3.534549e-02 & 8.982587e-03 & 4.732234e-02 & -3.833975e-02 & 7.368523e-02 & 100\\\\\n",
       "\t 8.162181e-02 & 0.18143783 & 2.114770e-01 &  9.981602e-02 & 2.697332e-02 & 5.701244e-02 & -3.003912e-02 & 1.298551e-01 & 100\\\\\n",
       "\t 1.020273e-01 & 0.25748856 & 2.720379e-01 &  1.554613e-01 & 4.104217e-02 & 5.559153e-02 & -1.454937e-02 & 1.700107e-01 & 100\\\\\n",
       "\\end{tabular}\n"
      ],
      "text/markdown": [
       "\n",
       "A matrix: 6 × 9 of type dbl\n",
       "\n",
       "| predy | calibrated.orig | calibrated.corrected | index.orig | training | test | optimism | index.corrected | n |\n",
       "|---|---|---|---|---|---|---|---|---|\n",
       "| 6.487265e-24 | 0.00000000 | 2.747023e-23 | -6.487265e-24 | 8.855879e-25 | 2.835582e-23 | -2.747023e-23 | 2.098297e-23 |  85 |\n",
       "| 2.040545e-02 | 0.00000000 | 3.461121e-02 | -2.040545e-02 | 8.554842e-03 | 4.316605e-02 | -3.461121e-02 | 1.420576e-02 | 100 |\n",
       "| 4.081091e-02 | 0.03531016 | 7.708789e-02 | -5.500743e-03 | 5.284404e-03 | 4.706214e-02 | -4.177773e-02 | 3.627699e-02 | 100 |\n",
       "| 6.121636e-02 | 0.09656184 | 1.349016e-01 |  3.534549e-02 | 8.982587e-03 | 4.732234e-02 | -3.833975e-02 | 7.368523e-02 | 100 |\n",
       "| 8.162181e-02 | 0.18143783 | 2.114770e-01 |  9.981602e-02 | 2.697332e-02 | 5.701244e-02 | -3.003912e-02 | 1.298551e-01 | 100 |\n",
       "| 1.020273e-01 | 0.25748856 | 2.720379e-01 |  1.554613e-01 | 4.104217e-02 | 5.559153e-02 | -1.454937e-02 | 1.700107e-01 | 100 |\n",
       "\n"
      ],
      "text/plain": [
       "     predy        calibrated.orig calibrated.corrected index.orig   \n",
       "[1,] 6.487265e-24 0.00000000      2.747023e-23         -6.487265e-24\n",
       "[2,] 2.040545e-02 0.00000000      3.461121e-02         -2.040545e-02\n",
       "[3,] 4.081091e-02 0.03531016      7.708789e-02         -5.500743e-03\n",
       "[4,] 6.121636e-02 0.09656184      1.349016e-01          3.534549e-02\n",
       "[5,] 8.162181e-02 0.18143783      2.114770e-01          9.981602e-02\n",
       "[6,] 1.020273e-01 0.25748856      2.720379e-01          1.554613e-01\n",
       "     training     test         optimism      index.corrected n  \n",
       "[1,] 8.855879e-25 2.835582e-23 -2.747023e-23 2.098297e-23     85\n",
       "[2,] 8.554842e-03 4.316605e-02 -3.461121e-02 1.420576e-02    100\n",
       "[3,] 5.284404e-03 4.706214e-02 -4.177773e-02 3.627699e-02    100\n",
       "[4,] 8.982587e-03 4.732234e-02 -3.833975e-02 7.368523e-02    100\n",
       "[5,] 2.697332e-02 5.701244e-02 -3.003912e-02 1.298551e-01    100\n",
       "[6,] 4.104217e-02 5.559153e-02 -1.454937e-02 1.700107e-01    100"
      ]
     },
     "metadata": {},
     "output_type": "display_data"
    }
   ],
   "source": [
    "head(calibration_result)"
   ]
  },
  {
   "cell_type": "markdown",
   "id": "55ea70dd-bb54-4fe1-963d-737134dc1fe9",
   "metadata": {},
   "source": [
    "## Corrected计算"
   ]
  },
  {
   "cell_type": "code",
   "execution_count": 171,
   "id": "c86328ec-ba41-48ff-b0ce-7257f81674a9",
   "metadata": {},
   "outputs": [
    {
     "data": {
      "text/html": [
       "1000"
      ],
      "text/latex": [
       "1000"
      ],
      "text/markdown": [
       "1000"
      ],
      "text/plain": [
       "[1] 1000"
      ]
     },
     "metadata": {},
     "output_type": "display_data"
    }
   ],
   "source": [
    " ## some subjects have multiple records now\n",
    "multi <- FALSE # ! missing(cluster) 因为没有传\n",
    "\n",
    "n.orig <- n\n",
    "n.orig"
   ]
  },
  {
   "cell_type": "code",
   "execution_count": 162,
   "id": "d68c147c-3a76-4afc-8c5d-3e15cfdfd38c",
   "metadata": {},
   "outputs": [],
   "source": [
    "B = 100\n",
    "method = \"boot\"\n",
    "pr=FALSE"
   ]
  },
  {
   "cell_type": "code",
   "execution_count": 157,
   "id": "852f823e-1bcc-47c5-8173-f96f3f32f172",
   "metadata": {},
   "outputs": [],
   "source": [
    "pb <- setPb(B, type=if(method == 'crossvalidation') 'Cross' else 'Boot',\n",
    "          onlytk=! pr,\n",
    "          every=1*(B < 20) + 5*(B >= 20 & B < 50) +\n",
    "            10*(B >= 50 & B < 100) + 20*(B >= 100 & B < 1000) +\n",
    "            50*(B >= 1000))"
   ]
  },
  {
   "cell_type": "code",
   "execution_count": 158,
   "id": "96f07c6a-809f-4858-b262-1f6896b85e3c",
   "metadata": {},
   "outputs": [
    {
     "data": {
      "text/html": [
       "<pre class=language-r><code>function (...) \n",
       "{\n",
       "<span style=white-space:pre-wrap>    invisible()</span>\n",
       "}</code></pre>"
      ],
      "text/latex": [
       "\\begin{minted}{r}\n",
       "function (...) \n",
       "\\{\n",
       "    invisible()\n",
       "\\}\n",
       "\\end{minted}"
      ],
      "text/markdown": [
       "```r\n",
       "function (...) \n",
       "{\n",
       "    invisible()\n",
       "}\n",
       "```"
      ],
      "text/plain": [
       "function (...) \n",
       "{\n",
       "    invisible()\n",
       "}\n",
       "<bytecode: 0x000001c32e759470>\n",
       "<environment: 0x000001c33577f710>"
      ]
     },
     "metadata": {},
     "output_type": "display_data"
    }
   ],
   "source": [
    "pb"
   ]
  },
  {
   "cell_type": "code",
   "execution_count": 156,
   "id": "6ae43ac3-90c7-4423-a186-f9ea8993a109",
   "metadata": {},
   "outputs": [
    {
     "data": {
      "text/html": [
       "100"
      ],
      "text/latex": [
       "100"
      ],
      "text/markdown": [
       "100"
      ],
      "text/plain": [
       "[1] 100"
      ]
     },
     "metadata": {},
     "output_type": "display_data"
    }
   ],
   "source": [
    "B"
   ]
  },
  {
   "cell_type": "markdown",
   "id": "8c933345-9280-4495-84ff-e374202543e4",
   "metadata": {},
   "source": [
    "### 单轮循环"
   ]
  },
  {
   "cell_type": "code",
   "execution_count": 57,
   "id": "e6ea806d-c9e3-4ac4-b326-1922823094e8",
   "metadata": {},
   "outputs": [
    {
     "data": {
      "text/plain": [
       "NULL"
      ]
     },
     "metadata": {},
     "output_type": "display_data"
    }
   ],
   "source": [
    "stra <- model$strata\n",
    "stra"
   ]
  },
  {
   "cell_type": "code",
   "execution_count": 193,
   "id": "ba3653f5-414b-4da5-9d80-d85f08e66d47",
   "metadata": {},
   "outputs": [],
   "source": [
    "boot = {\n",
    "       train <- sample(n.orig, replace=TRUE)\n",
    "       test <- 1 : n\n",
    "}"
   ]
  },
  {
   "cell_type": "code",
   "execution_count": 255,
   "id": "c8c26604-c732-4cf8-ac4e-fabde87025c5",
   "metadata": {},
   "outputs": [
    {
     "data": {
      "text/html": [
       "<style>\n",
       ".list-inline {list-style: none; margin:0; padding: 0}\n",
       ".list-inline>li {display: inline-block}\n",
       ".list-inline>li:not(:last-child)::after {content: \"\\00b7\"; padding: 0 .5ex}\n",
       "</style>\n",
       "<ol class=list-inline><li>1</li><li>2</li><li>3</li><li>4</li><li>5</li><li>6</li></ol>\n"
      ],
      "text/latex": [
       "\\begin{enumerate*}\n",
       "\\item 1\n",
       "\\item 2\n",
       "\\item 3\n",
       "\\item 4\n",
       "\\item 5\n",
       "\\item 6\n",
       "\\end{enumerate*}\n"
      ],
      "text/markdown": [
       "1. 1\n",
       "2. 2\n",
       "3. 3\n",
       "4. 4\n",
       "5. 5\n",
       "6. 6\n",
       "\n",
       "\n"
      ],
      "text/plain": [
       "[1] 1 2 3 4 5 6"
      ]
     },
     "metadata": {},
     "output_type": "display_data"
    }
   ],
   "source": [
    "head(test)"
   ]
  },
  {
   "cell_type": "code",
   "execution_count": 256,
   "id": "d63ca275-0dff-4f44-93fa-8bce5c453ca4",
   "metadata": {},
   "outputs": [
    {
     "data": {
      "text/html": [
       "1000"
      ],
      "text/latex": [
       "1000"
      ],
      "text/markdown": [
       "1000"
      ],
      "text/plain": [
       "[1] 1000"
      ]
     },
     "metadata": {},
     "output_type": "display_data"
    }
   ],
   "source": [
    "length(test)"
   ]
  },
  {
   "cell_type": "code",
   "execution_count": 179,
   "id": "e27a7a87-039f-47a0-b779-b8f690e12d9e",
   "metadata": {},
   "outputs": [],
   "source": [
    "  efit <- function(...) {\n",
    "    message(...)\n",
    "    list(fail=TRUE)\n",
    "  }"
   ]
  },
  {
   "cell_type": "code",
   "execution_count": 183,
   "id": "304cd79f-b17c-45fd-a2fb-51d7fc277fe3",
   "metadata": {},
   "outputs": [
    {
     "data": {
      "text/plain": [
       "NULL"
      ]
     },
     "metadata": {},
     "output_type": "display_data"
    }
   ],
   "source": [
    "penalty.matrix <- model$penalty.matrix\n",
    "penalty.matrix"
   ]
  },
  {
   "cell_type": "code",
   "execution_count": 188,
   "id": "c1be63c2-d9c0-47f3-b11f-30c131aa87ac",
   "metadata": {},
   "outputs": [],
   "source": [
    "  fitit <- function(x, y, model, penalty.matrix=NULL, xcol=NULL, ...) {\n",
    "    if(length(penalty.matrix) && length(xcol)) {\n",
    "      if(model=='ol') xcol <- xcol[-1] - 1   # take off intercept position\n",
    "      penalty.matrix <- penalty.matrix[xcol, xcol, drop=FALSE]\n",
    "    }\n",
    "    f <- lrm.fit(x, y, penalty.matrix=penalty.matrix, tol=.Machine$double.eps)\n",
    "    if(any(is.na(f$coefficients))) f$fail <- TRUE\n",
    "    f\n",
    "  }"
   ]
  },
  {
   "cell_type": "code",
   "execution_count": 190,
   "id": "de471f60-a9c4-4c39-80df-f67ae3ee39b7",
   "metadata": {},
   "outputs": [
    {
     "data": {
      "text/html": [
       "<pre class=language-r><code>function (x, y, model, penalty.matrix = NULL, xcol = NULL, ...) \n",
       "{\n",
       "<span style=white-space:pre-wrap>    if (length(penalty.matrix) &amp;&amp; length(xcol)) {</span>\n",
       "<span style=white-space:pre-wrap>        if (model == \"ol\") </span>\n",
       "<span style=white-space:pre-wrap>            xcol &lt;- xcol[-1] - 1</span>\n",
       "<span style=white-space:pre-wrap>        penalty.matrix &lt;- penalty.matrix[xcol, xcol, drop = FALSE]</span>\n",
       "<span style=white-space:pre-wrap>    }</span>\n",
       "<span style=white-space:pre-wrap>    f &lt;- lrm.fit(x, y, penalty.matrix = penalty.matrix, tol = .Machine$double.eps)</span>\n",
       "<span style=white-space:pre-wrap>    if (any(is.na(f$coefficients))) </span>\n",
       "<span style=white-space:pre-wrap>        f$fail &lt;- TRUE</span>\n",
       "<span style=white-space:pre-wrap>    f</span>\n",
       "}</code></pre>"
      ],
      "text/latex": [
       "\\begin{minted}{r}\n",
       "function (x, y, model, penalty.matrix = NULL, xcol = NULL, ...) \n",
       "\\{\n",
       "    if (length(penalty.matrix) \\&\\& length(xcol)) \\{\n",
       "        if (model == \"ol\") \n",
       "            xcol <- xcol{[}-1{]} - 1\n",
       "        penalty.matrix <- penalty.matrix{[}xcol, xcol, drop = FALSE{]}\n",
       "    \\}\n",
       "    f <- lrm.fit(x, y, penalty.matrix = penalty.matrix, tol = .Machine\\$double.eps)\n",
       "    if (any(is.na(f\\$coefficients))) \n",
       "        f\\$fail <- TRUE\n",
       "    f\n",
       "\\}\n",
       "\\end{minted}"
      ],
      "text/markdown": [
       "```r\n",
       "function (x, y, model, penalty.matrix = NULL, xcol = NULL, ...) \n",
       "{\n",
       "    if (length(penalty.matrix) && length(xcol)) {\n",
       "        if (model == \"ol\") \n",
       "            xcol <- xcol[-1] - 1\n",
       "        penalty.matrix <- penalty.matrix[xcol, xcol, drop = FALSE]\n",
       "    }\n",
       "    f <- lrm.fit(x, y, penalty.matrix = penalty.matrix, tol = .Machine$double.eps)\n",
       "    if (any(is.na(f$coefficients))) \n",
       "        f$fail <- TRUE\n",
       "    f\n",
       "}\n",
       "```"
      ],
      "text/plain": [
       "function (x, y, model, penalty.matrix = NULL, xcol = NULL, ...) \n",
       "{\n",
       "    if (length(penalty.matrix) && length(xcol)) {\n",
       "        if (model == \"ol\") \n",
       "            xcol <- xcol[-1] - 1\n",
       "        penalty.matrix <- penalty.matrix[xcol, xcol, drop = FALSE]\n",
       "    }\n",
       "    f <- lrm.fit(x, y, penalty.matrix = penalty.matrix, tol = .Machine$double.eps)\n",
       "    if (any(is.na(f$coefficients))) \n",
       "        f$fail <- TRUE\n",
       "    f\n",
       "}"
      ]
     },
     "metadata": {},
     "output_type": "display_data"
    }
   ],
   "source": [
    "fit <- fitit\n",
    "fit"
   ]
  },
  {
   "cell_type": "code",
   "execution_count": 200,
   "id": "73849a67-6d51-4583-8e79-41d6162108b0",
   "metadata": {},
   "outputs": [
    {
     "data": {
      "text/html": [
       "<style>\n",
       ".list-inline {list-style: none; margin:0; padding: 0}\n",
       ".list-inline>li {display: inline-block}\n",
       ".list-inline>li:not(:last-child)::after {content: \"\\00b7\"; padding: 0 .5ex}\n",
       "</style>\n",
       "<ol class=list-inline><li>781</li><li>752</li><li>587</li><li>471</li><li>550</li><li>116</li></ol>\n"
      ],
      "text/latex": [
       "\\begin{enumerate*}\n",
       "\\item 781\n",
       "\\item 752\n",
       "\\item 587\n",
       "\\item 471\n",
       "\\item 550\n",
       "\\item 116\n",
       "\\end{enumerate*}\n"
      ],
      "text/markdown": [
       "1. 781\n",
       "2. 752\n",
       "3. 587\n",
       "4. 471\n",
       "5. 550\n",
       "6. 116\n",
       "\n",
       "\n"
      ],
      "text/plain": [
       "[1] 781 752 587 471 550 116"
      ]
     },
     "metadata": {},
     "output_type": "display_data"
    }
   ],
   "source": [
    "xtrain <- train\n",
    "head(xtrain)"
   ]
  },
  {
   "cell_type": "code",
   "execution_count": 212,
   "id": "57d46c71-3f04-4838-8f90-4990021ddce5",
   "metadata": {},
   "outputs": [
    {
     "data": {
      "text/html": [
       "<style>\n",
       ".list-inline {list-style: none; margin:0; padding: 0}\n",
       ".list-inline>li {display: inline-block}\n",
       ".list-inline>li:not(:last-child)::after {content: \"\\00b7\"; padding: 0 .5ex}\n",
       "</style>\n",
       "<ol class=list-inline><li>0</li><li>0</li><li>0</li><li>0</li><li>0</li><li>0</li></ol>\n"
      ],
      "text/latex": [
       "\\begin{enumerate*}\n",
       "\\item 0\n",
       "\\item 0\n",
       "\\item 0\n",
       "\\item 0\n",
       "\\item 0\n",
       "\\item 0\n",
       "\\end{enumerate*}\n"
      ],
      "text/markdown": [
       "1. 0\n",
       "2. 0\n",
       "3. 0\n",
       "4. 0\n",
       "5. 0\n",
       "6. 0\n",
       "\n",
       "\n"
      ],
      "text/plain": [
       "[1] 0 0 0 0 0 0"
      ]
     },
     "metadata": {},
     "output_type": "display_data"
    }
   ],
   "source": [
    "head(y[train , drop=FALSE])"
   ]
  },
  {
   "cell_type": "code",
   "execution_count": 211,
   "id": "50d500eb-5f14-41cc-ad23-6bc906bd858e",
   "metadata": {},
   "outputs": [
    {
     "data": {
      "text/plain": [
       "NULL"
      ]
     },
     "metadata": {},
     "output_type": "display_data"
    }
   ],
   "source": [
    "stra"
   ]
  },
  {
   "cell_type": "code",
   "execution_count": 208,
   "id": "637a2068-9c8c-4374-88f8-72713dcfd613",
   "metadata": {},
   "outputs": [],
   "source": [
    "    f <- tryCatch(fit(x[xtrain, , drop=FALSE], y[train , drop=FALSE],\n",
    "                      strata=stra[train], iter=i, tol=tol), error=efit)\n",
    "    if(! length(f$fail)) f$fail <- FALSE\n",
    "    f$assign <- NULL  #Some programs put a NULL assign (e.g. ols.val fit)\n",
    "    ni <- num.intercepts(f)\n",
    "    \n",
    "    fail <- f$fail"
   ]
  },
  {
   "cell_type": "code",
   "execution_count": 210,
   "id": "929f1396-eac6-4ef0-a1d4-e00cdd9b1bc6",
   "metadata": {},
   "outputs": [
    {
     "data": {
      "text/plain": [
       "Logistic Regression Model\n",
       "\n",
       "lrm.fit(x = x, y = y, tol = .Machine$double.eps, penalty.matrix = penalty.matrix)\n",
       "\n",
       "                       Model Likelihood      Discrimination    Rank Discrim.    \n",
       "                             Ratio Test             Indexes          Indexes    \n",
       "Obs          1000    LR chi2     260.90      R2       0.846    C       0.996    \n",
       " 0            963    d.f.             4     R2(4,1000)0.227    Dxy     0.992    \n",
       " 1             37    Pr(> chi2) <0.0001    R2(4,106.9)0.910    gamma   0.992    \n",
       "max |deriv| 1e-05                            Brier    0.009    tau-a   0.071    \n",
       "\n",
       "               Coef     S.E.    Wald Z Pr(>|Z|)\n",
       "Intercept      -92.6711 21.0927 -4.39  <0.0001 \n",
       "Age              0.4451  0.0965  4.61  <0.0001 \n",
       "Blood_Sugar      0.4690  0.1053  4.45  <0.0001 \n",
       "Blood_Pressure  -0.0045  0.0176 -0.26  0.7975  \n",
       "Weight           0.0593  0.0275  2.15  0.0312  \n"
      ]
     },
     "metadata": {},
     "output_type": "display_data"
    }
   ],
   "source": [
    "f"
   ]
  },
  {
   "cell_type": "code",
   "execution_count": 209,
   "id": "15d356bc-6c12-4f14-84ff-0e8f3f69c9a6",
   "metadata": {},
   "outputs": [
    {
     "data": {
      "text/html": [
       "FALSE"
      ],
      "text/latex": [
       "FALSE"
      ],
      "text/markdown": [
       "FALSE"
      ],
      "text/plain": [
       "[1] FALSE"
      ]
     },
     "metadata": {},
     "output_type": "display_data"
    }
   ],
   "source": [
    "fail"
   ]
  },
  {
   "cell_type": "markdown",
   "id": "f9f44c82-a668-4dea-9bc8-969d8b2424a9",
   "metadata": {},
   "source": [
    "#### 结果正常"
   ]
  },
  {
   "cell_type": "code",
   "execution_count": 225,
   "id": "7fa3d9dc-2259-4238-a14f-ebac7b169d4f",
   "metadata": {},
   "outputs": [
    {
     "data": {
      "text/plain": [
       "$name\n",
       "[1] \"Age\"            \"Blood_Sugar\"    \"Blood_Pressure\" \"Weight\"        \n",
       "\n",
       "$label\n",
       "[1] \"Age\"            \"Blood_Sugar\"    \"Blood_Pressure\" \"Weight\"        \n",
       "\n",
       "$units\n",
       "           Age    Blood_Sugar Blood_Pressure         Weight \n",
       "            \"\"             \"\"             \"\"             \"\" \n",
       "\n",
       "$colnames\n",
       "[1] \"Age\"            \"Blood_Sugar\"    \"Blood_Pressure\" \"Weight\"        \n",
       "\n",
       "$mmcolnames\n",
       "[1] \"Age\"            \"Blood_Sugar\"    \"Blood_Pressure\" \"Weight\"        \n",
       "\n",
       "$assume\n",
       "[1] \"asis\" \"asis\" \"asis\" \"asis\"\n",
       "\n",
       "$assume.code\n",
       "[1] 1 1 1 1\n",
       "\n",
       "$parms\n",
       "list()\n",
       "\n",
       "$limits\n",
       "list()\n",
       "\n",
       "$values\n",
       "list()\n",
       "\n",
       "$nonlinear\n",
       "$nonlinear$Age\n",
       "[1] FALSE\n",
       "\n",
       "$nonlinear$Blood_Sugar\n",
       "[1] FALSE\n",
       "\n",
       "$nonlinear$Blood_Pressure\n",
       "[1] FALSE\n",
       "\n",
       "$nonlinear$Weight\n",
       "[1] FALSE\n",
       "\n",
       "\n",
       "$tex\n",
       "list()\n",
       "\n",
       "$interactions\n",
       "NULL\n",
       "\n",
       "[[14]]\n",
       "Heart_Disease ~ Age + Blood_Sugar + Blood_Pressure + Weight\n",
       "attr(,\"variables\")\n",
       "list(Heart_Disease, Age, Blood_Sugar, Blood_Pressure, Weight)\n",
       "attr(,\"factors\")\n",
       "               Age Blood_Sugar Blood_Pressure Weight\n",
       "Heart_Disease    0           0              0      0\n",
       "Age              1           0              0      0\n",
       "Blood_Sugar      0           1              0      0\n",
       "Blood_Pressure   0           0              1      0\n",
       "Weight           0           0              0      1\n",
       "attr(,\"term.labels\")\n",
       "[1] \"Age\"            \"Blood_Sugar\"    \"Blood_Pressure\" \"Weight\"        \n",
       "attr(,\"order\")\n",
       "[1] 1 1 1 1\n",
       "attr(,\"intercept\")\n",
       "[1] 1\n",
       "attr(,\"response\")\n",
       "[1] 1\n",
       "attr(,\".Environment\")\n",
       "<environment: R_GlobalEnv>\n",
       "attr(,\"formula\")\n",
       "Heart_Disease ~ .\n"
      ]
     },
     "metadata": {},
     "output_type": "display_data"
    }
   ],
   "source": [
    "fparms  <- c(model$Design, model$terms)\n",
    "fparms"
   ]
  },
  {
   "cell_type": "code",
   "execution_count": 230,
   "id": "7762a4f6-529a-4673-a493-a29aec6fd9ae",
   "metadata": {},
   "outputs": [
    {
     "data": {
      "text/html": [
       "<dl>\n",
       "\t<dt>$Age</dt>\n",
       "\t\t<dd>2</dd>\n",
       "\t<dt>$Blood_Sugar</dt>\n",
       "\t\t<dd>3</dd>\n",
       "\t<dt>$Blood_Pressure</dt>\n",
       "\t\t<dd>4</dd>\n",
       "\t<dt>$Weight</dt>\n",
       "\t\t<dd>5</dd>\n",
       "</dl>\n"
      ],
      "text/latex": [
       "\\begin{description}\n",
       "\\item[\\$Age] 2\n",
       "\\item[\\$Blood\\_Sugar] 3\n",
       "\\item[\\$Blood\\_Pressure] 4\n",
       "\\item[\\$Weight] 5\n",
       "\\end{description}\n"
      ],
      "text/markdown": [
       "$Age\n",
       ":   2\n",
       "$Blood_Sugar\n",
       ":   3\n",
       "$Blood_Pressure\n",
       ":   4\n",
       "$Weight\n",
       ":   5\n",
       "\n",
       "\n"
      ],
      "text/plain": [
       "$Age\n",
       "[1] 2\n",
       "\n",
       "$Blood_Sugar\n",
       "[1] 3\n",
       "\n",
       "$Blood_Pressure\n",
       "[1] 4\n",
       "\n",
       "$Weight\n",
       "[1] 5\n"
      ]
     },
     "metadata": {},
     "output_type": "display_data"
    }
   ],
   "source": [
    "# 变量的位置\n",
    "oassign <- model$assign\n",
    "assign <- oassign\n",
    "assign"
   ]
  },
  {
   "cell_type": "code",
   "execution_count": 231,
   "id": "aad2d598-1177-4923-a0b2-81be1a200727",
   "metadata": {},
   "outputs": [],
   "source": [
    "clf <- attr(f, \"class\")  # class is removed by c() below"
   ]
  },
  {
   "cell_type": "code",
   "execution_count": 232,
   "id": "d288a2b6-7460-489c-a477-c28e3d33aa01",
   "metadata": {},
   "outputs": [
    {
     "data": {
      "text/html": [
       "'lrm'"
      ],
      "text/latex": [
       "'lrm'"
      ],
      "text/markdown": [
       "'lrm'"
      ],
      "text/plain": [
       "[1] \"lrm\""
      ]
     },
     "metadata": {},
     "output_type": "display_data"
    }
   ],
   "source": [
    "clf"
   ]
  },
  {
   "cell_type": "code",
   "execution_count": 233,
   "id": "f6f98285-1ab9-4945-adaa-438ddda6f9c2",
   "metadata": {},
   "outputs": [
    {
     "data": {
      "text/html": [
       "FALSE"
      ],
      "text/latex": [
       "FALSE"
      ],
      "text/markdown": [
       "FALSE"
      ],
      "text/plain": [
       "[1] FALSE"
      ]
     },
     "metadata": {},
     "output_type": "display_data"
    }
   ],
   "source": [
    "non.slopes != ni"
   ]
  },
  {
   "cell_type": "code",
   "execution_count": 234,
   "id": "5c828c33-a245-4ef9-bec7-1f9da60ff7e0",
   "metadata": {},
   "outputs": [
    {
     "data": {
      "text/html": [
       "<dl>\n",
       "\t<dt>$Age</dt>\n",
       "\t\t<dd>2</dd>\n",
       "\t<dt>$Blood_Sugar</dt>\n",
       "\t\t<dd>3</dd>\n",
       "\t<dt>$Blood_Pressure</dt>\n",
       "\t\t<dd>4</dd>\n",
       "\t<dt>$Weight</dt>\n",
       "\t\t<dd>5</dd>\n",
       "</dl>\n"
      ],
      "text/latex": [
       "\\begin{description}\n",
       "\\item[\\$Age] 2\n",
       "\\item[\\$Blood\\_Sugar] 3\n",
       "\\item[\\$Blood\\_Pressure] 4\n",
       "\\item[\\$Weight] 5\n",
       "\\end{description}\n"
      ],
      "text/markdown": [
       "$Age\n",
       ":   2\n",
       "$Blood_Sugar\n",
       ":   3\n",
       "$Blood_Pressure\n",
       ":   4\n",
       "$Weight\n",
       ":   5\n",
       "\n",
       "\n"
      ],
      "text/plain": [
       "$Age\n",
       "[1] 2\n",
       "\n",
       "$Blood_Sugar\n",
       "[1] 3\n",
       "\n",
       "$Blood_Pressure\n",
       "[1] 4\n",
       "\n",
       "$Weight\n",
       "[1] 5\n"
      ]
     },
     "metadata": {},
     "output_type": "display_data"
    }
   ],
   "source": [
    "f$assign <- assign\n",
    "f$assign"
   ]
  },
  {
   "cell_type": "code",
   "execution_count": 235,
   "id": "49abfe20-23a2-46fc-a1dc-3be93ab9f700",
   "metadata": {},
   "outputs": [],
   "source": [
    "  attr(f, \"class\") <- clf"
   ]
  },
  {
   "cell_type": "code",
   "execution_count": 236,
   "id": "a37e6a6f-b6b5-47a5-9d5b-aaaf8ab6d84e",
   "metadata": {},
   "outputs": [],
   "source": [
    "bw = FALSE  \n",
    "coef <- f$coef\n",
    "col.kept <- seq(along=coef)"
   ]
  },
  {
   "cell_type": "code",
   "execution_count": 237,
   "id": "b848b9d3-393a-45e5-8d0b-afcb1f348c3a",
   "metadata": {},
   "outputs": [
    {
     "data": {
      "text/html": [
       "<style>\n",
       ".dl-inline {width: auto; margin:0; padding: 0}\n",
       ".dl-inline>dt, .dl-inline>dd {float: none; width: auto; display: inline-block}\n",
       ".dl-inline>dt::after {content: \":\\0020\"; padding-right: .5ex}\n",
       ".dl-inline>dt:not(:first-of-type) {padding-left: .5ex}\n",
       "</style><dl class=dl-inline><dt>Intercept</dt><dd>-92.6711486314907</dd><dt>Age</dt><dd>0.445075969602842</dd><dt>Blood_Sugar</dt><dd>0.469035846123222</dd><dt>Blood_Pressure</dt><dd>-0.00450418411061845</dd><dt>Weight</dt><dd>0.0592789123936179</dd></dl>\n"
      ],
      "text/latex": [
       "\\begin{description*}\n",
       "\\item[Intercept] -92.6711486314907\n",
       "\\item[Age] 0.445075969602842\n",
       "\\item[Blood\\textbackslash{}\\_Sugar] 0.469035846123222\n",
       "\\item[Blood\\textbackslash{}\\_Pressure] -0.00450418411061845\n",
       "\\item[Weight] 0.0592789123936179\n",
       "\\end{description*}\n"
      ],
      "text/markdown": [
       "Intercept\n",
       ":   -92.6711486314907Age\n",
       ":   0.445075969602842Blood_Sugar\n",
       ":   0.469035846123222Blood_Pressure\n",
       ":   -0.00450418411061845Weight\n",
       ":   0.0592789123936179\n",
       "\n"
      ],
      "text/plain": [
       "     Intercept            Age    Blood_Sugar Blood_Pressure         Weight \n",
       " -92.671148631    0.445075970    0.469035846   -0.004504184    0.059278912 "
      ]
     },
     "metadata": {},
     "output_type": "display_data"
    }
   ],
   "source": [
    "coef"
   ]
  },
  {
   "cell_type": "code",
   "execution_count": 238,
   "id": "3ec1ef46-8a19-482a-896d-64c5a4138914",
   "metadata": {},
   "outputs": [
    {
     "data": {
      "text/html": [
       "<style>\n",
       ".list-inline {list-style: none; margin:0; padding: 0}\n",
       ".list-inline>li {display: inline-block}\n",
       ".list-inline>li:not(:last-child)::after {content: \"\\00b7\"; padding: 0 .5ex}\n",
       "</style>\n",
       "<ol class=list-inline><li>1</li><li>2</li><li>3</li><li>4</li><li>5</li></ol>\n"
      ],
      "text/latex": [
       "\\begin{enumerate*}\n",
       "\\item 1\n",
       "\\item 2\n",
       "\\item 3\n",
       "\\item 4\n",
       "\\item 5\n",
       "\\end{enumerate*}\n"
      ],
      "text/markdown": [
       "1. 1\n",
       "2. 2\n",
       "3. 3\n",
       "4. 4\n",
       "5. 5\n",
       "\n",
       "\n"
      ],
      "text/plain": [
       "[1] 1 2 3 4 5"
      ]
     },
     "metadata": {},
     "output_type": "display_data"
    }
   ],
   "source": [
    "col.kept"
   ]
  },
  {
   "cell_type": "markdown",
   "id": "a13afcaa-29b2-48bd-abc2-ff11f931296c",
   "metadata": {},
   "source": [
    "#### 开始建模"
   ]
  },
  {
   "cell_type": "code",
   "execution_count": 240,
   "id": "57da3cff-e923-4513-bfa1-1eb57df86be8",
   "metadata": {},
   "outputs": [],
   "source": [
    "xcol <- x.index(col.kept, ni)\n",
    "xb <- Xb(x[,xcol,drop=FALSE], coef, ni, n, kint=1)"
   ]
  },
  {
   "cell_type": "code",
   "execution_count": 242,
   "id": "75a23912-96e1-4ff8-a3b1-86ae21302715",
   "metadata": {},
   "outputs": [],
   "source": [
    "measure <- cal.error"
   ]
  },
  {
   "cell_type": "code",
   "execution_count": 247,
   "id": "5af12632-57bd-41fa-b904-3176d1b1db21",
   "metadata": {},
   "outputs": [],
   "source": [
    "train.statj <- cal.error(xb[xtrain], y[train,drop=FALSE], strata=stra[xtrain], fit=model, iter=0, evalfit=TRUE, smoother=\"lowess\",\n",
    "            predy=predy, model=model_name,\n",
    "            kint=1)"
   ]
  },
  {
   "cell_type": "code",
   "execution_count": 249,
   "id": "15c4ce1e-bcf6-415a-9ee9-bf20f32b2aa5",
   "metadata": {},
   "outputs": [
    {
     "data": {
      "text/html": [
       "<style>\n",
       ".list-inline {list-style: none; margin:0; padding: 0}\n",
       ".list-inline>li {display: inline-block}\n",
       ".list-inline>li:not(:last-child)::after {content: \"\\00b7\"; padding: 0 .5ex}\n",
       "</style>\n",
       "<ol class=list-inline><li>&lt;NA&gt;</li><li>-0.0204054528210636</li><li>-0.0408109056421272</li><li>-0.0340203048990892</li><li>0.0556095699946259</li><li>0.119116677190175</li></ol>\n"
      ],
      "text/latex": [
       "\\begin{enumerate*}\n",
       "\\item <NA>\n",
       "\\item -0.0204054528210636\n",
       "\\item -0.0408109056421272\n",
       "\\item -0.0340203048990892\n",
       "\\item 0.0556095699946259\n",
       "\\item 0.119116677190175\n",
       "\\end{enumerate*}\n"
      ],
      "text/markdown": [
       "1. &lt;NA&gt;\n",
       "2. -0.0204054528210636\n",
       "3. -0.0408109056421272\n",
       "4. -0.0340203048990892\n",
       "5. 0.0556095699946259\n",
       "6. 0.119116677190175\n",
       "\n",
       "\n"
      ],
      "text/plain": [
       "[1]          NA -0.02040545 -0.04081091 -0.03402030  0.05560957  0.11911668"
      ]
     },
     "metadata": {},
     "output_type": "display_data"
    }
   ],
   "source": [
    "head(train.statj)"
   ]
  },
  {
   "cell_type": "code",
   "execution_count": 250,
   "id": "1db1d38e-726f-411e-9aef-6a8a71963e13",
   "metadata": {},
   "outputs": [
    {
     "data": {
      "text/html": [
       "50"
      ],
      "text/latex": [
       "50"
      ],
      "text/markdown": [
       "50"
      ],
      "text/plain": [
       "[1] 50"
      ]
     },
     "metadata": {},
     "output_type": "display_data"
    }
   ],
   "source": [
    "length(train.statj)"
   ]
  },
  {
   "cell_type": "code",
   "execution_count": 251,
   "id": "33ccfa28-2528-4cc3-ab5b-2bfadea3b0b8",
   "metadata": {},
   "outputs": [],
   "source": [
    "test.statj <- cal.error(xb[test], y[test,drop=FALSE], strata=stra[test], fit=model, iter=0, evalfit=TRUE, smoother=\"lowess\",\n",
    "            predy=predy, model=model_name,\n",
    "            kint=1)"
   ]
  },
  {
   "cell_type": "code",
   "execution_count": 252,
   "id": "7642e9cf-41af-4352-a3f0-777b2a5ee192",
   "metadata": {},
   "outputs": [
    {
     "data": {
      "text/html": [
       "<style>\n",
       ".list-inline {list-style: none; margin:0; padding: 0}\n",
       ".list-inline>li {display: inline-block}\n",
       ".list-inline>li:not(:last-child)::after {content: \"\\00b7\"; padding: 0 .5ex}\n",
       "</style>\n",
       "<ol class=list-inline><li>&lt;NA&gt;</li><li>-0.0204054528210636</li><li>0.0490793844986249</li><li>0.0280000814903716</li><li>0.00454950986209229</li><li>-0.00150270444958336</li></ol>\n"
      ],
      "text/latex": [
       "\\begin{enumerate*}\n",
       "\\item <NA>\n",
       "\\item -0.0204054528210636\n",
       "\\item 0.0490793844986249\n",
       "\\item 0.0280000814903716\n",
       "\\item 0.00454950986209229\n",
       "\\item -0.00150270444958336\n",
       "\\end{enumerate*}\n"
      ],
      "text/markdown": [
       "1. &lt;NA&gt;\n",
       "2. -0.0204054528210636\n",
       "3. 0.0490793844986249\n",
       "4. 0.0280000814903716\n",
       "5. 0.00454950986209229\n",
       "6. -0.00150270444958336\n",
       "\n",
       "\n"
      ],
      "text/plain": [
       "[1]           NA -0.020405453  0.049079384  0.028000081  0.004549510\n",
       "[6] -0.001502704"
      ]
     },
     "metadata": {},
     "output_type": "display_data"
    }
   ],
   "source": [
    "head(test.statj)"
   ]
  },
  {
   "cell_type": "code",
   "execution_count": 253,
   "id": "0ba0c030-d928-49c5-a887-1a3761c3c7a0",
   "metadata": {},
   "outputs": [
    {
     "data": {
      "text/html": [
       "50"
      ],
      "text/latex": [
       "50"
      ],
      "text/markdown": [
       "50"
      ],
      "text/plain": [
       "[1] 50"
      ]
     },
     "metadata": {},
     "output_type": "display_data"
    }
   ],
   "source": [
    "length(test.statj)"
   ]
  },
  {
   "cell_type": "raw",
   "id": "ce0c7590-4afa-4e3c-990f-ee5b0a6a4468",
   "metadata": {},
   "source": [
    "wt <- 1\n",
    "train.stat <- train.stat + train.statj\n",
    "test.stat  <- test.stat  + test.statj * wt\n",
    "ntest <- ntest + 1"
   ]
  },
  {
   "cell_type": "markdown",
   "id": "a4777ce1-2339-4553-839f-ec22f47597c2",
   "metadata": {},
   "source": [
    "### 多轮循环"
   ]
  },
  {
   "cell_type": "code",
   "execution_count": 74,
   "id": "7fa5493a-baeb-43e5-a354-1d2b4914c3e6",
   "metadata": {
    "tags": []
   },
   "outputs": [
    {
     "data": {
      "text/html": [
       "<table class=\"dataframe\">\n",
       "<caption>A matrix: 6 × 9 of type dbl</caption>\n",
       "<thead>\n",
       "\t<tr><th scope=col>predy</th><th scope=col>calibrated.orig</th><th scope=col>calibrated.corrected</th><th scope=col>index.orig</th><th scope=col>training</th><th scope=col>test</th><th scope=col>optimism</th><th scope=col>index.corrected</th><th scope=col>n</th></tr>\n",
       "</thead>\n",
       "<tbody>\n",
       "\t<tr><td>6.487265e-24</td><td>0.00000000</td><td>2.993233e-23</td><td>-6.487265e-24</td><td>6.026968e-26</td><td>2.999260e-23</td><td>-2.993233e-23</td><td>2.344507e-23</td><td> 89</td></tr>\n",
       "\t<tr><td>2.040545e-02</td><td>0.00000000</td><td>4.285074e-02</td><td>-2.040545e-02</td><td>3.424477e-03</td><td>4.627522e-02</td><td>-4.285074e-02</td><td>2.244529e-02</td><td>100</td></tr>\n",
       "\t<tr><td>4.081091e-02</td><td>0.03531016</td><td>7.634971e-02</td><td>-5.500743e-03</td><td>2.321574e-02</td><td>6.425529e-02</td><td>-4.103955e-02</td><td>3.553880e-02</td><td>100</td></tr>\n",
       "\t<tr><td>6.121636e-02</td><td>0.09656184</td><td>1.361604e-01</td><td> 3.534549e-02</td><td>3.323673e-02</td><td>7.283529e-02</td><td>-3.959856e-02</td><td>7.494404e-02</td><td>100</td></tr>\n",
       "\t<tr><td>8.162181e-02</td><td>0.18143783</td><td>2.124165e-01</td><td> 9.981602e-02</td><td>4.689570e-02</td><td>7.787440e-02</td><td>-3.097871e-02</td><td>1.307947e-01</td><td>100</td></tr>\n",
       "\t<tr><td>1.020273e-01</td><td>0.25748856</td><td>2.824633e-01</td><td> 1.554613e-01</td><td>4.436548e-02</td><td>6.934022e-02</td><td>-2.497474e-02</td><td>1.804360e-01</td><td>100</td></tr>\n",
       "</tbody>\n",
       "</table>\n"
      ],
      "text/latex": [
       "A matrix: 6 × 9 of type dbl\n",
       "\\begin{tabular}{lllllllll}\n",
       " predy & calibrated.orig & calibrated.corrected & index.orig & training & test & optimism & index.corrected & n\\\\\n",
       "\\hline\n",
       "\t 6.487265e-24 & 0.00000000 & 2.993233e-23 & -6.487265e-24 & 6.026968e-26 & 2.999260e-23 & -2.993233e-23 & 2.344507e-23 &  89\\\\\n",
       "\t 2.040545e-02 & 0.00000000 & 4.285074e-02 & -2.040545e-02 & 3.424477e-03 & 4.627522e-02 & -4.285074e-02 & 2.244529e-02 & 100\\\\\n",
       "\t 4.081091e-02 & 0.03531016 & 7.634971e-02 & -5.500743e-03 & 2.321574e-02 & 6.425529e-02 & -4.103955e-02 & 3.553880e-02 & 100\\\\\n",
       "\t 6.121636e-02 & 0.09656184 & 1.361604e-01 &  3.534549e-02 & 3.323673e-02 & 7.283529e-02 & -3.959856e-02 & 7.494404e-02 & 100\\\\\n",
       "\t 8.162181e-02 & 0.18143783 & 2.124165e-01 &  9.981602e-02 & 4.689570e-02 & 7.787440e-02 & -3.097871e-02 & 1.307947e-01 & 100\\\\\n",
       "\t 1.020273e-01 & 0.25748856 & 2.824633e-01 &  1.554613e-01 & 4.436548e-02 & 6.934022e-02 & -2.497474e-02 & 1.804360e-01 & 100\\\\\n",
       "\\end{tabular}\n"
      ],
      "text/markdown": [
       "\n",
       "A matrix: 6 × 9 of type dbl\n",
       "\n",
       "| predy | calibrated.orig | calibrated.corrected | index.orig | training | test | optimism | index.corrected | n |\n",
       "|---|---|---|---|---|---|---|---|---|\n",
       "| 6.487265e-24 | 0.00000000 | 2.993233e-23 | -6.487265e-24 | 6.026968e-26 | 2.999260e-23 | -2.993233e-23 | 2.344507e-23 |  89 |\n",
       "| 2.040545e-02 | 0.00000000 | 4.285074e-02 | -2.040545e-02 | 3.424477e-03 | 4.627522e-02 | -4.285074e-02 | 2.244529e-02 | 100 |\n",
       "| 4.081091e-02 | 0.03531016 | 7.634971e-02 | -5.500743e-03 | 2.321574e-02 | 6.425529e-02 | -4.103955e-02 | 3.553880e-02 | 100 |\n",
       "| 6.121636e-02 | 0.09656184 | 1.361604e-01 |  3.534549e-02 | 3.323673e-02 | 7.283529e-02 | -3.959856e-02 | 7.494404e-02 | 100 |\n",
       "| 8.162181e-02 | 0.18143783 | 2.124165e-01 |  9.981602e-02 | 4.689570e-02 | 7.787440e-02 | -3.097871e-02 | 1.307947e-01 | 100 |\n",
       "| 1.020273e-01 | 0.25748856 | 2.824633e-01 |  1.554613e-01 | 4.436548e-02 | 6.934022e-02 | -2.497474e-02 | 1.804360e-01 | 100 |\n",
       "\n"
      ],
      "text/plain": [
       "     predy        calibrated.orig calibrated.corrected index.orig   \n",
       "[1,] 6.487265e-24 0.00000000      2.993233e-23         -6.487265e-24\n",
       "[2,] 2.040545e-02 0.00000000      4.285074e-02         -2.040545e-02\n",
       "[3,] 4.081091e-02 0.03531016      7.634971e-02         -5.500743e-03\n",
       "[4,] 6.121636e-02 0.09656184      1.361604e-01          3.534549e-02\n",
       "[5,] 8.162181e-02 0.18143783      2.124165e-01          9.981602e-02\n",
       "[6,] 1.020273e-01 0.25748856      2.824633e-01          1.554613e-01\n",
       "     training     test         optimism      index.corrected n  \n",
       "[1,] 6.026968e-26 2.999260e-23 -2.993233e-23 2.344507e-23     89\n",
       "[2,] 3.424477e-03 4.627522e-02 -4.285074e-02 2.244529e-02    100\n",
       "[3,] 2.321574e-02 6.425529e-02 -4.103955e-02 3.553880e-02    100\n",
       "[4,] 3.323673e-02 7.283529e-02 -3.959856e-02 7.494404e-02    100\n",
       "[5,] 4.689570e-02 7.787440e-02 -3.097871e-02 1.307947e-01    100\n",
       "[6,] 4.436548e-02 6.934022e-02 -2.497474e-02 1.804360e-01    100"
      ]
     },
     "metadata": {},
     "output_type": "display_data"
    }
   ],
   "source": [
    "head(calibration_result)"
   ]
  },
  {
   "cell_type": "code",
   "execution_count": null,
   "id": "64c1c85e-639d-4273-90d8-df2d0cd6105f",
   "metadata": {},
   "outputs": [],
   "source": []
  }
 ],
 "metadata": {
  "kernelspec": {
   "display_name": "R",
   "language": "R",
   "name": "ir"
  },
  "language_info": {
   "codemirror_mode": "r",
   "file_extension": ".r",
   "mimetype": "text/x-r-source",
   "name": "R",
   "pygments_lexer": "r",
   "version": "4.4.1"
  }
 },
 "nbformat": 4,
 "nbformat_minor": 5
}
