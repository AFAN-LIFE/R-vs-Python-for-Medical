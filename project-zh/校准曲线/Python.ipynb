{
 "cells": [
  {
   "cell_type": "markdown",
   "id": "d5f252c9-46e3-4004-9b21-3701cd4430ff",
   "metadata": {},
   "source": [
    "# 环境说明"
   ]
  },
  {
   "cell_type": "code",
   "execution_count": 10,
   "id": "26d3a1df-243f-456f-a583-819dba03e458",
   "metadata": {
    "tags": []
   },
   "outputs": [
    {
     "name": "stdout",
     "output_type": "stream",
     "text": [
      "Python 3.11.5\n"
     ]
    }
   ],
   "source": [
    "!python -V"
   ]
  },
  {
   "cell_type": "raw",
   "id": "6af2ed9c-fe06-43e2-8778-11e5c6cd8104",
   "metadata": {},
   "source": [
    "pip install sklearn"
   ]
  },
  {
   "cell_type": "code",
   "execution_count": 6,
   "id": "0001b2a3-e71b-43f8-9c96-ecc95d82b967",
   "metadata": {
    "tags": []
   },
   "outputs": [],
   "source": [
    "import sklearn\n",
    "import pandas\n",
    "import numpy\n",
    "import matplotlib"
   ]
  },
  {
   "cell_type": "code",
   "execution_count": 3,
   "id": "32b0ad8c-a3cf-4f60-a035-db32ce15af9a",
   "metadata": {
    "tags": []
   },
   "outputs": [
    {
     "data": {
      "text/plain": [
       "'1.5.2'"
      ]
     },
     "execution_count": 3,
     "metadata": {},
     "output_type": "execute_result"
    }
   ],
   "source": [
    "sklearn.__version__"
   ]
  },
  {
   "cell_type": "code",
   "execution_count": 4,
   "id": "e91faff8-33f5-4b57-ae04-fb66b908368f",
   "metadata": {
    "tags": []
   },
   "outputs": [
    {
     "data": {
      "text/plain": [
       "'2.1.1'"
      ]
     },
     "execution_count": 4,
     "metadata": {},
     "output_type": "execute_result"
    }
   ],
   "source": [
    "pandas.__version__"
   ]
  },
  {
   "cell_type": "code",
   "execution_count": 7,
   "id": "302e29c1-b4b9-464f-9ee3-16628e6a9a75",
   "metadata": {
    "tags": []
   },
   "outputs": [
    {
     "data": {
      "text/plain": [
       "'1.26.4'"
      ]
     },
     "execution_count": 7,
     "metadata": {},
     "output_type": "execute_result"
    }
   ],
   "source": [
    "numpy.__version__"
   ]
  },
  {
   "cell_type": "code",
   "execution_count": 14,
   "id": "9d48aa24-3779-4532-816b-04123e30f26b",
   "metadata": {
    "tags": []
   },
   "outputs": [
    {
     "data": {
      "text/plain": [
       "'3.8.0'"
      ]
     },
     "execution_count": 14,
     "metadata": {},
     "output_type": "execute_result"
    }
   ],
   "source": [
    "matplotlib.__version__"
   ]
  },
  {
   "cell_type": "markdown",
   "id": "4bbe04c4-91cf-48ae-9236-44bb9959359e",
   "metadata": {},
   "source": [
    "# 代码实现"
   ]
  },
  {
   "cell_type": "code",
   "execution_count": 3,
   "id": "da6ceb52-5683-4fa6-bc54-0b042f19206b",
   "metadata": {
    "tags": []
   },
   "outputs": [],
   "source": [
    "import numpy as np\n",
    "import pandas as pd\n",
    "import matplotlib.pyplot as plt\n",
    "from sklearn.metrics import confusion_matrix\n",
    "from sklearn.calibration import calibration_curve"
   ]
  },
  {
   "cell_type": "code",
   "execution_count": 7,
   "id": "ae6eba79-b1e6-4f01-83bb-ab29e19f6499",
   "metadata": {
    "tags": []
   },
   "outputs": [],
   "source": [
    "df = pd.read_csv(\"data/predict.csv\")"
   ]
  },
  {
   "cell_type": "code",
   "execution_count": 29,
   "id": "8e5f926b-3ee3-490a-ae93-9f92735d70b5",
   "metadata": {
    "tags": []
   },
   "outputs": [
    {
     "data": {
      "text/html": [
       "<div>\n",
       "<style scoped>\n",
       "    .dataframe tbody tr th:only-of-type {\n",
       "        vertical-align: middle;\n",
       "    }\n",
       "\n",
       "    .dataframe tbody tr th {\n",
       "        vertical-align: top;\n",
       "    }\n",
       "\n",
       "    .dataframe thead th {\n",
       "        text-align: right;\n",
       "    }\n",
       "</style>\n",
       "<table border=\"1\" class=\"dataframe\">\n",
       "  <thead>\n",
       "    <tr style=\"text-align: right;\">\n",
       "      <th></th>\n",
       "      <th>origin_encoder</th>\n",
       "      <th>predict_encoder</th>\n",
       "      <th>predict_probability</th>\n",
       "    </tr>\n",
       "  </thead>\n",
       "  <tbody>\n",
       "    <tr>\n",
       "      <th>0</th>\n",
       "      <td>0</td>\n",
       "      <td>1</td>\n",
       "      <td>0.506371</td>\n",
       "    </tr>\n",
       "    <tr>\n",
       "      <th>1</th>\n",
       "      <td>0</td>\n",
       "      <td>0</td>\n",
       "      <td>0.020811</td>\n",
       "    </tr>\n",
       "    <tr>\n",
       "      <th>2</th>\n",
       "      <td>0</td>\n",
       "      <td>0</td>\n",
       "      <td>0.028086</td>\n",
       "    </tr>\n",
       "    <tr>\n",
       "      <th>3</th>\n",
       "      <td>0</td>\n",
       "      <td>0</td>\n",
       "      <td>0.107581</td>\n",
       "    </tr>\n",
       "    <tr>\n",
       "      <th>4</th>\n",
       "      <td>0</td>\n",
       "      <td>0</td>\n",
       "      <td>0.045805</td>\n",
       "    </tr>\n",
       "  </tbody>\n",
       "</table>\n",
       "</div>"
      ],
      "text/plain": [
       "   origin_encoder  predict_encoder  predict_probability\n",
       "0               0                1             0.506371\n",
       "1               0                0             0.020811\n",
       "2               0                0             0.028086\n",
       "3               0                0             0.107581\n",
       "4               0                0             0.045805"
      ]
     },
     "execution_count": 29,
     "metadata": {},
     "output_type": "execute_result"
    }
   ],
   "source": [
    "df.head()"
   ]
  },
  {
   "cell_type": "code",
   "execution_count": 9,
   "id": "35d80bc5-08c0-4748-8bcd-83a16891cca1",
   "metadata": {
    "tags": []
   },
   "outputs": [],
   "source": [
    "y_true = df['origin_encoder']  # 原始数据的真实数值，二分类\n",
    "y_prob = df['predict_probability']  # 模型预测的概率，0到1之间"
   ]
  },
  {
   "cell_type": "code",
   "execution_count": 35,
   "id": "9f44c596-777f-47d8-b42c-c52475a8d4e0",
   "metadata": {
    "tags": []
   },
   "outputs": [
    {
     "data": {
      "text/plain": [
       "<Axes: >"
      ]
     },
     "execution_count": 35,
     "metadata": {},
     "output_type": "execute_result"
    },
    {
     "data": {
      "image/png": "[encoded data removed]",
      "text/plain": [
       "<Figure size 640x480 with 1 Axes>"
      ]
     },
     "metadata": {},
     "output_type": "display_data"
    }
   ],
   "source": [
    "y_prob.hist()"
   ]
  },
  {
   "cell_type": "code",
   "execution_count": 10,
   "id": "2ead359e-4555-4826-bb9b-834c3c0a6861",
   "metadata": {
    "tags": []
   },
   "outputs": [],
   "source": [
    "is_boot = True"
   ]
  },
  {
   "cell_type": "code",
   "execution_count": 27,
   "id": "e2c9d5a4-91d5-4a80-ac69-ec6f69b15c1a",
   "metadata": {
    "tags": []
   },
   "outputs": [
    {
     "data": {
      "text/plain": [
       "array([0.01      , 0.013     , 0.011     , 0.023     , 0.045     ,\n",
       "       0.04404404, 0.094     , 0.135     , 0.207     , 0.357     ])"
      ]
     },
     "execution_count": 27,
     "metadata": {},
     "output_type": "execute_result"
    }
   ],
   "source": [
    "prob_true"
   ]
  },
  {
   "cell_type": "code",
   "execution_count": 28,
   "id": "fbfbea29-7ab7-4a17-b6b5-2794e2570ca9",
   "metadata": {
    "tags": []
   },
   "outputs": [
    {
     "data": {
      "text/plain": [
       "array([0.01054208, 0.01846218, 0.02668482, 0.03622709, 0.04755301,\n",
       "       0.06234611, 0.08177593, 0.10993871, 0.16160136, 0.36999844])"
      ]
     },
     "execution_count": 28,
     "metadata": {},
     "output_type": "execute_result"
    }
   ],
   "source": [
    "prob_pred"
   ]
  },
  {
   "cell_type": "code",
   "execution_count": 30,
   "id": "f48142df-9898-4379-9480-f3863b5f573b",
   "metadata": {
    "tags": []
   },
   "outputs": [
    {
     "data": {
      "text/plain": [
       "0.925129722790581"
      ]
     },
     "execution_count": 30,
     "metadata": {},
     "output_type": "execute_result"
    }
   ],
   "source": [
    "sum(prob_pred)"
   ]
  },
  {
   "cell_type": "code",
   "execution_count": 31,
   "id": "4add8b28-7861-4989-9937-bb6ada0be2a6",
   "metadata": {
    "tags": []
   },
   "outputs": [
    {
     "data": {
      "text/plain": [
       "array([0.01054208, 0.01846218, 0.02668482, 0.03622709, 0.04755301,\n",
       "       0.06234611, 0.08177593, 0.10993871, 0.16160136, 0.36999844])"
      ]
     },
     "execution_count": 31,
     "metadata": {},
     "output_type": "execute_result"
    }
   ],
   "source": [
    "prob_pred"
   ]
  },
  {
   "cell_type": "code",
   "execution_count": 26,
   "id": "e5270b84-5010-469d-a950-c3f3a0556baf",
   "metadata": {
    "tags": []
   },
   "outputs": [
    {
     "data": {
      "text/plain": [
       "<matplotlib.legend.Legend at 0x19d6a4fcda0>"
      ]
     },
     "execution_count": 26,
     "metadata": {},
     "output_type": "execute_result"
    },
    {
     "data": {
      "image/png": "[encoded data removed]",
      "text/plain": [
       "<Figure size 640x480 with 1 Axes>"
      ]
     },
     "metadata": {},
     "output_type": "display_data"
    }
   ],
   "source": [
    "# 计算普通的校准曲线\n",
    "prob_true, prob_pred = calibration_curve(y_true, y_prob, n_bins=10, strategy='quantile')\n",
    "# \"Ideal\" 理想校准曲线 (y=x)\n",
    "ideal_line = [0, 1]\n",
    "plt.figure()\n",
    "# 开始画图\n",
    "# Ideal (理想曲线)\n",
    "plt.plot(ideal_line, ideal_line, label='Ideal')\n",
    "# Apparent (表观曲线)\n",
    "plt.plot(prob_pred, prob_true, label='Apparent')\n",
    "# 是否进行Boostrap有放回的采样\n",
    "if is_boot:\n",
    "    length = len(y_true)\n",
    "    boot_num = int(90 * length / 100)\n",
    "    np.random.seed(1024)  # 设置随机种子\n",
    "    bootstrap_curves = []\n",
    "    for i in range(100):\n",
    "        indices = np.random.choice(length, boot_num, replace=True)\n",
    "        y_resample_probs = y_prob[indices]\n",
    "        y_resample_true = y_true[indices]\n",
    "        # 计算重采样后的校准曲线\n",
    "        boot_prob_true, boot_prob_pred = calibration_curve(y_resample_true, y_resample_probs, n_bins=10, strategy='quantile')\n",
    "        # https://chatgpt.com/share/670f779b-c910-8010-92ab-7587668e7f48\n",
    "        # 使用插值来保证所有曲线的长度一致\n",
    "        # 对 true 和 pred 都进行插值，确保曲线长度一致\n",
    "        boot_prob_true_interp = np.interp(prob_pred, boot_prob_pred, boot_prob_true)\n",
    "        boot_prob_pred_interp = np.interp(prob_pred, boot_prob_pred, boot_prob_pred)\n",
    "        # 将插值后的校准曲线保存\n",
    "        bootstrap_curves.append((boot_prob_true_interp, boot_prob_pred_interp))\n",
    "    # 计算偏差校正后的平均校准曲线\n",
    "    mean_prob_true = np.mean([curve[0] for curve in bootstrap_curves], axis=0)\n",
    "    mean_prob_pred = np.mean([curve[1] for curve in bootstrap_curves], axis=0)\n",
    "    plt.plot(mean_prob_pred, mean_prob_true,label='Boostrap')\n",
    "# 设置标签和图例\n",
    "plt.xlabel('Predicted Probability')\n",
    "plt.ylabel('Observed Probability')\n",
    "plt.legend()"
   ]
  },
  {
   "cell_type": "code",
   "execution_count": null,
   "id": "870a1ec8-2ce1-44cd-b47f-2f73976e549e",
   "metadata": {},
   "outputs": [],
   "source": []
  }
 ],
 "metadata": {
  "kernelspec": {
   "display_name": "medical",
   "language": "python",
   "name": "medical"
  },
  "language_info": {
   "codemirror_mode": {
    "name": "ipython",
    "version": 3
   },
   "file_extension": ".py",
   "mimetype": "text/x-python",
   "name": "python",
   "nbconvert_exporter": "python",
   "pygments_lexer": "ipython3",
   "version": "3.12.8"
  }
 },
 "nbformat": 4,
 "nbformat_minor": 5
}
