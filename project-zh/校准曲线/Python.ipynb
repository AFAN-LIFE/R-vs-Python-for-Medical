{
 "cells": [
  {
   "cell_type": "markdown",
   "id": "d5f252c9-46e3-4004-9b21-3701cd4430ff",
   "metadata": {},
   "source": [
    "# 环境说明"
   ]
  },
  {
   "cell_type": "code",
   "execution_count": 10,
   "id": "26d3a1df-243f-456f-a583-819dba03e458",
   "metadata": {
    "tags": []
   },
   "outputs": [
    {
     "name": "stdout",
     "output_type": "stream",
     "text": [
      "Python 3.11.5\n"
     ]
    }
   ],
   "source": [
    "!python -V"
   ]
  },
  {
   "cell_type": "raw",
   "id": "6af2ed9c-fe06-43e2-8778-11e5c6cd8104",
   "metadata": {},
   "source": [
    "pip install sklearn"
   ]
  },
  {
   "cell_type": "code",
   "execution_count": 21,
   "id": "0001b2a3-e71b-43f8-9c96-ecc95d82b967",
   "metadata": {
    "tags": []
   },
   "outputs": [],
   "source": [
    "import sklearn\n",
    "import pandas\n",
    "import numpy\n",
    "import matplotlib\n",
    "import statsmodels\n",
    "import scipy"
   ]
  },
  {
   "cell_type": "code",
   "execution_count": 22,
   "id": "32b0ad8c-a3cf-4f60-a035-db32ce15af9a",
   "metadata": {
    "tags": []
   },
   "outputs": [
    {
     "data": {
      "text/plain": [
       "'1.3.0'"
      ]
     },
     "execution_count": 22,
     "metadata": {},
     "output_type": "execute_result"
    }
   ],
   "source": [
    "sklearn.__version__"
   ]
  },
  {
   "cell_type": "code",
   "execution_count": 23,
   "id": "e91faff8-33f5-4b57-ae04-fb66b908368f",
   "metadata": {
    "tags": []
   },
   "outputs": [
    {
     "data": {
      "text/plain": [
       "'2.0.3'"
      ]
     },
     "execution_count": 23,
     "metadata": {},
     "output_type": "execute_result"
    }
   ],
   "source": [
    "pandas.__version__"
   ]
  },
  {
   "cell_type": "code",
   "execution_count": 24,
   "id": "302e29c1-b4b9-464f-9ee3-16628e6a9a75",
   "metadata": {
    "tags": []
   },
   "outputs": [
    {
     "data": {
      "text/plain": [
       "'1.24.3'"
      ]
     },
     "execution_count": 24,
     "metadata": {},
     "output_type": "execute_result"
    }
   ],
   "source": [
    "numpy.__version__"
   ]
  },
  {
   "cell_type": "code",
   "execution_count": 25,
   "id": "9d48aa24-3779-4532-816b-04123e30f26b",
   "metadata": {
    "tags": []
   },
   "outputs": [
    {
     "data": {
      "text/plain": [
       "'3.7.2'"
      ]
     },
     "execution_count": 25,
     "metadata": {},
     "output_type": "execute_result"
    }
   ],
   "source": [
    "matplotlib.__version__"
   ]
  },
  {
   "cell_type": "code",
   "execution_count": 26,
   "id": "d1625ee3-71cf-46b3-8e49-394884d79a25",
   "metadata": {
    "tags": []
   },
   "outputs": [
    {
     "data": {
      "text/plain": [
       "'0.14.0'"
      ]
     },
     "execution_count": 26,
     "metadata": {},
     "output_type": "execute_result"
    }
   ],
   "source": [
    "statsmodels.__version__"
   ]
  },
  {
   "cell_type": "code",
   "execution_count": 27,
   "id": "89b11240-5e0f-4e11-b63c-ec54e6077866",
   "metadata": {
    "tags": []
   },
   "outputs": [
    {
     "data": {
      "text/plain": [
       "'1.11.1'"
      ]
     },
     "execution_count": 27,
     "metadata": {},
     "output_type": "execute_result"
    }
   ],
   "source": [
    "scipy.__version__"
   ]
  },
  {
   "cell_type": "markdown",
   "id": "4bbe04c4-91cf-48ae-9236-44bb9959359e",
   "metadata": {},
   "source": [
    "# 代码实现"
   ]
  },
  {
   "cell_type": "code",
   "execution_count": 28,
   "id": "da6ceb52-5683-4fa6-bc54-0b042f19206b",
   "metadata": {
    "tags": []
   },
   "outputs": [],
   "source": [
    "import numpy as np\n",
    "import pandas as pd\n",
    "import statsmodels.api as sm\n",
    "import matplotlib.pyplot as plt\n",
    "from sklearn.metrics import accuracy_score, roc_auc_score\n",
    "from statsmodels.nonparametric.smoothers_lowess import lowess"
   ]
  },
  {
   "cell_type": "code",
   "execution_count": 2,
   "id": "ae6eba79-b1e6-4f01-83bb-ab29e19f6499",
   "metadata": {
    "tags": []
   },
   "outputs": [],
   "source": [
    "df = pd.read_csv(\"data/train.csv\")"
   ]
  },
  {
   "cell_type": "code",
   "execution_count": 3,
   "id": "0b72b302-2e13-4802-96ea-094ee9b1f5cc",
   "metadata": {
    "tags": []
   },
   "outputs": [
    {
     "data": {
      "text/html": [
       "<div>\n",
       "<style scoped>\n",
       "    .dataframe tbody tr th:only-of-type {\n",
       "        vertical-align: middle;\n",
       "    }\n",
       "\n",
       "    .dataframe tbody tr th {\n",
       "        vertical-align: top;\n",
       "    }\n",
       "\n",
       "    .dataframe thead th {\n",
       "        text-align: right;\n",
       "    }\n",
       "</style>\n",
       "<table border=\"1\" class=\"dataframe\">\n",
       "  <thead>\n",
       "    <tr style=\"text-align: right;\">\n",
       "      <th></th>\n",
       "      <th>Age</th>\n",
       "      <th>Blood_Sugar</th>\n",
       "      <th>Blood_Pressure</th>\n",
       "      <th>Weight</th>\n",
       "      <th>Heart_Disease</th>\n",
       "    </tr>\n",
       "  </thead>\n",
       "  <tbody>\n",
       "    <tr>\n",
       "      <th>0</th>\n",
       "      <td>58</td>\n",
       "      <td>99.975461</td>\n",
       "      <td>106.328124</td>\n",
       "      <td>62.448684</td>\n",
       "      <td>0</td>\n",
       "    </tr>\n",
       "    <tr>\n",
       "      <th>1</th>\n",
       "      <td>71</td>\n",
       "      <td>93.609515</td>\n",
       "      <td>134.190672</td>\n",
       "      <td>67.875853</td>\n",
       "      <td>0</td>\n",
       "    </tr>\n",
       "    <tr>\n",
       "      <th>2</th>\n",
       "      <td>48</td>\n",
       "      <td>119.131949</td>\n",
       "      <td>115.773278</td>\n",
       "      <td>49.263101</td>\n",
       "      <td>0</td>\n",
       "    </tr>\n",
       "    <tr>\n",
       "      <th>3</th>\n",
       "      <td>34</td>\n",
       "      <td>98.626509</td>\n",
       "      <td>117.651983</td>\n",
       "      <td>93.111787</td>\n",
       "      <td>0</td>\n",
       "    </tr>\n",
       "    <tr>\n",
       "      <th>4</th>\n",
       "      <td>62</td>\n",
       "      <td>114.056088</td>\n",
       "      <td>119.456831</td>\n",
       "      <td>71.043221</td>\n",
       "      <td>0</td>\n",
       "    </tr>\n",
       "  </tbody>\n",
       "</table>\n",
       "</div>"
      ],
      "text/plain": [
       "   Age  Blood_Sugar  Blood_Pressure     Weight  Heart_Disease\n",
       "0   58    99.975461      106.328124  62.448684              0\n",
       "1   71    93.609515      134.190672  67.875853              0\n",
       "2   48   119.131949      115.773278  49.263101              0\n",
       "3   34    98.626509      117.651983  93.111787              0\n",
       "4   62   114.056088      119.456831  71.043221              0"
      ]
     },
     "execution_count": 3,
     "metadata": {},
     "output_type": "execute_result"
    }
   ],
   "source": [
    "df.head()"
   ]
  },
  {
   "cell_type": "code",
   "execution_count": 4,
   "id": "f6a5aa3e-f9ef-4228-8691-ceec12da2288",
   "metadata": {
    "tags": []
   },
   "outputs": [],
   "source": [
    "label_name = 'Heart_Disease'"
   ]
  },
  {
   "cell_type": "code",
   "execution_count": 5,
   "id": "8ad645da-84b6-4aee-9f7c-33faa74d880b",
   "metadata": {
    "tags": []
   },
   "outputs": [],
   "source": [
    "X = df.drop(label_name, axis=1)\n",
    "y = df[label_name]"
   ]
  },
  {
   "cell_type": "code",
   "execution_count": 6,
   "id": "f8ee3365-76f9-40d1-af3d-b75df95429f7",
   "metadata": {
    "tags": []
   },
   "outputs": [
    {
     "name": "stdout",
     "output_type": "stream",
     "text": [
      "Optimization terminated successfully.\n",
      "         Current function value: 0.022594\n",
      "         Iterations 14\n"
     ]
    }
   ],
   "source": [
    "# 添加常数列（截距项）到特征中\n",
    "X_ = sm.add_constant(X)\n",
    "\n",
    "# 拟合逻辑回归模型\n",
    "model = sm.Logit(y, X_)\n",
    "result = model.fit()"
   ]
  },
  {
   "cell_type": "code",
   "execution_count": 7,
   "id": "44be6bcd-f69f-4396-90bc-727ee9e04d83",
   "metadata": {
    "tags": []
   },
   "outputs": [
    {
     "name": "stdout",
     "output_type": "stream",
     "text": [
      "                           Logit Regression Results                           \n",
      "==============================================================================\n",
      "Dep. Variable:          Heart_Disease   No. Observations:                 1000\n",
      "Model:                          Logit   Df Residuals:                      995\n",
      "Method:                           MLE   Df Model:                            4\n",
      "Date:                Mon, 24 Feb 2025   Pseudo R-squ.:                  0.8405\n",
      "Time:                        15:00:14   Log-Likelihood:                -22.594\n",
      "converged:                       True   LL-Null:                       -141.63\n",
      "Covariance Type:            nonrobust   LLR p-value:                 2.421e-50\n",
      "==================================================================================\n",
      "                     coef    std err          z      P>|z|      [0.025      0.975]\n",
      "----------------------------------------------------------------------------------\n",
      "const           -109.6707     24.800     -4.422      0.000    -158.278     -61.064\n",
      "Age                0.4953      0.112      4.437      0.000       0.277       0.714\n",
      "Blood_Sugar        0.5558      0.123      4.524      0.000       0.315       0.797\n",
      "Blood_Pressure     0.0135      0.021      0.633      0.527      -0.028       0.055\n",
      "Weight             0.0647      0.031      2.106      0.035       0.004       0.125\n",
      "==================================================================================\n",
      "\n",
      "Possibly complete quasi-separation: A fraction 0.87 of observations can be\n",
      "perfectly predicted. This might indicate that there is complete\n",
      "quasi-separation. In this case some parameters will not be identified.\n",
      "准确率: 0.9910\n",
      "AUC: 0.9971\n"
     ]
    }
   ],
   "source": [
    "# 输出模型摘要\n",
    "print(result.summary())\n",
    "\n",
    "# 进行预测（概率值）\n",
    "y_pred_prob = result.predict(X_)\n",
    "# 将概率值转化为0/1预测类别，使用阈值0.5\n",
    "y_pred_class = (y_pred_prob > 0.5).astype(int)\n",
    "# 计算准确率\n",
    "accuracy = accuracy_score(y, y_pred_class)\n",
    "print(f\"准确率: {accuracy:.4f}\")\n",
    "\n",
    "# 计算AUC（曲线下面积）\n",
    "auc = roc_auc_score(y, y_pred_prob)\n",
    "print(f\"AUC: {auc:.4f}\")"
   ]
  },
  {
   "cell_type": "markdown",
   "id": "ae4e666b-9cd2-42f8-b20d-f00620f55fa2",
   "metadata": {},
   "source": [
    "# Apparent计算"
   ]
  },
  {
   "cell_type": "code",
   "execution_count": 8,
   "id": "27f4796c-6dd2-4c4f-9d09-1e750f085c93",
   "metadata": {
    "tags": []
   },
   "outputs": [],
   "source": [
    "y_true, y_prob = y, y_pred_prob"
   ]
  },
  {
   "cell_type": "markdown",
   "id": "352006b8-52fe-43a0-86eb-a71665145c29",
   "metadata": {},
   "source": [
    "## 预测概率采样"
   ]
  },
  {
   "cell_type": "code",
   "execution_count": 9,
   "id": "5a475835-9f99-4e15-bb9d-0a467403b17f",
   "metadata": {
    "tags": []
   },
   "outputs": [],
   "source": [
    "import numpy as np\n",
    "\n",
    "n = len(y_prob)  \n",
    "p = np.sort(y_prob)  \n",
    "predy = np.linspace(p[4], p[n-5], num=50)  "
   ]
  },
  {
   "cell_type": "code",
   "execution_count": 10,
   "id": "5b4d2816-9df1-4747-aa35-f6c404057dec",
   "metadata": {
    "tags": []
   },
   "outputs": [
    {
     "data": {
      "text/plain": [
       "array([6.48726475e-24, 2.04054528e-02, 4.08109056e-02, 6.12163585e-02,\n",
       "       8.16218113e-02])"
      ]
     },
     "execution_count": 10,
     "metadata": {},
     "output_type": "execute_result"
    }
   ],
   "source": [
    "predy[:5]"
   ]
  },
  {
   "cell_type": "markdown",
   "id": "1d55c174-cf43-4804-8b40-0c387a5e169c",
   "metadata": {},
   "source": [
    "## lowess平滑"
   ]
  },
  {
   "cell_type": "markdown",
   "id": "9cc49c16-32e9-41df-a46c-85c910147052",
   "metadata": {},
   "source": [
    "lowess（局部加权回归）是 R 语言中用于平滑数据的一个函数。它通过对数据点使用局部加权回归（Locally Weighted Scatterplot Smoothing, LOWESS）方法来创建平滑的曲线，从而使得原始数据的噪声得到平滑处理，并揭示出数据的趋势或模式。"
   ]
  },
  {
   "cell_type": "code",
   "execution_count": 11,
   "id": "685e7faf-90f1-40af-aece-18450b076572",
   "metadata": {
    "tags": []
   },
   "outputs": [],
   "source": [
    "smo = lowess(endog=y_true, exog=y_prob\n",
    "                  ,frac=2/3 \n",
    "                  ,it=0\n",
    "                  ,delta=(max(y_prob) - min(y_prob)) * 0.01\n",
    "                 )  "
   ]
  },
  {
   "cell_type": "markdown",
   "id": "a728f771-549a-43f8-a9a3-7933ac855fbf",
   "metadata": {},
   "source": [
    "## 插值填补"
   ]
  },
  {
   "cell_type": "code",
   "execution_count": 13,
   "id": "dab7e622-5f35-4890-8c5d-f6ccf69ffdf6",
   "metadata": {
    "tags": []
   },
   "outputs": [],
   "source": [
    "from scipy.interpolate import interp1d\n",
    "interp_function = interp1d(smo[:, 0], smo[:, 1], kind='linear', fill_value='extrapolate', assume_sorted=False)\n",
    "cal = interp_function(predy)"
   ]
  },
  {
   "cell_type": "code",
   "execution_count": 16,
   "id": "0ac08324-cd4d-4d44-99c6-d110c5f930b8",
   "metadata": {
    "tags": []
   },
   "outputs": [
    {
     "data": {
      "text/plain": [
       "array([0.        , 0.        , 0.03531016, 0.09656184, 0.18143783,\n",
       "       0.25748856, 0.25862486, 0.24845049, 0.24652479, 0.23457752,\n",
       "       0.21594259, 0.19028547, 0.18927053, 0.18825559, 0.18724064,\n",
       "       0.19566589, 0.20483262, 0.21312489, 0.22096365, 0.22942596,\n",
       "       0.2469134 , 0.27208035, 0.30843837, 0.34210236, 0.37393269,\n",
       "       0.40576302, 0.43759335, 0.46942367, 0.501254  , 0.52806615,\n",
       "       0.55233635, 0.57662434, 0.6009373 , 0.62525027, 0.64956324,\n",
       "       0.6738762 , 0.69818917, 0.72281366, 0.74789432, 0.77313713,\n",
       "       0.79854618, 0.82413325, 0.84989105, 0.87594446, 0.90199787,\n",
       "       0.92805128, 0.95424958, 0.98060051, 1.00703136, 1.03353091])"
      ]
     },
     "execution_count": 16,
     "metadata": {},
     "output_type": "execute_result"
    }
   ],
   "source": [
    "cal"
   ]
  },
  {
   "cell_type": "markdown",
   "id": "c388393d-a2c0-424b-bb59-714f96bd10f2",
   "metadata": {
    "tags": []
   },
   "source": [
    "## Apparent作图"
   ]
  },
  {
   "cell_type": "code",
   "execution_count": 15,
   "id": "cedfcf59-7bf2-49ef-965f-aa702f745b38",
   "metadata": {
    "tags": []
   },
   "outputs": [
    {
     "data": {
      "text/plain": [
       "<matplotlib.legend.Legend at 0x25289f47f90>"
      ]
     },
     "execution_count": 15,
     "metadata": {},
     "output_type": "execute_result"
    },
    {
     "data": {
      "image/png": "[encoded data removed]",
      "text/plain": [
       "<Figure size 640x480 with 1 Axes>"
      ]
     },
     "metadata": {},
     "output_type": "display_data"
    }
   ],
   "source": [
    "# \"Ideal\" 理想校准曲线 (y=x)\n",
    "ideal_line = [0, 1]\n",
    "plt.figure()\n",
    "# 开始画图\n",
    "# Ideal (理想曲线)\n",
    "plt.plot(ideal_line, ideal_line, label='Ideal')\n",
    "# Apparent (表观曲线)\n",
    "plt.plot(predy, cal, label='Apparent')\n",
    "plt.xlabel('Predicted Probability')\n",
    "plt.ylabel('Observed Probability')\n",
    "plt.legend()"
   ]
  },
  {
   "cell_type": "markdown",
   "id": "be85855a-a32e-49a1-9f3b-7db832b065e4",
   "metadata": {},
   "source": [
    "## 校准曲线采样"
   ]
  },
  {
   "cell_type": "markdown",
   "id": "b358deaf-cd06-43a4-a2ab-7ddf66f93327",
   "metadata": {},
   "source": []
  }
 ],
 "metadata": {
  "kernelspec": {
   "display_name": "Python 3 (ipykernel)",
   "language": "python",
   "name": "python3"
  },
  "language_info": {
   "codemirror_mode": {
    "name": "ipython",
    "version": 3
   },
   "file_extension": ".py",
   "mimetype": "text/x-python",
   "name": "python",
   "nbconvert_exporter": "python",
   "pygments_lexer": "ipython3",
   "version": "3.11.5"
  }
 },
 "nbformat": 4,
 "nbformat_minor": 5
}
