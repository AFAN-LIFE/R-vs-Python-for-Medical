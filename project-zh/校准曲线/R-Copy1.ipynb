{
 "cells": [
  {
   "cell_type": "markdown",
   "id": "c11bd4f9-87a2-43a4-aa0a-cfca64b6b6bb",
   "metadata": {},
   "source": [
    "# 环境说明"
   ]
  },
  {
   "cell_type": "code",
   "execution_count": 2,
   "id": "8fc21562-8486-46c0-acbb-2c92384804cd",
   "metadata": {
    "tags": []
   },
   "outputs": [
    {
     "name": "stderr",
     "output_type": "stream",
     "text": [
      "also installing the dependencies 'fs', 'rappdirs', 'cachem', 'memoise', 'mime', 'sass', 'viridisLite', 'bslib', 'fontawesome', 'jquerylib', 'tinytex', 'farver', 'labeling', 'munsell', 'R6', 'RColorBrewer', 'fansi', 'pkgconfig', 'zoo', 'stringi', 'backports', 'gtable', 'gridExtra', 'data.table', 'viridis', 'rmarkdown', 'Formula', 'MatrixModels', 'isoband', 'scales', 'tibble', 'withr', 'mvtnorm', 'TH.data', 'sandwich', 'stringr', 'magrittr', 'checkmate', 'htmlwidgets', 'rstudioapi', 'highr', 'xfun', 'yaml', 'Hmisc', 'quantreg', 'ggplot2', 'SparseM', 'polspline', 'multcomp', 'htmlTable', 'colorspace', 'knitr'\n",
      "\n",
      "\n"
     ]
    },
    {
     "name": "stdout",
     "output_type": "stream",
     "text": [
      "package 'fs' successfully unpacked and MD5 sums checked\n",
      "package 'rappdirs' successfully unpacked and MD5 sums checked\n",
      "package 'cachem' successfully unpacked and MD5 sums checked\n",
      "package 'memoise' successfully unpacked and MD5 sums checked\n",
      "package 'mime' successfully unpacked and MD5 sums checked\n",
      "package 'sass' successfully unpacked and MD5 sums checked\n",
      "package 'viridisLite' successfully unpacked and MD5 sums checked\n",
      "package 'bslib' successfully unpacked and MD5 sums checked\n",
      "package 'fontawesome' successfully unpacked and MD5 sums checked\n",
      "package 'jquerylib' successfully unpacked and MD5 sums checked\n",
      "package 'tinytex' successfully unpacked and MD5 sums checked\n",
      "package 'farver' successfully unpacked and MD5 sums checked\n",
      "package 'labeling' successfully unpacked and MD5 sums checked\n",
      "package 'munsell' successfully unpacked and MD5 sums checked\n",
      "package 'R6' successfully unpacked and MD5 sums checked\n",
      "package 'RColorBrewer' successfully unpacked and MD5 sums checked\n",
      "package 'fansi' successfully unpacked and MD5 sums checked\n",
      "package 'pkgconfig' successfully unpacked and MD5 sums checked\n",
      "package 'zoo' successfully unpacked and MD5 sums checked\n",
      "package 'stringi' successfully unpacked and MD5 sums checked\n",
      "package 'backports' successfully unpacked and MD5 sums checked\n",
      "package 'gtable' successfully unpacked and MD5 sums checked\n",
      "package 'gridExtra' successfully unpacked and MD5 sums checked\n",
      "package 'data.table' successfully unpacked and MD5 sums checked\n",
      "package 'viridis' successfully unpacked and MD5 sums checked\n",
      "package 'rmarkdown' successfully unpacked and MD5 sums checked\n",
      "package 'Formula' successfully unpacked and MD5 sums checked\n",
      "package 'MatrixModels' successfully unpacked and MD5 sums checked\n",
      "package 'isoband' successfully unpacked and MD5 sums checked\n",
      "package 'scales' successfully unpacked and MD5 sums checked\n",
      "package 'tibble' successfully unpacked and MD5 sums checked\n",
      "package 'withr' successfully unpacked and MD5 sums checked\n",
      "package 'mvtnorm' successfully unpacked and MD5 sums checked\n",
      "package 'TH.data' successfully unpacked and MD5 sums checked\n",
      "package 'sandwich' successfully unpacked and MD5 sums checked\n",
      "package 'stringr' successfully unpacked and MD5 sums checked\n",
      "package 'magrittr' successfully unpacked and MD5 sums checked\n",
      "package 'checkmate' successfully unpacked and MD5 sums checked\n",
      "package 'htmlwidgets' successfully unpacked and MD5 sums checked\n",
      "package 'rstudioapi' successfully unpacked and MD5 sums checked\n",
      "package 'highr' successfully unpacked and MD5 sums checked\n",
      "package 'xfun' successfully unpacked and MD5 sums checked\n",
      "package 'yaml' successfully unpacked and MD5 sums checked\n",
      "package 'Hmisc' successfully unpacked and MD5 sums checked\n",
      "package 'quantreg' successfully unpacked and MD5 sums checked\n",
      "package 'ggplot2' successfully unpacked and MD5 sums checked\n",
      "package 'SparseM' successfully unpacked and MD5 sums checked\n",
      "package 'polspline' successfully unpacked and MD5 sums checked\n",
      "package 'multcomp' successfully unpacked and MD5 sums checked\n",
      "package 'htmlTable' successfully unpacked and MD5 sums checked\n",
      "package 'colorspace' successfully unpacked and MD5 sums checked\n",
      "package 'knitr' successfully unpacked and MD5 sums checked\n",
      "package 'rms' successfully unpacked and MD5 sums checked\n",
      "\n",
      "The downloaded binary packages are in\n",
      "\tC:\\Users\\AFAN\\AppData\\Local\\Temp\\Rtmpi8Fks5\\downloaded_packages\n"
     ]
    }
   ],
   "source": [
    "# 安装所需的包\n",
    "install.packages(\"rms\")"
   ]
  },
  {
   "cell_type": "code",
   "execution_count": 3,
   "id": "ad961cac-c367-4e05-931b-b1dbac44cfb7",
   "metadata": {
    "tags": []
   },
   "outputs": [
    {
     "data": {
      "text/plain": [
       "NULL"
      ]
     },
     "metadata": {},
     "output_type": "display_data"
    }
   ],
   "source": [
    "sessionInfo()$otherPkgs$rms"
   ]
  },
  {
   "cell_type": "markdown",
   "id": "c745a1a0-d852-4e06-ad46-5c72233e5208",
   "metadata": {},
   "source": [
    "# 代码实现"
   ]
  },
  {
   "cell_type": "code",
   "execution_count": 7,
   "id": "9f8e166d-82ec-4351-80f6-6d2520e673a2",
   "metadata": {},
   "outputs": [],
   "source": [
    "# 读取数据\n",
    "data <- read.csv(\"data/train.csv\")"
   ]
  },
  {
   "cell_type": "code",
   "execution_count": 8,
   "id": "6ec64169-d75a-45b5-97e6-78ac670e1e66",
   "metadata": {},
   "outputs": [
    {
     "data": {
      "text/html": [
       "<table class=\"dataframe\">\n",
       "<caption>A data.frame: 6 × 5</caption>\n",
       "<thead>\n",
       "\t<tr><th></th><th scope=col>Age</th><th scope=col>Blood_Sugar</th><th scope=col>Blood_Pressure</th><th scope=col>Weight</th><th scope=col>Heart_Disease</th></tr>\n",
       "\t<tr><th></th><th scope=col>&lt;int&gt;</th><th scope=col>&lt;dbl&gt;</th><th scope=col>&lt;dbl&gt;</th><th scope=col>&lt;dbl&gt;</th><th scope=col>&lt;int&gt;</th></tr>\n",
       "</thead>\n",
       "<tbody>\n",
       "\t<tr><th scope=row>1</th><td>58</td><td> 99.97546</td><td>106.3281</td><td>62.44868</td><td>0</td></tr>\n",
       "\t<tr><th scope=row>2</th><td>71</td><td> 93.60951</td><td>134.1907</td><td>67.87585</td><td>0</td></tr>\n",
       "\t<tr><th scope=row>3</th><td>48</td><td>119.13195</td><td>115.7733</td><td>49.26310</td><td>0</td></tr>\n",
       "\t<tr><th scope=row>4</th><td>34</td><td> 98.62651</td><td>117.6520</td><td>93.11179</td><td>0</td></tr>\n",
       "\t<tr><th scope=row>5</th><td>62</td><td>114.05609</td><td>119.4568</td><td>71.04322</td><td>0</td></tr>\n",
       "\t<tr><th scope=row>6</th><td>27</td><td> 91.46011</td><td>131.4862</td><td>80.83883</td><td>0</td></tr>\n",
       "</tbody>\n",
       "</table>\n"
      ],
      "text/latex": [
       "A data.frame: 6 × 5\n",
       "\\begin{tabular}{r|lllll}\n",
       "  & Age & Blood\\_Sugar & Blood\\_Pressure & Weight & Heart\\_Disease\\\\\n",
       "  & <int> & <dbl> & <dbl> & <dbl> & <int>\\\\\n",
       "\\hline\n",
       "\t1 & 58 &  99.97546 & 106.3281 & 62.44868 & 0\\\\\n",
       "\t2 & 71 &  93.60951 & 134.1907 & 67.87585 & 0\\\\\n",
       "\t3 & 48 & 119.13195 & 115.7733 & 49.26310 & 0\\\\\n",
       "\t4 & 34 &  98.62651 & 117.6520 & 93.11179 & 0\\\\\n",
       "\t5 & 62 & 114.05609 & 119.4568 & 71.04322 & 0\\\\\n",
       "\t6 & 27 &  91.46011 & 131.4862 & 80.83883 & 0\\\\\n",
       "\\end{tabular}\n"
      ],
      "text/markdown": [
       "\n",
       "A data.frame: 6 × 5\n",
       "\n",
       "| <!--/--> | Age &lt;int&gt; | Blood_Sugar &lt;dbl&gt; | Blood_Pressure &lt;dbl&gt; | Weight &lt;dbl&gt; | Heart_Disease &lt;int&gt; |\n",
       "|---|---|---|---|---|---|\n",
       "| 1 | 58 |  99.97546 | 106.3281 | 62.44868 | 0 |\n",
       "| 2 | 71 |  93.60951 | 134.1907 | 67.87585 | 0 |\n",
       "| 3 | 48 | 119.13195 | 115.7733 | 49.26310 | 0 |\n",
       "| 4 | 34 |  98.62651 | 117.6520 | 93.11179 | 0 |\n",
       "| 5 | 62 | 114.05609 | 119.4568 | 71.04322 | 0 |\n",
       "| 6 | 27 |  91.46011 | 131.4862 | 80.83883 | 0 |\n",
       "\n"
      ],
      "text/plain": [
       "  Age Blood_Sugar Blood_Pressure Weight   Heart_Disease\n",
       "1 58   99.97546   106.3281       62.44868 0            \n",
       "2 71   93.60951   134.1907       67.87585 0            \n",
       "3 48  119.13195   115.7733       49.26310 0            \n",
       "4 34   98.62651   117.6520       93.11179 0            \n",
       "5 62  114.05609   119.4568       71.04322 0            \n",
       "6 27   91.46011   131.4862       80.83883 0            "
      ]
     },
     "metadata": {},
     "output_type": "display_data"
    }
   ],
   "source": [
    "head(data)"
   ]
  },
  {
   "cell_type": "code",
   "execution_count": 9,
   "id": "62c252e7-e022-45aa-b588-6882dbad0a48",
   "metadata": {
    "tags": []
   },
   "outputs": [],
   "source": [
    "# 加载所需的包\n",
    "library(rms)"
   ]
  },
  {
   "cell_type": "code",
   "execution_count": 14,
   "id": "775a24b5-c830-4b80-802d-9e6b7ab1e6f7",
   "metadata": {},
   "outputs": [
    {
     "name": "stdout",
     "output_type": "stream",
     "text": [
      "Logistic Regression Model\n",
      "\n",
      "lrm(formula = Heart_Disease ~ ., data = data, x = TRUE, y = TRUE)\n",
      "\n",
      "                       Model Likelihood     Discrimination    Rank Discrim.    \n",
      "                             Ratio Test            Indexes          Indexes    \n",
      "Obs          1000    LR chi2     238.07     R2       0.859    C       0.997    \n",
      " 0            968    d.f.             4    R2(4,1000)0.209    Dxy     0.994    \n",
      " 1             32    Pr(> chi2) <0.0001    R2(4,92.9)0.919    gamma   0.994    \n",
      "max |deriv| 2e-05                           Brier    0.007    tau-a   0.062    \n",
      "\n",
      "               Coef      S.E.    Wald Z Pr(>|Z|)\n",
      "Intercept      -109.6707 24.8000 -4.42  <0.0001 \n",
      "Age               0.4953  0.1116  4.44  <0.0001 \n",
      "Blood_Sugar       0.5558  0.1228  4.52  <0.0001 \n",
      "Blood_Pressure    0.0135  0.0213  0.63  0.5270  \n",
      "Weight            0.0647  0.0307  2.11  0.0352  \n",
      "\n"
     ]
    }
   ],
   "source": [
    "# 开始建模\n",
    "model <- lrm(Heart_Disease ~ ., data = data, x=TRUE,y=TRUE)\n",
    "print(model)"
   ]
  },
  {
   "cell_type": "code",
   "execution_count": 15,
   "id": "10a79724-ce09-482c-994a-384f5144e55c",
   "metadata": {},
   "outputs": [
    {
     "name": "stdout",
     "output_type": "stream",
     "text": [
      "[1] \"模型准确率: 0.991\"\n"
     ]
    }
   ],
   "source": [
    "# 计算概率预测值\n",
    "probabilities <- predict(model)\n",
    "# 设定阈值 0.5，将概率值转换为 0/1 分类\n",
    "predicted_class <- ifelse(probabilities > 0.5, 1, 0)\n",
    "# 计算准确率\n",
    "accuracy <- mean(predicted_class == data$Heart_Disease)\n",
    "print(paste(\"模型准确率:\", round(accuracy, 4)))"
   ]
  },
  {
   "cell_type": "code",
   "execution_count": 46,
   "id": "025bec0f-3016-4de6-9ebd-45e26992f4f7",
   "metadata": {},
   "outputs": [
    {
     "data": {
      "text/html": [
       "1"
      ],
      "text/latex": [
       "1"
      ],
      "text/markdown": [
       "1"
      ],
      "text/plain": [
       "[1] 1"
      ]
     },
     "metadata": {},
     "output_type": "display_data"
    }
   ],
   "source": [
    "non.slopes <- num.intercepts(model, 'coef')\n",
    "non.slopes"
   ]
  },
  {
   "cell_type": "code",
   "execution_count": 48,
   "id": "b116fd07-f9da-4de1-a01c-a70e1fda1b2b",
   "metadata": {
    "tags": []
   },
   "outputs": [
    {
     "data": {
      "text/html": [
       "<table class=\"dataframe\">\n",
       "<caption>A matrix: 6 × 4 of type dbl</caption>\n",
       "<thead>\n",
       "\t<tr><th></th><th scope=col>Age</th><th scope=col>Blood_Sugar</th><th scope=col>Blood_Pressure</th><th scope=col>Weight</th></tr>\n",
       "</thead>\n",
       "<tbody>\n",
       "\t<tr><th scope=row>1</th><td>58</td><td> 99.97546</td><td>106.3281</td><td>62.44868</td></tr>\n",
       "\t<tr><th scope=row>2</th><td>71</td><td> 93.60951</td><td>134.1907</td><td>67.87585</td></tr>\n",
       "\t<tr><th scope=row>3</th><td>48</td><td>119.13195</td><td>115.7733</td><td>49.26310</td></tr>\n",
       "\t<tr><th scope=row>4</th><td>34</td><td> 98.62651</td><td>117.6520</td><td>93.11179</td></tr>\n",
       "\t<tr><th scope=row>5</th><td>62</td><td>114.05609</td><td>119.4568</td><td>71.04322</td></tr>\n",
       "\t<tr><th scope=row>6</th><td>27</td><td> 91.46011</td><td>131.4862</td><td>80.83883</td></tr>\n",
       "</tbody>\n",
       "</table>\n"
      ],
      "text/latex": [
       "A matrix: 6 × 4 of type dbl\n",
       "\\begin{tabular}{r|llll}\n",
       "  & Age & Blood\\_Sugar & Blood\\_Pressure & Weight\\\\\n",
       "\\hline\n",
       "\t1 & 58 &  99.97546 & 106.3281 & 62.44868\\\\\n",
       "\t2 & 71 &  93.60951 & 134.1907 & 67.87585\\\\\n",
       "\t3 & 48 & 119.13195 & 115.7733 & 49.26310\\\\\n",
       "\t4 & 34 &  98.62651 & 117.6520 & 93.11179\\\\\n",
       "\t5 & 62 & 114.05609 & 119.4568 & 71.04322\\\\\n",
       "\t6 & 27 &  91.46011 & 131.4862 & 80.83883\\\\\n",
       "\\end{tabular}\n"
      ],
      "text/markdown": [
       "\n",
       "A matrix: 6 × 4 of type dbl\n",
       "\n",
       "| <!--/--> | Age | Blood_Sugar | Blood_Pressure | Weight |\n",
       "|---|---|---|---|---|\n",
       "| 1 | 58 |  99.97546 | 106.3281 | 62.44868 |\n",
       "| 2 | 71 |  93.60951 | 134.1907 | 67.87585 |\n",
       "| 3 | 48 | 119.13195 | 115.7733 | 49.26310 |\n",
       "| 4 | 34 |  98.62651 | 117.6520 | 93.11179 |\n",
       "| 5 | 62 | 114.05609 | 119.4568 | 71.04322 |\n",
       "| 6 | 27 |  91.46011 | 131.4862 | 80.83883 |\n",
       "\n"
      ],
      "text/plain": [
       "  Age Blood_Sugar Blood_Pressure Weight  \n",
       "1 58   99.97546   106.3281       62.44868\n",
       "2 71   93.60951   134.1907       67.87585\n",
       "3 48  119.13195   115.7733       49.26310\n",
       "4 34   98.62651   117.6520       93.11179\n",
       "5 62  114.05609   119.4568       71.04322\n",
       "6 27   91.46011   131.4862       80.83883"
      ]
     },
     "metadata": {},
     "output_type": "display_data"
    }
   ],
   "source": [
    "x <- model[['x']]\n",
    "head(x)"
   ]
  },
  {
   "cell_type": "code",
   "execution_count": 45,
   "id": "47d535a1-ca25-4620-8f4e-85c74a20aa8b",
   "metadata": {},
   "outputs": [
    {
     "data": {
      "text/html": [
       "<style>\n",
       ".dl-inline {width: auto; margin:0; padding: 0}\n",
       ".dl-inline>dt, .dl-inline>dd {float: none; width: auto; display: inline-block}\n",
       ".dl-inline>dt::after {content: \":\\0020\"; padding-right: .5ex}\n",
       ".dl-inline>dt:not(:first-of-type) {padding-left: .5ex}\n",
       "</style><dl class=dl-inline><dt>Intercept</dt><dd>-109.6707201752</dd><dt>Age</dt><dd>0.495326807417277</dd><dt>Blood_Sugar</dt><dd>0.555763449151369</dd><dt>Blood_Pressure</dt><dd>0.0134730684372247</dd><dt>Weight</dt><dd>0.0646939048336378</dd></dl>\n"
      ],
      "text/latex": [
       "\\begin{description*}\n",
       "\\item[Intercept] -109.6707201752\n",
       "\\item[Age] 0.495326807417277\n",
       "\\item[Blood\\textbackslash{}\\_Sugar] 0.555763449151369\n",
       "\\item[Blood\\textbackslash{}\\_Pressure] 0.0134730684372247\n",
       "\\item[Weight] 0.0646939048336378\n",
       "\\end{description*}\n"
      ],
      "text/markdown": [
       "Intercept\n",
       ":   -109.6707201752Age\n",
       ":   0.495326807417277Blood_Sugar\n",
       ":   0.555763449151369Blood_Pressure\n",
       ":   0.0134730684372247Weight\n",
       ":   0.0646939048336378\n",
       "\n"
      ],
      "text/plain": [
       "     Intercept            Age    Blood_Sugar Blood_Pressure         Weight \n",
       " -109.67072018     0.49532681     0.55576345     0.01347307     0.06469390 "
      ]
     },
     "metadata": {},
     "output_type": "display_data"
    }
   ],
   "source": [
    "b <- model$coef\n",
    "b"
   ]
  },
  {
   "cell_type": "code",
   "execution_count": 49,
   "id": "9671dddd-da3e-44eb-aba7-d6c8ecd36bd8",
   "metadata": {},
   "outputs": [
    {
     "data": {
      "text/html": [
       "1000"
      ],
      "text/latex": [
       "1000"
      ],
      "text/markdown": [
       "1000"
      ],
      "text/plain": [
       "[1] 1000"
      ]
     },
     "metadata": {},
     "output_type": "display_data"
    }
   ],
   "source": [
    "n <- nrow(x)\n",
    "n"
   ]
  },
  {
   "cell_type": "code",
   "execution_count": 52,
   "id": "1b2b4a7e-8ddd-46f7-9c96-2757b50bc238",
   "metadata": {},
   "outputs": [
    {
     "data": {
      "text/html": [
       "<style>\n",
       ".list-inline {list-style: none; margin:0; padding: 0}\n",
       ".list-inline>li {display: inline-block}\n",
       ".list-inline>li:not(:last-child)::after {content: \"\\00b7\"; padding: 0 .5ex}\n",
       "</style>\n",
       "<ol class=list-inline><li>1</li><li>2</li><li>3</li><li>4</li><li>5</li></ol>\n"
      ],
      "text/latex": [
       "\\begin{enumerate*}\n",
       "\\item 1\n",
       "\\item 2\n",
       "\\item 3\n",
       "\\item 4\n",
       "\\item 5\n",
       "\\end{enumerate*}\n"
      ],
      "text/markdown": [
       "1. 1\n",
       "2. 2\n",
       "3. 3\n",
       "4. 4\n",
       "5. 5\n",
       "\n",
       "\n"
      ],
      "text/plain": [
       "[1] 1 2 3 4 5"
      ]
     },
     "metadata": {},
     "output_type": "display_data"
    }
   ],
   "source": [
    "orig.col.kept <- seq(along=model$coef)\n",
    "orig.col.kept"
   ]
  },
  {
   "cell_type": "code",
   "execution_count": 54,
   "id": "fef0528c-b33f-436d-8632-941256b09c24",
   "metadata": {},
   "outputs": [],
   "source": [
    "  x.index <- function(i, ns)\n",
    "    if(ns == 0) i else setdiff(i, 1 : ns) - ns"
   ]
  },
  {
   "cell_type": "code",
   "execution_count": 55,
   "id": "aa40c52f-3e36-45a0-bd72-6e4e0888c858",
   "metadata": {},
   "outputs": [
    {
     "data": {
      "text/html": [
       "<style>\n",
       ".list-inline {list-style: none; margin:0; padding: 0}\n",
       ".list-inline>li {display: inline-block}\n",
       ".list-inline>li:not(:last-child)::after {content: \"\\00b7\"; padding: 0 .5ex}\n",
       "</style>\n",
       "<ol class=list-inline><li>1</li><li>2</li><li>3</li><li>4</li></ol>\n"
      ],
      "text/latex": [
       "\\begin{enumerate*}\n",
       "\\item 1\n",
       "\\item 2\n",
       "\\item 3\n",
       "\\item 4\n",
       "\\end{enumerate*}\n"
      ],
      "text/markdown": [
       "1. 1\n",
       "2. 2\n",
       "3. 3\n",
       "4. 4\n",
       "\n",
       "\n"
      ],
      "text/plain": [
       "[1] 1 2 3 4"
      ]
     },
     "metadata": {},
     "output_type": "display_data"
    }
   ],
   "source": [
    "xcol <- x.index(orig.col.kept, non.slopes)\n",
    "xcol"
   ]
  },
  {
   "cell_type": "code",
   "execution_count": 61,
   "id": "39227ae4-fe35-403b-b441-c9645126d4b6",
   "metadata": {},
   "outputs": [
    {
     "data": {
      "text/html": [
       "4000"
      ],
      "text/latex": [
       "4000"
      ],
      "text/markdown": [
       "4000"
      ],
      "text/plain": [
       "[1] 4000"
      ]
     },
     "metadata": {},
     "output_type": "display_data"
    }
   ],
   "source": [
    "length(x)"
   ]
  },
  {
   "cell_type": "code",
   "execution_count": 57,
   "id": "41dead4c-1fd1-43a8-9028-048a46594a4e",
   "metadata": {},
   "outputs": [],
   "source": [
    "Xb <- function(x, b, non.slopes, n, kint=1) {\n",
    "if(length(x)) matxv(x, b, kint=kint)\n",
    "else if(non.slopes == 0 || ! length(kint)) rep(0, n)\n",
    "else rep(b[kint], n)\n",
    "}"
   ]
  },
  {
   "cell_type": "code",
   "execution_count": 64,
   "id": "d9bbdc67-5618-4811-b255-248ca935de95",
   "metadata": {},
   "outputs": [
    {
     "data": {
      "text/html": [
       "-19.9064441358968"
      ],
      "text/latex": [
       "-19.9064441358968"
      ],
      "text/markdown": [
       "-19.9064441358968"
      ],
      "text/plain": [
       "[1] -19.90644"
      ]
     },
     "metadata": {},
     "output_type": "display_data"
    }
   ],
   "source": [
    "0.495326807417277 * 58 + 0.555763449151369 * 99.97546 + 0.0134730684372247 * 106.3281 + 0.0646939048336378 * 62.44868 -109.6707201752"
   ]
  },
  {
   "cell_type": "code",
   "execution_count": 69,
   "id": "a676f18a-c644-4c88-a4b0-e6d03f531dab",
   "metadata": {},
   "outputs": [
    {
     "data": {
      "text/html": [
       "<style>\n",
       ".dl-inline {width: auto; margin:0; padding: 0}\n",
       ".dl-inline>dt, .dl-inline>dd {float: none; width: auto; display: inline-block}\n",
       ".dl-inline>dt::after {content: \":\\0020\"; padding-right: .5ex}\n",
       ".dl-inline>dt:not(:first-of-type) {padding-left: .5ex}\n",
       "</style><dl class=dl-inline><dt>1</dt><dd>-19.9064432627967</dd><dt>2</dt><dd>-16.2786558963877</dd><dt>3</dt><dd>-14.939007011338</dd><dt>4</dt><dd>-30.4077015382796</dd><dt>5</dt><dd>-9.36673989751706</dd><dt>6</dt><dd>-38.4654097041462</dd></dl>\n"
      ],
      "text/latex": [
       "\\begin{description*}\n",
       "\\item[1] -19.9064432627967\n",
       "\\item[2] -16.2786558963877\n",
       "\\item[3] -14.939007011338\n",
       "\\item[4] -30.4077015382796\n",
       "\\item[5] -9.36673989751706\n",
       "\\item[6] -38.4654097041462\n",
       "\\end{description*}\n"
      ],
      "text/markdown": [
       "1\n",
       ":   -19.90644326279672\n",
       ":   -16.27865589638773\n",
       ":   -14.9390070113384\n",
       ":   -30.40770153827965\n",
       ":   -9.366739897517066\n",
       ":   -38.4654097041462\n",
       "\n"
      ],
      "text/plain": [
       "        1         2         3         4         5         6 \n",
       "-19.90644 -16.27866 -14.93901 -30.40770  -9.36674 -38.46541 "
      ]
     },
     "metadata": {},
     "output_type": "display_data"
    }
   ],
   "source": [
    "head(matxv(x, b))"
   ]
  },
  {
   "cell_type": "code",
   "execution_count": 65,
   "id": "669207ea-16f1-4e7a-9ee8-f239e170859c",
   "metadata": {},
   "outputs": [
    {
     "data": {
      "text/html": [
       "1000"
      ],
      "text/latex": [
       "1000"
      ],
      "text/markdown": [
       "1000"
      ],
      "text/plain": [
       "[1] 1000"
      ]
     },
     "metadata": {},
     "output_type": "display_data"
    }
   ],
   "source": [
    "length(matxv(x, b))"
   ]
  },
  {
   "cell_type": "code",
   "execution_count": 68,
   "id": "ef3f6301-1908-4667-abbe-24253e0d7b60",
   "metadata": {},
   "outputs": [
    {
     "data": {
      "text/html": [
       "<style>\n",
       ".dl-inline {width: auto; margin:0; padding: 0}\n",
       ".dl-inline>dt, .dl-inline>dd {float: none; width: auto; display: inline-block}\n",
       ".dl-inline>dt::after {content: \":\\0020\"; padding-right: .5ex}\n",
       ".dl-inline>dt:not(:first-of-type) {padding-left: .5ex}\n",
       "</style><dl class=dl-inline><dt>1</dt><dd>-19.9064432627967</dd><dt>2</dt><dd>-16.2786558963877</dd><dt>3</dt><dd>-14.939007011338</dd><dt>4</dt><dd>-30.4077015382796</dd><dt>5</dt><dd>-9.36673989751706</dd><dt>6</dt><dd>-38.4654097041462</dd></dl>\n"
      ],
      "text/latex": [
       "\\begin{description*}\n",
       "\\item[1] -19.9064432627967\n",
       "\\item[2] -16.2786558963877\n",
       "\\item[3] -14.939007011338\n",
       "\\item[4] -30.4077015382796\n",
       "\\item[5] -9.36673989751706\n",
       "\\item[6] -38.4654097041462\n",
       "\\end{description*}\n"
      ],
      "text/markdown": [
       "1\n",
       ":   -19.90644326279672\n",
       ":   -16.27865589638773\n",
       ":   -14.9390070113384\n",
       ":   -30.40770153827965\n",
       ":   -9.366739897517066\n",
       ":   -38.4654097041462\n",
       "\n"
      ],
      "text/plain": [
       "        1         2         3         4         5         6 \n",
       "-19.90644 -16.27866 -14.93901 -30.40770  -9.36674 -38.46541 "
      ]
     },
     "metadata": {},
     "output_type": "display_data"
    }
   ],
   "source": [
    "xb <- Xb(x[, xcol, drop=FALSE], b, non.slopes, n,\n",
    "       kint=1)\n",
    "head(xb)"
   ]
  },
  {
   "cell_type": "code",
   "execution_count": 72,
   "id": "14e04745-98fc-449c-88cb-a1526c21f5b0",
   "metadata": {},
   "outputs": [
    {
     "data": {
      "text/html": [
       "<style>\n",
       ".list-inline {list-style: none; margin:0; padding: 0}\n",
       ".list-inline>li {display: inline-block}\n",
       ".list-inline>li:not(:last-child)::after {content: \"\\00b7\"; padding: 0 .5ex}\n",
       "</style>\n",
       "<ol class=list-inline><li>0</li><li>0</li><li>0</li><li>0</li><li>0</li><li>0</li></ol>\n"
      ],
      "text/latex": [
       "\\begin{enumerate*}\n",
       "\\item 0\n",
       "\\item 0\n",
       "\\item 0\n",
       "\\item 0\n",
       "\\item 0\n",
       "\\item 0\n",
       "\\end{enumerate*}\n"
      ],
      "text/markdown": [
       "1. 0\n",
       "2. 0\n",
       "3. 0\n",
       "4. 0\n",
       "5. 0\n",
       "6. 0\n",
       "\n",
       "\n"
      ],
      "text/plain": [
       "[1] 0 0 0 0 0 0"
      ]
     },
     "metadata": {},
     "output_type": "display_data"
    }
   ],
   "source": [
    "y <- model[['y']]\n",
    "head(y)"
   ]
  },
  {
   "cell_type": "code",
   "execution_count": 73,
   "id": "c3ee0f12-37d5-40aa-a29f-88bb772f971f",
   "metadata": {},
   "outputs": [
    {
     "data": {
      "text/plain": [
       "NULL"
      ]
     },
     "metadata": {},
     "output_type": "display_data"
    }
   ],
   "source": [
    "stra <- model$strata\n",
    "stra"
   ]
  },
  {
   "cell_type": "code",
   "execution_count": null,
   "id": "a34864dc-aae3-47b1-8b91-8a8dd95dc18e",
   "metadata": {},
   "outputs": [],
   "source": []
  },
  {
   "cell_type": "code",
   "execution_count": 33,
   "id": "6930ac75-8edd-473a-a5b1-bf496ab7b9a1",
   "metadata": {},
   "outputs": [],
   "source": [
    "clas <- attr(model,\"class\")"
   ]
  },
  {
   "cell_type": "code",
   "execution_count": 34,
   "id": "3947ceaa-bee1-4d14-8e8e-4e84240394a5",
   "metadata": {},
   "outputs": [
    {
     "data": {
      "text/html": [
       "<style>\n",
       ".list-inline {list-style: none; margin:0; padding: 0}\n",
       ".list-inline>li {display: inline-block}\n",
       ".list-inline>li:not(:last-child)::after {content: \"\\00b7\"; padding: 0 .5ex}\n",
       "</style>\n",
       "<ol class=list-inline><li>'lrm'</li><li>'rms'</li><li>'glm'</li></ol>\n"
      ],
      "text/latex": [
       "\\begin{enumerate*}\n",
       "\\item 'lrm'\n",
       "\\item 'rms'\n",
       "\\item 'glm'\n",
       "\\end{enumerate*}\n"
      ],
      "text/markdown": [
       "1. 'lrm'\n",
       "2. 'rms'\n",
       "3. 'glm'\n",
       "\n",
       "\n"
      ],
      "text/plain": [
       "[1] \"lrm\" \"rms\" \"glm\""
      ]
     },
     "metadata": {},
     "output_type": "display_data"
    }
   ],
   "source": [
    "clas"
   ]
  },
  {
   "cell_type": "code",
   "execution_count": 37,
   "id": "97ec2a07-9935-4331-a430-ce81eae97985",
   "metadata": {},
   "outputs": [],
   "source": [
    "name <- if(any(clas==\"lrm\"))\"lr\" else if(any(clas==\"ols\")) \"ol\" else stop(\"fit must be from lrm or ols\")"
   ]
  },
  {
   "cell_type": "code",
   "execution_count": 38,
   "id": "a80b6eba-5bf3-45d4-969c-f4bc8d1e5ed6",
   "metadata": {},
   "outputs": [
    {
     "data": {
      "text/html": [
       "'lr'"
      ],
      "text/latex": [
       "'lr'"
      ],
      "text/markdown": [
       "'lr'"
      ],
      "text/plain": [
       "[1] \"lr\""
      ]
     },
     "metadata": {},
     "output_type": "display_data"
    }
   ],
   "source": [
    "name"
   ]
  },
  {
   "cell_type": "code",
   "execution_count": 31,
   "id": "01aed08a-af55-478e-ba08-ef6fa52ee31a",
   "metadata": {},
   "outputs": [
    {
     "data": {
      "text/html": [
       "<style>\n",
       ".dl-inline {width: auto; margin:0; padding: 0}\n",
       ".dl-inline>dt, .dl-inline>dd {float: none; width: auto; display: inline-block}\n",
       ".dl-inline>dt::after {content: \":\\0020\"; padding-right: .5ex}\n",
       ".dl-inline>dt:not(:first-of-type) {padding-left: .5ex}\n",
       "</style><dl class=dl-inline><dt>freq</dt><dd>FALSE</dd><dt>ymedian</dt><dd>FALSE</dd><dt>yunique</dt><dd>FALSE</dd><dt>sumwty</dt><dd>FALSE</dd><dt>stats</dt><dd>FALSE</dd><dt>fail</dt><dd>FALSE</dd><dt>coefficients</dt><dd>FALSE</dd><dt>info.matrix</dt><dd>FALSE</dd><dt>u</dt><dd>FALSE</dd><dt>iter</dt><dd>FALSE</dd><dt>deviance</dt><dd>FALSE</dd><dt>non.slopes</dt><dd>FALSE</dd><dt>linear.predictors</dt><dd>FALSE</dd><dt>penalty.matrix</dt><dd>FALSE</dd><dt>weights</dt><dd>FALSE</dd><dt>xbar</dt><dd>FALSE</dd><dt>xtrans</dt><dd>FALSE</dd><dt>R</dt><dd>FALSE</dd><dt>Ri</dt><dd>FALSE</dd><dt>opt_method</dt><dd>FALSE</dd><dt>x</dt><dd>FALSE</dd><dt>y</dt><dd>FALSE</dd><dt>call</dt><dd>FALSE</dd><dt>Design</dt><dd>FALSE</dd><dt>scale.pred</dt><dd>FALSE</dd><dt>sformula</dt><dd>FALSE</dd><dt>terms</dt><dd>FALSE</dd><dt>assign</dt><dd>FALSE</dd><dt>na.action</dt><dd>FALSE</dd><dt>fail</dt><dd>FALSE</dd><dt>interceptRef</dt><dd>FALSE</dd></dl>\n"
      ],
      "text/latex": [
       "\\begin{description*}\n",
       "\\item[freq] FALSE\n",
       "\\item[ymedian] FALSE\n",
       "\\item[yunique] FALSE\n",
       "\\item[sumwty] FALSE\n",
       "\\item[stats] FALSE\n",
       "\\item[fail] FALSE\n",
       "\\item[coefficients] FALSE\n",
       "\\item[info.matrix] FALSE\n",
       "\\item[u] FALSE\n",
       "\\item[iter] FALSE\n",
       "\\item[deviance] FALSE\n",
       "\\item[non.slopes] FALSE\n",
       "\\item[linear.predictors] FALSE\n",
       "\\item[penalty.matrix] FALSE\n",
       "\\item[weights] FALSE\n",
       "\\item[xbar] FALSE\n",
       "\\item[xtrans] FALSE\n",
       "\\item[R] FALSE\n",
       "\\item[Ri] FALSE\n",
       "\\item[opt\\textbackslash{}\\_method] FALSE\n",
       "\\item[x] FALSE\n",
       "\\item[y] FALSE\n",
       "\\item[call] FALSE\n",
       "\\item[Design] FALSE\n",
       "\\item[scale.pred] FALSE\n",
       "\\item[sformula] FALSE\n",
       "\\item[terms] FALSE\n",
       "\\item[assign] FALSE\n",
       "\\item[na.action] FALSE\n",
       "\\item[fail] FALSE\n",
       "\\item[interceptRef] FALSE\n",
       "\\end{description*}\n"
      ],
      "text/markdown": [
       "freq\n",
       ":   FALSEymedian\n",
       ":   FALSEyunique\n",
       ":   FALSEsumwty\n",
       ":   FALSEstats\n",
       ":   FALSEfail\n",
       ":   FALSEcoefficients\n",
       ":   FALSEinfo.matrix\n",
       ":   FALSEu\n",
       ":   FALSEiter\n",
       ":   FALSEdeviance\n",
       ":   FALSEnon.slopes\n",
       ":   FALSElinear.predictors\n",
       ":   FALSEpenalty.matrix\n",
       ":   FALSEweights\n",
       ":   FALSExbar\n",
       ":   FALSExtrans\n",
       ":   FALSER\n",
       ":   FALSERi\n",
       ":   FALSEopt_method\n",
       ":   FALSEx\n",
       ":   FALSEy\n",
       ":   FALSEcall\n",
       ":   FALSEDesign\n",
       ":   FALSEscale.pred\n",
       ":   FALSEsformula\n",
       ":   FALSEterms\n",
       ":   FALSEassign\n",
       ":   FALSEna.action\n",
       ":   FALSEfail\n",
       ":   FALSEinterceptRef\n",
       ":   FALSE\n",
       "\n"
      ],
      "text/plain": [
       "             freq           ymedian           yunique            sumwty \n",
       "            FALSE             FALSE             FALSE             FALSE \n",
       "            stats              fail      coefficients       info.matrix \n",
       "            FALSE             FALSE             FALSE             FALSE \n",
       "                u              iter          deviance        non.slopes \n",
       "            FALSE             FALSE             FALSE             FALSE \n",
       "linear.predictors    penalty.matrix           weights              xbar \n",
       "            FALSE             FALSE             FALSE             FALSE \n",
       "           xtrans                 R                Ri        opt_method \n",
       "            FALSE             FALSE             FALSE             FALSE \n",
       "                x                 y              call            Design \n",
       "            FALSE             FALSE             FALSE             FALSE \n",
       "       scale.pred          sformula             terms            assign \n",
       "            FALSE             FALSE             FALSE             FALSE \n",
       "        na.action              fail      interceptRef \n",
       "            FALSE             FALSE             FALSE "
      ]
     },
     "metadata": {},
     "output_type": "display_data"
    }
   ],
   "source": [
    "model=='lr'"
   ]
  },
  {
   "cell_type": "code",
   "execution_count": 27,
   "id": "eb8d3e66-76ba-4c2c-b80f-285a13a574b0",
   "metadata": {
    "tags": []
   },
   "outputs": [],
   "source": [
    "# 绘制校准曲线\n",
    "calibration_result <- calibrate(model, \n",
    "                                method = \"boot\", B = 100\n",
    "                               )  # B 是 bootstrap 次数"
   ]
  },
  {
   "cell_type": "code",
   "execution_count": 28,
   "id": "a71d9278-fb4b-4d60-aff9-48448b49d314",
   "metadata": {
    "tags": []
   },
   "outputs": [
    {
     "data": {
      "text/plain": [
       "             predy calibrated.orig calibrated.corrected    index.orig\n",
       " [1,] 6.487265e-24      0.00000000         2.993233e-23 -6.487265e-24\n",
       " [2,] 2.040545e-02      0.00000000         4.285074e-02 -2.040545e-02\n",
       " [3,] 4.081091e-02      0.03531016         7.634971e-02 -5.500743e-03\n",
       " [4,] 6.121636e-02      0.09656184         1.361604e-01  3.534549e-02\n",
       " [5,] 8.162181e-02      0.18143783         2.124165e-01  9.981602e-02\n",
       " [6,] 1.020273e-01      0.25748856         2.824633e-01  1.554613e-01\n",
       " [7,] 1.224327e-01      0.25862486         2.774079e-01  1.361921e-01\n",
       " [8,] 1.428382e-01      0.24845050         2.600278e-01  1.056123e-01\n",
       " [9,] 1.632436e-01      0.24652480         2.507915e-01  8.328117e-02\n",
       "[10,] 1.836491e-01      0.23457751         2.328847e-01  5.092844e-02\n",
       "[11,] 2.040545e-01      0.21594259         2.089655e-01  1.188807e-02\n",
       "[12,] 2.244600e-01      0.19028547         1.798416e-01 -3.417451e-02\n",
       "[13,] 2.448654e-01      0.18927053         1.769668e-01 -5.559491e-02\n",
       "[14,] 2.652709e-01      0.18825559         1.762828e-01 -7.701530e-02\n",
       "[15,] 2.856763e-01      0.18724064         1.733369e-01 -9.843570e-02\n",
       "[16,] 3.060818e-01      0.19566589         1.795031e-01 -1.104159e-01\n",
       "[17,] 3.264872e-01      0.20483262         1.855004e-01 -1.216546e-01\n",
       "[18,] 3.468927e-01      0.21312489         1.913369e-01 -1.337678e-01\n",
       "[19,] 3.672982e-01      0.22096365         1.977802e-01 -1.463345e-01\n",
       "[20,] 3.877036e-01      0.22942596         2.042257e-01 -1.582776e-01\n",
       "[21,] 4.081091e-01      0.24691340         2.191582e-01 -1.611957e-01\n",
       "[22,] 4.285145e-01      0.27208035         2.414894e-01 -1.564342e-01\n",
       "[23,] 4.489200e-01      0.30843837         2.752158e-01 -1.404816e-01\n",
       "[24,] 4.693254e-01      0.34210236         3.068792e-01 -1.272231e-01\n",
       "[25,] 4.897309e-01      0.37393269         3.364772e-01 -1.157982e-01\n",
       "[26,] 5.101363e-01      0.40576302         3.676110e-01 -1.043733e-01\n",
       "[27,] 5.305418e-01      0.43759334         4.004720e-01 -9.294843e-02\n",
       "[28,] 5.509472e-01      0.46942367         4.337869e-01 -8.152355e-02\n",
       "[29,] 5.713527e-01      0.50125400         4.668040e-01 -7.009868e-02\n",
       "[30,] 5.917581e-01      0.52806615         4.940234e-01 -6.369198e-02\n",
       "[31,] 6.121636e-01      0.55233634         5.185401e-01 -5.982724e-02\n",
       "[32,] 6.325690e-01      0.57662434         5.429303e-01 -5.594470e-02\n",
       "[33,] 6.529745e-01      0.60093730         5.673412e-01 -5.203719e-02\n",
       "[34,] 6.733799e-01      0.62525027         5.916810e-01 -4.812967e-02\n",
       "[35,] 6.937854e-01      0.64956324         6.159000e-01 -4.422216e-02\n",
       "[36,] 7.141908e-01      0.67387620         6.401242e-01 -4.031465e-02\n",
       "[37,] 7.345963e-01      0.69818917         6.644155e-01 -3.640713e-02\n",
       "[38,] 7.550018e-01      0.72281366         6.890813e-01 -3.218809e-02\n",
       "[39,] 7.754072e-01      0.74789432         7.142517e-01 -2.751289e-02\n",
       "[40,] 7.958127e-01      0.77313713         7.396357e-01 -2.267553e-02\n",
       "[41,] 8.162181e-01      0.79854618         7.652161e-01 -1.767193e-02\n",
       "[42,] 8.366236e-01      0.82413324         7.910235e-01 -1.249032e-02\n",
       "[43,] 8.570290e-01      0.84989105         8.171015e-01 -7.137969e-03\n",
       "[44,] 8.774345e-01      0.87594446         8.435515e-01 -1.490013e-03\n",
       "[45,] 8.978399e-01      0.90199787         8.701264e-01  4.157943e-03\n",
       "[46,] 9.182454e-01      0.92805128         8.967709e-01  9.805899e-03\n",
       "[47,] 9.386508e-01      0.95424958         9.236282e-01  1.559875e-02\n",
       "[48,] 9.590563e-01      0.98060051         9.506992e-01  2.154423e-02\n",
       "[49,] 9.794617e-01      1.00703136         9.779115e-01  2.756963e-02\n",
       "[50,] 9.998672e-01      1.03353091         1.005223e+00  3.366373e-02\n",
       "           training          test      optimism index.corrected   n\n",
       " [1,]  6.026968e-26  2.999260e-23 -2.993233e-23    2.344507e-23  89\n",
       " [2,]  3.424477e-03  4.627522e-02 -4.285074e-02    2.244529e-02 100\n",
       " [3,]  2.321574e-02  6.425529e-02 -4.103955e-02    3.553880e-02 100\n",
       " [4,]  3.323673e-02  7.283529e-02 -3.959856e-02    7.494404e-02 100\n",
       " [5,]  4.689570e-02  7.787440e-02 -3.097871e-02    1.307947e-01 100\n",
       " [6,]  4.436548e-02  6.934022e-02 -2.497474e-02    1.804360e-01 100\n",
       " [7,]  3.740916e-02  5.619219e-02 -1.878303e-02    1.549752e-01 100\n",
       " [8,]  3.666960e-02  4.824691e-02 -1.157731e-02    1.171896e-01 100\n",
       " [9,]  3.470086e-02  3.896759e-02 -4.266730e-03    8.754790e-02 100\n",
       "[10,]  3.041923e-02  2.872643e-02  1.692799e-03    4.923564e-02 100\n",
       "[11,]  2.136039e-02  1.438334e-02  6.977045e-03    4.911020e-03 100\n",
       "[12,]  7.714757e-03 -2.729085e-03  1.044384e-02   -4.461835e-02 100\n",
       "[13,] -7.538205e-03 -1.984192e-02  1.230372e-02   -6.789862e-02 100\n",
       "[14,] -2.389254e-02 -3.586532e-02  1.197277e-02   -8.898808e-02 100\n",
       "[15,] -3.713209e-02 -5.103588e-02  1.390379e-02   -1.123395e-01 100\n",
       "[16,] -4.952479e-02 -6.568763e-02  1.616284e-02   -1.265787e-01 100\n",
       "[17,] -5.979550e-02 -7.912767e-02  1.933217e-02   -1.409868e-01 100\n",
       "[18,] -6.786549e-02 -8.965351e-02  2.178802e-02   -1.555558e-01 100\n",
       "[19,] -7.451684e-02 -9.770026e-02  2.318342e-02   -1.695179e-01 100\n",
       "[20,] -7.955912e-02 -1.047594e-01  2.520027e-02   -1.834779e-01 100\n",
       "[21,] -8.194117e-02 -1.096964e-01  2.775523e-02   -1.889509e-01 100\n",
       "[22,] -8.208976e-02 -1.126807e-01  3.059097e-02   -1.870251e-01 100\n",
       "[23,] -7.978284e-02 -1.130054e-01  3.322255e-02   -1.737041e-01 100\n",
       "[24,] -7.428557e-02 -1.095087e-01  3.522316e-02   -1.624462e-01 100\n",
       "[25,] -6.641831e-02 -1.038738e-01  3.745549e-02   -1.532537e-01 100\n",
       "[26,] -5.913151e-02 -9.728350e-02  3.815199e-02   -1.425253e-01 100\n",
       "[27,] -5.258494e-02 -8.970626e-02  3.712132e-02   -1.300697e-01 100\n",
       "[28,] -4.760278e-02 -8.323959e-02  3.563681e-02   -1.171604e-01 100\n",
       "[29,] -4.312835e-02 -7.757839e-02  3.445004e-02   -1.045487e-01 100\n",
       "[30,] -3.921968e-02 -7.326239e-02  3.404271e-02   -9.773469e-02 100\n",
       "[31,] -3.583237e-02 -6.962861e-02  3.379624e-02   -9.362348e-02 100\n",
       "[32,] -3.283759e-02 -6.653158e-02  3.369399e-02   -8.963869e-02 100\n",
       "[33,] -3.013491e-02 -6.373101e-02  3.359611e-02   -8.563330e-02 100\n",
       "[34,] -2.760354e-02 -6.117281e-02  3.356928e-02   -8.169895e-02 100\n",
       "[35,] -2.508238e-02 -5.874565e-02  3.366327e-02   -7.788543e-02 100\n",
       "[36,] -2.251981e-02 -5.627182e-02  3.375201e-02   -7.406666e-02 100\n",
       "[37,] -1.997189e-02 -5.374552e-02  3.377363e-02   -7.018076e-02 100\n",
       "[38,] -1.739124e-02 -5.112361e-02  3.373236e-02   -6.592046e-02 100\n",
       "[39,] -1.474792e-02 -4.839052e-02  3.364259e-02   -6.115548e-02 100\n",
       "[40,] -1.201060e-02 -4.551199e-02  3.350140e-02   -5.617692e-02 100\n",
       "[41,] -9.115781e-03 -4.244587e-02  3.333009e-02   -5.100202e-02 100\n",
       "[42,] -6.155779e-03 -3.926553e-02  3.310975e-02   -4.560008e-02 100\n",
       "[43,] -3.159423e-03 -3.594893e-02  3.278951e-02   -3.992748e-02 100\n",
       "[44,] -8.807119e-05 -3.248101e-02  3.239294e-02   -3.388295e-02 100\n",
       "[45,]  3.017413e-03 -2.885405e-02  3.187147e-02   -2.771353e-02 100\n",
       "[46,]  6.189963e-03 -2.509038e-02  3.128034e-02   -2.147444e-02 100\n",
       "[47,]  9.410260e-03 -2.121115e-02  3.062141e-02   -1.502266e-02 100\n",
       "[48,]  1.268609e-02 -1.721520e-02  2.990130e-02   -8.357067e-03 100\n",
       "[49,]  1.602365e-02 -1.309621e-02  2.911985e-02   -1.550226e-03 100\n",
       "[50,]  1.939722e-02 -8.910782e-03  2.830800e-02    5.355727e-03 100\n",
       "attr(,\"class\")\n",
       "[1] \"calibrate.default\"\n",
       "attr(,\"call\")\n",
       "calibrate.default(fit = model, method = \"boot\", B = 100)\n",
       "attr(,\"kint\")\n",
       "[1] 1\n",
       "attr(,\"model\")\n",
       "[1] \"lr\"\n",
       "attr(,\"lev.name\")\n",
       "[1] \"1\"\n",
       "attr(,\"yvar.name\")\n",
       "[1] \"Heart_Disease\"\n",
       "attr(,\"n\")\n",
       "[1] 1000\n",
       "attr(,\"freq\")\n",
       "  0   1 \n",
       "968  32 \n",
       "attr(,\"non.slopes\")\n",
       "[1] 1\n",
       "attr(,\"B\")\n",
       "[1] 100\n",
       "attr(,\"method\")\n",
       "[1] \"boot\"\n",
       "attr(,\"predicted\")\n",
       "   [1] 2.263297e-09 8.516664e-08 3.251409e-07 6.224479e-14 8.551443e-05\n",
       "   [6] 1.970992e-17 3.646279e-11 1.608590e-03 8.631213e-15 1.405649e-15\n",
       "  [11] 2.216807e-10 6.153383e-10 1.042455e-14 1.571435e-11 7.670412e-01\n",
       "  [16] 6.138552e-05 4.456690e-12 2.745810e-11 2.657271e-15 2.119869e-07\n",
       "  [21] 1.503182e-02 5.152243e-17 3.214747e-11 2.587038e-15 6.429537e-08\n",
       "  [26] 1.672683e-07 1.361969e-12 1.632624e-05 3.012761e-13 1.663735e-11\n",
       "  [31] 1.824018e-18 3.160738e-07 2.489956e-19 1.630397e-05 1.927775e-19\n",
       "  [36] 8.564864e-01 7.212766e-18 5.774919e-01 2.287544e-11 1.089453e-09\n",
       "  [41] 6.247378e-08 4.505575e-08 2.484920e-14 5.942034e-03 1.917576e-06\n",
       "  [46] 2.954880e-06 4.320582e-03 7.145619e-08 9.247141e-10 7.947443e-21\n",
       "  [51] 8.699902e-10 2.587054e-08 6.487265e-24 2.215521e-10 2.777650e-19\n",
       "  [56] 2.046648e-13 3.237220e-14 1.364307e-19 2.195772e-12 9.999153e-01\n",
       "  [61] 5.392297e-16 1.402661e-10 9.095051e-05 1.376214e-18 2.197156e-11\n",
       "  [66] 6.436941e-05 5.816937e-17 2.870045e-13 2.649205e-10 1.665687e-01\n",
       "  [71] 2.025893e-05 5.949933e-15 7.235613e-05 1.136441e-13 3.044154e-09\n",
       "  [76] 2.176718e-06 1.203273e-17 1.661346e-14 1.947657e-12 5.832732e-05\n",
       "  [81] 2.515231e-04 3.836284e-16 2.225827e-16 9.503356e-19 4.876572e-09\n",
       "  [86] 4.047578e-13 7.686511e-25 9.024706e-08 1.130467e-12 1.750073e-05\n",
       "  [91] 1.342431e-05 8.141011e-06 8.333552e-03 6.668703e-10 6.741740e-18\n",
       "  [96] 3.789949e-11 3.364448e-09 1.032923e-08 1.702153e-19 8.818985e-13\n",
       " [101] 2.935577e-23 1.006317e-12 2.099832e-06 1.736657e-09 6.270177e-04\n",
       " [106] 7.110919e-13 2.436941e-13 2.631192e-05 3.839922e-14 2.230245e-06\n",
       " [111] 6.147580e-03 4.026230e-10 1.247675e-10 6.414010e-06 5.858457e-01\n",
       " [116] 1.179420e-04 4.446273e-08 5.000592e-06 3.125686e-08 2.562697e-05\n",
       " [121] 6.300907e-11 1.977862e-05 5.701929e-17 1.355861e-14 1.246774e-16\n",
       " [126] 8.303989e-14 3.869299e-18 2.110220e-12 4.457309e-01 4.903200e-22\n",
       " [131] 9.756743e-18 6.252115e-14 1.851664e-08 6.015206e-14 1.802311e-16\n",
       " [136] 1.037408e-13 3.399375e-05 1.620956e-08 1.552373e-06 6.326461e-11\n",
       " [141] 3.757225e-10 1.049258e-13 9.319312e-05 2.954279e-07 2.608387e-09\n",
       " [146] 4.424624e-13 1.476488e-13 1.100070e-13 7.721796e-17 3.632973e-12\n",
       " [151] 2.919058e-07 2.271831e-06 2.371578e-02 3.768224e-19 3.407604e-14\n",
       " [156] 2.814522e-02 2.296747e-07 1.145875e-06 7.274024e-06 8.352383e-05\n",
       " [161] 1.587739e-04 1.431022e-15 2.206545e-21 1.395242e-16 1.388184e-11\n",
       " [166] 5.468687e-07 1.056770e-13 1.999159e-23 5.679777e-24 2.534945e-19\n",
       " [171] 5.370327e-09 4.129117e-02 2.988740e-08 1.872791e-09 1.638365e-08\n",
       " [176] 3.317504e-12 6.475835e-16 4.126444e-12 2.208696e-09 7.750270e-12\n",
       " [181] 9.946192e-01 1.229942e-14 2.314946e-06 3.474729e-14 7.360082e-12\n",
       " [186] 7.358832e-15 2.228097e-05 2.227214e-01 6.310221e-21 4.350949e-01\n",
       " [191] 1.876609e-04 2.888750e-14 3.764637e-09 7.018024e-08 5.818603e-08\n",
       " [196] 3.468163e-06 2.505613e-06 5.203965e-09 4.972609e-15 1.800197e-09\n",
       " [201] 9.983221e-17 5.296005e-11 2.835656e-04 5.265361e-18 6.756858e-12\n",
       " [206] 2.132300e-18 1.704657e-06 1.270038e-01 1.929661e-01 5.277855e-03\n",
       " [211] 7.132152e-19 4.569341e-12 1.819404e-12 2.638102e-10 5.499499e-09\n",
       " [216] 5.664617e-15 1.616519e-12 3.246372e-11 3.115332e-09 4.482053e-08\n",
       " [221] 1.412716e-16 2.921364e-07 1.539483e-11 9.587464e-09 3.251801e-15\n",
       " [226] 3.334559e-01 3.961797e-12 2.115964e-08 3.619794e-11 4.362426e-24\n",
       " [231] 4.009303e-08 2.356402e-14 6.844443e-07 5.965830e-22 2.776027e-11\n",
       " [236] 3.159559e-15 8.517972e-18 6.396502e-12 2.025612e-10 1.042518e-11\n",
       " [241] 4.581184e-08 2.197371e-06 7.079150e-09 8.132498e-14 3.010850e-09\n",
       " [246] 5.475740e-05 1.386244e-14 6.089454e-14 6.352402e-17 3.490830e-15\n",
       " [251] 1.844617e-08 4.012575e-03 9.525589e-01 2.908743e-07 4.954079e-02\n",
       " [256] 2.485650e-16 7.915572e-15 4.906246e-14 5.868826e-16 7.452969e-01\n",
       " [261] 1.338020e-15 9.998672e-01 9.790876e-01 6.321325e-14 4.886728e-05\n",
       " [266] 8.334471e-10 9.984037e-17 7.676522e-18 2.119230e-09 2.415921e-06\n",
       " [271] 4.138575e-07 1.457877e-08 1.836551e-11 7.049622e-07 1.231834e-23\n",
       " [276] 4.614878e-12 8.948181e-17 3.983840e-11 2.550238e-14 3.772885e-08\n",
       " [281] 3.133553e-07 7.535338e-16 3.295329e-04 5.987083e-04 1.984272e-12\n",
       " [286] 2.387585e-04 3.201946e-16 3.417670e-09 4.434807e-07 1.757356e-14\n",
       " [291] 4.146601e-05 5.766007e-10 4.533241e-15 2.343915e-03 8.694649e-08\n",
       " [296] 8.428608e-15 5.875330e-18 2.200680e-11 1.551106e-08 3.654783e-10\n",
       " [301] 9.109848e-07 1.070155e-18 6.240789e-01 1.256093e-05 1.571402e-18\n",
       " [306] 1.699295e-13 1.015318e-09 1.011382e-16 1.191398e-17 4.197360e-05\n",
       " [311] 9.999736e-01 9.737918e-20 2.086732e-10 1.405559e-07 2.064504e-21\n",
       " [316] 1.086674e-14 1.846181e-16 5.203560e-04 1.854188e-11 5.174921e-02\n",
       " [321] 1.483410e-08 5.164893e-05 2.337236e-09 2.578056e-03 2.784677e-14\n",
       " [326] 7.794297e-12 4.987585e-10 1.621275e-15 1.905083e-14 3.527991e-08\n",
       " [331] 6.204130e-15 1.009906e-03 4.785776e-13 1.802496e-02 1.128040e-06\n",
       " [336] 2.720486e-07 2.928214e-04 1.621580e-17 5.542200e-11 2.652952e-17\n",
       " [341] 4.683713e-11 2.148626e-08 2.845492e-02 1.277490e-05 1.937602e-01\n",
       " [346] 1.185059e-01 8.540049e-18 1.307487e-15 3.630677e-13 1.076634e-14\n",
       " [351] 1.302649e-20 7.742349e-09 7.622740e-10 1.191965e-03 8.238297e-08\n",
       " [356] 5.630138e-08 1.849971e-12 3.002078e-15 1.517341e-07 1.290878e-09\n",
       " [361] 9.898318e-17 2.134866e-08 5.317180e-10 1.482276e-14 2.287975e-05\n",
       " [366] 9.930072e-01 1.658596e-07 5.125064e-09 1.328406e-03 1.148427e-11\n",
       " [371] 1.851443e-07 9.205983e-16 3.094903e-09 6.692060e-07 1.720874e-09\n",
       " [376] 4.717123e-12 3.984941e-11 1.926113e-07 4.414238e-17 8.047169e-01\n",
       " [381] 9.487602e-15 1.370658e-12 2.501570e-16 2.012972e-05 1.501758e-13\n",
       " [386] 6.621938e-21 1.034576e-03 1.217759e-07 1.529035e-14 1.691701e-11\n",
       " [391] 9.047752e-02 4.124712e-09 1.396112e-21 5.244175e-05 5.923434e-17\n",
       " [396] 5.304296e-03 7.466606e-08 1.295670e-08 9.029076e-13 1.808299e-19\n",
       " [401] 8.274172e-11 5.291200e-15 3.031700e-06 1.140913e-08 1.691254e-06\n",
       " [406] 6.565504e-09 4.547487e-01 3.061673e-08 9.425524e-17 1.277414e-13\n",
       " [411] 3.832570e-14 7.062193e-11 8.837670e-02 4.036556e-11 5.580871e-12\n",
       " [416] 5.574947e-13 3.772394e-07 1.804650e-08 1.929791e-10 4.072884e-11\n",
       " [421] 1.367047e-11 5.457032e-10 1.776768e-09 7.936639e-12 2.875877e-07\n",
       " [426] 9.596785e-06 1.150889e-05 6.068219e-11 1.389720e-19 1.210260e-04\n",
       " [431] 3.753432e-04 5.564717e-18 7.199663e-13 5.540791e-09 5.831885e-07\n",
       " [436] 2.020356e-15 1.252984e-09 1.614712e-09 8.117575e-12 1.746392e-13\n",
       " [441] 1.729825e-06 5.448215e-04 4.163726e-21 2.735093e-08 9.999972e-01\n",
       " [446] 9.613147e-07 1.537039e-15 3.076771e-11 3.118604e-17 9.999982e-01\n",
       " [451] 9.461231e-01 9.118070e-08 8.341225e-19 4.726805e-13 1.579106e-04\n",
       " [456] 2.167106e-17 8.017363e-06 9.724644e-14 1.095102e-10 2.152413e-11\n",
       " [461] 5.416852e-14 2.660542e-19 1.849374e-13 2.697112e-14 7.614547e-06\n",
       " [466] 2.684229e-10 9.539912e-01 1.219934e-01 5.699675e-13 4.175974e-09\n",
       " [471] 4.719231e-07 5.588391e-06 7.769410e-08 6.220125e-08 1.593889e-07\n",
       " [476] 2.338938e-13 1.199564e-16 3.089248e-20 4.052054e-15 2.724972e-06\n",
       " [481] 2.349887e-13 4.386010e-12 1.697519e-12 9.227054e-10 8.146542e-14\n",
       " [486] 1.236902e-12 2.039139e-06 1.560025e-13 1.398186e-08 9.086416e-13\n",
       " [491] 4.160888e-12 3.144173e-10 2.902947e-06 8.679093e-13 5.505589e-11\n",
       " [496] 2.586985e-03 6.354743e-10 7.725513e-14 2.871508e-16 6.166709e-03\n",
       " [501] 1.507380e-03 6.250293e-19 1.300189e-05 3.238709e-02 3.559487e-10\n",
       " [506] 4.058241e-07 1.119227e-13 4.187984e-09 5.476273e-10 5.095667e-15\n",
       " [511] 5.377983e-16 8.796125e-11 3.077930e-09 7.777494e-10 7.258886e-12\n",
       " [516] 5.865463e-12 1.125962e-05 2.795188e-16 8.037809e-08 3.708677e-15\n",
       " [521] 3.542582e-15 1.651992e-03 7.865694e-11 1.843701e-04 1.907066e-14\n",
       " [526] 9.559514e-01 1.259315e-08 5.025731e-17 4.031100e-03 2.211466e-03\n",
       " [531] 2.729904e-07 7.366802e-17 8.095112e-13 9.714619e-01 9.467042e-01\n",
       " [536] 1.099284e-10 2.533328e-10 4.229600e-12 8.402755e-10 5.195001e-15\n",
       " [541] 2.674133e-02 1.042566e-08 7.036140e-02 1.227557e-11 1.250139e-07\n",
       " [546] 1.494813e-22 7.343489e-18 7.522827e-09 2.119606e-16 9.245882e-02\n",
       " [551] 2.877554e-16 8.109424e-01 3.164670e-03 8.764993e-07 9.239906e-08\n",
       " [556] 3.536286e-06 3.378336e-11 1.884406e-09 2.079200e-05 6.358774e-03\n",
       " [561] 1.726687e-10 1.669233e-09 9.224707e-13 5.590037e-17 2.055965e-05\n",
       " [566] 3.905208e-15 2.102425e-13 1.791699e-09 3.966412e-05 5.863180e-15\n",
       " [571] 6.787664e-11 1.522619e-07 1.978700e-03 6.887293e-16 6.866535e-14\n",
       " [576] 1.282001e-14 9.436075e-01 4.866415e-12 5.935839e-11 1.138959e-01\n",
       " [581] 6.877648e-12 2.125183e-05 1.467097e-11 5.941256e-02 3.869428e-04\n",
       " [586] 8.024282e-01 3.973357e-07 3.491031e-07 7.782644e-10 2.067071e-06\n",
       " [591] 5.720050e-18 4.121297e-18 5.116797e-07 1.365662e-10 1.214652e-13\n",
       " [596] 1.262707e-03 2.522398e-11 4.300630e-13 2.309199e-08 9.137077e-13\n",
       " [601] 3.613525e-15 1.042585e-02 1.365186e-07 2.729908e-20 6.508740e-08\n",
       " [606] 7.901889e-11 9.978137e-20 3.559994e-13 1.688267e-21 4.879145e-09\n",
       " [611] 5.348615e-08 8.592936e-10 1.768883e-08 8.763124e-05 1.796696e-14\n",
       " [616] 1.886966e-10 9.209693e-11 3.238066e-09 3.863849e-01 1.541097e-05\n",
       " [621] 1.259717e-03 2.764960e-08 1.614198e-09 3.207891e-11 3.754795e-05\n",
       " [626] 7.733678e-04 1.368548e-10 1.279832e-01 1.660612e-19 1.179553e-11\n",
       " [631] 7.179697e-11 1.774799e-09 8.582729e-08 4.764073e-09 8.080727e-05\n",
       " [636] 9.094392e-22 3.635068e-10 2.550605e-08 1.437906e-13 3.966777e-09\n",
       " [641] 1.056277e-17 3.054405e-08 8.774768e-17 3.931325e-11 4.639748e-11\n",
       " [646] 9.823048e-08 1.685676e-15 1.725035e-13 1.356099e-10 3.061564e-13\n",
       " [651] 3.014382e-03 9.469288e-13 1.004082e-10 1.538164e-11 1.661769e-18\n",
       " [656] 8.516480e-07 1.144152e-17 1.267660e-09 1.577978e-11 4.184825e-01\n",
       " [661] 2.376053e-12 2.880379e-18 2.649268e-09 7.209293e-07 2.015826e-01\n",
       " [666] 1.378906e-19 6.915958e-21 1.779587e-22 8.604147e-16 6.004310e-04\n",
       " [671] 2.200626e-10 6.231874e-08 1.744153e-09 6.202707e-05 7.543313e-14\n",
       " [676] 1.640623e-10 1.118308e-12 9.354274e-08 7.748330e-22 4.014164e-03\n",
       " [681] 4.679638e-06 8.023393e-14 2.038591e-16 3.062587e-08 9.347744e-05\n",
       " [686] 5.101514e-16 1.013045e-10 2.767645e-10 5.359469e-15 9.762920e-18\n",
       " [691] 2.894301e-09 3.572686e-13 4.935103e-11 8.075220e-14 6.483307e-15\n",
       " [696] 3.395793e-07 5.122884e-08 2.418418e-09 2.919916e-08 3.326942e-15\n",
       " [701] 1.944686e-09 7.995547e-08 8.291709e-09 8.316913e-11 1.562727e-12\n",
       " [706] 7.076937e-07 1.866572e-09 4.593129e-12 5.243923e-06 3.580256e-09\n",
       " [711] 2.922863e-15 2.901321e-12 1.277881e-11 5.325979e-06 1.594966e-08\n",
       " [716] 1.388687e-08 2.514173e-16 6.047985e-08 7.844664e-05 1.700922e-08\n",
       " [721] 7.266869e-13 5.880125e-10 2.866188e-08 5.315066e-11 8.678101e-21\n",
       " [726] 7.213011e-10 7.349698e-11 5.801435e-11 2.705074e-07 2.258771e-06\n",
       " [731] 9.350759e-17 3.204990e-04 4.927179e-02 8.288617e-10 3.011330e-15\n",
       " [736] 9.561482e-07 3.592049e-07 2.665106e-13 4.142262e-11 5.344721e-18\n",
       " [741] 5.231581e-05 5.772599e-07 4.915750e-05 9.894302e-10 3.001671e-14\n",
       " [746] 3.445024e-13 9.471258e-15 2.117700e-20 5.870687e-12 1.995456e-23\n",
       " [751] 7.052566e-09 2.821350e-11 7.451416e-06 6.655035e-06 2.526203e-10\n",
       " [756] 2.869839e-05 5.648046e-12 2.066208e-08 2.516797e-06 1.826971e-21\n",
       " [761] 5.374306e-12 1.490582e-16 2.610949e-10 9.983114e-01 3.319322e-03\n",
       " [766] 3.385322e-12 2.871624e-01 6.557931e-03 1.415734e-11 4.665222e-15\n",
       " [771] 5.059437e-04 8.224552e-09 1.581600e-06 7.770503e-02 1.103081e-10\n",
       " [776] 2.932712e-02 1.099099e-05 9.251322e-17 1.676231e-14 6.272401e-06\n",
       " [781] 6.388650e-18 1.387421e-04 2.532521e-16 1.714444e-11 9.481177e-01\n",
       " [786] 1.182277e-13 4.400118e-11 9.188011e-03 2.159391e-16 4.517429e-19\n",
       " [791] 6.542399e-15 5.722414e-04 6.075078e-14 1.602077e-12 6.648485e-06\n",
       " [796] 2.933407e-19 7.653459e-06 1.448508e-11 8.534496e-07 6.019873e-06\n",
       " [801] 5.806913e-16 3.789888e-10 5.107528e-13 8.255800e-08 4.572039e-17\n",
       " [806] 1.023605e-12 5.486695e-16 7.130979e-09 8.051453e-14 2.024038e-15\n",
       " [811] 4.003257e-13 2.059508e-11 2.292419e-05 1.946224e-21 4.046415e-10\n",
       " [816] 2.471798e-11 3.400540e-16 2.966654e-08 3.278748e-05 4.009135e-09\n",
       " [821] 6.896169e-15 2.441965e-05 4.334279e-14 1.821019e-05 1.485602e-13\n",
       " [826] 1.905971e-10 3.158901e-03 9.262728e-01 3.084861e-15 2.640429e-16\n",
       " [831] 7.795205e-11 2.595857e-17 1.420614e-08 4.733750e-10 2.573991e-18\n",
       " [836] 4.210303e-06 4.197677e-19 4.153741e-04 9.120502e-06 5.022726e-02\n",
       " [841] 3.471483e-14 5.960534e-17 8.817975e-21 2.163231e-13 2.245613e-09\n",
       " [846] 8.576062e-17 1.004798e-13 9.353137e-21 2.405202e-07 2.042447e-02\n",
       " [851] 1.077246e-05 6.956860e-11 7.905665e-08 4.748819e-07 2.935104e-10\n",
       " [856] 9.018449e-09 8.249249e-09 3.999904e-17 2.239828e-01 8.387720e-06\n",
       " [861] 4.504482e-05 1.277861e-15 8.417369e-09 6.380497e-09 3.915567e-12\n",
       " [866] 6.049278e-13 3.451252e-06 4.842197e-04 9.726530e-16 4.315370e-06\n",
       " [871] 3.735378e-13 5.209388e-15 9.377829e-14 4.071238e-16 8.604588e-09\n",
       " [876] 4.907712e-05 2.216266e-13 1.461258e-07 1.160126e-07 2.223541e-01\n",
       " [881] 2.015002e-21 4.289091e-09 3.664590e-20 1.011802e-16 9.992079e-01\n",
       " [886] 2.318518e-03 1.227628e-04 7.742513e-10 3.825600e-16 9.472484e-10\n",
       " [891] 1.577326e-03 2.210954e-17 4.166438e-16 1.212469e-17 6.972869e-10\n",
       " [896] 9.790050e-12 2.383046e-15 1.375520e-06 5.826203e-22 4.105110e-13\n",
       " [901] 7.542893e-16 6.020049e-05 4.007693e-14 7.294706e-06 3.212922e-10\n",
       " [906] 7.204811e-06 6.376380e-12 8.984380e-20 6.506845e-11 5.819896e-04\n",
       " [911] 8.800754e-06 1.077226e-14 1.496163e-08 4.757775e-11 2.320474e-14\n",
       " [916] 3.386560e-05 8.548073e-08 1.100488e-12 3.134124e-15 2.285249e-18\n",
       " [921] 6.516258e-05 4.651949e-06 1.813442e-19 4.420001e-11 6.207615e-16\n",
       " [926] 1.730170e-07 6.880129e-14 7.963955e-17 6.233899e-04 1.666368e-04\n",
       " [931] 3.212752e-21 2.174087e-10 1.666964e-09 6.787695e-20 4.562719e-05\n",
       " [936] 5.669717e-16 1.683806e-15 7.202576e-13 3.143313e-07 1.480601e-06\n",
       " [941] 8.869498e-12 8.348324e-01 5.282304e-15 3.185223e-06 7.218747e-07\n",
       " [946] 6.634124e-10 3.021440e-11 5.823492e-10 2.708022e-16 2.021148e-08\n",
       " [951] 2.750202e-14 2.110958e-05 6.844261e-13 6.163255e-12 1.149255e-10\n",
       " [956] 8.574289e-08 6.560784e-13 4.159813e-14 2.034207e-01 2.435479e-16\n",
       " [961] 1.320104e-12 2.435783e-15 1.335368e-12 3.821598e-08 1.434153e-04\n",
       " [966] 2.285723e-09 8.299323e-14 2.329715e-12 6.370782e-06 1.194773e-06\n",
       " [971] 3.228810e-14 2.393541e-11 7.634924e-13 1.166606e-17 3.084053e-07\n",
       " [976] 1.573429e-18 1.679704e-10 1.971952e-12 2.058772e-09 9.213635e-20\n",
       " [981] 1.289253e-07 3.241885e-07 9.220335e-07 1.985988e-15 2.191320e-17\n",
       " [986] 1.567579e-13 4.977292e-10 2.902815e-11 2.647446e-23 1.649427e-14\n",
       " [991] 8.570400e-07 6.564555e-17 1.780859e-09 1.493191e-03 3.623283e-10\n",
       " [996] 1.987025e-25 2.591970e-20 4.451845e-07 1.754452e-05 2.575957e-10\n",
       "attr(,\"smoother\")\n",
       "[1] \"lowess\""
      ]
     },
     "metadata": {},
     "output_type": "display_data"
    }
   ],
   "source": [
    "calibration_result"
   ]
  },
  {
   "cell_type": "code",
   "execution_count": 29,
   "id": "aaea559b-e345-4bf1-98ce-cda7dc481e31",
   "metadata": {
    "tags": []
   },
   "outputs": [
    {
     "name": "stdout",
     "output_type": "stream",
     "text": [
      "\n",
      "n=1000   Mean absolute error=0.004   Mean squared error=5e-04\n",
      "0.9 Quantile of absolute error=0.001\n",
      "\n"
     ]
    },
    {
     "data": {
      "image/png": "[encoded data removed]",
      "text/plain": [
       "Plot with title \"Calibration Curve\""
      ]
     },
     "metadata": {
      "image/png": {
       "height": 420,
       "width": 420
      }
     },
     "output_type": "display_data"
    }
   ],
   "source": [
    "# 绘制校准曲线\n",
    "plot(calibration_result, main = \"Calibration Curve\", xlab = \"Predicted Probability\", ylab = \"Observed Proportion\")"
   ]
  },
  {
   "cell_type": "code",
   "execution_count": null,
   "id": "b9035ad1-3b63-4733-bf85-6b891dc3670d",
   "metadata": {},
   "outputs": [],
   "source": []
  }
 ],
 "metadata": {
  "kernelspec": {
   "display_name": "R",
   "language": "R",
   "name": "ir"
  },
  "language_info": {
   "codemirror_mode": "r",
   "file_extension": ".r",
   "mimetype": "text/x-r-source",
   "name": "R",
   "pygments_lexer": "r",
   "version": "4.4.1"
  }
 },
 "nbformat": 4,
 "nbformat_minor": 5
}
