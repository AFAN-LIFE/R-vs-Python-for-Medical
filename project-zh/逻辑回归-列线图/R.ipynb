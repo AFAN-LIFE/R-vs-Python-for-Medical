{
 "cells": [
  {
   "cell_type": "markdown",
   "id": "c11bd4f9-87a2-43a4-aa0a-cfca64b6b6bb",
   "metadata": {},
   "source": [
    "# 环境说明"
   ]
  },
  {
   "cell_type": "code",
   "execution_count": 2,
   "id": "8fc21562-8486-46c0-acbb-2c92384804cd",
   "metadata": {
    "tags": []
   },
   "outputs": [
    {
     "name": "stdout",
     "output_type": "stream",
     "text": [
      "package 'rms' successfully unpacked and MD5 sums checked\n",
      "\n",
      "The downloaded binary packages are in\n",
      "\tC:\\Users\\AFAN\\AppData\\Local\\Temp\\RtmpqWt5eG\\downloaded_packages\n"
     ]
    }
   ],
   "source": [
    "# 安装所需的包\n",
    "install.packages(\"rms\")"
   ]
  },
  {
   "cell_type": "code",
   "execution_count": 5,
   "id": "ad961cac-c367-4e05-931b-b1dbac44cfb7",
   "metadata": {
    "tags": []
   },
   "outputs": [
    {
     "data": {
      "text/plain": [
       "R version 4.4.1 (2024-06-14 ucrt)\n",
       "Platform: x86_64-w64-mingw32/x64\n",
       "Running under: Windows 11 x64 (build 22631)\n",
       "\n",
       "Matrix products: default\n",
       "\n",
       "\n",
       "locale:\n",
       "[1] LC_COLLATE=Chinese (Simplified)_China.utf8 \n",
       "[2] LC_CTYPE=Chinese (Simplified)_China.utf8   \n",
       "[3] LC_MONETARY=Chinese (Simplified)_China.utf8\n",
       "[4] LC_NUMERIC=C                               \n",
       "[5] LC_TIME=Chinese (Simplified)_China.utf8    \n",
       "\n",
       "time zone: Asia/Shanghai\n",
       "tzcode source: internal\n",
       "\n",
       "attached base packages:\n",
       "[1] stats     graphics  grDevices utils     datasets  methods   base     \n",
       "\n",
       "loaded via a namespace (and not attached):\n",
       " [1] digest_0.6.37     IRdisplay_1.1     utf8_1.2.4        base64enc_0.1-3  \n",
       " [5] fastmap_1.2.0     glue_1.8.0        htmltools_0.5.8.1 repr_1.1.7       \n",
       " [9] lifecycle_1.0.4   cli_3.6.3         fansi_1.0.6       vctrs_0.6.5      \n",
       "[13] pbdZMQ_0.3-13     compiler_4.4.1    tools_4.4.1       evaluate_1.0.1   \n",
       "[17] pillar_1.9.0      crayon_1.5.3      rlang_1.1.4       jsonlite_1.8.9   \n",
       "[21] IRkernel_1.3.2    uuid_1.2-1       "
      ]
     },
     "metadata": {},
     "output_type": "display_data"
    }
   ],
   "source": [
    "sessionInfo()"
   ]
  },
  {
   "cell_type": "markdown",
   "id": "998c4b8d-420f-4708-a81a-14c97e4cf036",
   "metadata": {},
   "source": [
    "# 代码实现"
   ]
  },
  {
   "cell_type": "code",
   "execution_count": 34,
   "id": "40c7ad5b-e6f3-4a55-b96d-b5da44536cca",
   "metadata": {
    "tags": []
   },
   "outputs": [],
   "source": [
    "# 加载所需的包\n",
    "library(rms)"
   ]
  },
  {
   "cell_type": "code",
   "execution_count": 11,
   "id": "63d12bb0-ba8a-4c0f-8f57-467100bb3970",
   "metadata": {
    "tags": []
   },
   "outputs": [],
   "source": [
    "# 读取数据\n",
    "data <- read.csv(\"data/train.csv\")"
   ]
  },
  {
   "cell_type": "code",
   "execution_count": 12,
   "id": "f1b7e20e-488f-422e-81a4-f499d71c133c",
   "metadata": {
    "tags": []
   },
   "outputs": [
    {
     "data": {
      "text/html": [
       "<table class=\"dataframe\">\n",
       "<caption>A data.frame: 6 × 5</caption>\n",
       "<thead>\n",
       "\t<tr><th></th><th scope=col>Age</th><th scope=col>Blood_Sugar</th><th scope=col>Blood_Pressure</th><th scope=col>Weight</th><th scope=col>Heart_Disease</th></tr>\n",
       "\t<tr><th></th><th scope=col>&lt;int&gt;</th><th scope=col>&lt;dbl&gt;</th><th scope=col>&lt;dbl&gt;</th><th scope=col>&lt;dbl&gt;</th><th scope=col>&lt;int&gt;</th></tr>\n",
       "</thead>\n",
       "<tbody>\n",
       "\t<tr><th scope=row>1</th><td>58</td><td> 99.97546</td><td>106.3281</td><td>62.44868</td><td>0</td></tr>\n",
       "\t<tr><th scope=row>2</th><td>71</td><td> 93.60951</td><td>134.1907</td><td>67.87585</td><td>0</td></tr>\n",
       "\t<tr><th scope=row>3</th><td>48</td><td>119.13195</td><td>115.7733</td><td>49.26310</td><td>0</td></tr>\n",
       "\t<tr><th scope=row>4</th><td>34</td><td> 98.62651</td><td>117.6520</td><td>93.11179</td><td>0</td></tr>\n",
       "\t<tr><th scope=row>5</th><td>62</td><td>114.05609</td><td>119.4568</td><td>71.04322</td><td>0</td></tr>\n",
       "\t<tr><th scope=row>6</th><td>27</td><td> 91.46011</td><td>131.4862</td><td>80.83883</td><td>0</td></tr>\n",
       "</tbody>\n",
       "</table>\n"
      ],
      "text/latex": [
       "A data.frame: 6 × 5\n",
       "\\begin{tabular}{r|lllll}\n",
       "  & Age & Blood\\_Sugar & Blood\\_Pressure & Weight & Heart\\_Disease\\\\\n",
       "  & <int> & <dbl> & <dbl> & <dbl> & <int>\\\\\n",
       "\\hline\n",
       "\t1 & 58 &  99.97546 & 106.3281 & 62.44868 & 0\\\\\n",
       "\t2 & 71 &  93.60951 & 134.1907 & 67.87585 & 0\\\\\n",
       "\t3 & 48 & 119.13195 & 115.7733 & 49.26310 & 0\\\\\n",
       "\t4 & 34 &  98.62651 & 117.6520 & 93.11179 & 0\\\\\n",
       "\t5 & 62 & 114.05609 & 119.4568 & 71.04322 & 0\\\\\n",
       "\t6 & 27 &  91.46011 & 131.4862 & 80.83883 & 0\\\\\n",
       "\\end{tabular}\n"
      ],
      "text/markdown": [
       "\n",
       "A data.frame: 6 × 5\n",
       "\n",
       "| <!--/--> | Age &lt;int&gt; | Blood_Sugar &lt;dbl&gt; | Blood_Pressure &lt;dbl&gt; | Weight &lt;dbl&gt; | Heart_Disease &lt;int&gt; |\n",
       "|---|---|---|---|---|---|\n",
       "| 1 | 58 |  99.97546 | 106.3281 | 62.44868 | 0 |\n",
       "| 2 | 71 |  93.60951 | 134.1907 | 67.87585 | 0 |\n",
       "| 3 | 48 | 119.13195 | 115.7733 | 49.26310 | 0 |\n",
       "| 4 | 34 |  98.62651 | 117.6520 | 93.11179 | 0 |\n",
       "| 5 | 62 | 114.05609 | 119.4568 | 71.04322 | 0 |\n",
       "| 6 | 27 |  91.46011 | 131.4862 | 80.83883 | 0 |\n",
       "\n"
      ],
      "text/plain": [
       "  Age Blood_Sugar Blood_Pressure Weight   Heart_Disease\n",
       "1 58   99.97546   106.3281       62.44868 0            \n",
       "2 71   93.60951   134.1907       67.87585 0            \n",
       "3 48  119.13195   115.7733       49.26310 0            \n",
       "4 34   98.62651   117.6520       93.11179 0            \n",
       "5 62  114.05609   119.4568       71.04322 0            \n",
       "6 27   91.46011   131.4862       80.83883 0            "
      ]
     },
     "metadata": {},
     "output_type": "display_data"
    }
   ],
   "source": [
    "head(data)"
   ]
  },
  {
   "cell_type": "markdown",
   "id": "1a4df636-c245-498b-b07a-33cad1b87e9c",
   "metadata": {},
   "source": [
    "## lrm"
   ]
  },
  {
   "cell_type": "code",
   "execution_count": 75,
   "id": "bbd4c86b-5d7d-4850-865b-8cc145608ddf",
   "metadata": {
    "tags": []
   },
   "outputs": [
    {
     "name": "stdout",
     "output_type": "stream",
     "text": [
      "Logistic Regression Model\n",
      "\n",
      "lrm(formula = Heart_Disease ~ ., data = data)\n",
      "\n",
      "                       Model Likelihood     Discrimination    Rank Discrim.    \n",
      "                             Ratio Test            Indexes          Indexes    \n",
      "Obs          1000    LR chi2     238.07     R2       0.859    C       0.997    \n",
      " 0            968    d.f.             4    R2(4,1000)0.209    Dxy     0.994    \n",
      " 1             32    Pr(> chi2) <0.0001    R2(4,92.9)0.919    gamma   0.994    \n",
      "max |deriv| 2e-05                           Brier    0.007    tau-a   0.062    \n",
      "\n",
      "               Coef      S.E.    Wald Z Pr(>|Z|)\n",
      "Intercept      -109.6707 24.8000 -4.42  <0.0001 \n",
      "Age               0.4953  0.1116  4.44  <0.0001 \n",
      "Blood_Sugar       0.5558  0.1228  4.52  <0.0001 \n",
      "Blood_Pressure    0.0135  0.0213  0.63  0.5270  \n",
      "Weight            0.0647  0.0307  2.11  0.0352  \n",
      "\n",
      "[1] \"模型准确率: 0.991\"\n"
     ]
    }
   ],
   "source": [
    "# 开始建模\n",
    "model <- lrm(Heart_Disease ~ ., data = data)\n",
    "print(model)\n",
    "# 计算概率预测值\n",
    "probabilities <- predict(model)\n",
    "# 设定阈值 0.5，将概率值转换为 0/1 分类\n",
    "predicted_class <- ifelse(probabilities > 0.5, 1, 0)\n",
    "# 计算准确率\n",
    "accuracy <- mean(predicted_class == data$Heart_Disease)\n",
    "print(paste(\"模型准确率:\", round(accuracy, 4)))"
   ]
  },
  {
   "cell_type": "markdown",
   "id": "4399052a-4dde-4361-83ae-f2d8f42f675d",
   "metadata": {},
   "source": [
    "datadist是rms包中的一个函数，用于存储与模型相关的变量分布信息，通常包括每个变量的最小值、最大值、均值、标准差等统计信息。这些信息在某些模型或绘图过程中是必需的，尤其是在进行变量选择、变量标准化或图形绘制时。"
   ]
  },
  {
   "cell_type": "code",
   "execution_count": 76,
   "id": "e34a9734-ba12-414d-bdbc-521ace2ec5cf",
   "metadata": {
    "tags": []
   },
   "outputs": [],
   "source": [
    "dd <- datadist(data)\n",
    "# 设置Total Points的范围\n",
    "options(datadist = \"dd\")\n",
    "\n",
    "# 绘制列线图\n",
    "nom <- nomogram(model, \n",
    "                fun = plogis,         # 将模型的logit转化为概率\n",
    "                funlabel = \"Probability of Heart Disease\", \n",
    "                fun.at=c(0.01, 0.99),\n",
    "                lp = FALSE)           # 不显示log-odds"
   ]
  },
  {
   "cell_type": "code",
   "execution_count": 77,
   "id": "700b49e8-bde4-4395-8f8a-2d7dfa800f0f",
   "metadata": {
    "tags": []
   },
   "outputs": [
    {
     "name": "stderr",
     "output_type": "stream",
     "text": [
      "Warning message in min(x, na.rm = na.rm):\n",
      "\"no non-missing arguments to min; returning Inf\"\n",
      "Warning message in max(x, na.rm = na.rm):\n",
      "\"no non-missing arguments to max; returning -Inf\"\n",
      "Warning message in min(x, na.rm = na.rm):\n",
      "\"no non-missing arguments to min; returning Inf\"\n",
      "Warning message in max(x, na.rm = na.rm):\n",
      "\"no non-missing arguments to max; returning -Inf\"\n"
     ]
    },
    {
     "data": {
      "text/plain": [
       "Points per unit of linear predictor: NaN \n",
       "Linear predictor units per point   : NaN \n",
       "\n",
       "\n",
       " Age Points\n",
       " 20   0    \n",
       " 25   4    \n",
       " 30   9    \n",
       " 35  13    \n",
       " 40  18    \n",
       " 45  22    \n",
       " 50  27    \n",
       " 55  31    \n",
       " 60  36    \n",
       " 65  40    \n",
       " 70  45    \n",
       " 75  49    \n",
       " 80  53    \n",
       "\n",
       "\n",
       " Blood_Sugar Points\n",
       "  50           0   \n",
       "  60          10   \n",
       "  70          20   \n",
       "  80          30   \n",
       "  90          40   \n",
       " 100          50   \n",
       " 110          60   \n",
       " 120          70   \n",
       " 130          80   \n",
       " 140          90   \n",
       " 150         100   \n",
       "\n",
       "\n",
       " Blood_Pressure Points\n",
       "  50            0     \n",
       "  60            0     \n",
       "  70            0     \n",
       "  80            1     \n",
       "  90            1     \n",
       " 100            1     \n",
       " 110            1     \n",
       " 120            2     \n",
       " 130            2     \n",
       " 140            2     \n",
       " 150            2     \n",
       " 160            3     \n",
       " 170            3     \n",
       " 180            3     \n",
       " 190            3     \n",
       "\n",
       "\n",
       " Weight Points\n",
       "  10     0    \n",
       "  20     1    \n",
       "  30     2    \n",
       "  40     3    \n",
       "  50     5    \n",
       "  60     6    \n",
       "  70     7    \n",
       "  80     8    \n",
       "  90     9    \n",
       " 100    10    \n",
       " 110    12    \n",
       " 120    13    \n",
       "\n",
       "\n",
       " Total Points Probability of Heart Disease\n",
       "          119                         0.01\n",
       "          135                         0.99\n"
      ]
     },
     "metadata": {},
     "output_type": "display_data"
    }
   ],
   "source": [
    "nom"
   ]
  },
  {
   "cell_type": "code",
   "execution_count": 74,
   "id": "48bfdf31-8eb8-4cea-884d-9307aa07ee28",
   "metadata": {
    "tags": []
   },
   "outputs": [
    {
     "data": {
      "image/png": "[encoded data removed]",
      "text/plain": [
       "plot without title"
      ]
     },
     "metadata": {
      "image/png": {
       "height": 420,
       "width": 420
      }
     },
     "output_type": "display_data"
    }
   ],
   "source": [
    "# 显示列线图\n",
    "plot(nom, xlim=c(0, 100))"
   ]
  },
  {
   "cell_type": "code",
   "execution_count": null,
   "id": "bdef447d-55ca-4c27-8776-4bebdbe25401",
   "metadata": {},
   "outputs": [],
   "source": []
  }
 ],
 "metadata": {
  "kernelspec": {
   "display_name": "R",
   "language": "R",
   "name": "ir"
  },
  "language_info": {
   "codemirror_mode": "r",
   "file_extension": ".r",
   "mimetype": "text/x-r-source",
   "name": "R",
   "pygments_lexer": "r",
   "version": "4.4.1"
  }
 },
 "nbformat": 4,
 "nbformat_minor": 5
}
