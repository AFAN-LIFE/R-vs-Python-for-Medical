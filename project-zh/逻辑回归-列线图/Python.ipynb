{
 "cells": [
  {
   "cell_type": "markdown",
   "id": "d5f252c9-46e3-4004-9b21-3701cd4430ff",
   "metadata": {},
   "source": [
    "# 环境说明"
   ]
  },
  {
   "cell_type": "code",
   "execution_count": 1,
   "id": "26d3a1df-243f-456f-a583-819dba03e458",
   "metadata": {
    "tags": []
   },
   "outputs": [
    {
     "name": "stdout",
     "output_type": "stream",
     "text": [
      "Python 3.11.5\n"
     ]
    }
   ],
   "source": [
    "!python -V"
   ]
  },
  {
   "cell_type": "raw",
   "id": "6af2ed9c-fe06-43e2-8778-11e5c6cd8104",
   "metadata": {},
   "source": [
    "pip install sklearn"
   ]
  },
  {
   "cell_type": "code",
   "execution_count": 18,
   "id": "0001b2a3-e71b-43f8-9c96-ecc95d82b967",
   "metadata": {
    "tags": []
   },
   "outputs": [],
   "source": [
    "import sklearn\n",
    "import pandas\n",
    "import statsmodels\n",
    "import matplotlib"
   ]
  },
  {
   "cell_type": "code",
   "execution_count": 3,
   "id": "32b0ad8c-a3cf-4f60-a035-db32ce15af9a",
   "metadata": {
    "tags": []
   },
   "outputs": [
    {
     "data": {
      "text/plain": [
       "'1.5.2'"
      ]
     },
     "execution_count": 3,
     "metadata": {},
     "output_type": "execute_result"
    }
   ],
   "source": [
    "sklearn.__version__"
   ]
  },
  {
   "cell_type": "code",
   "execution_count": 4,
   "id": "e91faff8-33f5-4b57-ae04-fb66b908368f",
   "metadata": {
    "tags": []
   },
   "outputs": [
    {
     "data": {
      "text/plain": [
       "'2.1.1'"
      ]
     },
     "execution_count": 4,
     "metadata": {},
     "output_type": "execute_result"
    }
   ],
   "source": [
    "pandas.__version__"
   ]
  },
  {
   "cell_type": "code",
   "execution_count": 8,
   "id": "50e34064-7003-495f-84fa-fcea8ffbc0c2",
   "metadata": {
    "tags": []
   },
   "outputs": [
    {
     "data": {
      "text/plain": [
       "'0.14.4'"
      ]
     },
     "execution_count": 8,
     "metadata": {},
     "output_type": "execute_result"
    }
   ],
   "source": [
    "statsmodels.__version__"
   ]
  },
  {
   "cell_type": "code",
   "execution_count": 20,
   "id": "d193441e-568a-4530-b112-7d635538cedc",
   "metadata": {
    "tags": []
   },
   "outputs": [
    {
     "data": {
      "text/plain": [
       "'3.8.0'"
      ]
     },
     "execution_count": 20,
     "metadata": {},
     "output_type": "execute_result"
    }
   ],
   "source": [
    "matplotlib.__version__"
   ]
  },
  {
   "cell_type": "markdown",
   "id": "4bbe04c4-91cf-48ae-9236-44bb9959359e",
   "metadata": {},
   "source": [
    "# 代码实现"
   ]
  },
  {
   "cell_type": "code",
   "execution_count": 5,
   "id": "113f34c9-8efa-41ef-a2e3-c7a340cb4d9f",
   "metadata": {
    "tags": []
   },
   "outputs": [],
   "source": [
    "import pandas as pd\n",
    "import statsmodels.api as sm\n",
    "from sklearn.linear_model import LogisticRegression\n",
    "from sklearn.metrics import accuracy_score, roc_auc_score"
   ]
  },
  {
   "cell_type": "code",
   "execution_count": 6,
   "id": "ae6eba79-b1e6-4f01-83bb-ab29e19f6499",
   "metadata": {
    "tags": []
   },
   "outputs": [],
   "source": [
    "df = pd.read_csv(\"data/train.csv\")"
   ]
  },
  {
   "cell_type": "code",
   "execution_count": 7,
   "id": "8e5f926b-3ee3-490a-ae93-9f92735d70b5",
   "metadata": {
    "tags": []
   },
   "outputs": [
    {
     "data": {
      "text/html": [
       "<div>\n",
       "<style scoped>\n",
       "    .dataframe tbody tr th:only-of-type {\n",
       "        vertical-align: middle;\n",
       "    }\n",
       "\n",
       "    .dataframe tbody tr th {\n",
       "        vertical-align: top;\n",
       "    }\n",
       "\n",
       "    .dataframe thead th {\n",
       "        text-align: right;\n",
       "    }\n",
       "</style>\n",
       "<table border=\"1\" class=\"dataframe\">\n",
       "  <thead>\n",
       "    <tr style=\"text-align: right;\">\n",
       "      <th></th>\n",
       "      <th>Age</th>\n",
       "      <th>Blood_Sugar</th>\n",
       "      <th>Blood_Pressure</th>\n",
       "      <th>Weight</th>\n",
       "      <th>Heart_Disease</th>\n",
       "    </tr>\n",
       "  </thead>\n",
       "  <tbody>\n",
       "    <tr>\n",
       "      <th>0</th>\n",
       "      <td>58</td>\n",
       "      <td>99.975461</td>\n",
       "      <td>106.328124</td>\n",
       "      <td>62.448684</td>\n",
       "      <td>0</td>\n",
       "    </tr>\n",
       "    <tr>\n",
       "      <th>1</th>\n",
       "      <td>71</td>\n",
       "      <td>93.609515</td>\n",
       "      <td>134.190672</td>\n",
       "      <td>67.875853</td>\n",
       "      <td>0</td>\n",
       "    </tr>\n",
       "    <tr>\n",
       "      <th>2</th>\n",
       "      <td>48</td>\n",
       "      <td>119.131949</td>\n",
       "      <td>115.773278</td>\n",
       "      <td>49.263101</td>\n",
       "      <td>0</td>\n",
       "    </tr>\n",
       "    <tr>\n",
       "      <th>3</th>\n",
       "      <td>34</td>\n",
       "      <td>98.626509</td>\n",
       "      <td>117.651983</td>\n",
       "      <td>93.111787</td>\n",
       "      <td>0</td>\n",
       "    </tr>\n",
       "    <tr>\n",
       "      <th>4</th>\n",
       "      <td>62</td>\n",
       "      <td>114.056088</td>\n",
       "      <td>119.456831</td>\n",
       "      <td>71.043221</td>\n",
       "      <td>0</td>\n",
       "    </tr>\n",
       "  </tbody>\n",
       "</table>\n",
       "</div>"
      ],
      "text/plain": [
       "   Age  Blood_Sugar  Blood_Pressure     Weight  Heart_Disease\n",
       "0   58    99.975461      106.328124  62.448684              0\n",
       "1   71    93.609515      134.190672  67.875853              0\n",
       "2   48   119.131949      115.773278  49.263101              0\n",
       "3   34    98.626509      117.651983  93.111787              0\n",
       "4   62   114.056088      119.456831  71.043221              0"
      ]
     },
     "execution_count": 7,
     "metadata": {},
     "output_type": "execute_result"
    }
   ],
   "source": [
    "df.head()"
   ]
  },
  {
   "cell_type": "code",
   "execution_count": 8,
   "id": "e95c2442-d7cd-4e7b-a25b-8a91a5d4e37a",
   "metadata": {
    "tags": []
   },
   "outputs": [],
   "source": [
    "label_name = 'Heart_Disease'"
   ]
  },
  {
   "cell_type": "code",
   "execution_count": 9,
   "id": "403bf1c4-b95f-4d00-bfe5-1badd72f8a38",
   "metadata": {
    "tags": []
   },
   "outputs": [],
   "source": [
    "X = df.drop(label_name, axis=1)\n",
    "y = df[label_name]"
   ]
  },
  {
   "cell_type": "markdown",
   "id": "afdef16f-b6e0-4532-8c5b-cad15b336ff5",
   "metadata": {
    "tags": []
   },
   "source": [
    "# 回归结果"
   ]
  },
  {
   "cell_type": "markdown",
   "id": "7d9c5db2-bdc8-4337-9a0b-2d709c20b16e",
   "metadata": {},
   "source": [
    "## Stasmodels"
   ]
  },
  {
   "cell_type": "code",
   "execution_count": 10,
   "id": "825b50e7-4e98-4ab8-bafb-8c7336e5089f",
   "metadata": {},
   "outputs": [
    {
     "name": "stdout",
     "output_type": "stream",
     "text": [
      "Optimization terminated successfully.\n",
      "         Current function value: 0.022594\n",
      "         Iterations 14\n",
      "                           Logit Regression Results                           \n",
      "==============================================================================\n",
      "Dep. Variable:          Heart_Disease   No. Observations:                 1000\n",
      "Model:                          Logit   Df Residuals:                      995\n",
      "Method:                           MLE   Df Model:                            4\n",
      "Date:                Mon, 24 Feb 2025   Pseudo R-squ.:                  0.8405\n",
      "Time:                        14:56:44   Log-Likelihood:                -22.594\n",
      "converged:                       True   LL-Null:                       -141.63\n",
      "Covariance Type:            nonrobust   LLR p-value:                 2.421e-50\n",
      "==================================================================================\n",
      "                     coef    std err          z      P>|z|      [0.025      0.975]\n",
      "----------------------------------------------------------------------------------\n",
      "const           -109.6707     24.800     -4.422      0.000    -158.278     -61.064\n",
      "Age                0.4953      0.112      4.437      0.000       0.277       0.714\n",
      "Blood_Sugar        0.5558      0.123      4.524      0.000       0.315       0.797\n",
      "Blood_Pressure     0.0135      0.021      0.633      0.527      -0.028       0.055\n",
      "Weight             0.0647      0.031      2.106      0.035       0.004       0.125\n",
      "==================================================================================\n",
      "\n",
      "Possibly complete quasi-separation: A fraction 0.87 of observations can be\n",
      "perfectly predicted. This might indicate that there is complete\n",
      "quasi-separation. In this case some parameters will not be identified.\n",
      "准确率: 0.9910\n",
      "AUC: 0.9971\n"
     ]
    }
   ],
   "source": [
    "# 添加常数列（截距项）到特征中\n",
    "X_ = sm.add_constant(X)\n",
    "\n",
    "# 拟合逻辑回归模型\n",
    "model = sm.Logit(y, X_)\n",
    "result = model.fit()\n",
    "\n",
    "# 输出模型摘要\n",
    "print(result.summary())\n",
    "\n",
    "# 进行预测（概率值）\n",
    "y_pred_prob = result.predict(X_)\n",
    "# 将概率值转化为0/1预测类别，使用阈值0.5\n",
    "y_pred_class = (y_pred_prob > 0.5).astype(int)\n",
    "# 计算准确率\n",
    "accuracy = accuracy_score(y, y_pred_class)\n",
    "print(f\"准确率: {accuracy:.4f}\")\n",
    "\n",
    "# 计算AUC（曲线下面积）\n",
    "auc = roc_auc_score(y, y_pred_prob)\n",
    "print(f\"AUC: {auc:.4f}\")"
   ]
  },
  {
   "cell_type": "markdown",
   "id": "8c9f1777-890f-45e4-ae98-c5b990e2d801",
   "metadata": {},
   "source": [
    "## 参数解析"
   ]
  },
  {
   "cell_type": "code",
   "execution_count": 11,
   "id": "a795fc47-66ae-4c78-bdf8-6b982b49bee0",
   "metadata": {
    "tags": []
   },
   "outputs": [],
   "source": [
    "coef = result.params\n",
    "coef.index = ['intercept' if i=='const' else i for i in coef.index ]\n",
    "coef['threshold'] = None"
   ]
  },
  {
   "cell_type": "code",
   "execution_count": 12,
   "id": "2408901f-a4ce-484d-bab4-fd482f8acd43",
   "metadata": {
    "tags": []
   },
   "outputs": [],
   "source": [
    "param_df = pd.concat([coef, X.min(), X.max()], axis=1)\n",
    "param_df.columns = ['coef', 'min', 'max']\n",
    "param_df['type'] = 'continuous'\n",
    "param_df['position'] = None\n",
    "param_df = param_df.reset_index()\n",
    "param_df = param_df.rename(columns={'index': 'feature'})"
   ]
  },
  {
   "cell_type": "code",
   "execution_count": 13,
   "id": "f3e1500a-2a36-4d63-92ab-665e7da9b66d",
   "metadata": {
    "tags": []
   },
   "outputs": [
    {
     "data": {
      "text/html": [
       "<div>\n",
       "<style scoped>\n",
       "    .dataframe tbody tr th:only-of-type {\n",
       "        vertical-align: middle;\n",
       "    }\n",
       "\n",
       "    .dataframe tbody tr th {\n",
       "        vertical-align: top;\n",
       "    }\n",
       "\n",
       "    .dataframe thead th {\n",
       "        text-align: right;\n",
       "    }\n",
       "</style>\n",
       "<table border=\"1\" class=\"dataframe\">\n",
       "  <thead>\n",
       "    <tr style=\"text-align: right;\">\n",
       "      <th></th>\n",
       "      <th>feature</th>\n",
       "      <th>coef</th>\n",
       "      <th>min</th>\n",
       "      <th>max</th>\n",
       "      <th>type</th>\n",
       "      <th>position</th>\n",
       "    </tr>\n",
       "  </thead>\n",
       "  <tbody>\n",
       "    <tr>\n",
       "      <th>0</th>\n",
       "      <td>intercept</td>\n",
       "      <td>-109.670720</td>\n",
       "      <td>NaN</td>\n",
       "      <td>NaN</td>\n",
       "      <td>continuous</td>\n",
       "      <td>None</td>\n",
       "    </tr>\n",
       "    <tr>\n",
       "      <th>1</th>\n",
       "      <td>Age</td>\n",
       "      <td>0.495327</td>\n",
       "      <td>20.000000</td>\n",
       "      <td>79.000000</td>\n",
       "      <td>continuous</td>\n",
       "      <td>None</td>\n",
       "    </tr>\n",
       "    <tr>\n",
       "      <th>2</th>\n",
       "      <td>Blood_Sugar</td>\n",
       "      <td>0.555763</td>\n",
       "      <td>58.230465</td>\n",
       "      <td>147.510575</td>\n",
       "      <td>continuous</td>\n",
       "      <td>None</td>\n",
       "    </tr>\n",
       "    <tr>\n",
       "      <th>3</th>\n",
       "      <td>Blood_Pressure</td>\n",
       "      <td>0.013473</td>\n",
       "      <td>52.263725</td>\n",
       "      <td>189.917556</td>\n",
       "      <td>continuous</td>\n",
       "      <td>None</td>\n",
       "    </tr>\n",
       "    <tr>\n",
       "      <th>4</th>\n",
       "      <td>Weight</td>\n",
       "      <td>0.064694</td>\n",
       "      <td>19.907497</td>\n",
       "      <td>110.265186</td>\n",
       "      <td>continuous</td>\n",
       "      <td>None</td>\n",
       "    </tr>\n",
       "    <tr>\n",
       "      <th>5</th>\n",
       "      <td>threshold</td>\n",
       "      <td>NaN</td>\n",
       "      <td>NaN</td>\n",
       "      <td>NaN</td>\n",
       "      <td>continuous</td>\n",
       "      <td>None</td>\n",
       "    </tr>\n",
       "  </tbody>\n",
       "</table>\n",
       "</div>"
      ],
      "text/plain": [
       "          feature        coef        min         max        type position\n",
       "0       intercept -109.670720        NaN         NaN  continuous     None\n",
       "1             Age    0.495327  20.000000   79.000000  continuous     None\n",
       "2     Blood_Sugar    0.555763  58.230465  147.510575  continuous     None\n",
       "3  Blood_Pressure    0.013473  52.263725  189.917556  continuous     None\n",
       "4          Weight    0.064694  19.907497  110.265186  continuous     None\n",
       "5       threshold         NaN        NaN         NaN  continuous     None"
      ]
     },
     "execution_count": 13,
     "metadata": {},
     "output_type": "execute_result"
    }
   ],
   "source": [
    "param_df"
   ]
  },
  {
   "cell_type": "markdown",
   "id": "27f38e58-46fc-4565-a93b-1d6e5ecda716",
   "metadata": {},
   "source": [
    "## 绘图函数"
   ]
  },
  {
   "cell_type": "code",
   "execution_count": 16,
   "id": "1ce1b322-845d-4dba-bdd7-f5d3f98fcb7f",
   "metadata": {
    "tags": []
   },
   "outputs": [],
   "source": [
    "import pandas as pd\n",
    "import numpy as np\n",
    "import matplotlib.pyplot as plt\n",
    "from matplotlib import ticker\n",
    "from matplotlib import gridspec\n",
    "from matplotlib.transforms import (Bbox, TransformedBbox)\n",
    "from mpl_toolkits.axes_grid1.inset_locator import (BboxConnector)\n",
    "\n",
    "\n",
    "def adj_range(orig_left, orig_right):\n",
    "    orig_range = orig_right - orig_left\n",
    "    tick_scale = np.floor(np.log10(orig_range / 10))  \n",
    "    if tick_scale != 0: \n",
    "        quantile_num = orig_range / 10  \n",
    "        tick_ratio = quantile_num // (10 ** tick_scale)  \n",
    "        real_tick = tick_ratio * 10 ** tick_scale  \n",
    "    else:  \n",
    "        if orig_range // 10 >= 8: \n",
    "            real_tick = 10 \n",
    "        elif orig_range // 5 >= 8: \n",
    "            real_tick = 5 \n",
    "        else:\n",
    "            real_tick = 2  # 否则为2\n",
    "    adj_right = np.ceil(orig_right / real_tick) * real_tick  # 调整后的右区间\n",
    "    adj_left = np.floor(orig_left / real_tick) * real_tick  # 调整后的左区间\n",
    "    return adj_left, adj_right, real_tick\n",
    "\n",
    "### return df, intercept, threshold from the excel\n",
    "def generate_df_rank(df, first_point=100):\n",
    "    df.index = df[\"feature\"].values\n",
    "    intercept = df.loc[\"intercept\", \"coef\"]\n",
    "    threshold = df.loc[\"threshold\", \"coef\"]\n",
    "    df = df.drop(index=[\"intercept\", \"threshold\"])\n",
    "    df = df.reset_index()\n",
    "    df[\"sequence\"] = list(range(0, df.shape[0]))\n",
    "    for i in df.index:\n",
    "        adj_left, adj_right, _ = adj_range(df.loc[i, 'min'], df.loc[i, 'max'])\n",
    "        df.loc[i, 'min'], df.loc[i, 'max'] = adj_left, adj_right\n",
    "    df[\"range*coef\"] = df[\"coef\"] * (df[\"max\"] - df[\"min\"])\n",
    "    df[\"abs_range*coef\"] = abs(df[\"range*coef\"])\n",
    "    df = df.sort_values(by=\"abs_range*coef\", ascending=False)\n",
    "    point = first_point * df[\"abs_range*coef\"] / df[\"abs_range*coef\"].iloc[0]\n",
    "    df[\"point\"] = point\n",
    "    df[\"negative_coef\"] = np.minimum(df[\"coef\"], 0)\n",
    "    df[\"positive_coef\"] = np.maximum(df[\"coef\"], 0)\n",
    "    df = df.sort_values(by=\"sequence\", ascending=True)\n",
    "    return df, intercept, threshold\n",
    "\n",
    "\n",
    "def compute_x(df, lm_intercept, first_point, maxi_point, mini_point=0):\n",
    "    maxi_score = sum(df[\"negative_coef\"] * df[\"min\"]) + sum(df[\"positive_coef\"] * df[\"max\"]) + lm_intercept\n",
    "    mini_score = sum(df[\"negative_coef\"] * df[\"max\"]) + sum(df[\"positive_coef\"] * df[\"min\"]) + lm_intercept\n",
    "    coef = (maxi_score - mini_score) / maxi_point  \n",
    "    precision = 500 \n",
    "    point_interval = np.linspace(mini_point, maxi_point, precision) \n",
    "    score_interval = point_interval * coef + mini_score\n",
    "    prob_interval = 1 / (1 + np.exp(-score_interval))\n",
    "    xtick_interval = np.linspace(0, 1, precision)  \n",
    "    return mini_point, maxi_point, xtick_interval, prob_interval, point_interval\n",
    "\n",
    "def set_axis(ax, title, min_point, max_point, xticks, xticklabels, position, first_point, type_,\n",
    "             ax_para={\"c\": \"black\", \"linewidth\": 1, \"linestyle\": \"-\"},\n",
    "             xtick_para={\"fontsize\": 8, \"fontfamily\": \"Times New Roman\",\n",
    "                         \"fontweight\": \"bold\"},\n",
    "             ylabel_para={\"fontsize\": 10, \"fontname\": \"SimHei\", \"labelpad\": 140,\n",
    "                          \"loc\": \"center\", \"color\": \"black\", \"rotation\": \"horizontal\"}, is_prob=False):\n",
    "    ax.set_xlim(0, 1.1)\n",
    "    if not is_prob:\n",
    "        ax.axhline(0.6, xmin=(min_point / first_point + 0.02) / 1.1,\n",
    "                   xmax=(max_point / first_point + 0.02) / 1.1, **ax_para)\n",
    "    else: \n",
    "        ax.axhline(0.6, xmin=(min_point + 0.02) / 1.1,\n",
    "                   xmax=(max_point + 0.02) / 1.1, **ax_para)\n",
    "    ax.yaxis.set_major_locator(ticker.NullLocator())\n",
    "    ax.xaxis.set_major_locator(ticker.NullLocator())\n",
    "    ax.spines['right'].set_visible(False)\n",
    "    ax.spines['left'].set_visible(False)\n",
    "    ax.spines[\"bottom\"].set_visible(False)\n",
    "    ax.spines['top'].set_visible(False)\n",
    "    for i in range(0, len(xticks)):\n",
    "        ax.axvline(xticks[i] + 0.02, ymin=0.6 - 0.2, ymax=0.6, **ax_para)\n",
    "        if position[i] == \"up\":\n",
    "            ax.annotate(xticklabels[i], xy=(xticks[i] + 0.02, 0.75), horizontalalignment=\"center\",\n",
    "                        **xtick_para)\n",
    "        else:\n",
    "            ax.annotate(xticklabels[i], xy=(xticks[i] + 0.02, 0), horizontalalignment=\"center\",\n",
    "                        **xtick_para)\n",
    "        if i == len(xticks) - 1:\n",
    "            continue\n",
    "        if type_ != 'continuous':\n",
    "            continue\n",
    "        if not is_prob:\n",
    "            if abs(xticks[i + 1] - xticks[i]) > 0.07:\n",
    "                for j in np.linspace(xticks[i], xticks[i + 1], 6):\n",
    "                    ax.axvline(j + 0.02, ymin=0.6 - 0.1, ymax=0.6, **ax_para)\n",
    "            elif abs(xticks[i + 1] - xticks[i]) > 0.025:\n",
    "                for j in np.linspace(xticks[i], xticks[i + 1], 3):\n",
    "                    ax.axvline(j + 0.02, ymin=0.6 - 0.1, ymax=0.6, **ax_para)\n",
    "    ax.set_ylabel(title, **ylabel_para)\n",
    "\n",
    "\n",
    "def grid_connect(ax1, ax2, xticks,\n",
    "                 prop_lines={\"lw\": 0, \"color\": \"black\", \"linestyle\": \"-\"}, **kwargs):\n",
    "    for xtick in xticks:\n",
    "        bbox = Bbox.from_extents(xtick + 0.02, 0.02, xtick + 0.02, 1.02)\n",
    "        bbox1 = TransformedBbox(bbox, ax1.get_xaxis_transform())\n",
    "        bbox2 = TransformedBbox(bbox, ax2.get_xaxis_transform())\n",
    "        c = BboxConnector(\n",
    "            bbox1, bbox2, loc1=3, loc2=3, clip_on=False, **prop_lines)\n",
    "        ax2.add_patch(c)\n",
    "    return c\n",
    "\n",
    "\n",
    "def generate_prob_xtick(prob_list, show_list, point_list):\n",
    "    total_ticks = [i/(len(prob_list)-1) for i in range(len(prob_list)-1)]\n",
    "    xticks, xticklabels, point_values = [], [], []\n",
    "    for i in show_list:\n",
    "        for idx, j1, j2, p in zip(total_ticks, \n",
    "                               prob_list[:-1], prob_list[1:],\n",
    "                               point_list[:-1]):\n",
    "            if j1 <= i and j2>=i:  # 并不是所有的概率都显示，必须在范围内\n",
    "                xticks.append(idx)\n",
    "                xticklabels.append(i)\n",
    "                point_values.append(p)\n",
    "    position = ['down' for _ in xticks]\n",
    "    return xticks, xticklabels, position, point_values\n",
    "\n",
    "def generate_total_point_xtick(\n",
    "        maxi_point,\n",
    "        mini_point=0):\n",
    "    adj_left, adj_right, real_tick = adj_range(mini_point, maxi_point)\n",
    "    xticklabels = np.array([int(i) for i in np.arange(adj_left, adj_right+real_tick, step=real_tick)])\n",
    "    xticks = xticklabels / maxi_point\n",
    "    position = ['down' for _ in xticks]\n",
    "    return xticks, xticklabels, position\n",
    "\n",
    "def generate_xtick(range_, type_, mini, maxi, point, first_point):\n",
    "    ran = point / first_point  \n",
    "    if type_ in [\"nominal\", \"ordinal\"]:  \n",
    "        range_ = int(range_)\n",
    "        if (ran <= 0.1) and (range_ >= 3):   \n",
    "            xticks = list(np.linspace(0, point / first_point, 3))\n",
    "            xticklabels = [int(i) for i in list(np.linspace(mini, maxi, 3))]\n",
    "        else:  \n",
    "            xticks = list(np.linspace(0, point / first_point, range_ + 1))\n",
    "            xticklabels = list(range(int(mini), int(maxi) + 1, 1))\n",
    "    elif (0.1 <= ran < 0.25) or (range_ < 2):  \n",
    "        xticks = list(np.linspace(0, point / first_point, 5))\n",
    "        xticklabels = list(np.linspace(mini, maxi, 5))\n",
    "    elif (ran < 0.1):  \n",
    "        xticks = list(np.linspace(0, point / first_point, 2))\n",
    "        xticklabels = list(np.linspace(mini, maxi, 2))\n",
    "    elif (range_ <= 11):  \n",
    "        range_ = int(range_)\n",
    "        xticks = list(np.linspace(0, point / first_point, range_ + 1))\n",
    "        xticklabels = list(range(int(mini), int(maxi) + 1, 1))\n",
    "    elif range_ <= 150:  \n",
    "        if (range_ % 10 == 0) and (ran / (range_ / 5 + 1) < 0.07):\n",
    "            num = int(range_ / 10)\n",
    "            xticks = list(np.linspace(0, point / first_point, num + 1))\n",
    "            xticklabels = list(np.linspace(int(mini), int(maxi), num + 1))\n",
    "        elif range_ % 5 == 0:\n",
    "            num = int(range_ / 5)\n",
    "            xticks = list(np.linspace(0, point / first_point, num + 1))\n",
    "            xticklabels = list(np.linspace(int(mini), int(maxi), num + 1))\n",
    "        else:  \n",
    "            xticks = list(np.linspace(0, point / first_point, 6))\n",
    "            xticklabels = list(np.linspace(int(mini), int(maxi), 6))\n",
    "    else:  \n",
    "        num = int((maxi - mini) // 50 + 1)\n",
    "        xticks = list(np.linspace(0, point / first_point, num))\n",
    "        xticklabels = [int(i) for i in list(np.linspace(mini, maxi, num))]\n",
    "    position = ['down' for i in xticks]\n",
    "    if range_ > 10:  \n",
    "        xticklabels = [int(i) for i in xticklabels]\n",
    "    else:\n",
    "        xticklabels = [round(i, 2) for i in xticklabels]\n",
    "    return xticks, xticklabels, position\n",
    "\n",
    "def get_nomogram(df, result_title=\"Positive Risk\", fig_width=10, single_height=0.45, dpi=100,\n",
    "             ax_para={\"c\": \"black\", \"linewidth\": 1.3, \"linestyle\": \"-\"},\n",
    "             tick_para={\"direction\": 'in', \"length\": 3, \"width\": 1.5, },\n",
    "             xtick_para={\"fontsize\": 10, \"fontfamily\": \"SimHei\", \"fontweight\": \"bold\"},\n",
    "             ylabel_para={\"fontsize\": 12, \"fontname\": \"SimHei\", \"labelpad\": 100,\n",
    "                          \"loc\": \"center\", \"color\": \"black\", \"rotation\": \"horizontal\"},\n",
    "             first_point=100):\n",
    "    ## Step1 获取返回的参数结果\n",
    "    df, lm_intercept, threshold = generate_df_rank(df, first_point=first_point)\n",
    "    ## Step2 画布构造\n",
    "    num = len(df['point'])\n",
    "    max_range_point = sum(df[\"point\"])\n",
    "    mini_overallpoint, maxi_overallpoint, x_point, prob, point_list = compute_x(df=df, lm_intercept=lm_intercept,\n",
    "                                                                    first_point=first_point,\n",
    "                                                                    maxi_point=max_range_point)\n",
    "    num_subplot = num + 3  \n",
    "    fig = plt.figure(figsize=(fig_width, single_height * (num_subplot)), dpi=dpi)  \n",
    "    gs = gridspec.GridSpec(num_subplot, 1)  \n",
    "    xticklabels = [str(i) for i in range(0, first_point+1, 10)]  \n",
    "    position = [\"down\" for i in xticklabels] \n",
    "    ## Step3 画第一条线 0到100 的 Point\n",
    "    ax0 = fig.add_subplot(gs[0, :])\n",
    "    set_axis(ax0, title=\"Points\", min_point=0, max_point=first_point, position=position,\n",
    "             first_point=first_point, xticks=np.linspace(0, 1, 11), xticklabels=xticklabels,\n",
    "             type_='continuous', ax_para=ax_para, xtick_para=xtick_para, ylabel_para=ylabel_para)\n",
    "    ## Step4 画剩下几条特征线\n",
    "    for i in range(0, num):\n",
    "        ax = fig.add_subplot(gs[i + 1, :])\n",
    "        title = str(df['feature'][i]).replace(\"\\\\n\", \"\\n\")  # 把可能存在的换行符去除\n",
    "        d = df.loc[i]\n",
    "        maxi, mini = float(d[\"max\"]), float(d[\"min\"])\n",
    "        range_ = maxi - mini\n",
    "        point, d_type = d[\"point\"], d[\"type\"]  \n",
    "        xticks, xticklabels, position = generate_xtick(range_, type_=d_type,\n",
    "                                                       mini=mini, maxi=maxi,\n",
    "                                                       point=point, first_point=first_point)\n",
    "        if d[\"coef\"] < 0: \n",
    "            xticklabels.sort(reverse=True)\n",
    "        min_point, max_point = 0, point\n",
    "        ax_para[\"linestyle\"] = \"-.\" if d_type == \"nominal\" else \"-\" \n",
    "        set_axis(ax, title=title, min_point=min_point, max_point=max_point,\n",
    "                 xticks=xticks, xticklabels=xticklabels, position=position,\n",
    "                 first_point=first_point, ax_para=ax_para, type_=d_type,\n",
    "                 xtick_para=xtick_para, ylabel_para=ylabel_para)\n",
    "        tick_num = int(np.ceil(max(xticks) / 0.1)) \n",
    "        grid_connect(ax0, ax, xticks=np.linspace(0, 0.1 * tick_num, tick_num + 1))\n",
    "    ## Step5 画总分\n",
    "    ax_overallpoint = fig.add_subplot(gs[num + 1, :])\n",
    "    xticks, xticklabels, position = generate_total_point_xtick(maxi_point=maxi_overallpoint,\n",
    "                                                               mini_point=mini_overallpoint)\n",
    "    ax_para[\"linestyle\"] = \"-\"\n",
    "    set_axis(ax_overallpoint, title=\"Total Points\", min_point=0,\n",
    "             max_point=maxi_overallpoint, position=position, type_=\"continuous\",\n",
    "             xticks=xticks, xticklabels=xticklabels,\n",
    "             first_point=maxi_overallpoint, ax_para=ax_para, xtick_para=xtick_para, ylabel_para=ylabel_para\n",
    "             )\n",
    "    # Step6 画总分对应的概率曲线\n",
    "    ax_prob = fig.add_subplot(gs[num + 2:, :])\n",
    "    show_list = [0.01, 0.99]\n",
    "    xticks, xticklabels, position, point_values = generate_prob_xtick(prob, show_list, point_list)\n",
    "    ax_para[\"linestyle\"] = \"-\"\n",
    "    set_axis(ax_prob, title=result_title, min_point=xticks[0],\n",
    "             max_point=xticks[-1], position=position, type_=\"continuous\",\n",
    "             xticks=xticks, xticklabels=xticklabels,\n",
    "             first_point=prob[-1], ax_para=ax_para, xtick_para=xtick_para, ylabel_para=ylabel_para\n",
    "             ,is_prob=True)\n",
    "    print(xticklabels, point_values)\n",
    "    fig.tight_layout()\n",
    "    return fig"
   ]
  },
  {
   "cell_type": "code",
   "execution_count": 17,
   "id": "6ace02d1-b500-487e-9704-88de916d526d",
   "metadata": {
    "tags": []
   },
   "outputs": [
    {
     "name": "stdout",
     "output_type": "stream",
     "text": [
      "[0.01, 0.99] [118.66967203294445, 135.33102999745526]\n"
     ]
    },
    {
     "name": "stderr",
     "output_type": "stream",
     "text": [
      "C:\\Users\\AFAN\\AppData\\Local\\Temp\\ipykernel_8592\\3835531517.py:2: UserWarning: FigureCanvasAgg is non-interactive, and thus cannot be shown\n",
      "  cmv_nomo.show()\n"
     ]
    },
    {
     "data": {
      "image/png": "[encoded data removed]",
      "text/plain": [
       "<Figure size 1000x315 with 7 Axes>"
      ]
     },
     "metadata": {},
     "output_type": "display_data"
    }
   ],
   "source": [
    "cmv_nomo = get_nomogram(param_df)\n",
    "cmv_nomo.show()"
   ]
  },
  {
   "cell_type": "markdown",
   "id": "930c7e1d-7817-496e-96bd-4eaa2d92004c",
   "metadata": {},
   "source": [
    "## 显示差别分析"
   ]
  },
  {
   "cell_type": "markdown",
   "id": "3c91d6e9-64da-4b9f-94fb-9798e5aa6101",
   "metadata": {},
   "source": [
    "可以看到，上面的Points、Total Points以及最下面的概率线段都和R几乎完全一致，并在概率点位上的数值也一样，而其他线段和R的实现的数值结果也是相同的，之所以显示效果不同在于，R的[nomogram函数的源码](https://github.com/harrelfe/rms/blob/master/R/nomogram.s)中生成刻度使用了[pretty函数](https://github.com/wch/r-source/blob/trunk/src/library/base/R/pretty.R)，这个函数的效果如[这个例子](https://www.rdocumentation.org/packages/base/versions/3.6.2/topics/pretty)所示，它能将刻度转成更好看的区间形式。我尝试过对这个pretty进行复现，但是由于其底层还调用了R的.Interval函数，而这个是R语言中用于调用底层C函数的接口，因此复现起来非常困难，Python目前也没有类似的pretty函数的三方库，所以这里我只是根据自己的理解实现了上面的`adj_range`函数。这是stackoverflow论坛对此的[讨论](https://stackoverflow.com/questions/43075617/python-function-equivalent-to-rs-pretty)"
   ]
  },
  {
   "cell_type": "code",
   "execution_count": null,
   "id": "4ffe95e6-82ce-427c-a0ab-c5df7138bcc1",
   "metadata": {},
   "outputs": [],
   "source": []
  }
 ],
 "metadata": {
  "kernelspec": {
   "display_name": "medical",
   "language": "python",
   "name": "medical"
  },
  "language_info": {
   "codemirror_mode": {
    "name": "ipython",
    "version": 3
   },
   "file_extension": ".py",
   "mimetype": "text/x-python",
   "name": "python",
   "nbconvert_exporter": "python",
   "pygments_lexer": "ipython3",
   "version": "3.12.8"
  }
 },
 "nbformat": 4,
 "nbformat_minor": 5
}
