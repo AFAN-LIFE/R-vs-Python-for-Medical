{
 "cells": [
  {
   "cell_type": "code",
   "execution_count": 2,
   "id": "48819033-b408-404e-852b-901ceaf71051",
   "metadata": {},
   "outputs": [
    {
     "ename": "ERROR",
     "evalue": "Error in library(regplot): there is no package called 'regplot'\n",
     "output_type": "error",
     "traceback": [
      "Error in library(regplot): there is no package called 'regplot'\nTraceback:\n",
      "1. stop(packageNotFoundError(package, lib.loc, sys.call()))"
     ]
    }
   ],
   "source": [
    "library(survival)\n",
    "library(regplot)\n",
    "library(rms)\n",
    "library(readxl)\n",
    "\n",
    "# 读取Excel文件\n",
    "file_path <- \"C:\\\\Users\\\\fsyan\\\\Desktop\\\\R语言开发\\\\副本数据.xlsx\" \n",
    "df <- read_excel(file_path, sheet = \"Sheet1\")\n",
    "\n",
    "# 检查列名\n",
    "colnames(df)\n",
    "\n",
    "# 修改列名（如果需要）\n",
    "colnames(df) <- c(\"time\", \"status\", \"NLR\", \"CA199\", \"Size\", \"New_lesions\")\n",
    "\n",
    "## 变量转换为因子\n",
    "df$time <- df$time / 365\n",
    "df$status <- as.factor(df$status)\n",
    "df$NLR <- as.factor(df$NLR)\n",
    "df$CA199 <- as.factor(df$CA199)\n",
    "df$Size <- as.factor(df$Size)\n",
    "df$New_lesions <- as.factor(df$New_lesions)\n",
    "\n",
    "# 使用datadist函数设置数据分布\n",
    "ddist <- datadist(df)\n",
    "options(datadist='ddist')\n",
    "\n",
    "# 拟合逻辑回归模型\n",
    "fit <- lrm(status ~ NLR + CA199 + Size + New_lesions, data=df)\n",
    "\n",
    "# 绘制列线图\n",
    "nom1 <- regplot(fit,\n",
    "                plots = c(\"density\", \"boxes\"),\n",
    "                clickable = FALSE,\n",
    "                title = \"Nomogram for Logistic Regression\",\n",
    "                points = TRUE,\n",
    "                droplines = TRUE,\n",
    "                observation = df[10, ],  # 选择第10行作为示例\n",
    "                rank = \"range\",\n",
    "                showP = TRUE,\n",
    "                prfail = FALSE)\n",
    "\n",
    "\n",
    "# 绘制列线图\n",
    "plot(nom1)"
   ]
  },
  {
   "cell_type": "code",
   "execution_count": null,
   "id": "fe4d3ff3-aa1f-4c39-b0f7-40893b3a1b56",
   "metadata": {},
   "outputs": [],
   "source": []
  }
 ],
 "metadata": {
  "kernelspec": {
   "display_name": "R",
   "language": "R",
   "name": "ir"
  },
  "language_info": {
   "codemirror_mode": "r",
   "file_extension": ".r",
   "mimetype": "text/x-r-source",
   "name": "R",
   "pygments_lexer": "r",
   "version": "4.3.3"
  }
 },
 "nbformat": 4,
 "nbformat_minor": 5
}
