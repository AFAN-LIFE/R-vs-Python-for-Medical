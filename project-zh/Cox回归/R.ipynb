{
 "cells": [
  {
   "cell_type": "markdown",
   "id": "c11bd4f9-87a2-43a4-aa0a-cfca64b6b6bb",
   "metadata": {},
   "source": [
    "# 环境说明"
   ]
  },
  {
   "cell_type": "code",
   "execution_count": 1,
   "id": "8fc21562-8486-46c0-acbb-2c92384804cd",
   "metadata": {
    "tags": []
   },
   "outputs": [
    {
     "name": "stdout",
     "output_type": "stream",
     "text": [
      "package 'survival' successfully unpacked and MD5 sums checked\n"
     ]
    },
    {
     "name": "stderr",
     "output_type": "stream",
     "text": [
      "Warning message:\n",
      "\"cannot remove prior installation of package 'survival'\"\n",
      "Warning message in file.copy(savedcopy, lib, recursive = TRUE):\n",
      "\"problem copying D:\\software\\R-4.4.1\\library\\00LOCK\\survival\\libs\\x64\\survival.dll to D:\\software\\R-4.4.1\\library\\survival\\libs\\x64\\survival.dll: Permission denied\"\n",
      "Warning message:\n",
      "\"restored 'survival'\"\n"
     ]
    },
    {
     "name": "stdout",
     "output_type": "stream",
     "text": [
      "\n",
      "The downloaded binary packages are in\n",
      "\tC:\\Users\\AFAN\\AppData\\Local\\Temp\\RtmpKEZq3D\\downloaded_packages\n",
      "package 'survminer' successfully unpacked and MD5 sums checked\n",
      "\n",
      "The downloaded binary packages are in\n",
      "\tC:\\Users\\AFAN\\AppData\\Local\\Temp\\RtmpKEZq3D\\downloaded_packages\n"
     ]
    }
   ],
   "source": [
    "# 安装所需的包\n",
    "install.packages(\"survival\")\n",
    "install.packages(\"survminer\")"
   ]
  },
  {
   "cell_type": "code",
   "execution_count": 2,
   "id": "ad961cac-c367-4e05-931b-b1dbac44cfb7",
   "metadata": {
    "tags": []
   },
   "outputs": [
    {
     "data": {
      "text/plain": [
       "NULL"
      ]
     },
     "metadata": {},
     "output_type": "display_data"
    }
   ],
   "source": [
    "sessionInfo()$otherPkgs$survival"
   ]
  },
  {
   "cell_type": "code",
   "execution_count": 3,
   "id": "3273d56c-b44d-4331-8ee1-72f158b7e448",
   "metadata": {
    "tags": []
   },
   "outputs": [
    {
     "data": {
      "text/plain": [
       "NULL"
      ]
     },
     "metadata": {},
     "output_type": "display_data"
    }
   ],
   "source": [
    "sessionInfo()$otherPkgs$survminer"
   ]
  },
  {
   "cell_type": "markdown",
   "id": "c745a1a0-d852-4e06-ad46-5c72233e5208",
   "metadata": {},
   "source": [
    "# 代码实现"
   ]
  },
  {
   "cell_type": "code",
   "execution_count": 4,
   "id": "62c252e7-e022-45aa-b588-6882dbad0a48",
   "metadata": {
    "tags": []
   },
   "outputs": [
    {
     "name": "stderr",
     "output_type": "stream",
     "text": [
      "Warning message:\n",
      "\"package 'survival' was built under R version 4.4.2\"\n",
      "Warning message:\n",
      "\"package 'survminer' was built under R version 4.4.2\"\n",
      "Loading required package: ggplot2\n",
      "\n",
      "Loading required package: ggpubr\n",
      "\n",
      "Warning message:\n",
      "\"package 'ggpubr' was built under R version 4.4.2\"\n",
      "\n",
      "Attaching package: 'survminer'\n",
      "\n",
      "\n",
      "The following object is masked from 'package:survival':\n",
      "\n",
      "    myeloma\n",
      "\n",
      "\n"
     ]
    }
   ],
   "source": [
    "# 加载所需的包\n",
    "library(survival)\n",
    "library(survminer)"
   ]
  },
  {
   "cell_type": "code",
   "execution_count": 5,
   "id": "50ae4ccc-b797-4b15-a0e1-924f141e85b5",
   "metadata": {
    "tags": []
   },
   "outputs": [
    {
     "data": {
      "text/plain": [
       "Call:\n",
       "coxph(formula = surv_obj ~ var1 + var2 + var3, data = data)\n",
       "\n",
       "  n= 200, number of events= 189 \n",
       "\n",
       "        coef exp(coef) se(coef)     z Pr(>|z|)   \n",
       "var1 0.22221   1.24883  0.07429 2.991  0.00278 **\n",
       "var2 0.05096   1.05228  0.08289 0.615  0.53871   \n",
       "var3 0.21831   1.24398  0.07580 2.880  0.00398 **\n",
       "---\n",
       "Signif. codes:  0 '***' 0.001 '**' 0.01 '*' 0.05 '.' 0.1 ' ' 1\n",
       "\n",
       "     exp(coef) exp(-coef) lower .95 upper .95\n",
       "var1     1.249     0.8007    1.0796     1.445\n",
       "var2     1.052     0.9503    0.8945     1.238\n",
       "var3     1.244     0.8039    1.0722     1.443\n",
       "\n",
       "Concordance= 0.58  (se = 0.025 )\n",
       "Likelihood ratio test= 15.54  on 3 df,   p=0.001\n",
       "Wald test            = 17.76  on 3 df,   p=5e-04\n",
       "Score (logrank) test = 17.95  on 3 df,   p=5e-04\n"
      ]
     },
     "metadata": {},
     "output_type": "display_data"
    }
   ],
   "source": [
    "# 读取数据\n",
    "data <- read.csv(\"data/Cox_dataset.csv\")\n",
    "\n",
    "# 创建生存对象\n",
    "surv_obj <- Surv(data$T, data$E)\n",
    "\n",
    "# 进行Cox回归分析\n",
    "# 假设 var1, var2, var3 是协变量\n",
    "cox_model <- coxph(surv_obj ~ var1 + var2 + var3, data = data)\n",
    "\n",
    "# 输出Cox回归分析结果\n",
    "summary(cox_model)"
   ]
  },
  {
   "cell_type": "code",
   "execution_count": 10,
   "id": "3967f6ea-ec52-4691-a73b-65dcdd017183",
   "metadata": {
    "tags": []
   },
   "outputs": [
    {
     "data": {
      "image/png": "[encoded data removed]",
      "text/plain": [
       "plot without title"
      ]
     },
     "metadata": {
      "image/png": {
       "height": 420,
       "width": 420
      }
     },
     "output_type": "display_data"
    }
   ],
   "source": [
    "# 绘制森林图\n",
    "ggforest(cox_model, \n",
    "         data = data, \n",
    "         main = \"Cox Regression Forest Plot\",\n",
    "         fontsize = 1,\n",
    "         noDigits = 2)"
   ]
  },
  {
   "cell_type": "code",
   "execution_count": null,
   "id": "5ac80482-ed1e-42b4-98b0-ceb17a28bc5a",
   "metadata": {},
   "outputs": [],
   "source": []
  }
 ],
 "metadata": {
  "kernelspec": {
   "display_name": "R",
   "language": "R",
   "name": "ir"
  },
  "language_info": {
   "codemirror_mode": "r",
   "file_extension": ".r",
   "mimetype": "text/x-r-source",
   "name": "R",
   "pygments_lexer": "r",
   "version": "4.4.1"
  }
 },
 "nbformat": 4,
 "nbformat_minor": 5
}
