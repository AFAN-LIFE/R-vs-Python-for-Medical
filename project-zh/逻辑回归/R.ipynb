{
 "cells": [
  {
   "cell_type": "markdown",
   "id": "c11bd4f9-87a2-43a4-aa0a-cfca64b6b6bb",
   "metadata": {},
   "source": [
    "# 环境说明"
   ]
  },
  {
   "cell_type": "code",
   "execution_count": null,
   "id": "8fc21562-8486-46c0-acbb-2c92384804cd",
   "metadata": {
    "tags": []
   },
   "outputs": [],
   "source": [
    "# 安装所需的包\n",
    "install.packages(\"rms\")"
   ]
  },
  {
   "cell_type": "code",
   "execution_count": 7,
   "id": "ad961cac-c367-4e05-931b-b1dbac44cfb7",
   "metadata": {
    "tags": []
   },
   "outputs": [
    {
     "data": {
      "text/plain": [
       "Package: rms\n",
       "Version: 7.0-0\n",
       "Date: 2025-01-15\n",
       "Title: Regression Modeling Strategies\n",
       "Authors@R: person(given = c(\"Frank\", \"E\"), family = \"Harrell Jr\", role\n",
       "        = c(\"aut\", \"cre\"), email = \"fh@fharrell.com\")\n",
       "Maintainer: Frank E Harrell Jr <fh@fharrell.com>\n",
       "Depends: R (>= 4.4.0), Hmisc (>= 5.2-2)\n",
       "Imports: methods, survival, quantreg, ggplot2, Matrix, SparseM, rpart,\n",
       "        nlme (>= 3.1-123), polspline, multcomp, htmlTable (>= 1.11.0),\n",
       "        htmltools, MASS, cluster, digest, colorspace, knitr, grDevices\n",
       "Suggests: boot, tcltk, plotly (>= 4.5.6), mice, rmsb, nnet, VGAM,\n",
       "        lattice, kableExtra\n",
       "Description: Regression modeling, testing, estimation, validation,\n",
       "        graphics, prediction, and typesetting by storing enhanced model\n",
       "        design attributes in the fit.  'rms' is a collection of\n",
       "        functions that assist with and streamline modeling.  It also\n",
       "        contains functions for binary and ordinal logistic regression\n",
       "        models, ordinal models for continuous Y with a variety of\n",
       "        distribution families, and the Buckley-James multiple\n",
       "        regression model for right-censored responses, and implements\n",
       "        penalized maximum likelihood estimation for logistic and\n",
       "        ordinary linear models.  'rms' works with almost any regression\n",
       "        model, but it was especially written to work with binary or\n",
       "        ordinal regression models, Cox regression, accelerated failure\n",
       "        time models, ordinary linear models, the Buckley-James model,\n",
       "        generalized least squares for serially or spatially correlated\n",
       "        observations, generalized linear models, and quantile\n",
       "        regression.\n",
       "License: GPL (>= 2)\n",
       "URL: https://hbiostat.org/R/rms/, https://github.com/harrelfe/rms\n",
       "LazyLoad: yes\n",
       "RoxygenNote: 7.3.2\n",
       "NeedsCompilation: yes\n",
       "Packaged: 2025-01-16 22:53:40 UTC; harrelfe\n",
       "Author: Frank E Harrell Jr [aut, cre]\n",
       "Repository: CRAN\n",
       "Date/Publication: 2025-01-17 09:10:05 UTC\n",
       "Built: R 4.4.2; x86_64-w64-mingw32; 2025-02-09 04:12:21 UTC; windows\n",
       "Archs: x64\n",
       "\n",
       "-- File: D:/software/R-4.4.1/library/rms/Meta/package.rds "
      ]
     },
     "metadata": {},
     "output_type": "display_data"
    }
   ],
   "source": [
    "sessionInfo()$otherPkgs$rms"
   ]
  },
  {
   "cell_type": "markdown",
   "id": "c745a1a0-d852-4e06-ad46-5c72233e5208",
   "metadata": {},
   "source": [
    "# 代码实现"
   ]
  },
  {
   "cell_type": "code",
   "execution_count": 2,
   "id": "62c252e7-e022-45aa-b588-6882dbad0a48",
   "metadata": {
    "tags": []
   },
   "outputs": [
    {
     "name": "stderr",
     "output_type": "stream",
     "text": [
      "Warning message:\n",
      "\"package 'rms' was built under R version 4.4.2\"\n",
      "Loading required package: Hmisc\n",
      "\n",
      "Warning message:\n",
      "\"package 'Hmisc' was built under R version 4.4.2\"\n",
      "\n",
      "Attaching package: 'Hmisc'\n",
      "\n",
      "\n",
      "The following objects are masked from 'package:base':\n",
      "\n",
      "    format.pval, units\n",
      "\n",
      "\n",
      "Warning message:\n",
      "\"package 'pROC' was built under R version 4.4.2\"\n",
      "Type 'citation(\"pROC\")' for a citation.\n",
      "\n",
      "\n",
      "Attaching package: 'pROC'\n",
      "\n",
      "\n",
      "The following objects are masked from 'package:stats':\n",
      "\n",
      "    cov, smooth, var\n",
      "\n",
      "\n"
     ]
    }
   ],
   "source": [
    "# 加载所需的包\n",
    "library(rms)\n",
    "library(pROC)"
   ]
  },
  {
   "cell_type": "code",
   "execution_count": 3,
   "id": "a1797534-89ac-4fc7-92dc-191063d3cbfd",
   "metadata": {
    "tags": []
   },
   "outputs": [],
   "source": [
    "# 读取数据\n",
    "data <- read.csv(\"data/train.csv\")"
   ]
  },
  {
   "cell_type": "code",
   "execution_count": 4,
   "id": "251dad1e-a59d-41f5-bbbc-9c4f71607c8b",
   "metadata": {
    "tags": []
   },
   "outputs": [
    {
     "data": {
      "text/html": [
       "<table class=\"dataframe\">\n",
       "<caption>A data.frame: 6 × 5</caption>\n",
       "<thead>\n",
       "\t<tr><th></th><th scope=col>Age</th><th scope=col>Blood_Sugar</th><th scope=col>Blood_Pressure</th><th scope=col>Weight</th><th scope=col>Heart_Disease</th></tr>\n",
       "\t<tr><th></th><th scope=col>&lt;int&gt;</th><th scope=col>&lt;dbl&gt;</th><th scope=col>&lt;dbl&gt;</th><th scope=col>&lt;dbl&gt;</th><th scope=col>&lt;int&gt;</th></tr>\n",
       "</thead>\n",
       "<tbody>\n",
       "\t<tr><th scope=row>1</th><td>58</td><td> 99.97546</td><td>106.3281</td><td>62.44868</td><td>0</td></tr>\n",
       "\t<tr><th scope=row>2</th><td>71</td><td> 93.60951</td><td>134.1907</td><td>67.87585</td><td>0</td></tr>\n",
       "\t<tr><th scope=row>3</th><td>48</td><td>119.13195</td><td>115.7733</td><td>49.26310</td><td>0</td></tr>\n",
       "\t<tr><th scope=row>4</th><td>34</td><td> 98.62651</td><td>117.6520</td><td>93.11179</td><td>0</td></tr>\n",
       "\t<tr><th scope=row>5</th><td>62</td><td>114.05609</td><td>119.4568</td><td>71.04322</td><td>0</td></tr>\n",
       "\t<tr><th scope=row>6</th><td>27</td><td> 91.46011</td><td>131.4862</td><td>80.83883</td><td>0</td></tr>\n",
       "</tbody>\n",
       "</table>\n"
      ],
      "text/latex": [
       "A data.frame: 6 × 5\n",
       "\\begin{tabular}{r|lllll}\n",
       "  & Age & Blood\\_Sugar & Blood\\_Pressure & Weight & Heart\\_Disease\\\\\n",
       "  & <int> & <dbl> & <dbl> & <dbl> & <int>\\\\\n",
       "\\hline\n",
       "\t1 & 58 &  99.97546 & 106.3281 & 62.44868 & 0\\\\\n",
       "\t2 & 71 &  93.60951 & 134.1907 & 67.87585 & 0\\\\\n",
       "\t3 & 48 & 119.13195 & 115.7733 & 49.26310 & 0\\\\\n",
       "\t4 & 34 &  98.62651 & 117.6520 & 93.11179 & 0\\\\\n",
       "\t5 & 62 & 114.05609 & 119.4568 & 71.04322 & 0\\\\\n",
       "\t6 & 27 &  91.46011 & 131.4862 & 80.83883 & 0\\\\\n",
       "\\end{tabular}\n"
      ],
      "text/markdown": [
       "\n",
       "A data.frame: 6 × 5\n",
       "\n",
       "| <!--/--> | Age &lt;int&gt; | Blood_Sugar &lt;dbl&gt; | Blood_Pressure &lt;dbl&gt; | Weight &lt;dbl&gt; | Heart_Disease &lt;int&gt; |\n",
       "|---|---|---|---|---|---|\n",
       "| 1 | 58 |  99.97546 | 106.3281 | 62.44868 | 0 |\n",
       "| 2 | 71 |  93.60951 | 134.1907 | 67.87585 | 0 |\n",
       "| 3 | 48 | 119.13195 | 115.7733 | 49.26310 | 0 |\n",
       "| 4 | 34 |  98.62651 | 117.6520 | 93.11179 | 0 |\n",
       "| 5 | 62 | 114.05609 | 119.4568 | 71.04322 | 0 |\n",
       "| 6 | 27 |  91.46011 | 131.4862 | 80.83883 | 0 |\n",
       "\n"
      ],
      "text/plain": [
       "  Age Blood_Sugar Blood_Pressure Weight   Heart_Disease\n",
       "1 58   99.97546   106.3281       62.44868 0            \n",
       "2 71   93.60951   134.1907       67.87585 0            \n",
       "3 48  119.13195   115.7733       49.26310 0            \n",
       "4 34   98.62651   117.6520       93.11179 0            \n",
       "5 62  114.05609   119.4568       71.04322 0            \n",
       "6 27   91.46011   131.4862       80.83883 0            "
      ]
     },
     "metadata": {},
     "output_type": "display_data"
    }
   ],
   "source": [
    "head(data)"
   ]
  },
  {
   "cell_type": "markdown",
   "id": "be518787-bef5-42e5-abc0-4147db0e22ef",
   "metadata": {},
   "source": [
    "## lrm"
   ]
  },
  {
   "cell_type": "code",
   "execution_count": 5,
   "id": "24c54cff-7233-4b27-8384-11cd826e80c7",
   "metadata": {
    "tags": []
   },
   "outputs": [
    {
     "name": "stdout",
     "output_type": "stream",
     "text": [
      "Logistic Regression Model\n",
      "\n",
      "lrm(formula = Heart_Disease ~ ., data = data)\n",
      "\n",
      "                       Model Likelihood     Discrimination    Rank Discrim.    \n",
      "                             Ratio Test            Indexes          Indexes    \n",
      "Obs          1000    LR chi2     238.07     R2       0.859    C       0.997    \n",
      " 0            968    d.f.             4    R2(4,1000)0.209    Dxy     0.994    \n",
      " 1             32    Pr(> chi2) <0.0001    R2(4,92.9)0.919    gamma   0.994    \n",
      "max |deriv| 2e-05                           Brier    0.007    tau-a   0.062    \n",
      "\n",
      "               Coef      S.E.    Wald Z Pr(>|Z|)\n",
      "Intercept      -109.6707 24.8000 -4.42  <0.0001 \n",
      "Age               0.4953  0.1116  4.44  <0.0001 \n",
      "Blood_Sugar       0.5558  0.1228  4.52  <0.0001 \n",
      "Blood_Pressure    0.0135  0.0213  0.63  0.5270  \n",
      "Weight            0.0647  0.0307  2.11  0.0352  \n",
      "\n",
      "[1] \"模型准确率: 0.991\"\n"
     ]
    },
    {
     "name": "stderr",
     "output_type": "stream",
     "text": [
      "Setting levels: control = 0, case = 1\n",
      "\n",
      "Setting direction: controls < cases\n",
      "\n"
     ]
    },
    {
     "name": "stdout",
     "output_type": "stream",
     "text": [
      "[1] \"AUC: 0.997062\"\n"
     ]
    }
   ],
   "source": [
    "# 开始建模\n",
    "lr1 <- lrm(Heart_Disease ~ ., data = data)\n",
    "print(lr1)\n",
    "\n",
    "# 输出回归系数并换行\n",
    "# coefs <- coef(lr1)\n",
    "# 输出系数名称和对应的值，每行显示一个系数\n",
    "# for (name in names(coefs)) {\n",
    "#   cat(name, \": \", coefs[name], \"\\n\")\n",
    "# }\n",
    "\n",
    "# 计算概率预测值\n",
    "probabilities <- predict(lr1)\n",
    "# 设定阈值 0.5，将概率值转换为 0/1 分类\n",
    "predicted_class <- ifelse(probabilities > 0.5, 1, 0)\n",
    "# 计算准确率\n",
    "accuracy <- mean(predicted_class == data$Heart_Disease)\n",
    "print(paste(\"模型准确率:\", round(accuracy, 4)))\n",
    "# 计算 AUC\n",
    "roc_obj <- roc(data$Heart_Disease, probabilities)\n",
    "auc_value <- auc(roc_obj)\n",
    "print(paste(\"AUC:\", round(auc_value, 6)))"
   ]
  },
  {
   "cell_type": "markdown",
   "id": "115acda4-71b8-4306-9056-7ca60c1a0127",
   "metadata": {},
   "source": [
    "## glm"
   ]
  },
  {
   "cell_type": "code",
   "execution_count": 6,
   "id": "e499c0ee-2360-4dad-bbb0-539d5a16276a",
   "metadata": {
    "tags": []
   },
   "outputs": [
    {
     "name": "stdout",
     "output_type": "stream",
     "text": [
      "\n",
      "Call:  glm(formula = Heart_Disease ~ ., data = data)\n",
      "\n",
      "Coefficients:\n",
      "   (Intercept)             Age     Blood_Sugar  Blood_Pressure          Weight  \n",
      "    -0.4494992       0.0021918       0.0035966      -0.0001765       0.0004126  \n",
      "\n",
      "Degrees of Freedom: 999 Total (i.e. Null);  995 Residual\n",
      "Null Deviance:\t    30.98 \n",
      "Residual Deviance: 26.26 \tAIC: -789.9\n",
      "[1] \"模型准确率: 0.968\"\n"
     ]
    },
    {
     "name": "stderr",
     "output_type": "stream",
     "text": [
      "Setting levels: control = 0, case = 1\n",
      "\n",
      "Setting direction: controls < cases\n",
      "\n"
     ]
    },
    {
     "name": "stdout",
     "output_type": "stream",
     "text": [
      "[1] \"AUC: 0.994932\"\n"
     ]
    }
   ],
   "source": [
    "# 开始建模\n",
    "lr2 <- glm(Heart_Disease ~ ., data = data)\n",
    "print(lr2)\n",
    "\n",
    "# # 输出回归系数并换行\n",
    "# coefs <- coef(lr2)\n",
    "# # 输出系数名称和对应的值，每行显示一个系数\n",
    "# for (name in names(coefs)) {\n",
    "#   cat(name, \": \", coefs[name], \"\\n\")\n",
    "# }\n",
    "\n",
    "# 计算概率预测值\n",
    "probabilities <- predict(lr2, type = \"response\")\n",
    "# 设定阈值 0.5，将概率值转换为 0/1 分类\n",
    "predicted_class <- ifelse(probabilities > 0.5, 1, 0)\n",
    "# 计算准确率\n",
    "accuracy <- mean(predicted_class == data$Heart_Disease)\n",
    "print(paste(\"模型准确率:\", round(accuracy, 4)))\n",
    "# 计算 AUC\n",
    "roc_obj <- roc(data$Heart_Disease, probabilities)\n",
    "auc_value <- auc(roc_obj)\n",
    "print(paste(\"AUC:\", round(auc_value, 6)))"
   ]
  },
  {
   "cell_type": "code",
   "execution_count": null,
   "id": "e730b5f7-7591-4f14-b53c-88e643230de4",
   "metadata": {},
   "outputs": [],
   "source": []
  }
 ],
 "metadata": {
  "kernelspec": {
   "display_name": "R",
   "language": "R",
   "name": "ir"
  },
  "language_info": {
   "codemirror_mode": "r",
   "file_extension": ".r",
   "mimetype": "text/x-r-source",
   "name": "R",
   "pygments_lexer": "r",
   "version": "4.4.1"
  }
 },
 "nbformat": 4,
 "nbformat_minor": 5
}
