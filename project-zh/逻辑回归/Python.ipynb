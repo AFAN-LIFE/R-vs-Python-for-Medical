{
 "cells": [
  {
   "cell_type": "markdown",
   "id": "d5f252c9-46e3-4004-9b21-3701cd4430ff",
   "metadata": {},
   "source": [
    "# 环境说明"
   ]
  },
  {
   "cell_type": "code",
   "execution_count": 1,
   "id": "26d3a1df-243f-456f-a583-819dba03e458",
   "metadata": {
    "tags": []
   },
   "outputs": [
    {
     "name": "stdout",
     "output_type": "stream",
     "text": [
      "Python 3.11.5\n"
     ]
    }
   ],
   "source": [
    "!python -V"
   ]
  },
  {
   "cell_type": "raw",
   "id": "6af2ed9c-fe06-43e2-8778-11e5c6cd8104",
   "metadata": {},
   "source": [
    "pip install sklearn"
   ]
  },
  {
   "cell_type": "code",
   "execution_count": 7,
   "id": "0001b2a3-e71b-43f8-9c96-ecc95d82b967",
   "metadata": {
    "tags": []
   },
   "outputs": [],
   "source": [
    "import sklearn\n",
    "import pandas\n",
    "import statsmodels"
   ]
  },
  {
   "cell_type": "code",
   "execution_count": 3,
   "id": "32b0ad8c-a3cf-4f60-a035-db32ce15af9a",
   "metadata": {
    "tags": []
   },
   "outputs": [
    {
     "data": {
      "text/plain": [
       "'1.5.2'"
      ]
     },
     "execution_count": 3,
     "metadata": {},
     "output_type": "execute_result"
    }
   ],
   "source": [
    "sklearn.__version__"
   ]
  },
  {
   "cell_type": "code",
   "execution_count": 4,
   "id": "e91faff8-33f5-4b57-ae04-fb66b908368f",
   "metadata": {
    "tags": []
   },
   "outputs": [
    {
     "data": {
      "text/plain": [
       "'2.1.1'"
      ]
     },
     "execution_count": 4,
     "metadata": {},
     "output_type": "execute_result"
    }
   ],
   "source": [
    "pandas.__version__"
   ]
  },
  {
   "cell_type": "code",
   "execution_count": 8,
   "id": "50e34064-7003-495f-84fa-fcea8ffbc0c2",
   "metadata": {
    "tags": []
   },
   "outputs": [
    {
     "data": {
      "text/plain": [
       "'0.14.4'"
      ]
     },
     "execution_count": 8,
     "metadata": {},
     "output_type": "execute_result"
    }
   ],
   "source": [
    "statsmodels.__version__"
   ]
  },
  {
   "cell_type": "markdown",
   "id": "4bbe04c4-91cf-48ae-9236-44bb9959359e",
   "metadata": {},
   "source": [
    "# 代码实现"
   ]
  },
  {
   "cell_type": "code",
   "execution_count": 9,
   "id": "113f34c9-8efa-41ef-a2e3-c7a340cb4d9f",
   "metadata": {
    "tags": []
   },
   "outputs": [],
   "source": [
    "import pandas as pd\n",
    "import statsmodels.api as sm\n",
    "from sklearn.linear_model import LogisticRegression\n",
    "from sklearn.metrics import accuracy_score, roc_auc_score"
   ]
  },
  {
   "cell_type": "code",
   "execution_count": 10,
   "id": "ae6eba79-b1e6-4f01-83bb-ab29e19f6499",
   "metadata": {
    "tags": []
   },
   "outputs": [],
   "source": [
    "df = pd.read_csv(\"data/train.csv\")"
   ]
  },
  {
   "cell_type": "code",
   "execution_count": 11,
   "id": "8e5f926b-3ee3-490a-ae93-9f92735d70b5",
   "metadata": {
    "tags": []
   },
   "outputs": [
    {
     "data": {
      "text/html": [
       "<div>\n",
       "<style scoped>\n",
       "    .dataframe tbody tr th:only-of-type {\n",
       "        vertical-align: middle;\n",
       "    }\n",
       "\n",
       "    .dataframe tbody tr th {\n",
       "        vertical-align: top;\n",
       "    }\n",
       "\n",
       "    .dataframe thead th {\n",
       "        text-align: right;\n",
       "    }\n",
       "</style>\n",
       "<table border=\"1\" class=\"dataframe\">\n",
       "  <thead>\n",
       "    <tr style=\"text-align: right;\">\n",
       "      <th></th>\n",
       "      <th>Age</th>\n",
       "      <th>Blood_Sugar</th>\n",
       "      <th>Blood_Pressure</th>\n",
       "      <th>Weight</th>\n",
       "      <th>Heart_Disease</th>\n",
       "    </tr>\n",
       "  </thead>\n",
       "  <tbody>\n",
       "    <tr>\n",
       "      <th>0</th>\n",
       "      <td>58</td>\n",
       "      <td>99.975461</td>\n",
       "      <td>106.328124</td>\n",
       "      <td>62.448684</td>\n",
       "      <td>0</td>\n",
       "    </tr>\n",
       "    <tr>\n",
       "      <th>1</th>\n",
       "      <td>71</td>\n",
       "      <td>93.609515</td>\n",
       "      <td>134.190672</td>\n",
       "      <td>67.875853</td>\n",
       "      <td>0</td>\n",
       "    </tr>\n",
       "    <tr>\n",
       "      <th>2</th>\n",
       "      <td>48</td>\n",
       "      <td>119.131949</td>\n",
       "      <td>115.773278</td>\n",
       "      <td>49.263101</td>\n",
       "      <td>0</td>\n",
       "    </tr>\n",
       "    <tr>\n",
       "      <th>3</th>\n",
       "      <td>34</td>\n",
       "      <td>98.626509</td>\n",
       "      <td>117.651983</td>\n",
       "      <td>93.111787</td>\n",
       "      <td>0</td>\n",
       "    </tr>\n",
       "    <tr>\n",
       "      <th>4</th>\n",
       "      <td>62</td>\n",
       "      <td>114.056088</td>\n",
       "      <td>119.456831</td>\n",
       "      <td>71.043221</td>\n",
       "      <td>0</td>\n",
       "    </tr>\n",
       "  </tbody>\n",
       "</table>\n",
       "</div>"
      ],
      "text/plain": [
       "   Age  Blood_Sugar  Blood_Pressure     Weight  Heart_Disease\n",
       "0   58    99.975461      106.328124  62.448684              0\n",
       "1   71    93.609515      134.190672  67.875853              0\n",
       "2   48   119.131949      115.773278  49.263101              0\n",
       "3   34    98.626509      117.651983  93.111787              0\n",
       "4   62   114.056088      119.456831  71.043221              0"
      ]
     },
     "execution_count": 11,
     "metadata": {},
     "output_type": "execute_result"
    }
   ],
   "source": [
    "df.head()"
   ]
  },
  {
   "cell_type": "code",
   "execution_count": 12,
   "id": "e95c2442-d7cd-4e7b-a25b-8a91a5d4e37a",
   "metadata": {
    "tags": []
   },
   "outputs": [],
   "source": [
    "label_name = 'Heart_Disease'"
   ]
  },
  {
   "cell_type": "code",
   "execution_count": 13,
   "id": "403bf1c4-b95f-4d00-bfe5-1badd72f8a38",
   "metadata": {
    "tags": []
   },
   "outputs": [],
   "source": [
    "X = df.drop(label_name, axis=1)\n",
    "y = df[label_name]"
   ]
  },
  {
   "cell_type": "markdown",
   "id": "afdef16f-b6e0-4532-8c5b-cad15b336ff5",
   "metadata": {
    "tags": []
   },
   "source": [
    "# 回归结果"
   ]
  },
  {
   "cell_type": "markdown",
   "id": "7d9c5db2-bdc8-4337-9a0b-2d709c20b16e",
   "metadata": {},
   "source": [
    "## Stasmodels"
   ]
  },
  {
   "cell_type": "code",
   "execution_count": 14,
   "id": "825b50e7-4e98-4ab8-bafb-8c7336e5089f",
   "metadata": {},
   "outputs": [
    {
     "name": "stdout",
     "output_type": "stream",
     "text": [
      "Optimization terminated successfully.\n",
      "         Current function value: 0.022594\n",
      "         Iterations 14\n",
      "                           Logit Regression Results                           \n",
      "==============================================================================\n",
      "Dep. Variable:          Heart_Disease   No. Observations:                 1000\n",
      "Model:                          Logit   Df Residuals:                      995\n",
      "Method:                           MLE   Df Model:                            4\n",
      "Date:                Mon, 17 Feb 2025   Pseudo R-squ.:                  0.8405\n",
      "Time:                        17:15:59   Log-Likelihood:                -22.594\n",
      "converged:                       True   LL-Null:                       -141.63\n",
      "Covariance Type:            nonrobust   LLR p-value:                 2.421e-50\n",
      "==================================================================================\n",
      "                     coef    std err          z      P>|z|      [0.025      0.975]\n",
      "----------------------------------------------------------------------------------\n",
      "const           -109.6707     24.800     -4.422      0.000    -158.278     -61.064\n",
      "Age                0.4953      0.112      4.437      0.000       0.277       0.714\n",
      "Blood_Sugar        0.5558      0.123      4.524      0.000       0.315       0.797\n",
      "Blood_Pressure     0.0135      0.021      0.633      0.527      -0.028       0.055\n",
      "Weight             0.0647      0.031      2.106      0.035       0.004       0.125\n",
      "==================================================================================\n",
      "\n",
      "Possibly complete quasi-separation: A fraction 0.87 of observations can be\n",
      "perfectly predicted. This might indicate that there is complete\n",
      "quasi-separation. In this case some parameters will not be identified.\n",
      "准确率: 0.9910\n",
      "AUC: 0.9971\n"
     ]
    }
   ],
   "source": [
    "# 添加常数列（截距项）到特征中\n",
    "X_ = sm.add_constant(X)\n",
    "\n",
    "# 拟合逻辑回归模型\n",
    "model = sm.Logit(y, X_)\n",
    "result = model.fit()\n",
    "\n",
    "# 输出模型摘要\n",
    "print(result.summary())\n",
    "\n",
    "# 进行预测（概率值）\n",
    "y_pred_prob = result.predict(X_)\n",
    "# 将概率值转化为0/1预测类别，使用阈值0.5\n",
    "y_pred_class = (y_pred_prob > 0.5).astype(int)\n",
    "# 计算准确率\n",
    "accuracy = accuracy_score(y, y_pred_class)\n",
    "print(f\"准确率: {accuracy:.4f}\")\n",
    "\n",
    "# 计算AUC（曲线下面积）\n",
    "auc = roc_auc_score(y, y_pred_prob)\n",
    "print(f\"AUC: {auc:.4f}\")"
   ]
  },
  {
   "cell_type": "markdown",
   "id": "27f38e58-46fc-4565-a93b-1d6e5ecda716",
   "metadata": {},
   "source": [
    "## sklearn"
   ]
  },
  {
   "cell_type": "code",
   "execution_count": 17,
   "id": "1ce1b322-845d-4dba-bdd7-f5d3f98fcb7f",
   "metadata": {
    "tags": []
   },
   "outputs": [
    {
     "name": "stdout",
     "output_type": "stream",
     "text": [
      "              col        coef\n",
      "1     Blood_Sugar    0.555694\n",
      "0             Age    0.495265\n",
      "3          Weight    0.064683\n",
      "2  Blood_Pressure    0.013461\n",
      "0       intercept -109.655631\n",
      "准确率: 0.9910\n",
      "AUC: 0.9971\n"
     ]
    }
   ],
   "source": [
    "lr = LogisticRegression(fit_intercept=True, penalty=None)\n",
    "lr.fit(X, y)\n",
    "\n",
    "coef_df = pd.DataFrame({'col': X.columns, 'coef': lr.coef_.ravel()})\n",
    "intercept_df = pd.DataFrame({'col': ['intercept'], 'coef': lr.intercept_})\n",
    "total_coef_df = pd.concat([coef_df.sort_values(by='coef', ascending=False), intercept_df])\n",
    "\n",
    "print(total_coef_df)\n",
    "\n",
    "pred = lr.predict(X)\n",
    "prob = lr.predict_proba(X)\n",
    "\n",
    "accuracy = accuracy_score(y, pred)\n",
    "print(f\"准确率: {accuracy:.4f}\")\n",
    "\n",
    "# 计算AUC（曲线下面积）\n",
    "auc = roc_auc_score(y, prob[:, 1])\n",
    "print(f\"AUC: {auc:.4f}\")"
   ]
  }
 ],
 "metadata": {
  "kernelspec": {
   "display_name": "medical",
   "language": "python",
   "name": "medical"
  },
  "language_info": {
   "codemirror_mode": {
    "name": "ipython",
    "version": 3
   },
   "file_extension": ".py",
   "mimetype": "text/x-python",
   "name": "python",
   "nbconvert_exporter": "python",
   "pygments_lexer": "ipython3",
   "version": "3.12.8"
  }
 },
 "nbformat": 4,
 "nbformat_minor": 5
}
