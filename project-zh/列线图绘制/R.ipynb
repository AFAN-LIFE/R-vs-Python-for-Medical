{
 "cells": [
  {
   "cell_type": "code",
   "execution_count": 3,
   "id": "8297a82c-90be-4a87-b2d2-faff09efe705",
   "metadata": {},
   "outputs": [
    {
     "name": "stdout",
     "output_type": "stream",
     "text": [
      "当前使用的R语言版本是： R version 4.4.2 (2024-10-31 ucrt) \n"
     ]
    },
    {
     "data": {
      "text/html": [
       "<style>\n",
       ".list-inline {list-style: none; margin:0; padding: 0}\n",
       ".list-inline>li {display: inline-block}\n",
       ".list-inline>li:not(:last-child)::after {content: \"\\00b7\"; padding: 0 .5ex}\n",
       "</style>\n",
       "<ol class=list-inline><li>'time'</li><li>'status'</li><li>'NLRNeutrophils/lymphocytes&gt;3.40'</li><li>'Baseline_CA19-9_level&gt;2000'</li><li>'Tumor_maximum_cross-sectional_rate_change_ratio&lt;-0.1'</li><li>'Emergence_of_new_transfers'</li></ol>\n"
      ],
      "text/latex": [
       "\\begin{enumerate*}\n",
       "\\item 'time'\n",
       "\\item 'status'\n",
       "\\item 'NLRNeutrophils/lymphocytes>3.40'\n",
       "\\item 'Baseline\\_CA19-9\\_level>2000'\n",
       "\\item 'Tumor\\_maximum\\_cross-sectional\\_rate\\_change\\_ratio<-0.1'\n",
       "\\item 'Emergence\\_of\\_new\\_transfers'\n",
       "\\end{enumerate*}\n"
      ],
      "text/markdown": [
       "1. 'time'\n",
       "2. 'status'\n",
       "3. 'NLRNeutrophils/lymphocytes&gt;3.40'\n",
       "4. 'Baseline_CA19-9_level&gt;2000'\n",
       "5. 'Tumor_maximum_cross-sectional_rate_change_ratio&lt;-0.1'\n",
       "6. 'Emergence_of_new_transfers'\n",
       "\n",
       "\n"
      ],
      "text/plain": [
       "[1] \"time\"                                                \n",
       "[2] \"status\"                                              \n",
       "[3] \"NLRNeutrophils/lymphocytes>3.40\"                     \n",
       "[4] \"Baseline_CA19-9_level>2000\"                          \n",
       "[5] \"Tumor_maximum_cross-sectional_rate_change_ratio<-0.1\"\n",
       "[6] \"Emergence_of_new_transfers\"                          "
      ]
     },
     "metadata": {},
     "output_type": "display_data"
    },
    {
     "name": "stderr",
     "output_type": "stream",
     "text": [
      "Regression  fit coxph formula:\n",
      "\n",
      "Surv(time, status == 1) `~` NLR + CA199 + Size + New_lesions\n",
      "\n",
      "Warning message in `[<-.factor`(`*tmp*`, ri, value = \"status\"):\n",
      "\"invalid factor level, NA generated\"\n",
      "Warning message in `[<-.factor`(`*tmp*`, ri, value = \"NLR\"):\n",
      "\"invalid factor level, NA generated\"\n",
      "Warning message in `[<-.factor`(`*tmp*`, ri, value = \"CA199\"):\n",
      "\"invalid factor level, NA generated\"\n",
      "Warning message in `[<-.factor`(`*tmp*`, ri, value = \"Size\"):\n",
      "\"invalid factor level, NA generated\"\n",
      "Warning message in `[<-.factor`(`*tmp*`, ri, value = \"New_lesions\"):\n",
      "\"invalid factor level, NA generated\"\n"
     ]
    }
   ],
   "source": [
    "library(survival)\n",
    "library(regplot)\n",
    "library(rms)\n",
    "library(readxl)\n",
    "\n",
    "version <- R.version$version.string\n",
    "cat(\"当前使用的R语言版本是：\", version, \"\\n\")\n",
    "\n",
    "# 读取Excel文件\n",
    "file_path <- \"C:\\\\Users\\\\fsyan\\\\Desktop\\\\副本数据.xlsx\" \n",
    "df <- read_excel(file_path, sheet = \"Sheet1\")\n",
    "\n",
    "# 检查列名\n",
    "colnames(df)\n",
    "\n",
    "# 修改列名（如果需要）\n",
    "colnames(df) <- c(\"time\", \"status\", \"NLR\", \"CA199\", \"Size\", \"New_lesions\")\n",
    "\n",
    "##变量转换为因子\n",
    "df$time <- df$time / 365\n",
    "df$status <- as.factor(df$status)\n",
    "df$NLR <- as.factor(df$NLR)\n",
    "df$CA199 <- as.factor(df$CA199)\n",
    "df$Size <- as.factor(df$Size)\n",
    "df$New_lesions <- as.factor(df$New_lesions)\n",
    "\n",
    "# 使用datadist函数设置数据分布\n",
    "ddist <- datadist(df)\n",
    "options(datadist='ddist')\n",
    "\n",
    "# 拟合Cox模型\n",
    "fit <- coxph(Surv(time, status ==1) ~ ., data=df)\n",
    "\n",
    "# 绘制列线图\n",
    "nom1 <- regplot(fit,\n",
    "                plots = c(\"density\", \"boxes\"),\n",
    "                clickable = FALSE,\n",
    "                title = \"Nomogram for Survival Prediction\",\n",
    "                points = TRUE,\n",
    "                droplines = TRUE,\n",
    "                observation = df[10, ],  # 选择第10行作为示例\n",
    "\t\t\t\trank = \"range\",\n",
    "\t\t\t\tshowP = FALSE,\n",
    "                failtime = c(3, 2, 1, 0.5),\t\t\t\t# 设置时间点\n",
    "                prfail = FALSE)\n",
    "\n",
    "# 手动保存列线图\n",
    "# 图片适当放大拉宽，文件，另存为，PDF，取名Nomogram\n",
    "\n",
    "# 列线图风险打分\n",
    "# 使用线性预测值（lp）\n",
    "nomoRisk <- predict(fit, data = df, type = \"lp\")\n",
    "\n",
    "# 将线性预测值转换为风险值（risk = exp(lp)）\n",
    "nomoRisk <- exp(nomoRisk)\n",
    "\n",
    "# 将风险值添加到数据框中\n",
    "df <- cbind(df, Nomogram = nomoRisk)\n",
    "\n",
    "# 输出风险打分结果\n",
    "outTab <- rbind(ID = colnames(df), df)\n",
    "write.table(outTab, file = \"nomoRisk.txt\", sep = \"\\t\", col.names = FALSE, quote = FALSE)\n"
   ]
  },
  {
   "cell_type": "code",
   "execution_count": null,
   "id": "b62e5be2-d59f-4689-ba21-db4f305ec4f7",
   "metadata": {},
   "outputs": [],
   "source": []
  }
 ],
 "metadata": {
  "kernelspec": {
   "display_name": "R",
   "language": "R",
   "name": "ir"
  },
  "language_info": {
   "codemirror_mode": "r",
   "file_extension": ".r",
   "mimetype": "text/x-r-source",
   "name": "R",
   "pygments_lexer": "r",
   "version": "4.4.2"
  }
 },
 "nbformat": 4,
 "nbformat_minor": 5
}
