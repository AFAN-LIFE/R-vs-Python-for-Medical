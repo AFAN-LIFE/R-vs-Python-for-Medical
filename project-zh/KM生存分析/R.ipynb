{
 "cells": [
  {
   "cell_type": "code",
   "execution_count": 1,
   "id": "8976f006-2d7a-41b4-be0e-6d17c7915290",
   "metadata": {},
   "outputs": [
    {
     "name": "stdout",
     "output_type": "stream",
     "text": [
      "package 'survival' successfully unpacked and MD5 sums checked\n"
     ]
    },
    {
     "name": "stderr",
     "output_type": "stream",
     "text": [
      "Warning message:\n",
      "\"cannot remove prior installation of package 'survival'\"\n",
      "Warning message in file.copy(savedcopy, lib, recursive = TRUE):\n",
      "\"problem copying D:\\1\\R-4.3.3\\library\\00LOCK\\survival\\libs\\x64\\survival.dll to D:\\1\\R-4.3.3\\library\\survival\\libs\\x64\\survival.dll: Permission denied\"\n",
      "Warning message:\n",
      "\"restored 'survival'\"\n"
     ]
    },
    {
     "name": "stdout",
     "output_type": "stream",
     "text": [
      "\n",
      "The downloaded binary packages are in\n",
      "\tC:\\Users\\fsyan\\AppData\\Local\\Temp\\RtmpKQfPDj\\downloaded_packages\n"
     ]
    },
    {
     "name": "stderr",
     "output_type": "stream",
     "text": [
      "also installing the dependencies 'Deriv', 'modelr', 'microbenchmark', 'doBy', 'carData', 'Formula', 'pbkrtest', 'corrplot', 'car', 'markdown', 'jpeg', 'ggrepel', 'ggsci', 'ggsignif', 'polynom', 'rstatix', 'exactRankTests', 'mvtnorm', 'KMsurv', 'zoo', 'km.ci', 'gridtext', 'ggpubr', 'maxstat', 'survMisc', 'ggtext'\n",
      "\n",
      "\n"
     ]
    },
    {
     "name": "stdout",
     "output_type": "stream",
     "text": [
      "package 'Deriv' successfully unpacked and MD5 sums checked\n",
      "package 'modelr' successfully unpacked and MD5 sums checked\n",
      "package 'microbenchmark' successfully unpacked and MD5 sums checked\n",
      "package 'doBy' successfully unpacked and MD5 sums checked\n",
      "package 'carData' successfully unpacked and MD5 sums checked\n",
      "package 'Formula' successfully unpacked and MD5 sums checked\n",
      "package 'pbkrtest' successfully unpacked and MD5 sums checked\n",
      "package 'corrplot' successfully unpacked and MD5 sums checked\n",
      "package 'car' successfully unpacked and MD5 sums checked\n",
      "package 'markdown' successfully unpacked and MD5 sums checked\n",
      "package 'jpeg' successfully unpacked and MD5 sums checked\n",
      "package 'ggrepel' successfully unpacked and MD5 sums checked\n",
      "package 'ggsci' successfully unpacked and MD5 sums checked\n",
      "package 'ggsignif' successfully unpacked and MD5 sums checked\n",
      "package 'polynom' successfully unpacked and MD5 sums checked\n",
      "package 'rstatix' successfully unpacked and MD5 sums checked\n",
      "package 'exactRankTests' successfully unpacked and MD5 sums checked\n",
      "package 'mvtnorm' successfully unpacked and MD5 sums checked\n",
      "package 'KMsurv' successfully unpacked and MD5 sums checked\n",
      "package 'zoo' successfully unpacked and MD5 sums checked\n",
      "package 'km.ci' successfully unpacked and MD5 sums checked\n",
      "package 'gridtext' successfully unpacked and MD5 sums checked\n",
      "package 'ggpubr' successfully unpacked and MD5 sums checked\n",
      "package 'maxstat' successfully unpacked and MD5 sums checked\n",
      "package 'survMisc' successfully unpacked and MD5 sums checked\n",
      "package 'ggtext' successfully unpacked and MD5 sums checked\n",
      "package 'survminer' successfully unpacked and MD5 sums checked\n",
      "\n",
      "The downloaded binary packages are in\n",
      "\tC:\\Users\\fsyan\\AppData\\Local\\Temp\\RtmpKQfPDj\\downloaded_packages\n"
     ]
    },
    {
     "name": "stderr",
     "output_type": "stream",
     "text": [
      "Loading required package: ggplot2\n",
      "\n",
      "Loading required package: ggpubr\n",
      "\n",
      "\n",
      "Attaching package: 'survminer'\n",
      "\n",
      "\n",
      "The following object is masked from 'package:survival':\n",
      "\n",
      "    myeloma\n",
      "\n",
      "\n",
      "Warning message in .pvalue(fit, data = data, method = method, pval = pval, pval.coord = pval.coord, :\n",
      "\"There are no survival curves to be compared. \n",
      " This is a null model.\"\n"
     ]
    },
    {
     "name": "stdout",
     "output_type": "stream",
     "text": [
      "function (fit, data = NULL, fun = NULL, color = NULL, palette = NULL, \n",
      "    linetype = 1, conf.int = FALSE, pval = FALSE, pval.method = FALSE, \n",
      "    test.for.trend = FALSE, surv.median.line = \"none\", risk.table = FALSE, \n",
      "    cumevents = FALSE, cumcensor = FALSE, tables.height = 0.25, \n",
      "    group.by = NULL, facet.by = NULL, add.all = FALSE, combine = FALSE, \n",
      "    ggtheme = theme_survminer(), tables.theme = ggtheme, ...) \n",
      "{\n",
      "    if (length(group.by) > 2) \n",
      "        stop(\"group.by should be of length 1 or 2.\")\n",
      "    opts_df <- list(fit = fit, fun = fun, color = color, palette = palette, \n",
      "        linetype = linetype, conf.int = conf.int, ggtheme = ggtheme, \n",
      "        ...)\n",
      "    opts <- list(fit = fit, data = data, fun = fun, color = color, \n",
      "        palette = palette, linetype = linetype, conf.int = conf.int, \n",
      "        pval = pval, pval.method = pval.method, test.for.trend = test.for.trend, \n",
      "        surv.median.line = surv.median.line, risk.table = risk.table, \n",
      "        cumevents = cumevents, cumcensor = cumcensor, tables.height = tables.height, \n",
      "        ggtheme = ggtheme, tables.theme = tables.theme, ...)\n",
      "    if (.is_list(fit)) {\n",
      "        if (combine) \n",
      "            ggsurv <- do.call(ggsurvplot_combine, opts)\n",
      "        else ggsurv <- do.call(ggsurvplot_list, opts)\n",
      "    }\n",
      "    else if (is.data.frame(fit)) \n",
      "        ggsurv <- do.call(ggsurvplot_df, opts_df)\n",
      "    else if (.is_survfit(fit)) {\n",
      "        if (!is.null(group.by)) {\n",
      "            opts$group.by <- group.by\n",
      "            ggsurv <- do.call(ggsurvplot_group_by, opts)\n",
      "        }\n",
      "        else if (!is.null(facet.by)) {\n",
      "            opts$facet.by <- facet.by\n",
      "            ggsurv <- do.call(ggsurvplot_facet, opts)\n",
      "        }\n",
      "        else if (add.all) {\n",
      "            ggsurv <- do.call(ggsurvplot_add_all, opts)\n",
      "        }\n",
      "        else {\n",
      "            if (is.null(fit$strata)) {\n",
      "                if (missing(conf.int)) {\n",
      "                  opts$conf.int = TRUE\n",
      "                  opts$conf.int.fill = \"strata\"\n",
      "                }\n",
      "            }\n",
      "            ggsurv <- do.call(ggsurvplot_core, opts)\n",
      "        }\n",
      "    }\n",
      "    else if (inherits(fit, \"flexsurvreg\")) \n",
      "        ggsurv <- do.call(ggflexsurvplot, opts)\n",
      "    return(ggsurv)\n",
      "}\n",
      "<bytecode: 0x0000026575f821e8>\n",
      "<environment: namespace:survminer>\n"
     ]
    },
    {
     "data": {
      "image/png": "[encoded data removed]",
      "text/plain": [
       "plot without title"
      ]
     },
     "metadata": {
      "image/png": {
       "height": 420,
       "width": 420
      }
     },
     "output_type": "display_data"
    }
   ],
   "source": [
    "# 安装并加载所需的包\n",
    "install.packages(\"survival\")\n",
    "install.packages(\"survminer\")\n",
    "library(survival)\n",
    "library(survminer)\n",
    "\n",
    "# 读取数据\n",
    "data <- read.csv(\"dataset_果蝇COX.csv\")\n",
    "\n",
    "# 创建生存对象\n",
    "surv_obj <- Surv(data$T, data$E)\n",
    "\n",
    "# 拟合Kaplan-Meier生存曲线\n",
    "fit <- survfit(surv_obj ~ 1, data = data)\n",
    "\n",
    "# 绘制生存曲线图\n",
    "ggsurvplot(fit, \n",
    "           data = data, \n",
    "           pval = TRUE, \n",
    "           conf.int = TRUE, \n",
    "           risk.table = TRUE, \n",
    "           risk.table.col = \"strata\", \n",
    "           linetype = \"strata\", \n",
    "           surv.median.line = \"hv\", \n",
    "           ggtheme = theme_bw(), \n",
    "           palette = c(\"#E7B800\", \"#2E9FDF\"))\n",
    "\n",
    "# 显示图形\n",
    "print(ggsurvplot)"
   ]
  },
  {
   "cell_type": "code",
   "execution_count": null,
   "id": "0d82299a-8883-4bbe-a86b-d3147260aba3",
   "metadata": {},
   "outputs": [],
   "source": []
  }
 ],
 "metadata": {
  "kernelspec": {
   "display_name": "R",
   "language": "R",
   "name": "ir"
  },
  "language_info": {
   "codemirror_mode": "r",
   "file_extension": ".r",
   "mimetype": "text/x-r-source",
   "name": "R",
   "pygments_lexer": "r",
   "version": "4.3.3"
  }
 },
 "nbformat": 4,
 "nbformat_minor": 5
}
