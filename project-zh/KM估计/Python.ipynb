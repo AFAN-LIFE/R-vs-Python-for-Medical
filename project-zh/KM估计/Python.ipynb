{
 "cells": [
  {
   "cell_type": "markdown",
   "id": "d5f252c9-46e3-4004-9b21-3701cd4430ff",
   "metadata": {},
   "source": [
    "# 环境说明"
   ]
  },
  {
   "cell_type": "code",
   "execution_count": 10,
   "id": "26d3a1df-243f-456f-a583-819dba03e458",
   "metadata": {
    "tags": []
   },
   "outputs": [
    {
     "name": "stdout",
     "output_type": "stream",
     "text": [
      "Python 3.11.5\n"
     ]
    }
   ],
   "source": [
    "!python -V"
   ]
  },
  {
   "cell_type": "raw",
   "id": "6af2ed9c-fe06-43e2-8778-11e5c6cd8104",
   "metadata": {},
   "source": [
    "pip install lifelines"
   ]
  },
  {
   "cell_type": "code",
   "execution_count": 15,
   "id": "0001b2a3-e71b-43f8-9c96-ecc95d82b967",
   "metadata": {
    "tags": []
   },
   "outputs": [],
   "source": [
    "import lifelines\n",
    "import pandas"
   ]
  },
  {
   "cell_type": "code",
   "execution_count": 12,
   "id": "32b0ad8c-a3cf-4f60-a035-db32ce15af9a",
   "metadata": {
    "tags": []
   },
   "outputs": [
    {
     "data": {
      "text/plain": [
       "'0.30.0'"
      ]
     },
     "execution_count": 12,
     "metadata": {},
     "output_type": "execute_result"
    }
   ],
   "source": [
    "lifelines.__version__"
   ]
  },
  {
   "cell_type": "code",
   "execution_count": 16,
   "id": "e91faff8-33f5-4b57-ae04-fb66b908368f",
   "metadata": {
    "tags": []
   },
   "outputs": [
    {
     "data": {
      "text/plain": [
       "'2.2.3'"
      ]
     },
     "execution_count": 16,
     "metadata": {},
     "output_type": "execute_result"
    }
   ],
   "source": [
    "pandas.__version__"
   ]
  },
  {
   "cell_type": "markdown",
   "id": "4bbe04c4-91cf-48ae-9236-44bb9959359e",
   "metadata": {},
   "source": [
    "# 代码实现"
   ]
  },
  {
   "cell_type": "code",
   "execution_count": 20,
   "id": "da6ceb52-5683-4fa6-bc54-0b042f19206b",
   "metadata": {
    "tags": []
   },
   "outputs": [],
   "source": [
    "import pandas as pd\n",
    "from lifelines import KaplanMeierFitter"
   ]
  },
  {
   "cell_type": "code",
   "execution_count": 19,
   "id": "ae6eba79-b1e6-4f01-83bb-ab29e19f6499",
   "metadata": {
    "tags": []
   },
   "outputs": [],
   "source": [
    "df = pd.read_csv(\"data/KM_dataset.csv\")"
   ]
  },
  {
   "cell_type": "code",
   "execution_count": 21,
   "id": "9eab1ace-32a8-4418-987a-9c346be51451",
   "metadata": {
    "tags": []
   },
   "outputs": [],
   "source": [
    "T = df['T']\n",
    "E = df['E']"
   ]
  },
  {
   "cell_type": "code",
   "execution_count": 23,
   "id": "a6b78668-f143-4078-8657-5e2f8f68fa91",
   "metadata": {
    "tags": []
   },
   "outputs": [
    {
     "data": {
      "text/plain": [
       "<lifelines.KaplanMeierFitter:\"KM_estimate\", fitted with 163 total observations, 7 right-censored observations>"
      ]
     },
     "execution_count": 23,
     "metadata": {},
     "output_type": "execute_result"
    }
   ],
   "source": [
    "kmf = KaplanMeierFitter()\n",
    "kmf.fit(T, E)"
   ]
  },
  {
   "cell_type": "code",
   "execution_count": 24,
   "id": "d381e5d7-2116-4fda-b9dd-10eae6863a18",
   "metadata": {
    "tags": []
   },
   "outputs": [
    {
     "data": {
      "text/plain": [
       "<Axes: xlabel='timeline'>"
      ]
     },
     "execution_count": 24,
     "metadata": {},
     "output_type": "execute_result"
    },
    {
     "data": {
      "image/png": "[encoded data removed]",
      "text/plain": [
       "<Figure size 640x480 with 1 Axes>"
      ]
     },
     "metadata": {},
     "output_type": "display_data"
    }
   ],
   "source": [
    "kmf.plot_survival_function()"
   ]
  }
 ],
 "metadata": {
  "kernelspec": {
   "display_name": "medical",
   "language": "python",
   "name": "medical"
  },
  "language_info": {
   "codemirror_mode": {
    "name": "ipython",
    "version": 3
   },
   "file_extension": ".py",
   "mimetype": "text/x-python",
   "name": "python",
   "nbconvert_exporter": "python",
   "pygments_lexer": "ipython3",
   "version": "3.12.8"
  }
 },
 "nbformat": 4,
 "nbformat_minor": 5
}
