{
 "cells": [
  {
   "cell_type": "markdown",
   "id": "c11bd4f9-87a2-43a4-aa0a-cfca64b6b6bb",
   "metadata": {},
   "source": [
    "# 环境说明"
   ]
  },
  {
   "cell_type": "code",
   "execution_count": 1,
   "id": "8fc21562-8486-46c0-acbb-2c92384804cd",
   "metadata": {
    "tags": []
   },
   "outputs": [
    {
     "name": "stdout",
     "output_type": "stream",
     "text": [
      "package 'survival' successfully unpacked and MD5 sums checked\n",
      "\n",
      "The downloaded binary packages are in\n",
      "\tC:\\Users\\AFAN\\AppData\\Local\\Temp\\Rtmp6xPHbr\\downloaded_packages\n",
      "package 'survminer' successfully unpacked and MD5 sums checked\n",
      "\n",
      "The downloaded binary packages are in\n",
      "\tC:\\Users\\AFAN\\AppData\\Local\\Temp\\Rtmp6xPHbr\\downloaded_packages\n"
     ]
    }
   ],
   "source": [
    "# 安装所需的包\n",
    "install.packages(\"survival\")\n",
    "install.packages(\"survminer\")"
   ]
  },
  {
   "cell_type": "code",
   "execution_count": 28,
   "id": "ad961cac-c367-4e05-931b-b1dbac44cfb7",
   "metadata": {
    "tags": []
   },
   "outputs": [
    {
     "data": {
      "text/plain": [
       "Title: Survival Analysis\n",
       "Priority: recommended\n",
       "Package: survival\n",
       "Version: 3.8-3\n",
       "Date: 2024-12-17\n",
       "Depends: R (>= 3.5.0)\n",
       "Imports: graphics, Matrix, methods, splines, stats, utils\n",
       "LazyData: Yes\n",
       "LazyDataCompression: xz\n",
       "ByteCompile: Yes\n",
       "Authors@R: c(person(c(\"Terry\", \"M\"), \"Therneau\",\n",
       "        email=\"therneau.terry@mayo.edu\", role=c(\"aut\", \"cre\")),\n",
       "        person(\"Thomas\", \"Lumley\", role=c(\"ctb\", \"trl\"),\n",
       "        comment=\"original S->R port and R maintainer until 2009\"),\n",
       "        person(\"Atkinson\", \"Elizabeth\", role=\"ctb\"), person(\"Crowson\",\n",
       "        \"Cynthia\", role=\"ctb\"))\n",
       "Description: Contains the core survival analysis routines, including\n",
       "        definition of Surv objects, Kaplan-Meier and Aalen-Johansen\n",
       "        (multi-state) curves, Cox models, and parametric accelerated\n",
       "        failure time models.\n",
       "License: LGPL (>= 2)\n",
       "URL: https://github.com/therneau/survival\n",
       "NeedsCompilation: yes\n",
       "Packaged: 2024-12-17 16:37:18 UTC; therneau\n",
       "Author: Terry M Therneau [aut, cre], Thomas Lumley [ctb, trl] (original\n",
       "        S->R port and R maintainer until 2009), Atkinson Elizabeth\n",
       "        [ctb], Crowson Cynthia [ctb]\n",
       "Maintainer: Terry M Therneau <therneau.terry@mayo.edu>\n",
       "Repository: CRAN\n",
       "Date/Publication: 2024-12-17 20:20:02 UTC\n",
       "Built: R 4.4.2; x86_64-w64-mingw32; 2025-02-02 02:39:14 UTC; windows\n",
       "Archs: x64\n",
       "\n",
       "-- File: D:/software/R-4.4.1/library/survival/Meta/package.rds "
      ]
     },
     "metadata": {},
     "output_type": "display_data"
    }
   ],
   "source": [
    "sessionInfo()$otherPkgs$survival"
   ]
  },
  {
   "cell_type": "code",
   "execution_count": 30,
   "id": "3273d56c-b44d-4331-8ee1-72f158b7e448",
   "metadata": {
    "tags": []
   },
   "outputs": [
    {
     "data": {
      "text/plain": [
       "Package: survminer\n",
       "Type: Package\n",
       "Title: Drawing Survival Curves using 'ggplot2'\n",
       "Version: 0.5.0\n",
       "Date: 2024-10-30\n",
       "Authors@R: c( person(\"Alboukadel\", \"Kassambara\", role = c(\"aut\",\n",
       "        \"cre\"), email = \"alboukadel.kassambara@gmail.com\"),\n",
       "        person(\"Marcin\", \"Kosinski\", role = c(\"aut\"), email =\n",
       "        \"m.p.kosinski@gmail.com\"), person(\"Przemyslaw\", \"Biecek\", role\n",
       "        = c(\"aut\"), email = \"przemyslaw.biecek@gmail.com\"),\n",
       "        person(\"Scheipl\", \"Fabian\", role = c(\"ctb\"), email =\n",
       "        \"fabian.scheipl@gmail.com\"))\n",
       "Description: Contains the function 'ggsurvplot()' for drawing easily\n",
       "        beautiful and 'ready-to-publish' survival curves with the\n",
       "        'number at risk' table and 'censoring count plot'. Other\n",
       "        functions are also available to plot adjusted curves for `Cox`\n",
       "        model and to visually examine 'Cox' model assumptions.\n",
       "License: GPL-2\n",
       "LazyData: TRUE\n",
       "Encoding: UTF-8\n",
       "Depends: ggplot2(>= 3.4.0), ggpubr(>= 0.1.6)\n",
       "Imports: grid, gridExtra (>= 2.0), magrittr, maxstat, methods, scales,\n",
       "        survival, stats, broom, dplyr, tidyr, survMisc, purrr, tibble,\n",
       "        rlang, ggtext (>= 0.1.0)\n",
       "Suggests: knitr, flexsurv, cmprsk, markdown, testthat, rmarkdown\n",
       "VignetteBuilder: knitr\n",
       "URL: https://rpkgs.datanovia.com/survminer/index.html\n",
       "BugReports: https://github.com/kassambara/survminer/issues\n",
       "RoxygenNote: 7.3.2\n",
       "Collate: 'BMT.R' 'BRCAOV.survInfo.R' 'add_ggsurvplot.R' 'utilities.R'\n",
       "        .....\n",
       "NeedsCompilation: no\n",
       "Packaged: 2024-10-30 11:17:06 UTC; root\n",
       "Author: Alboukadel Kassambara [aut, cre], Marcin Kosinski [aut],\n",
       "        Przemyslaw Biecek [aut], Scheipl Fabian [ctb]\n",
       "Maintainer: Alboukadel Kassambara <alboukadel.kassambara@gmail.com>\n",
       "Repository: CRAN\n",
       "Date/Publication: 2024-10-30 11:50:02 UTC\n",
       "Built: R 4.4.2; ; 2025-02-02 04:40:19 UTC; windows\n",
       "\n",
       "-- File: D:/software/R-4.4.1/library/survminer/Meta/package.rds "
      ]
     },
     "metadata": {},
     "output_type": "display_data"
    }
   ],
   "source": [
    "sessionInfo()$otherPkgs$survminer"
   ]
  },
  {
   "cell_type": "markdown",
   "id": "c745a1a0-d852-4e06-ad46-5c72233e5208",
   "metadata": {},
   "source": [
    "# 代码实现"
   ]
  },
  {
   "cell_type": "code",
   "execution_count": 2,
   "id": "62c252e7-e022-45aa-b588-6882dbad0a48",
   "metadata": {
    "tags": []
   },
   "outputs": [
    {
     "name": "stderr",
     "output_type": "stream",
     "text": [
      "Warning message:\n",
      "\"package 'survival' was built under R version 4.4.2\"\n",
      "Warning message:\n",
      "\"package 'survminer' was built under R version 4.4.2\"\n",
      "Loading required package: ggplot2\n",
      "\n",
      "Loading required package: ggpubr\n",
      "\n",
      "Warning message:\n",
      "\"package 'ggpubr' was built under R version 4.4.2\"\n",
      "\n",
      "Attaching package: 'survminer'\n",
      "\n",
      "\n",
      "The following object is masked from 'package:survival':\n",
      "\n",
      "    myeloma\n",
      "\n",
      "\n"
     ]
    }
   ],
   "source": [
    "# 加载所需的包\n",
    "library(survival)\n",
    "library(survminer)"
   ]
  },
  {
   "cell_type": "code",
   "execution_count": 3,
   "id": "30e1e21a-f418-429b-82ff-6ae7cd41bc1f",
   "metadata": {
    "tags": []
   },
   "outputs": [
    {
     "name": "stderr",
     "output_type": "stream",
     "text": [
      "Warning message in .pvalue(fit, data = data, method = method, pval = pval, pval.coord = pval.coord, :\n",
      "\"There are no survival curves to be compared. \n",
      " This is a null model.\"\n"
     ]
    },
    {
     "data": {
      "image/png": "[encoded data removed]",
      "text/plain": [
       "plot without title"
      ]
     },
     "metadata": {
      "image/png": {
       "height": 420,
       "width": 420
      }
     },
     "output_type": "display_data"
    }
   ],
   "source": [
    "# 读取数据\n",
    "data <- read.csv(\"data/KM_dataset.csv\")\n",
    "\n",
    "# 创建生存对象\n",
    "surv_obj <- Surv(data$T, data$E)\n",
    "\n",
    "# 拟合Kaplan-Meier生存曲线\n",
    "fit <- survfit(surv_obj ~ 1, data = data)\n",
    "\n",
    "# 绘制生存曲线图\n",
    "ggsurvplot(fit, \n",
    "           data = data, \n",
    "           pval = TRUE, \n",
    "           conf.int = TRUE, \n",
    "           risk.table = TRUE, \n",
    "           risk.table.col = \"strata\", \n",
    "           linetype = \"strata\", \n",
    "           surv.median.line = \"hv\", \n",
    "           ggtheme = theme_bw(), \n",
    "           palette = c(\"#E7B800\", \"#2E9FDF\"))"
   ]
  }
 ],
 "metadata": {
  "kernelspec": {
   "display_name": "R",
   "language": "R",
   "name": "ir"
  },
  "language_info": {
   "codemirror_mode": "r",
   "file_extension": ".r",
   "mimetype": "text/x-r-source",
   "name": "R",
   "pygments_lexer": "r",
   "version": "4.4.1"
  }
 },
 "nbformat": 4,
 "nbformat_minor": 5
}
