{
 "cells": [
  {
   "cell_type": "code",
   "execution_count": null,
   "id": "5d2cae9e-448f-4078-9476-cee981af65bb",
   "metadata": {},
   "outputs": [],
   "source": [
    "library(dplyr)\n",
    "library(survival)\n",
    "library(rms)\n",
    "library(pec)\n",
    "riskFile=\"risk.all.txt\"     #风险文件\n",
    "cliFile=\"clinical3.txt\"      #临床数据文件\n",
    "#读取风险输入文件\n",
    "risk=read.table(riskFile, header=T, sep=\"\\t\", check.names=F, row.names=1)\n",
    "risk=risk[,c(\"futime\", \"fustat\", \"riskScore\")]\n",
    "#读取临床数据文件\n",
    "cli=read.table(cliFile, header=T, sep=\"\\t\", check.names=F, row.names=1)\n",
    "#合并数据\n",
    "samSample=intersect(row.names(risk), row.names(cli))\n",
    "risk1=risk[samSample,,drop=F]\n",
    "cli=cli[samSample,,drop=F]\n",
    "rt=cbind(risk1, cli)\n",
    "#定义颜色\n",
    "bioCol=rainbow(ncol(rt)-1, s=0.9, v=0.9)\n",
    "#C-index值计算.注意下面模型需要根据clinical3.txt的变量，自己增减，注意大小写\n",
    "riskScore=cph(Surv(futime,fustat)~riskScore, data=rt, surv=TRUE)\n",
    "age=cph(Surv(futime,fustat)~age, data=rt, surv=TRUE)\n",
    "gender=cph(Surv(futime,fustat)~gender, data=rt, surv=TRUE)\n",
    "race=cph(Surv(futime,fustat)~race, data=rt, surv=TRUE)\n",
    "#grade=cph(Surv(futime,fustat)~grade, data=rt, surv=TRUE)\n",
    "stage=cph(Surv(futime,fustat)~stage, data=rt, surv=TRUE)\n",
    "T=cph(Surv(futime,fustat)~T, data=rt, surv=TRUE)\n",
    "M=cph(Surv(futime,fustat)~M, data=rt, surv=TRUE)\n",
    "N=cph(Surv(futime,fustat)~N, data=rt, surv=TRUE)\n",
    "c_index  <- cindex(list(\"Risk score\"=riskScore, \n",
    "                        \"age\"=age,\n",
    "                        \"gender\"=gender,\n",
    "\t\t\t\t\t\t\"race\"=race,\n",
    "                        \"stage\"=stage,\n",
    "\t\t\t\t\t\t\"T\"=T,\n",
    "\t\t\t\t\t\t\"M\"=M,\n",
    "\t\t\t\t\t\t\"N\"=N),\n",
    "                    formula=Surv(futime,fustat)~ .,\n",
    "                    data=rt,\n",
    "                    eval.times=seq(0,10,1),\n",
    "                    splitMethod=\"bootcv\",\n",
    "                    B=1000\n",
    "                    )\n",
    "#输出图形\n",
    "pdf(file=\"C-index.pdf\", width=10, height=10)\n",
    "plot(c_index, xlim=c(0,10), ylim=c(0.4,0.8), col=bioCol, legend.x=6, legend.y=0.82, legend.cex=1)\n",
    "dev.off()\n",
    "#\"Grade\"=Grade,\n",
    "\n",
    "\n"
   ]
  }
 ],
 "metadata": {
  "kernelspec": {
   "display_name": "R",
   "language": "R",
   "name": "ir"
  },
  "language_info": {
   "codemirror_mode": "r",
   "file_extension": ".r",
   "mimetype": "text/x-r-source",
   "name": "R",
   "pygments_lexer": "r",
   "version": "4.3.3"
  }
 },
 "nbformat": 4,
 "nbformat_minor": 5
}
