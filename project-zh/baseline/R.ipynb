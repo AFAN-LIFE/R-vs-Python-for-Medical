{
 "cells": [
  {
   "cell_type": "code",
   "execution_count": 7,
   "id": "473a9977-abd0-43df-8cfb-4a0976cd34a3",
   "metadata": {},
   "outputs": [
    {
     "name": "stderr",
     "output_type": "stream",
     "text": [
      "Warning message:\n",
      "\"package 'tableone' is in use and will not be installed\"\n"
     ]
    },
    {
     "name": "stdout",
     "output_type": "stream",
     "text": [
      "                     \n",
      "                      level Overall                \n",
      "  n                            155                 \n",
      "  time (median [IQR])       285.00 [187.00, 459.00]\n",
      "  status (%)          0          8 ( 5.2)          \n",
      "                      1        147 (94.8)          \n",
      "  NLR (%)             0         89 (57.4)          \n",
      "                      1         66 (42.6)          \n",
      "  CA199 (%)           0         86 (55.5)          \n",
      "                      1         69 (44.5)          \n",
      "  Size (%)            0        105 (67.7)          \n",
      "                      1         50 (32.3)          \n",
      "  New_lesions (%)     0        100 (64.5)          \n",
      "                      1         55 (35.5)          \n",
      "                  Stratified by CA199\n",
      "                   level Overall         0               1               p     \n",
      "  n                         155              86              69                \n",
      "  time (mean (SD))       372.52 (291.49) 445.19 (347.08) 281.96 (163.84) <0.001\n",
      "  status (%)       0          8 ( 5.2)        7 (  8.1)       1 (  1.4)   0.132\n",
      "                   1        147 (94.8)       79 ( 91.9)      68 ( 98.6)        \n",
      "  NLR (%)          0         89 (57.4)       55 ( 64.0)      34 ( 49.3)   0.094\n",
      "                   1         66 (42.6)       31 ( 36.0)      35 ( 50.7)        \n",
      "  CA199 (%)        0         86 (55.5)       86 (100.0)       0 (  0.0)  <0.001\n",
      "                   1         69 (44.5)        0 (  0.0)      69 (100.0)        \n",
      "  Size (%)         0        105 (67.7)       57 ( 66.3)      48 ( 69.6)   0.793\n",
      "                   1         50 (32.3)       29 ( 33.7)      21 ( 30.4)        \n",
      "  New_lesions (%)  0        100 (64.5)       63 ( 73.3)      37 ( 53.6)   0.018\n",
      "                   1         55 (35.5)       23 ( 26.7)      32 ( 46.4)        \n",
      "                  Stratified by CA199\n",
      "                   test\n",
      "  n                    \n",
      "  time (mean (SD))     \n",
      "  status (%)           \n",
      "                       \n",
      "  NLR (%)              \n",
      "                       \n",
      "  CA199 (%)            \n",
      "                       \n",
      "  Size (%)             \n",
      "                       \n",
      "  New_lesions (%)      \n",
      "                       \n"
     ]
    }
   ],
   "source": [
    "##第二种方法\n",
    "install.packages(\"tableone\")\n",
    "library(tableone)\n",
    "library(readxl)\n",
    "library(dplyr)                  \n",
    "file_path <- \"C:\\\\Users\\\\fsyan\\\\Desktop\\\\副本数据.xlsx\"\n",
    "df <- read_excel(file_path, sheet = \"Sheet1\")\n",
    "colnames(df) <- c(\"time\", \"status\", \"NLR\", \"CA199\", \"Size\", \"New_lesions\")\n",
    "\n",
    "myVars <- c(colnames(df))\n",
    "catVars <- c(\"status\",\"NLR\",\"CA199\",\"Size\",\"New_lesions\")\n",
    "nonvar <- c(\"time\")\n",
    "table <- CreateTableOne(vars = myVars, #条件1\n",
    "                        factorVars = catVars, #条件2\n",
    "                        data = df,\n",
    "                        addOverall = TRUE)\n",
    "table1 <- print(table,  #构建的table函数（包括条件1.2）\n",
    "                  showAllLevels=TRUE, #显示所有变量\n",
    "                  nonnormal = nonvar) #条件3，time汇报为中位数+四分位数\n",
    "##添加一个分类条件，本例为CA199\n",
    "table <- CreateTableOne(vars = myVars, #条件1\n",
    "                        factorVars = catVars, #条件2\n",
    "                        strata = \"CA199\", #条件3\n",
    "                        data = df,\n",
    "                        addOverall = TRUE)               \n",
    "table1 <- print(table,  #构建的table函数（包括条件1.2.3）\n",
    "                  showAllLevels=TRUE) ##time列SD\n"
   ]
  },
  {
   "cell_type": "code",
   "execution_count": null,
   "id": "77330a63-0fc7-40f4-80b8-09c6dd0d8018",
   "metadata": {},
   "outputs": [],
   "source": []
  }
 ],
 "metadata": {
  "kernelspec": {
   "display_name": "R",
   "language": "R",
   "name": "ir"
  },
  "language_info": {
   "codemirror_mode": "r",
   "file_extension": ".r",
   "mimetype": "text/x-r-source",
   "name": "R",
   "pygments_lexer": "r",
   "version": "4.3.3"
  }
 },
 "nbformat": 4,
 "nbformat_minor": 5
}
