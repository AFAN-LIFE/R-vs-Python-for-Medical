{
 "cells": [
  {
   "cell_type": "code",
   "execution_count": null,
   "id": "6357abec-2bf0-47f1-a926-8bd922422490",
   "metadata": {},
   "outputs": [],
   "source": []
  }
 ],
 "metadata": {
  "kernelspec": {
   "display_name": "",
   "name": ""
  },
  "language_info": {
   "name": ""
  }
 },
 "nbformat": 4,
 "nbformat_minor": 5
}
