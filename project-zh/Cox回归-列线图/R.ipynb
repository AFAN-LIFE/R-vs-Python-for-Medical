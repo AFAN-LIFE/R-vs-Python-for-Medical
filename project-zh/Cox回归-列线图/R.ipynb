{
 "cells": [
  {
   "cell_type": "markdown",
   "id": "c11bd4f9-87a2-43a4-aa0a-cfca64b6b6bb",
   "metadata": {},
   "source": [
    "# 环境说明"
   ]
  },
  {
   "cell_type": "code",
   "execution_count": 2,
   "id": "8fc21562-8486-46c0-acbb-2c92384804cd",
   "metadata": {
    "tags": []
   },
   "outputs": [
    {
     "name": "stdout",
     "output_type": "stream",
     "text": [
      "package 'rms' successfully unpacked and MD5 sums checked\n",
      "\n",
      "The downloaded binary packages are in\n",
      "\tC:\\Users\\AFAN\\AppData\\Local\\Temp\\RtmpqWt5eG\\downloaded_packages\n"
     ]
    }
   ],
   "source": [
    "# 安装所需的包\n",
    "install.packages(\"rms\")"
   ]
  },
  {
   "cell_type": "code",
   "execution_count": 5,
   "id": "ad961cac-c367-4e05-931b-b1dbac44cfb7",
   "metadata": {
    "tags": []
   },
   "outputs": [
    {
     "data": {
      "text/plain": [
       "R version 4.4.1 (2024-06-14 ucrt)\n",
       "Platform: x86_64-w64-mingw32/x64\n",
       "Running under: Windows 11 x64 (build 22631)\n",
       "\n",
       "Matrix products: default\n",
       "\n",
       "\n",
       "locale:\n",
       "[1] LC_COLLATE=Chinese (Simplified)_China.utf8 \n",
       "[2] LC_CTYPE=Chinese (Simplified)_China.utf8   \n",
       "[3] LC_MONETARY=Chinese (Simplified)_China.utf8\n",
       "[4] LC_NUMERIC=C                               \n",
       "[5] LC_TIME=Chinese (Simplified)_China.utf8    \n",
       "\n",
       "time zone: Asia/Shanghai\n",
       "tzcode source: internal\n",
       "\n",
       "attached base packages:\n",
       "[1] stats     graphics  grDevices utils     datasets  methods   base     \n",
       "\n",
       "loaded via a namespace (and not attached):\n",
       " [1] digest_0.6.37     IRdisplay_1.1     utf8_1.2.4        base64enc_0.1-3  \n",
       " [5] fastmap_1.2.0     glue_1.8.0        htmltools_0.5.8.1 repr_1.1.7       \n",
       " [9] lifecycle_1.0.4   cli_3.6.3         fansi_1.0.6       vctrs_0.6.5      \n",
       "[13] pbdZMQ_0.3-13     compiler_4.4.1    tools_4.4.1       evaluate_1.0.1   \n",
       "[17] pillar_1.9.0      crayon_1.5.3      rlang_1.1.4       jsonlite_1.8.9   \n",
       "[21] IRkernel_1.3.2    uuid_1.2-1       "
      ]
     },
     "metadata": {},
     "output_type": "display_data"
    }
   ],
   "source": [
    "sessionInfo()"
   ]
  },
  {
   "cell_type": "markdown",
   "id": "c745a1a0-d852-4e06-ad46-5c72233e5208",
   "metadata": {},
   "source": [
    "# 代码实现"
   ]
  },
  {
   "cell_type": "code",
   "execution_count": 7,
   "id": "62c252e7-e022-45aa-b588-6882dbad0a48",
   "metadata": {
    "tags": []
   },
   "outputs": [],
   "source": [
    "# 加载所需的包\n",
    "library(pROC)"
   ]
  },
  {
   "cell_type": "code",
   "execution_count": 9,
   "id": "30e1e21a-f418-429b-82ff-6ae7cd41bc1f",
   "metadata": {
    "tags": []
   },
   "outputs": [
    {
     "name": "stderr",
     "output_type": "stream",
     "text": [
      "Setting levels: control = 0, case = 1\n",
      "\n",
      "Setting direction: controls < cases\n",
      "\n"
     ]
    },
    {
     "data": {
      "image/png": "[encoded data removed]",
      "text/plain": [
       "Plot with title \"ROC Curve\""
      ]
     },
     "metadata": {
      "image/png": {
       "height": 420,
       "width": 420
      }
     },
     "output_type": "display_data"
    }
   ],
   "source": [
    "# 读取数据\n",
    "data <- read.csv(\"data/predict.csv\")\n",
    "\n",
    "# 创建ROC曲线\n",
    "roc_obj <- roc(data$origin_encoder, data$predict_probability)\n",
    "\n",
    "# 绘制ROC曲线\n",
    "plot(roc_obj, main=\"ROC Curve\", col=\"#1c61b6\", lwd=2)\n",
    "\n",
    "# 添加AUC值\n",
    "auc_value <- auc(roc_obj)\n",
    "legend(\"bottomright\", legend=paste(\"AUC =\", round(auc_value, 4)), col=\"#1c61b6\", lwd=2)"
   ]
  },
  {
   "cell_type": "code",
   "execution_count": 8,
   "id": "6cc0f071-050b-4d0f-bddc-3ad00ae2950b",
   "metadata": {},
   "outputs": [],
   "source": [
    "# 安装 & 加载 rms 包\n",
    "install.packages(\"rms\")  # 如果未安装\n",
    "library(rms)\n",
    "\n",
    "# 1️⃣ **假设你已经有了回归系数**\n",
    "df_coef <- data.frame(\n",
    "  Variable = c(\"Age\", \"BP\", \"Cholesterol\"),\n",
    "  Coefficient = c(0.03, 0.8, 1.2),  # 你计算的回归系数\n",
    "  Min = c(20, 90, 150),  # 每个变量的最小值\n",
    "  Max = c(80, 180, 300), # 每个变量的最大值\n",
    "  Points = c(100, 80, 60) # 最高得分（自定义）\n",
    ")\n",
    "\n",
    "# 2️⃣ **创建一个空的 Design 库（不需要实际模型）**\n",
    "dd <- datadist(df_coef)\n",
    "options(datadist = \"dd\")\n",
    "\n",
    "# 3️⃣ **构造 Nomogram**\n",
    "nom <- nomogram(\n",
    "  fun = function(x) x,  # 这里用恒等映射，你可以改成你自己的公式\n",
    "  fun.at = seq(0, 1, by = 0.2),  # 分数刻度\n",
    "  funlabel = \"Risk Score\",  # 预测值标签\n",
    "  lp = FALSE  # 不需要线性预测器\n",
    ")\n",
    "\n",
    "# 4️⃣ **绘制 Nomogram**\n",
    "plot(nom, xfrac = 0.5)  # xfrac 调整宽度"
   ]
  },
  {
   "cell_type": "code",
   "execution_count": null,
   "id": "7976ed55-c641-4979-b11d-e976cee05b33",
   "metadata": {},
   "outputs": [],
   "source": []
  }
 ],
 "metadata": {
  "kernelspec": {
   "display_name": "R",
   "language": "R",
   "name": "ir"
  },
  "language_info": {
   "codemirror_mode": "r",
   "file_extension": ".r",
   "mimetype": "text/x-r-source",
   "name": "R",
   "pygments_lexer": "r",
   "version": "4.4.1"
  }
 },
 "nbformat": 4,
 "nbformat_minor": 5
}
